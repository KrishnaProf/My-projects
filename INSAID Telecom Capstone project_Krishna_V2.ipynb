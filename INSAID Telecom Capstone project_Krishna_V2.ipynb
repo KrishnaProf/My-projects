{
 "cells": [
  {
   "cell_type": "markdown",
   "metadata": {},
   "source": [
    "# INSAID Telecom Data Analysis"
   ]
  },
  {
   "cell_type": "markdown",
   "metadata": {},
   "source": [
    "<img src=\"Telecom_Image.jpg\" style=\"width:600px;height:250px\"/>"
   ]
  },
  {
   "cell_type": "markdown",
   "metadata": {},
   "source": [
    "## Table of Content\n",
    "\n",
    "1. [Import Libraries](#section1)<br>\n",
    "2. [\"Gender_Age_Train\" dataset mining & Analysis](#section2)<br>\n",
    "   - 2.1 [Database Connection](#section21)<br>\n",
    "   - 2.2 [Data Extraction and Exploration](#section22)<br>\n",
    "   - 2.3 [Checking the NULL values](#section23)<br>\n",
    "   - 2.4 [Analyzing the data with visulization](#section24)<br>\n",
    "    - 2.4.1 [Distribution of Users across Gender](#section241)<br>\n",
    "    - 2.4.2 [Distribution of Users across Gender Percentage](#section242)<br>\n",
    "    - 2.4.3 [Group wise count of Devices](#section243)<br>\n",
    "    - 2.4.4 [Group wise count of Devices for Male and Female](#section244)<br>\n",
    "    - 2.4.5 [Age wise top 30 count of Devices for Male and Female](#section245)<br>\n",
    "    - 2.4.6 [Age wise count of Devices histogram](#section246)<br>\n",
    "    - 2.4.7 [Top 30 Count of Devices Age wise](#section247)<br>\n",
    "3. [\"Phone Brand Device model\" dataset mining and Analysis](#section3)<br>\n",
    "  - 3.1 [Data Extraction and Exploration](#section31)<br>\n",
    "  - 3.2 [Converting Phone brands from chinese to english language](#section32)<br>\n",
    "  - 3.3 [Converting Models from chinese to english language](#section33)<br>\n",
    "  - 3.4 [Analyzing the data with visulization](#section34)<br>\n",
    "  - 3.5 [Brand wise top 30 count of devices](#section35)<br>\n",
    "  - 3.6 [Model wise top 30 count of devices](#section36)<br>\n",
    "  - 3.7 [Each Brand wise Models and top 10 count of devices](#section37)<br>\n",
    "  - 3.8 [Brand & Model wise top 50 count of devices](#section38)<br>\n",
    "4. [Events Data Extraction and Exploration](#section4)<br>\n",
    "  - 4.1 [Extracting the data from CSV file](#section41)<br>"
   ]
  },
  {
   "cell_type": "markdown",
   "metadata": {},
   "source": [
    "<a id=section1></a>\n",
    "### Import Libraries"
   ]
  },
  {
   "cell_type": "code",
   "execution_count": 3,
   "metadata": {},
   "outputs": [],
   "source": [
    "import pandas as pd\n",
    "import numpy as np\n",
    "import pandas_profiling\n",
    "import seaborn as sns\n",
    "import matplotlib.pyplot as plt\n",
    "import plotly\n",
    "import plotly.express as px\n",
    "import plotly.graph_objects as go\n",
    "import mysql.connector\n",
    "import statistics"
   ]
  },
  {
   "cell_type": "markdown",
   "metadata": {},
   "source": [
    "<a id=section2></a>\n",
    "### Gender Age Train dataset mining & Analysis"
   ]
  },
  {
   "cell_type": "markdown",
   "metadata": {},
   "source": [
    "<a id=section21></a>\n",
    "#### Database connection"
   ]
  },
  {
   "cell_type": "code",
   "execution_count": 4,
   "metadata": {},
   "outputs": [],
   "source": [
    "connection = mysql.connector.connect(host='cpanel.insaid.co',\n",
    "                                         database='Capstone1',\n",
    "                                         user='student',\n",
    "                                         password='student')"
   ]
  },
  {
   "cell_type": "markdown",
   "metadata": {},
   "source": [
    "<a id=section22></a>\n",
    "#### Data Extraction and Exploration"
   ]
  },
  {
   "cell_type": "code",
   "execution_count": 5,
   "metadata": {},
   "outputs": [
    {
     "name": "stdout",
     "output_type": "stream",
     "text": [
      "---------------------------------------------------------------------------------------------------------\n",
      "\n",
      " Storing records from gender_age_train to dataframe\n"
     ]
    }
   ],
   "source": [
    "print('---------------------------------------------------------------------------------------------------------')\n",
    "sql_select_Query = \"select * from gender_age_train\"\n",
    "cursor = connection.cursor()\n",
    "cursor.execute(sql_select_Query)\n",
    "records = cursor.fetchall()\n",
    "print(\"\\n Storing records from gender_age_train to dataframe\")\n",
    "\n",
    "gender_age_train_df = pd.DataFrame(records,columns = ['device_id','gender','age','group'])"
   ]
  },
  {
   "cell_type": "code",
   "execution_count": 6,
   "metadata": {},
   "outputs": [
    {
     "data": {
      "text/html": [
       "<div>\n",
       "<style scoped>\n",
       "    .dataframe tbody tr th:only-of-type {\n",
       "        vertical-align: middle;\n",
       "    }\n",
       "\n",
       "    .dataframe tbody tr th {\n",
       "        vertical-align: top;\n",
       "    }\n",
       "\n",
       "    .dataframe thead th {\n",
       "        text-align: right;\n",
       "    }\n",
       "</style>\n",
       "<table border=\"1\" class=\"dataframe\">\n",
       "  <thead>\n",
       "    <tr style=\"text-align: right;\">\n",
       "      <th></th>\n",
       "      <th>device_id</th>\n",
       "      <th>gender</th>\n",
       "      <th>age</th>\n",
       "      <th>group</th>\n",
       "    </tr>\n",
       "  </thead>\n",
       "  <tbody>\n",
       "    <tr>\n",
       "      <th>0</th>\n",
       "      <td>-8076087639492063270</td>\n",
       "      <td>M</td>\n",
       "      <td>35</td>\n",
       "      <td>M32-38</td>\n",
       "    </tr>\n",
       "    <tr>\n",
       "      <th>1</th>\n",
       "      <td>-2897161552818060146</td>\n",
       "      <td>M</td>\n",
       "      <td>35</td>\n",
       "      <td>M32-38</td>\n",
       "    </tr>\n",
       "    <tr>\n",
       "      <th>2</th>\n",
       "      <td>-8260683887967679142</td>\n",
       "      <td>M</td>\n",
       "      <td>35</td>\n",
       "      <td>M32-38</td>\n",
       "    </tr>\n",
       "    <tr>\n",
       "      <th>3</th>\n",
       "      <td>-4938849341048082022</td>\n",
       "      <td>M</td>\n",
       "      <td>30</td>\n",
       "      <td>M29-31</td>\n",
       "    </tr>\n",
       "    <tr>\n",
       "      <th>4</th>\n",
       "      <td>245133531816851882</td>\n",
       "      <td>M</td>\n",
       "      <td>30</td>\n",
       "      <td>M29-31</td>\n",
       "    </tr>\n",
       "  </tbody>\n",
       "</table>\n",
       "</div>"
      ],
      "text/plain": [
       "             device_id gender  age   group\n",
       "0 -8076087639492063270      M   35  M32-38\n",
       "1 -2897161552818060146      M   35  M32-38\n",
       "2 -8260683887967679142      M   35  M32-38\n",
       "3 -4938849341048082022      M   30  M29-31\n",
       "4   245133531816851882      M   30  M29-31"
      ]
     },
     "execution_count": 6,
     "metadata": {},
     "output_type": "execute_result"
    }
   ],
   "source": [
    "gender_age_train_df.head(5)"
   ]
  },
  {
   "cell_type": "code",
   "execution_count": 7,
   "metadata": {},
   "outputs": [],
   "source": [
    "#gender_age_train_df_new = gender_age_train_df.rename(columns={0:'device_id',1:'gender',2:'age',3:'group'})"
   ]
  },
  {
   "cell_type": "markdown",
   "metadata": {},
   "source": [
    "<a id=section23><a>\n",
    "#### Checking the NULL values"
   ]
  },
  {
   "cell_type": "code",
   "execution_count": 8,
   "metadata": {},
   "outputs": [],
   "source": [
    "def missing_data(data):\n",
    "    total = data.isnull().sum().sort_values(ascending = False)\n",
    "    percent = (data.isnull().sum()/data.isnull().count()*100).sort_values(ascending = False)\n",
    "    return pd.concat([total,percent], axis = 1, keys = ['Total','Percent'])"
   ]
  },
  {
   "cell_type": "code",
   "execution_count": 9,
   "metadata": {},
   "outputs": [
    {
     "data": {
      "text/html": [
       "<div>\n",
       "<style scoped>\n",
       "    .dataframe tbody tr th:only-of-type {\n",
       "        vertical-align: middle;\n",
       "    }\n",
       "\n",
       "    .dataframe tbody tr th {\n",
       "        vertical-align: top;\n",
       "    }\n",
       "\n",
       "    .dataframe thead th {\n",
       "        text-align: right;\n",
       "    }\n",
       "</style>\n",
       "<table border=\"1\" class=\"dataframe\">\n",
       "  <thead>\n",
       "    <tr style=\"text-align: right;\">\n",
       "      <th></th>\n",
       "      <th>Total</th>\n",
       "      <th>Percent</th>\n",
       "    </tr>\n",
       "  </thead>\n",
       "  <tbody>\n",
       "    <tr>\n",
       "      <th>group</th>\n",
       "      <td>0</td>\n",
       "      <td>0.0</td>\n",
       "    </tr>\n",
       "    <tr>\n",
       "      <th>age</th>\n",
       "      <td>0</td>\n",
       "      <td>0.0</td>\n",
       "    </tr>\n",
       "    <tr>\n",
       "      <th>gender</th>\n",
       "      <td>0</td>\n",
       "      <td>0.0</td>\n",
       "    </tr>\n",
       "    <tr>\n",
       "      <th>device_id</th>\n",
       "      <td>0</td>\n",
       "      <td>0.0</td>\n",
       "    </tr>\n",
       "  </tbody>\n",
       "</table>\n",
       "</div>"
      ],
      "text/plain": [
       "           Total  Percent\n",
       "group          0      0.0\n",
       "age            0      0.0\n",
       "gender         0      0.0\n",
       "device_id      0      0.0"
      ]
     },
     "execution_count": 9,
     "metadata": {},
     "output_type": "execute_result"
    }
   ],
   "source": [
    "missing_data(gender_age_train_df)"
   ]
  },
  {
   "cell_type": "code",
   "execution_count": 10,
   "metadata": {},
   "outputs": [
    {
     "data": {
      "text/plain": [
       "(74645, 4)"
      ]
     },
     "execution_count": 10,
     "metadata": {},
     "output_type": "execute_result"
    }
   ],
   "source": [
    "gender_age_train_df.shape"
   ]
  },
  {
   "cell_type": "code",
   "execution_count": 11,
   "metadata": {},
   "outputs": [
    {
     "name": "stdout",
     "output_type": "stream",
     "text": [
      "<class 'pandas.core.frame.DataFrame'>\n",
      "RangeIndex: 74645 entries, 0 to 74644\n",
      "Data columns (total 4 columns):\n",
      "device_id    74645 non-null int64\n",
      "gender       74645 non-null object\n",
      "age          74645 non-null int64\n",
      "group        74645 non-null object\n",
      "dtypes: int64(2), object(2)\n",
      "memory usage: 2.3+ MB\n"
     ]
    }
   ],
   "source": [
    "gender_age_train_df.info()"
   ]
  },
  {
   "cell_type": "code",
   "execution_count": 12,
   "metadata": {},
   "outputs": [
    {
     "data": {
      "text/html": [
       "<div>\n",
       "<style scoped>\n",
       "    .dataframe tbody tr th:only-of-type {\n",
       "        vertical-align: middle;\n",
       "    }\n",
       "\n",
       "    .dataframe tbody tr th {\n",
       "        vertical-align: top;\n",
       "    }\n",
       "\n",
       "    .dataframe thead th {\n",
       "        text-align: right;\n",
       "    }\n",
       "</style>\n",
       "<table border=\"1\" class=\"dataframe\">\n",
       "  <thead>\n",
       "    <tr style=\"text-align: right;\">\n",
       "      <th></th>\n",
       "      <th>device_id</th>\n",
       "      <th>gender</th>\n",
       "      <th>age</th>\n",
       "      <th>group</th>\n",
       "    </tr>\n",
       "  </thead>\n",
       "  <tbody>\n",
       "    <tr>\n",
       "      <th>count</th>\n",
       "      <td>7.464500e+04</td>\n",
       "      <td>74645</td>\n",
       "      <td>74645.000000</td>\n",
       "      <td>74645</td>\n",
       "    </tr>\n",
       "    <tr>\n",
       "      <th>unique</th>\n",
       "      <td>NaN</td>\n",
       "      <td>2</td>\n",
       "      <td>NaN</td>\n",
       "      <td>12</td>\n",
       "    </tr>\n",
       "    <tr>\n",
       "      <th>top</th>\n",
       "      <td>NaN</td>\n",
       "      <td>M</td>\n",
       "      <td>NaN</td>\n",
       "      <td>M23-26</td>\n",
       "    </tr>\n",
       "    <tr>\n",
       "      <th>freq</th>\n",
       "      <td>NaN</td>\n",
       "      <td>47904</td>\n",
       "      <td>NaN</td>\n",
       "      <td>9605</td>\n",
       "    </tr>\n",
       "    <tr>\n",
       "      <th>mean</th>\n",
       "      <td>-7.491354e+14</td>\n",
       "      <td>NaN</td>\n",
       "      <td>31.410342</td>\n",
       "      <td>NaN</td>\n",
       "    </tr>\n",
       "    <tr>\n",
       "      <th>std</th>\n",
       "      <td>5.327150e+18</td>\n",
       "      <td>NaN</td>\n",
       "      <td>9.868735</td>\n",
       "      <td>NaN</td>\n",
       "    </tr>\n",
       "    <tr>\n",
       "      <th>min</th>\n",
       "      <td>-9.223067e+18</td>\n",
       "      <td>NaN</td>\n",
       "      <td>1.000000</td>\n",
       "      <td>NaN</td>\n",
       "    </tr>\n",
       "    <tr>\n",
       "      <th>25%</th>\n",
       "      <td>-4.617367e+18</td>\n",
       "      <td>NaN</td>\n",
       "      <td>25.000000</td>\n",
       "      <td>NaN</td>\n",
       "    </tr>\n",
       "    <tr>\n",
       "      <th>50%</th>\n",
       "      <td>-1.841362e+16</td>\n",
       "      <td>NaN</td>\n",
       "      <td>29.000000</td>\n",
       "      <td>NaN</td>\n",
       "    </tr>\n",
       "    <tr>\n",
       "      <th>75%</th>\n",
       "      <td>4.636656e+18</td>\n",
       "      <td>NaN</td>\n",
       "      <td>36.000000</td>\n",
       "      <td>NaN</td>\n",
       "    </tr>\n",
       "    <tr>\n",
       "      <th>max</th>\n",
       "      <td>9.222849e+18</td>\n",
       "      <td>NaN</td>\n",
       "      <td>96.000000</td>\n",
       "      <td>NaN</td>\n",
       "    </tr>\n",
       "  </tbody>\n",
       "</table>\n",
       "</div>"
      ],
      "text/plain": [
       "           device_id gender           age   group\n",
       "count   7.464500e+04  74645  74645.000000   74645\n",
       "unique           NaN      2           NaN      12\n",
       "top              NaN      M           NaN  M23-26\n",
       "freq             NaN  47904           NaN    9605\n",
       "mean   -7.491354e+14    NaN     31.410342     NaN\n",
       "std     5.327150e+18    NaN      9.868735     NaN\n",
       "min    -9.223067e+18    NaN      1.000000     NaN\n",
       "25%    -4.617367e+18    NaN     25.000000     NaN\n",
       "50%    -1.841362e+16    NaN     29.000000     NaN\n",
       "75%     4.636656e+18    NaN     36.000000     NaN\n",
       "max     9.222849e+18    NaN     96.000000     NaN"
      ]
     },
     "execution_count": 12,
     "metadata": {},
     "output_type": "execute_result"
    }
   ],
   "source": [
    "gender_age_train_df.describe(include= 'all')"
   ]
  },
  {
   "cell_type": "markdown",
   "metadata": {},
   "source": [
    "There is no NULL values in Gender Age dataset."
   ]
  },
  {
   "cell_type": "markdown",
   "metadata": {},
   "source": [
    "<a id=section24><a>\n",
    "### Analyzing the data with visulization"
   ]
  },
  {
   "cell_type": "markdown",
   "metadata": {},
   "source": [
    "<a id=section241><a>\n",
    "#### Distribution of Users across Gender"
   ]
  },
  {
   "cell_type": "code",
   "execution_count": 13,
   "metadata": {},
   "outputs": [
    {
     "data": {
      "text/plain": [
       "M    47904\n",
       "F    26741\n",
       "Name: gender, dtype: int64"
      ]
     },
     "execution_count": 13,
     "metadata": {},
     "output_type": "execute_result"
    }
   ],
   "source": [
    " gender_age_train_df['gender'].value_counts()"
   ]
  },
  {
   "cell_type": "code",
   "execution_count": 249,
   "metadata": {},
   "outputs": [
    {
     "data": {
      "text/plain": [
       "Text(0.5, 1.0, 'Distribution of Users across Gender')"
      ]
     },
     "execution_count": 249,
     "metadata": {},
     "output_type": "execute_result"
    },
    {
     "data": {
      "image/png": "[encoded data removed]",
      "text/plain": [
       "<Figure size 360x216 with 1 Axes>"
      ]
     },
     "metadata": {
      "needs_background": "light"
     },
     "output_type": "display_data"
    }
   ],
   "source": [
    "plt.figure(figsize=(5,3))\n",
    "gender_age_train_df['gender'].value_counts().plot.bar(colormap = 'Wistia_r')\n",
    "plt.xlabel('Gender')\n",
    "plt.ylabel('# of Users')\n",
    "plt.title('Distribution of Users across Gender')"
   ]
  },
  {
   "cell_type": "markdown",
   "metadata": {},
   "source": [
    "<a id=section242><a>\n",
    "#### Distribution of Users across Gender percentage "
   ]
  },
  {
   "cell_type": "code",
   "execution_count": 246,
   "metadata": {},
   "outputs": [
    {
     "data": {
      "text/plain": [
       "Text(0.5, 1.0, 'Pie chart showing Distribution of Users across Gender')"
      ]
     },
     "execution_count": 246,
     "metadata": {},
     "output_type": "execute_result"
    },
    {
     "data": {
      "image/png": "[encoded data removed]",
      "text/plain": [
       "<Figure size 360x360 with 1 Axes>"
      ]
     },
     "metadata": {},
     "output_type": "display_data"
    }
   ],
   "source": [
    "gender_age_train_df['gender'].value_counts().plot(kind='pie', fontsize=14, autopct='%3.1f%%', \n",
    "                                               figsize=(5,5), shadow=True, startangle=135, legend=True, cmap='summer')\n",
    "\n",
    "plt.ylabel('Gender')\n",
    "plt.title('Pie chart showing Distribution of Users across Gender')\n"
   ]
  },
  {
   "cell_type": "markdown",
   "metadata": {},
   "source": [
    "<a id=section243><a>\n",
    "#### Group wise count of Devices"
   ]
  },
  {
   "cell_type": "code",
   "execution_count": 16,
   "metadata": {},
   "outputs": [
    {
     "data": {
      "text/plain": [
       "Text(0, 0.5, 'Group')"
      ]
     },
     "execution_count": 16,
     "metadata": {},
     "output_type": "execute_result"
    },
    {
     "data": {
      "image/png": "[encoded data removed]",
      "text/plain": [
       "<Figure size 1080x504 with 1 Axes>"
      ]
     },
     "metadata": {
      "needs_background": "light"
     },
     "output_type": "display_data"
    }
   ],
   "source": [
    "plt.figure(figsize=(15,7))\n",
    "gender_age_train_df['group'].value_counts().sort_values(ascending = True).plot.barh(colormap = 'Wistia_r')\n",
    "plt.xlabel('# count')\n",
    "plt.ylabel('Group')\n"
   ]
  },
  {
   "cell_type": "code",
   "execution_count": 17,
   "metadata": {},
   "outputs": [
    {
     "data": {
      "text/html": [
       "<div>\n",
       "<style scoped>\n",
       "    .dataframe tbody tr th:only-of-type {\n",
       "        vertical-align: middle;\n",
       "    }\n",
       "\n",
       "    .dataframe tbody tr th {\n",
       "        vertical-align: top;\n",
       "    }\n",
       "\n",
       "    .dataframe thead th {\n",
       "        text-align: right;\n",
       "    }\n",
       "</style>\n",
       "<table border=\"1\" class=\"dataframe\">\n",
       "  <thead>\n",
       "    <tr style=\"text-align: right;\">\n",
       "      <th></th>\n",
       "      <th>gender</th>\n",
       "      <th>group</th>\n",
       "      <th>count</th>\n",
       "    </tr>\n",
       "  </thead>\n",
       "  <tbody>\n",
       "    <tr>\n",
       "      <th>0</th>\n",
       "      <td>F</td>\n",
       "      <td>F33-42</td>\n",
       "      <td>5561</td>\n",
       "    </tr>\n",
       "    <tr>\n",
       "      <th>1</th>\n",
       "      <td>F</td>\n",
       "      <td>F23-</td>\n",
       "      <td>5050</td>\n",
       "    </tr>\n",
       "    <tr>\n",
       "      <th>2</th>\n",
       "      <td>F</td>\n",
       "      <td>F29-32</td>\n",
       "      <td>4628</td>\n",
       "    </tr>\n",
       "    <tr>\n",
       "      <th>3</th>\n",
       "      <td>F</td>\n",
       "      <td>F43+</td>\n",
       "      <td>4194</td>\n",
       "    </tr>\n",
       "    <tr>\n",
       "      <th>4</th>\n",
       "      <td>F</td>\n",
       "      <td>F24-26</td>\n",
       "      <td>4190</td>\n",
       "    </tr>\n",
       "    <tr>\n",
       "      <th>5</th>\n",
       "      <td>F</td>\n",
       "      <td>F27-28</td>\n",
       "      <td>3118</td>\n",
       "    </tr>\n",
       "    <tr>\n",
       "      <th>6</th>\n",
       "      <td>M</td>\n",
       "      <td>M23-26</td>\n",
       "      <td>9605</td>\n",
       "    </tr>\n",
       "    <tr>\n",
       "      <th>7</th>\n",
       "      <td>M</td>\n",
       "      <td>M32-38</td>\n",
       "      <td>9476</td>\n",
       "    </tr>\n",
       "    <tr>\n",
       "      <th>8</th>\n",
       "      <td>M</td>\n",
       "      <td>M39+</td>\n",
       "      <td>8581</td>\n",
       "    </tr>\n",
       "    <tr>\n",
       "      <th>9</th>\n",
       "      <td>M</td>\n",
       "      <td>M22-</td>\n",
       "      <td>7488</td>\n",
       "    </tr>\n",
       "    <tr>\n",
       "      <th>10</th>\n",
       "      <td>M</td>\n",
       "      <td>M29-31</td>\n",
       "      <td>7309</td>\n",
       "    </tr>\n",
       "    <tr>\n",
       "      <th>11</th>\n",
       "      <td>M</td>\n",
       "      <td>M27-28</td>\n",
       "      <td>5445</td>\n",
       "    </tr>\n",
       "  </tbody>\n",
       "</table>\n",
       "</div>"
      ],
      "text/plain": [
       "   gender   group  count\n",
       "0       F  F33-42   5561\n",
       "1       F    F23-   5050\n",
       "2       F  F29-32   4628\n",
       "3       F    F43+   4194\n",
       "4       F  F24-26   4190\n",
       "5       F  F27-28   3118\n",
       "6       M  M23-26   9605\n",
       "7       M  M32-38   9476\n",
       "8       M    M39+   8581\n",
       "9       M    M22-   7488\n",
       "10      M  M29-31   7309\n",
       "11      M  M27-28   5445"
      ]
     },
     "execution_count": 17,
     "metadata": {},
     "output_type": "execute_result"
    }
   ],
   "source": [
    "gender_age_train_df.head()\n",
    "dfg = gender_age_train_df.groupby(['gender', 'group']).agg({'group': [ 'count']})\n",
    "pd.set_option('display.max_rows', 1000)\n",
    "g = dfg['group','count'].groupby(level=0, group_keys=False).apply(\n",
    "    lambda x: x.sort_values(ascending=False).head(10)).reset_index(name='count')\n",
    "g"
   ]
  },
  {
   "cell_type": "markdown",
   "metadata": {},
   "source": [
    "<a id=section244><a>\n",
    "#### Group wise count of Devices for Male and Female"
   ]
  },
  {
   "cell_type": "code",
   "execution_count": 18,
   "metadata": {},
   "outputs": [
    {
     "data": {
      "text/plain": [
       "Text(0, 0.5, 'Female Group')"
      ]
     },
     "execution_count": 18,
     "metadata": {},
     "output_type": "execute_result"
    },
    {
     "data": {
      "image/png": "[encoded data removed]",
      "text/plain": [
       "<Figure size 720x216 with 1 Axes>"
      ]
     },
     "metadata": {
      "needs_background": "light"
     },
     "output_type": "display_data"
    },
    {
     "data": {
      "image/png": "[encoded data removed]",
      "text/plain": [
       "<Figure size 720x216 with 1 Axes>"
      ]
     },
     "metadata": {
      "needs_background": "light"
     },
     "output_type": "display_data"
    }
   ],
   "source": [
    "plt.figure(figsize=(10,3))\n",
    "gender_age_train_df.loc[gender_age_train_df['gender'] == 'M']['group'].value_counts().sort_values().plot.barh(colormap = 'Wistia_r')\n",
    "plt.xlabel('# count')\n",
    "plt.ylabel('Male Group')\n",
    "plt.figure(figsize=(10,3))\n",
    "gender_age_train_df.loc[gender_age_train_df['gender'] == 'F']['group'].value_counts().sort_values().plot.barh(colormap = 'Wistia_r')\n",
    "plt.xlabel('# count')\n",
    "plt.ylabel('Female Group')\n"
   ]
  },
  {
   "cell_type": "markdown",
   "metadata": {},
   "source": [
    "<a id=section245><a>\n",
    "#### Age wise top 30 count of Devices for Male and Female"
   ]
  },
  {
   "cell_type": "code",
   "execution_count": 19,
   "metadata": {},
   "outputs": [
    {
     "data": {
      "text/plain": [
       "Text(0, 0.5, 'Count of Female')"
      ]
     },
     "execution_count": 19,
     "metadata": {},
     "output_type": "execute_result"
    },
    {
     "data": {
      "image/png": "[encoded data removed]",
      "text/plain": [
       "<Figure size 1080x216 with 1 Axes>"
      ]
     },
     "metadata": {
      "needs_background": "light"
     },
     "output_type": "display_data"
    },
    {
     "data": {
      "image/png": "[encoded data removed]",
      "text/plain": [
       "<Figure size 1080x216 with 1 Axes>"
      ]
     },
     "metadata": {
      "needs_background": "light"
     },
     "output_type": "display_data"
    }
   ],
   "source": [
    "plt.figure(figsize=(15,3))\n",
    "gender_age_train_df.loc[gender_age_train_df['gender'] == 'M']['age'].value_counts()[:30].sort_values(ascending = False).plot.bar(colormap = 'Wistia_r')\n",
    "plt.xlabel('Age')\n",
    "plt.ylabel('Count of Male')\n",
    "plt.figure(figsize=(15,3))\n",
    "gender_age_train_df.loc[gender_age_train_df['gender'] == 'F']['age'].value_counts()[:30].sort_values(ascending = False).plot.bar(colormap = 'Wistia_r')\n",
    "plt.xlabel('Age')\n",
    "plt.ylabel('Count of Female')\n"
   ]
  },
  {
   "cell_type": "markdown",
   "metadata": {},
   "source": [
    "<a id=section246><a>\n",
    "#### Age wise count of Devices histogram"
   ]
  },
  {
   "cell_type": "code",
   "execution_count": 20,
   "metadata": {},
   "outputs": [
    {
     "data": {
      "text/plain": [
       "Text(0.5, 0, 'Age')"
      ]
     },
     "execution_count": 20,
     "metadata": {},
     "output_type": "execute_result"
    },
    {
     "data": {
      "image/png": "[encoded data removed]",
      "text/plain": [
       "<Figure size 1080x360 with 1 Axes>"
      ]
     },
     "metadata": {
      "needs_background": "light"
     },
     "output_type": "display_data"
    }
   ],
   "source": [
    "plt.figure(figsize=(15,5))\n",
    "range = (10,90)\n",
    "plt.hist(gender_age_train_df['age'], 10, range, color = 'orange', rwidth = 0.8)\n",
    "plt.ylabel(\"# Count\")\n",
    "plt.xlabel(\"Age\")"
   ]
  },
  {
   "cell_type": "markdown",
   "metadata": {},
   "source": [
    "<a id=section247><a>\n",
    "#### Top 30 Count of Devices Age wise"
   ]
  },
  {
   "cell_type": "code",
   "execution_count": 21,
   "metadata": {},
   "outputs": [
    {
     "data": {
      "text/plain": [
       "Text(0, 0.5, 'Count')"
      ]
     },
     "execution_count": 21,
     "metadata": {},
     "output_type": "execute_result"
    },
    {
     "data": {
      "image/png": "[encoded data removed]",
      "text/plain": [
       "<Figure size 1080x360 with 1 Axes>"
      ]
     },
     "metadata": {
      "needs_background": "light"
     },
     "output_type": "display_data"
    }
   ],
   "source": [
    "plt.figure(figsize=(15,5))\n",
    "gender_age_train_df['age'].value_counts()[:30].sort_values(ascending = False).plot.bar(colormap = 'Wistia_r')\n",
    "plt.xlabel('Age')\n",
    "plt.ylabel('Count')\n"
   ]
  },
  {
   "cell_type": "code",
   "execution_count": 22,
   "metadata": {},
   "outputs": [
    {
     "data": {
      "text/html": [
       "<div>\n",
       "<style scoped>\n",
       "    .dataframe tbody tr th:only-of-type {\n",
       "        vertical-align: middle;\n",
       "    }\n",
       "\n",
       "    .dataframe tbody tr th {\n",
       "        vertical-align: top;\n",
       "    }\n",
       "\n",
       "    .dataframe thead th {\n",
       "        text-align: right;\n",
       "    }\n",
       "</style>\n",
       "<table border=\"1\" class=\"dataframe\">\n",
       "  <thead>\n",
       "    <tr style=\"text-align: right;\">\n",
       "      <th></th>\n",
       "      <th>device_id</th>\n",
       "      <th>gender</th>\n",
       "      <th>age</th>\n",
       "      <th>group</th>\n",
       "    </tr>\n",
       "  </thead>\n",
       "  <tbody>\n",
       "    <tr>\n",
       "      <th>0</th>\n",
       "      <td>-8076087639492063270</td>\n",
       "      <td>M</td>\n",
       "      <td>35</td>\n",
       "      <td>M32-38</td>\n",
       "    </tr>\n",
       "    <tr>\n",
       "      <th>1</th>\n",
       "      <td>-2897161552818060146</td>\n",
       "      <td>M</td>\n",
       "      <td>35</td>\n",
       "      <td>M32-38</td>\n",
       "    </tr>\n",
       "    <tr>\n",
       "      <th>2</th>\n",
       "      <td>-8260683887967679142</td>\n",
       "      <td>M</td>\n",
       "      <td>35</td>\n",
       "      <td>M32-38</td>\n",
       "    </tr>\n",
       "    <tr>\n",
       "      <th>3</th>\n",
       "      <td>-4938849341048082022</td>\n",
       "      <td>M</td>\n",
       "      <td>30</td>\n",
       "      <td>M29-31</td>\n",
       "    </tr>\n",
       "    <tr>\n",
       "      <th>4</th>\n",
       "      <td>245133531816851882</td>\n",
       "      <td>M</td>\n",
       "      <td>30</td>\n",
       "      <td>M29-31</td>\n",
       "    </tr>\n",
       "  </tbody>\n",
       "</table>\n",
       "</div>"
      ],
      "text/plain": [
       "             device_id gender  age   group\n",
       "0 -8076087639492063270      M   35  M32-38\n",
       "1 -2897161552818060146      M   35  M32-38\n",
       "2 -8260683887967679142      M   35  M32-38\n",
       "3 -4938849341048082022      M   30  M29-31\n",
       "4   245133531816851882      M   30  M29-31"
      ]
     },
     "execution_count": 22,
     "metadata": {},
     "output_type": "execute_result"
    }
   ],
   "source": [
    "gender_age_train_df.head()"
   ]
  },
  {
   "cell_type": "markdown",
   "metadata": {},
   "source": [
    "<a id=section3><a>\n",
    "### Phone Brand Device model dataset mining and Analysis"
   ]
  },
  {
   "cell_type": "markdown",
   "metadata": {},
   "source": [
    "<a id=section31><a>\n",
    "#### Data Extraction and Exploration"
   ]
  },
  {
   "cell_type": "code",
   "execution_count": 23,
   "metadata": {},
   "outputs": [
    {
     "name": "stdout",
     "output_type": "stream",
     "text": [
      "---------------------------------------------------------------------------------------------------------\n",
      "\n",
      " Storing records from phone_brand_device_model to dataframe\n"
     ]
    }
   ],
   "source": [
    "connection = mysql.connector.connect(host='cpanel.insaid.co',\n",
    "                                         database='Capstone1',\n",
    "                                         user='student',\n",
    "                                         password='student') \n",
    "print('---------------------------------------------------------------------------------------------------------')\n",
    "sql_select_Query = \"select * from phone_brand_device_model\"\n",
    "cursor = connection.cursor()\n",
    "cursor.execute(sql_select_Query)\n",
    "records = cursor.fetchall()\n",
    "print(\"\\n Storing records from phone_brand_device_model to dataframe\")\n",
    "\n",
    "phone_brand_device_model_df = pd.DataFrame(records,columns = ['device_id','phone_brand','device_model'])\n"
   ]
  },
  {
   "cell_type": "code",
   "execution_count": 24,
   "metadata": {},
   "outputs": [
    {
     "data": {
      "text/html": [
       "<div>\n",
       "<style scoped>\n",
       "    .dataframe tbody tr th:only-of-type {\n",
       "        vertical-align: middle;\n",
       "    }\n",
       "\n",
       "    .dataframe tbody tr th {\n",
       "        vertical-align: top;\n",
       "    }\n",
       "\n",
       "    .dataframe thead th {\n",
       "        text-align: right;\n",
       "    }\n",
       "</style>\n",
       "<table border=\"1\" class=\"dataframe\">\n",
       "  <thead>\n",
       "    <tr style=\"text-align: right;\">\n",
       "      <th></th>\n",
       "      <th>device_id</th>\n",
       "      <th>phone_brand</th>\n",
       "      <th>device_model</th>\n",
       "    </tr>\n",
       "  </thead>\n",
       "  <tbody>\n",
       "    <tr>\n",
       "      <th>0</th>\n",
       "      <td>1877775838486905855</td>\n",
       "      <td>vivo</td>\n",
       "      <td>Y13</td>\n",
       "    </tr>\n",
       "    <tr>\n",
       "      <th>1</th>\n",
       "      <td>-3766087376657242966</td>\n",
       "      <td>小米</td>\n",
       "      <td>V183</td>\n",
       "    </tr>\n",
       "    <tr>\n",
       "      <th>2</th>\n",
       "      <td>-6238937574958215831</td>\n",
       "      <td>OPPO</td>\n",
       "      <td>R7s</td>\n",
       "    </tr>\n",
       "    <tr>\n",
       "      <th>3</th>\n",
       "      <td>8973197758510677470</td>\n",
       "      <td>三星</td>\n",
       "      <td>A368t</td>\n",
       "    </tr>\n",
       "    <tr>\n",
       "      <th>4</th>\n",
       "      <td>-2015528097870762664</td>\n",
       "      <td>小米</td>\n",
       "      <td>红米Note2</td>\n",
       "    </tr>\n",
       "  </tbody>\n",
       "</table>\n",
       "</div>"
      ],
      "text/plain": [
       "             device_id phone_brand device_model\n",
       "0  1877775838486905855        vivo          Y13\n",
       "1 -3766087376657242966          小米         V183\n",
       "2 -6238937574958215831        OPPO          R7s\n",
       "3  8973197758510677470          三星        A368t\n",
       "4 -2015528097870762664          小米      红米Note2"
      ]
     },
     "execution_count": 24,
     "metadata": {},
     "output_type": "execute_result"
    }
   ],
   "source": [
    "phone_brand_device_model_df.head()"
   ]
  },
  {
   "cell_type": "code",
   "execution_count": 25,
   "metadata": {},
   "outputs": [
    {
     "data": {
      "text/plain": [
       "array(['vivo', '小米', 'OPPO', '三星', '酷派', '联想 ', '华为', '奇酷', '魅族', '斐讯',\n",
       "       '中国移动', 'HTC', '天语', '至尊宝', 'LG', '欧博信', '优米', 'ZUK', '努比亚', '惠普',\n",
       "       '尼比鲁', '美图', '乡米', '摩托罗拉', '梦米', '锤子', '富可视', '乐视', '海信', '百立丰',\n",
       "       '一加', '语信', '海尔', '酷比', '纽曼', '波导', '朵唯', '聆韵', 'TCL', '酷珀', '爱派尔',\n",
       "       'LOGO', '青葱', '果米', '华硕', '昂达', '艾优尼', '康佳', '优购', '邦华', '赛博宇华',\n",
       "       '黑米', 'Lovme', '先锋', 'E派', '神舟', '诺基亚', '普耐尔', '糖葫芦', '亿通', '欧新',\n",
       "       '米奇', '酷比魔方', '蓝魔', '小杨树', '贝尔丰', '糯米', '米歌', 'E人E本', '西米', '大Q',\n",
       "       '台电', '飞利浦', '唯米', '大显', '长虹', '维图', '青橙', '本为', '虾米', '夏新', '帷幄',\n",
       "       '百加', 'SUGAR', '欧奇', '世纪星', '智镁', '欧比', '基伍', '飞秒', '德赛', '易派',\n",
       "       '谷歌', '金星数码', '广信', '诺亚信', 'MIL', '白米', '大可乐', '宝捷讯', '优语', '首云',\n",
       "       '瑞米', '瑞高', '沃普丰', '摩乐', '鲜米', '凯利通', '唯比', '欧沃', '丰米', '恒宇丰',\n",
       "       '奥克斯', '西门子', '欧乐迪', 'PPTV'], dtype=object)"
      ]
     },
     "execution_count": 25,
     "metadata": {},
     "output_type": "execute_result"
    }
   ],
   "source": [
    "phone_brand_device_model_df['phone_brand'].unique()"
   ]
  },
  {
   "cell_type": "markdown",
   "metadata": {},
   "source": [
    "<a id=section32><a>\n",
    "### Converting Phone brands from chinese to english language"
   ]
  },
  {
   "cell_type": "code",
   "execution_count": 26,
   "metadata": {},
   "outputs": [],
   "source": [
    "brands_in_chinese = ['华为','小米','三星','魅族','酷派','乐视','联想 ','vivo','OPPO','HTC','LG','TCL','LOGO','Lovme','ZUK','PPTV','努比亚','海信','天语','夏新','欧比', '优米', '欧博信', '奇酷', '锤子', '酷比魔方', '语信', '朵唯', '德赛', '一加',\n",
    "       '华硕', '普耐尔', '易派', '摩托罗拉', '优购', '酷珀', '梦米', '爱派尔', '昂达', '邦华',\n",
    "       '聆韵', '中国移动', '诺亚信', '酷比', '艾优尼', '斐讯', '富可视', '欧新', '美图', '宝捷讯',\n",
    "       '青橙', '果米', '波导', '诺基亚', '神舟', '糯米', '亿通', '纽曼', '唯米', '百立丰',\n",
    "       '沃普丰', '虾米', '凯利通', '贝尔丰', '至尊宝', '蓝魔', '青葱', '白米', '大可乐', '尼比鲁',\n",
    "       '康佳', '乡米', '黑米', '海尔', '优语', '维图', '米歌', '广信', 'E派', '小杨树', '糖葫芦',\n",
    "       '西米', '谷歌', '长虹', '飞利浦', '惠普', '台电', '大Q', '鲜米', '先锋', '欧奇','赛博宇华','米奇','E人E本','大显','本为','帷幄','百加','世纪星', '智镁','基伍', '飞秒','金星数码','首云', '瑞米', '瑞高','摩乐','唯比', '欧沃', '丰米','恒宇丰', '奥克斯', '西门子', '欧乐迪']\n",
    "brands_in_english = ['Huawei','Xiaomi','Samsung','Meizu','Coolpad','LeEco','Lenovo','vivo','OPPO','HTC','LG','TCL','LOGO','Lovme','ZUK','PPTV','Nubia','Hisense','Amagatarai','Amoi','Obi', 'Youmi', 'Obson', 'Qiku', 'Hammer', 'Cubei Cube', 'Letters', 'Duowei', 'Desai', 'One Plus','ASUS', 'Punale', 'Yipai', 'Motorola', 'Yougo', 'Cooper', 'Mengmi', 'Aipair', 'Onda', 'Banghua', 'Lingyun', 'China Mobile', 'Noah',' Coolby ',' Aiyouni ',' Feixun ',' Focus', 'Ou Xin', 'Meitu', 'Projet News','Green Orange', 'Fruit Rice', 'Flyer', 'Nokia', 'Shenzhou', 'Glutinous Rice', 'Yi Tong', 'Newman', 'Wei Mi', 'Bai Li Feng','Wopfung', 'Shrimp', 'Kellystone', 'Bellfonte', 'Extreme Treasure', 'Blue Devils', 'Scallion', 'White Rice', 'Big Cola', 'Nibiru','Kangjia', 'Xianmi', 'Black Rice', 'Haier', 'Youyu', 'Weitu', 'Mi Ge', 'Guangxin', 'E-Pay', 'Little Poplar', ' Candied ','Simi', 'Google', 'Changhong','Philips', 'HP', 'Taipower', 'Big Q', 'Fresh Rice', 'Pioneer', 'Ouqi','Cyber Yuhua','Mickey','E people E Ben','Daxian','Originally','Curtain','Bacardi','Century Star','Wisdom magnesium','Kivu','Femtosecond','Venus Digital','Shouyun','Remi','Rego','Mola','Vibe','Ovo','Fengmi','Heng Yufeng','Oaks','Siemens','Oledi']\n",
    "\n",
    "brands_dict1 = dict(zip(brands_in_chinese, brands_in_english)) \n"
   ]
  },
  {
   "cell_type": "markdown",
   "metadata": {},
   "source": [
    "The purpose of zip() is to map the similar index of multiple containers so that they can be used just using as single entity."
   ]
  },
  {
   "cell_type": "code",
   "execution_count": 27,
   "metadata": {},
   "outputs": [],
   "source": [
    "def translator(val):\n",
    "    if val in brands_dict1:\n",
    "        return brands_dict1[val]\n",
    "    else:\n",
    "        return val"
   ]
  },
  {
   "cell_type": "code",
   "execution_count": 28,
   "metadata": {},
   "outputs": [],
   "source": [
    "phone_brand_device_model_df.phone_brand = phone_brand_device_model_df.phone_brand.apply(translator)"
   ]
  },
  {
   "cell_type": "markdown",
   "metadata": {},
   "source": [
    "__apply__ allow the users to pass a function and apply it on every single value of the Pandas series. It comes as a huge improvement for the pandas library as this function helps to segregate data according to the conditions required due to which it is efficiently used in data science and machine learning."
   ]
  },
  {
   "cell_type": "code",
   "execution_count": 29,
   "metadata": {},
   "outputs": [
    {
     "data": {
      "text/plain": [
       "array(['vivo', 'Xiaomi', 'OPPO', 'Samsung', 'Coolpad', 'Lenovo', 'Huawei',\n",
       "       'Qiku', 'Meizu', ' Feixun ', 'China Mobile', 'HTC', 'Amagatarai',\n",
       "       'Extreme Treasure', 'LG', 'Obson', 'Youmi', 'ZUK', 'Nubia', 'HP',\n",
       "       'Nibiru', 'Meitu', 'Xianmi', 'Motorola', 'Mengmi', 'Hammer',\n",
       "       ' Focus', 'LeEco', 'Hisense', 'Bai Li Feng', 'One Plus', 'Letters',\n",
       "       'Haier', ' Coolby ', 'Newman', 'Flyer', 'Duowei', 'Lingyun', 'TCL',\n",
       "       'Cooper', 'Aipair', 'LOGO', 'Scallion', 'Fruit Rice', 'ASUS',\n",
       "       'Onda', ' Aiyouni ', 'Kangjia', 'Yougo', 'Banghua', 'Cyber Yuhua',\n",
       "       'Black Rice', 'Lovme', 'Pioneer', 'E-Pay', 'Shenzhou', 'Nokia',\n",
       "       'Punale', ' Candied ', 'Yi Tong', 'Ou Xin', 'Mickey', 'Cubei Cube',\n",
       "       'Blue Devils', 'Little Poplar', 'Bellfonte', 'Glutinous Rice',\n",
       "       'Mi Ge', 'E people E Ben', 'Simi', 'Big Q', 'Taipower', 'Philips',\n",
       "       'Wei Mi', 'Daxian', 'Changhong', 'Weitu', 'Green Orange',\n",
       "       'Originally', 'Shrimp', 'Amoi', 'Curtain', 'Bacardi', 'SUGAR',\n",
       "       'Ouqi', 'Century Star', 'Wisdom magnesium', 'Obi', 'Kivu',\n",
       "       'Femtosecond', 'Desai', 'Yipai', 'Google', 'Venus Digital',\n",
       "       'Guangxin', 'Noah', 'MIL', 'White Rice', 'Big Cola', 'Projet News',\n",
       "       'Youyu', 'Shouyun', 'Remi', 'Rego', 'Wopfung', 'Mola',\n",
       "       'Fresh Rice', 'Kellystone', 'Vibe', 'Ovo', 'Fengmi', 'Heng Yufeng',\n",
       "       'Oaks', 'Siemens', 'Oledi', 'PPTV'], dtype=object)"
      ]
     },
     "execution_count": 29,
     "metadata": {},
     "output_type": "execute_result"
    }
   ],
   "source": [
    "phone_brand_device_model_df['phone_brand'].unique()"
   ]
  },
  {
   "cell_type": "code",
   "execution_count": 30,
   "metadata": {},
   "outputs": [
    {
     "data": {
      "text/plain": [
       "(87726, 3)"
      ]
     },
     "execution_count": 30,
     "metadata": {},
     "output_type": "execute_result"
    }
   ],
   "source": [
    "phone_brand_device_model_df.shape"
   ]
  },
  {
   "cell_type": "code",
   "execution_count": 31,
   "metadata": {},
   "outputs": [
    {
     "data": {
      "text/plain": [
       "device_id       0\n",
       "phone_brand     0\n",
       "device_model    0\n",
       "dtype: int64"
      ]
     },
     "execution_count": 31,
     "metadata": {},
     "output_type": "execute_result"
    }
   ],
   "source": [
    "phone_brand_device_model_df.isnull().sum()"
   ]
  },
  {
   "cell_type": "markdown",
   "metadata": {},
   "source": [
    "<a id=section33><a>\n",
    "#### Converting Models from chinese to english language"
   ]
  },
  {
   "cell_type": "code",
   "execution_count": 35,
   "metadata": {},
   "outputs": [],
   "source": [
    "Models_in_chinese = ['红米note','红米Note2','荣耀6','荣耀畅玩4X','荣耀3C','红米1S','魅蓝NOTE','红米2','红米Note2','荣耀6 Plus','红米2A'\n",
    "                     ,'红米note增强版','魅蓝Note 2','荣耀3X畅玩版','小米note','荣耀畅玩4C','红米','2016版 Galaxy A5','2016版 Galaxy A7','2016版 Galaxy A9','2016版 Galaxy J7'\n",
    "                     ,'超级手机Max','远航3','醉享','野火S','金刚II','金钢','锋尚','锋尚2','锋尚Max','锋尚Pro','雷霆战机','青春版','青漾3'\n",
    "                     ,'领世旗舰3','风华3','飞马','飞马2 Plus','飞马3','魅蓝','魅蓝2','魅蓝Note3','魅蓝metal','魔镜 X5','麦芒3'\n",
    "                     ,'麦芒3S','麦芒4','黄金斗士A8','黄金斗士Note8','黄金斗士S8畅玩版','黄金斗士青春版','红米3','红米Note3','红辣椒','红辣椒 X1'\n",
    "                     ,'红辣椒NX Plus','红辣椒Note','红辣椒Note3','红辣椒XM\t','红辣椒任性版 Plus','纽扣','联想VIBE X2','联想黄金斗士S8','荣耀+'\n",
    "                     ,'荣耀3C畅玩版','荣耀3X','荣耀4A','荣耀6 plus','荣耀7','荣耀7i','荣耀U8860','荣耀X2','荣耀平板T1-823L','荣耀畅玩4'\n",
    "                     ,'荣耀畅玩4C运动版','荣耀畅玩5','荣耀畅玩5X','荣耀畅玩平板T1','超级手机1','超级手机1 Pro','超级手机1s'\n",
    "                     ,'大神F1Plus','note顶配版','星星1号','小米4C','天鉴W900','大神F1','Mate 7 青春版',\n",
    " '乐檬K3 Note',\n",
    " '火星一号',\n",
    " '乐檬K3',\n",
    " '大神F2',\n",
    " '大神F2全高清版',\n",
    " '灵感XL',\n",
    " '旗舰版',\n",
    " '坚果手机',\n",
    " '畅享5',\n",
    " '春雷HD',\n",
    " 'ivvi 小i',\n",
    " '小鲜2',\n",
    " '大器2',\n",
    " '大神X7',\n",
    " '小苹果',\n",
    " '乐玩',\n",
    " '大神Note3',\n",
    " '么么哒3N',\n",
    " '三星big foot',\n",
    " 'ivvi 小骨Pro',\n",
    " '红辣椒XM',\n",
    " 'My 布拉格',\n",
    " 'metal 标准版',\n",
    " '畅享5S',\n",
    " '红牛V5',\n",
    " '小辣椒 X3',\n",
    " '大神Note',\n",
    " '7295A青春版',\n",
    " '么么哒',\n",
    " '小辣椒 M2',\n",
    " '炫影S+',\n",
    " 'TALK 7X四核',\n",
    " '天鉴T1',\n",
    " '土星一号',\n",
    " '威武3',\n",
    " '小辣椒 9',\n",
    " '大观4',\n",
    " '星星2号',\n",
    " '威武3C',\n",
    " '倾城L3',\n",
    " 'Z9 mini 精英版',\n",
    " '小辣椒S1',\n",
    " '小辣椒 5',\n",
    " 'T03锋至版',\n",
    " '乐玩2C',\n",
    " '么么哒3S',\n",
    " '乐檬K31',\n",
    " '时尚手机',\n",
    " '火星一号探索版'                   \n",
    "]\n",
    "\n",
    "Models_in_english = ['Red rice note','Redmi Note2','Glory 6','Honor Play 4X','Glory 3C','Redmi 1S','Charm Blue NOTE','Red rice 2'\n",
    "                     ,'Red rice Note 2','Honor 6 Plus','Redmi 2A','Redmi Note Enhanced Edition','Charm Blue Note 2','Glory 3X play version'\n",
    "                     ,'Xiaomi note','Honor Play 4C','Red rice','2016 version of Galaxy A5','2016 version of Galaxy A7','2016 version of Galaxy A9','2016 version of Galaxy J7'\n",
    "                     ,'Super phone Max','Voyage 3','Drunken','Wildfire S','King Kong II','Jin Gang','Feng Shang','Feng Shang 2'\n",
    "                     ,'Feng Shang Max','Fengshang Pro','Thunder Fighter','Youth Edition','Qingyang 3','Leadership Flagship 3','Fenghua 3','Pegasus','Pegasus 2 Plus','Pegasus 3','Charm Blue','Charm Blue 2','Charm Blue Note3','Charm Blue metal','Magic Mirror X5','Maimang 3'\n",
    "                     ,'Maimang 3S','Maimang 4','Golden Fighter A8','Golden Fighter Note8','Golden Fighter S8 Play Edition','Golden Fighter Youth Edition'\n",
    "                    ,'Red Rice 3','Red Rice Note3','Red Pepper','Red Pepper X1'\n",
    "                     ,'Red Pepper NX Plus','Red Pepper Note','Red Pepper Note3','Red Pepper XM','Red Pepper Capricious Edition Plus','Button','Lenovo VIBE X2','Lenovo Golden Fighter S8' ,'Glory+'\n",
    "                     ,'Honor 3C Play Edition','Honor 3X','Honor 4A','Honor 6 plus','Honor 7','Honor 7i','Honor U8860','Honor X2','Honor Tablet T1- 823L','Honor Play 4'\n",
    "                     ,'Honor Play 4C Sport','Honor Play 5','Honor Play 5X','Honor Play T1','Super Phone 1','Super Phone 1 Pro','Super Phone 1s'\n",
    "                     'Great God F1Plus',\n",
    " 'note top version',\n",
    " 'Star 1',\n",
    " 'Xiaomi 4C',\n",
    " 'Tianjian W900',\n",
    " 'Great God F1',\n",
    " 'Mate 7 Youth Edition',\n",
    " 'Le Lemon K3 Note',\n",
    " 'Mars One',\n",
    " 'Le Lemon K3',\n",
    " 'Great God F2',\n",
    " 'Great God F2 Full HD Version',\n",
    " 'Inspiration XL',\n",
    " 'Flagship',\n",
    " 'Nut mobile phone',\n",
    " 'Enjoy 5',\n",
    " 'Spring Thunder HD',\n",
    " 'ivvi 小i',\n",
    " 'Xiao Xian 2',\n",
    " 'Big 2',\n",
    " 'Great God X7',\n",
    " 'Little Apple',\n",
    " 'Le play',\n",
    " 'Great God Note3',\n",
    " '么么哒3N',\n",
    " 'Samsung big foot',\n",
    " 'ivvi small bone Pro',\n",
    " 'Red pepper XM',\n",
    " 'My Prague',\n",
    " 'metal standard version',\n",
    " 'Enjoy 5S',\n",
    " 'Red Bull V5',\n",
    " 'Little pepper X3',\n",
    " 'Great God Note',\n",
    " '7295A Youth Edition',\n",
    " 'muah',\n",
    " 'Little Pepper M2',\n",
    " 'Hyun Shadow S+',\n",
    " 'TALK 7X quad-core',\n",
    " 'Tianjian T1',\n",
    " 'Saturn One',\n",
    " 'Mighty 3',\n",
    " 'Little Pepper 9',\n",
    " 'Great view 4',\n",
    " 'Star 2',\n",
    " 'Powerful 3C',\n",
    " 'Allure L3',\n",
    " 'Z9 mini Elite Edition',\n",
    " 'Little pepper S1',\n",
    " 'Little pepper 5',\n",
    " 'T03 Fengzhi Edition',\n",
    " 'Lewan 2C',\n",
    " 'Da Ma Da 3S',\n",
    " 'Le Lemon K31',\n",
    " 'Fashion mobile phone','Mars One Discovery Edition']\n",
    "\n",
    "Models_dict1 = dict(zip(Models_in_chinese, Models_in_english)) \n"
   ]
  },
  {
   "cell_type": "code",
   "execution_count": 36,
   "metadata": {},
   "outputs": [],
   "source": [
    "def modeltranslator(val):\n",
    "    if val in Models_dict1:\n",
    "        return Models_dict1[val]\n",
    "    else :\n",
    "        return val"
   ]
  },
  {
   "cell_type": "code",
   "execution_count": 37,
   "metadata": {},
   "outputs": [],
   "source": [
    "phone_brand_device_model_df.device_model = phone_brand_device_model_df.device_model.apply(modeltranslator)"
   ]
  },
  {
   "cell_type": "code",
   "execution_count": 38,
   "metadata": {},
   "outputs": [
    {
     "data": {
      "text/html": [
       "<div>\n",
       "<style scoped>\n",
       "    .dataframe tbody tr th:only-of-type {\n",
       "        vertical-align: middle;\n",
       "    }\n",
       "\n",
       "    .dataframe tbody tr th {\n",
       "        vertical-align: top;\n",
       "    }\n",
       "\n",
       "    .dataframe thead th {\n",
       "        text-align: right;\n",
       "    }\n",
       "</style>\n",
       "<table border=\"1\" class=\"dataframe\">\n",
       "  <thead>\n",
       "    <tr style=\"text-align: right;\">\n",
       "      <th></th>\n",
       "      <th>device_id</th>\n",
       "      <th>phone_brand</th>\n",
       "      <th>device_model</th>\n",
       "    </tr>\n",
       "  </thead>\n",
       "  <tbody>\n",
       "    <tr>\n",
       "      <th>0</th>\n",
       "      <td>1877775838486905855</td>\n",
       "      <td>vivo</td>\n",
       "      <td>Y13</td>\n",
       "    </tr>\n",
       "    <tr>\n",
       "      <th>1</th>\n",
       "      <td>-3766087376657242966</td>\n",
       "      <td>Xiaomi</td>\n",
       "      <td>V183</td>\n",
       "    </tr>\n",
       "    <tr>\n",
       "      <th>2</th>\n",
       "      <td>-6238937574958215831</td>\n",
       "      <td>OPPO</td>\n",
       "      <td>R7s</td>\n",
       "    </tr>\n",
       "    <tr>\n",
       "      <th>3</th>\n",
       "      <td>8973197758510677470</td>\n",
       "      <td>Samsung</td>\n",
       "      <td>A368t</td>\n",
       "    </tr>\n",
       "    <tr>\n",
       "      <th>4</th>\n",
       "      <td>-2015528097870762664</td>\n",
       "      <td>Xiaomi</td>\n",
       "      <td>Red rice Note 2</td>\n",
       "    </tr>\n",
       "  </tbody>\n",
       "</table>\n",
       "</div>"
      ],
      "text/plain": [
       "             device_id phone_brand     device_model\n",
       "0  1877775838486905855        vivo              Y13\n",
       "1 -3766087376657242966      Xiaomi             V183\n",
       "2 -6238937574958215831        OPPO              R7s\n",
       "3  8973197758510677470     Samsung            A368t\n",
       "4 -2015528097870762664      Xiaomi  Red rice Note 2"
      ]
     },
     "execution_count": 38,
     "metadata": {},
     "output_type": "execute_result"
    }
   ],
   "source": [
    "phone_brand_device_model_df.head()"
   ]
  },
  {
   "cell_type": "markdown",
   "metadata": {},
   "source": [
    "<a id=section34><a>\n",
    "### Analyzing the data with visulization"
   ]
  },
  {
   "cell_type": "markdown",
   "metadata": {},
   "source": [
    "<a id=section35><a>\n",
    "#### Brand wise top 10 count of devices"
   ]
  },
  {
   "cell_type": "code",
   "execution_count": 241,
   "metadata": {},
   "outputs": [
    {
     "data": {
      "text/plain": [
       "Text(0, 0.5, 'Count')"
      ]
     },
     "execution_count": 241,
     "metadata": {},
     "output_type": "execute_result"
    },
    {
     "data": {
      "image/png": "[encoded data removed]",
      "text/plain": [
       "<Figure size 1440x360 with 1 Axes>"
      ]
     },
     "metadata": {
      "needs_background": "light"
     },
     "output_type": "display_data"
    }
   ],
   "source": [
    "plt.figure(figsize=(20,5))\n",
    "phone_brand_device_model_df['phone_brand'].value_counts()[:10].sort_values(ascending = False).plot.bar(colormap = 'Wistia_r')\n",
    "plt.xlabel('Brand')\n",
    "plt.ylabel('Count')\n"
   ]
  },
  {
   "cell_type": "markdown",
   "metadata": {},
   "source": [
    "<a id=section36><a>\n",
    "#### Model wise top 30 count of devices"
   ]
  },
  {
   "cell_type": "code",
   "execution_count": 40,
   "metadata": {},
   "outputs": [
    {
     "data": {
      "text/plain": [
       "Text(0, 0.5, 'Count')"
      ]
     },
     "execution_count": 40,
     "metadata": {},
     "output_type": "execute_result"
    },
    {
     "data": {
      "image/png": "[encoded data removed]",
      "text/plain": [
       "<Figure size 1440x360 with 1 Axes>"
      ]
     },
     "metadata": {
      "needs_background": "light"
     },
     "output_type": "display_data"
    }
   ],
   "source": [
    "plt.figure(figsize=(20,5))\n",
    "phone_brand_device_model_df['device_model'].value_counts()[:40].sort_values(ascending = False).plot.bar(colormap = 'Wistia_r')\n",
    "plt.xlabel('Model')\n",
    "plt.ylabel('Count')\n"
   ]
  },
  {
   "cell_type": "markdown",
   "metadata": {},
   "source": [
    "<a id=section37><a>\n",
    "#### Each Brand wise Models and top 10 count of devices"
   ]
  },
  {
   "cell_type": "code",
   "execution_count": 61,
   "metadata": {},
   "outputs": [
    {
     "name": "stdout",
     "output_type": "stream",
     "text": [
      "----------- vivo -----------\n",
      "X3T        425\n",
      "X5Pro      401\n",
      "X3L        333\n",
      "Xplay      293\n",
      "X5SL       279\n",
      "Y27        255\n",
      "X5L        250\n",
      "X5M        248\n",
      "X5Max+     219\n",
      "Xplay3S    214\n",
      "Name: device_model, dtype: int64\n",
      "----------- Xiaomi -----------\n",
      "Red rice note                  3500\n",
      "MI 3                           2739\n",
      "MI 2S                          2547\n",
      "MI 4                           2256\n",
      "Redmi 1S                       1191\n",
      "Red rice                       1168\n",
      "Red rice 2                      941\n",
      "Red rice Note 2                 903\n",
      "Redmi 2A                        804\n",
      "Redmi Note Enhanced Edition     786\n",
      "Name: device_model, dtype: int64\n",
      "----------- OPPO -----------\n",
      "R7         663\n",
      "R7 Plus    459\n",
      "R7s        423\n",
      "Find 7     381\n",
      "R3         335\n",
      "Find 5     294\n",
      "R1S        292\n",
      "A31        274\n",
      "R1C        248\n",
      "R831S      222\n",
      "Name: device_model, dtype: int64\n",
      "----------- Samsung -----------\n",
      "Galaxy Note 3      2378\n",
      "Galaxy S4          1910\n",
      "Galaxy Note 2      1877\n",
      "Galaxy S3          1156\n",
      "Galaxy S5           827\n",
      "Galaxy Win          503\n",
      "Galaxy Grand 2      475\n",
      "Galaxy Mega 5.8     395\n",
      "Galaxy Note 4       368\n",
      "Galaxy A7           342\n",
      "Name: device_model, dtype: int64\n",
      "----------- Coolpad -----------\n",
      "F2                              583\n",
      "Mate 7 Youth Edition            506\n",
      "note top version                210\n",
      "8720L                           189\n",
      "Great God F2 Full HD Version    177\n",
      "Samsung big foot                139\n",
      "Feng Shang                      115\n",
      "Inspiration XL                   86\n",
      "7296                             77\n",
      "7295C                            77\n",
      "Name: device_model, dtype: int64\n",
      "----------- Lenovo -----------\n",
      "Q802T               60\n",
      "V5S                 46\n",
      "Little pepper X3    45\n",
      "V5 Max              43\n",
      "9180                42\n",
      "Q505T               38\n",
      "U817                32\n",
      "U807                31\n",
      "Xiaomi 4C           27\n",
      "A880                24\n",
      "Name: device_model, dtype: int64\n",
      "----------- Huawei -----------\n",
      "Glory 6                  1471\n",
      "Honor Play 4X            1279\n",
      "Glory 3C                 1206\n",
      "Mate 7                   1125\n",
      "Honor 6 Plus              815\n",
      "Glory 3X play version     776\n",
      "Ascend P7                 708\n",
      "Honor Play 4C             636\n",
      "Honor 7                   467\n",
      "Ascend P8                 435\n",
      "Name: device_model, dtype: int64\n",
      "----------- Qiku -----------\n",
      "Youth Edition       135\n",
      "Nut mobile phone     39\n",
      "Name: device_model, dtype: int64\n",
      "----------- Meizu -----------\n",
      "Charm Blue NOTE      1026\n",
      "MX3                   842\n",
      "Charm Blue Note 2     786\n",
      "MX4                   777\n",
      "MX2                   442\n",
      "MX5                   389\n",
      "MX4 Pro               379\n",
      "Charm Blue 2          352\n",
      "Charm Blue metal      217\n",
      "Charm Blue            190\n",
      "Name: device_model, dtype: int64\n",
      "-----------  Feixun  -----------\n",
      "C630Lw    4\n",
      "C730Lw    3\n",
      "C230w     2\n",
      "Name: device_model, dtype: int64\n",
      "----------- China Mobile -----------\n",
      "A1        123\n",
      "M812C      58\n",
      "N1         53\n",
      "M811       53\n",
      "N1 max     11\n",
      "M601        7\n",
      "M701        4\n",
      "Name: device_model, dtype: int64\n",
      "----------- HTC -----------\n",
      "Desire 816    234\n",
      "One           181\n",
      "Desire 820     93\n",
      "One M8         68\n",
      "802w           54\n",
      "One X          45\n",
      "Butterfly      41\n",
      "G11            38\n",
      "Desire 826     38\n",
      "M8St           37\n",
      "Name: device_model, dtype: int64\n"
     ]
    }
   ],
   "source": [
    "for i in phone_brand_device_model_df['phone_brand'].head(50).unique():\n",
    "    print ('-----------',i,'-----------')\n",
    "    print (phone_brand_device_model_df[phone_brand_device_model_df['phone_brand']==i]['device_model'].value_counts().head(10))"
   ]
  },
  {
   "cell_type": "markdown",
   "metadata": {},
   "source": [
    "<a id=section38><a>\n",
    "#### Brand & Model wise top 50 count of devices"
   ]
  },
  {
   "cell_type": "code",
   "execution_count": 65,
   "metadata": {},
   "outputs": [
    {
     "data": {
      "text/plain": [
       "Text(0, 0.5, 'Count')"
      ]
     },
     "execution_count": 65,
     "metadata": {},
     "output_type": "execute_result"
    },
    {
     "data": {
      "image/png": "[encoded data removed]",
      "text/plain": [
       "<Figure size 1440x360 with 1 Axes>"
      ]
     },
     "metadata": {
      "needs_background": "light"
     },
     "output_type": "display_data"
    }
   ],
   "source": [
    "plt.figure(figsize=(20,5))\n",
    "phone_brand_device_model_df.groupby(['phone_brand']).device_model.value_counts().nlargest(50).plot.bar(fontsize=15, colormap = 'Wistia_r')\n",
    "plt.xlabel('Phone_Brnad & Device_Model')\n",
    "plt.ylabel('Count')"
   ]
  },
  {
   "cell_type": "markdown",
   "metadata": {},
   "source": [
    "<a id=section4></a>\n",
    "### Events Data Extraction and Exploration"
   ]
  },
  {
   "cell_type": "markdown",
   "metadata": {},
   "source": [
    "<a id=section41><a>\n",
    "#### Extracting the data from CSV file"
   ]
  },
  {
   "cell_type": "code",
   "execution_count": 67,
   "metadata": {},
   "outputs": [],
   "source": [
    "Events_data_df = pd.read_csv('F:\\Data science Course\\Machine learning-2\\INSAID Telecom Capstone project\\events_data.csv')"
   ]
  },
  {
   "cell_type": "code",
   "execution_count": 68,
   "metadata": {},
   "outputs": [
    {
     "data": {
      "text/html": [
       "<div>\n",
       "<style scoped>\n",
       "    .dataframe tbody tr th:only-of-type {\n",
       "        vertical-align: middle;\n",
       "    }\n",
       "\n",
       "    .dataframe tbody tr th {\n",
       "        vertical-align: top;\n",
       "    }\n",
       "\n",
       "    .dataframe thead th {\n",
       "        text-align: right;\n",
       "    }\n",
       "</style>\n",
       "<table border=\"1\" class=\"dataframe\">\n",
       "  <thead>\n",
       "    <tr style=\"text-align: right;\">\n",
       "      <th></th>\n",
       "      <th>event_id</th>\n",
       "      <th>device_id</th>\n",
       "      <th>timestamp</th>\n",
       "      <th>longitude</th>\n",
       "      <th>latitude</th>\n",
       "      <th>city</th>\n",
       "      <th>state</th>\n",
       "    </tr>\n",
       "  </thead>\n",
       "  <tbody>\n",
       "    <tr>\n",
       "      <th>0</th>\n",
       "      <td>2765368</td>\n",
       "      <td>2.973348e+18</td>\n",
       "      <td>2016-05-07 22:52:05</td>\n",
       "      <td>77.225676</td>\n",
       "      <td>28.730140</td>\n",
       "      <td>Delhi</td>\n",
       "      <td>Delhi</td>\n",
       "    </tr>\n",
       "    <tr>\n",
       "      <th>1</th>\n",
       "      <td>2955066</td>\n",
       "      <td>4.734221e+18</td>\n",
       "      <td>2016-05-01 20:44:16</td>\n",
       "      <td>88.388361</td>\n",
       "      <td>22.660325</td>\n",
       "      <td>Calcutta</td>\n",
       "      <td>WestBengal</td>\n",
       "    </tr>\n",
       "    <tr>\n",
       "      <th>2</th>\n",
       "      <td>605968</td>\n",
       "      <td>-3.264500e+18</td>\n",
       "      <td>2016-05-02 14:23:04</td>\n",
       "      <td>77.256809</td>\n",
       "      <td>28.757906</td>\n",
       "      <td>Delhi</td>\n",
       "      <td>Delhi</td>\n",
       "    </tr>\n",
       "    <tr>\n",
       "      <th>3</th>\n",
       "      <td>448114</td>\n",
       "      <td>5.731369e+18</td>\n",
       "      <td>2016-05-03 13:21:16</td>\n",
       "      <td>80.343613</td>\n",
       "      <td>13.153332</td>\n",
       "      <td>Chennai</td>\n",
       "      <td>TamilNadu</td>\n",
       "    </tr>\n",
       "    <tr>\n",
       "      <th>4</th>\n",
       "      <td>665740</td>\n",
       "      <td>3.388880e+17</td>\n",
       "      <td>2016-05-06 03:51:05</td>\n",
       "      <td>85.997745</td>\n",
       "      <td>23.842609</td>\n",
       "      <td>Bokaro</td>\n",
       "      <td>Jharkhand</td>\n",
       "    </tr>\n",
       "  </tbody>\n",
       "</table>\n",
       "</div>"
      ],
      "text/plain": [
       "   event_id     device_id            timestamp  longitude   latitude  \\\n",
       "0   2765368  2.973348e+18  2016-05-07 22:52:05  77.225676  28.730140   \n",
       "1   2955066  4.734221e+18  2016-05-01 20:44:16  88.388361  22.660325   \n",
       "2    605968 -3.264500e+18  2016-05-02 14:23:04  77.256809  28.757906   \n",
       "3    448114  5.731369e+18  2016-05-03 13:21:16  80.343613  13.153332   \n",
       "4    665740  3.388880e+17  2016-05-06 03:51:05  85.997745  23.842609   \n",
       "\n",
       "       city       state  \n",
       "0     Delhi       Delhi  \n",
       "1  Calcutta  WestBengal  \n",
       "2     Delhi       Delhi  \n",
       "3   Chennai   TamilNadu  \n",
       "4    Bokaro   Jharkhand  "
      ]
     },
     "execution_count": 68,
     "metadata": {},
     "output_type": "execute_result"
    }
   ],
   "source": [
    "Events_data_df.head()"
   ]
  },
  {
   "cell_type": "code",
   "execution_count": 69,
   "metadata": {},
   "outputs": [
    {
     "data": {
      "text/plain": [
       "(3252950, 7)"
      ]
     },
     "execution_count": 69,
     "metadata": {},
     "output_type": "execute_result"
    }
   ],
   "source": [
    "Events_data_df.shape"
   ]
  },
  {
   "cell_type": "code",
   "execution_count": 70,
   "metadata": {},
   "outputs": [
    {
     "name": "stdout",
     "output_type": "stream",
     "text": [
      "<class 'pandas.core.frame.DataFrame'>\n",
      "RangeIndex: 3252950 entries, 0 to 3252949\n",
      "Data columns (total 7 columns):\n",
      "event_id     int64\n",
      "device_id    float64\n",
      "timestamp    object\n",
      "longitude    float64\n",
      "latitude     float64\n",
      "city         object\n",
      "state        object\n",
      "dtypes: float64(3), int64(1), object(3)\n",
      "memory usage: 173.7+ MB\n"
     ]
    }
   ],
   "source": [
    "Events_data_df.info()"
   ]
  },
  {
   "cell_type": "code",
   "execution_count": 71,
   "metadata": {},
   "outputs": [
    {
     "data": {
      "text/html": [
       "<div>\n",
       "<style scoped>\n",
       "    .dataframe tbody tr th:only-of-type {\n",
       "        vertical-align: middle;\n",
       "    }\n",
       "\n",
       "    .dataframe tbody tr th {\n",
       "        vertical-align: top;\n",
       "    }\n",
       "\n",
       "    .dataframe thead th {\n",
       "        text-align: right;\n",
       "    }\n",
       "</style>\n",
       "<table border=\"1\" class=\"dataframe\">\n",
       "  <thead>\n",
       "    <tr style=\"text-align: right;\">\n",
       "      <th></th>\n",
       "      <th>event_id</th>\n",
       "      <th>device_id</th>\n",
       "      <th>timestamp</th>\n",
       "      <th>longitude</th>\n",
       "      <th>latitude</th>\n",
       "      <th>city</th>\n",
       "      <th>state</th>\n",
       "    </tr>\n",
       "  </thead>\n",
       "  <tbody>\n",
       "    <tr>\n",
       "      <th>count</th>\n",
       "      <td>3.252950e+06</td>\n",
       "      <td>3.252497e+06</td>\n",
       "      <td>3252950</td>\n",
       "      <td>3.252527e+06</td>\n",
       "      <td>3.252527e+06</td>\n",
       "      <td>3252950</td>\n",
       "      <td>3252573</td>\n",
       "    </tr>\n",
       "    <tr>\n",
       "      <th>unique</th>\n",
       "      <td>NaN</td>\n",
       "      <td>NaN</td>\n",
       "      <td>588126</td>\n",
       "      <td>NaN</td>\n",
       "      <td>NaN</td>\n",
       "      <td>933</td>\n",
       "      <td>32</td>\n",
       "    </tr>\n",
       "    <tr>\n",
       "      <th>top</th>\n",
       "      <td>NaN</td>\n",
       "      <td>NaN</td>\n",
       "      <td>2016-05-03 10:00:03</td>\n",
       "      <td>NaN</td>\n",
       "      <td>NaN</td>\n",
       "      <td>Delhi</td>\n",
       "      <td>Delhi</td>\n",
       "    </tr>\n",
       "    <tr>\n",
       "      <th>freq</th>\n",
       "      <td>NaN</td>\n",
       "      <td>NaN</td>\n",
       "      <td>43</td>\n",
       "      <td>NaN</td>\n",
       "      <td>NaN</td>\n",
       "      <td>744276</td>\n",
       "      <td>751733</td>\n",
       "    </tr>\n",
       "    <tr>\n",
       "      <th>mean</th>\n",
       "      <td>1.626476e+06</td>\n",
       "      <td>1.012200e+17</td>\n",
       "      <td>NaN</td>\n",
       "      <td>7.815868e+01</td>\n",
       "      <td>2.168851e+01</td>\n",
       "      <td>NaN</td>\n",
       "      <td>NaN</td>\n",
       "    </tr>\n",
       "    <tr>\n",
       "      <th>std</th>\n",
       "      <td>9.390459e+05</td>\n",
       "      <td>5.316758e+18</td>\n",
       "      <td>NaN</td>\n",
       "      <td>4.235570e+00</td>\n",
       "      <td>5.789111e+00</td>\n",
       "      <td>NaN</td>\n",
       "      <td>NaN</td>\n",
       "    </tr>\n",
       "    <tr>\n",
       "      <th>min</th>\n",
       "      <td>1.000000e+00</td>\n",
       "      <td>-9.222957e+18</td>\n",
       "      <td>NaN</td>\n",
       "      <td>1.256700e+01</td>\n",
       "      <td>8.190110e+00</td>\n",
       "      <td>NaN</td>\n",
       "      <td>NaN</td>\n",
       "    </tr>\n",
       "    <tr>\n",
       "      <th>25%</th>\n",
       "      <td>8.132382e+05</td>\n",
       "      <td>-4.540611e+18</td>\n",
       "      <td>NaN</td>\n",
       "      <td>7.583543e+01</td>\n",
       "      <td>1.780171e+01</td>\n",
       "      <td>NaN</td>\n",
       "      <td>NaN</td>\n",
       "    </tr>\n",
       "    <tr>\n",
       "      <th>50%</th>\n",
       "      <td>1.626476e+06</td>\n",
       "      <td>1.726820e+17</td>\n",
       "      <td>NaN</td>\n",
       "      <td>7.726814e+01</td>\n",
       "      <td>2.216454e+01</td>\n",
       "      <td>NaN</td>\n",
       "      <td>NaN</td>\n",
       "    </tr>\n",
       "    <tr>\n",
       "      <th>75%</th>\n",
       "      <td>2.439713e+06</td>\n",
       "      <td>4.861813e+18</td>\n",
       "      <td>NaN</td>\n",
       "      <td>8.031916e+01</td>\n",
       "      <td>2.868278e+01</td>\n",
       "      <td>NaN</td>\n",
       "      <td>NaN</td>\n",
       "    </tr>\n",
       "    <tr>\n",
       "      <th>max</th>\n",
       "      <td>3.252950e+06</td>\n",
       "      <td>9.222849e+18</td>\n",
       "      <td>NaN</td>\n",
       "      <td>9.545946e+01</td>\n",
       "      <td>4.187190e+01</td>\n",
       "      <td>NaN</td>\n",
       "      <td>NaN</td>\n",
       "    </tr>\n",
       "  </tbody>\n",
       "</table>\n",
       "</div>"
      ],
      "text/plain": [
       "            event_id     device_id            timestamp     longitude  \\\n",
       "count   3.252950e+06  3.252497e+06              3252950  3.252527e+06   \n",
       "unique           NaN           NaN               588126           NaN   \n",
       "top              NaN           NaN  2016-05-03 10:00:03           NaN   \n",
       "freq             NaN           NaN                   43           NaN   \n",
       "mean    1.626476e+06  1.012200e+17                  NaN  7.815868e+01   \n",
       "std     9.390459e+05  5.316758e+18                  NaN  4.235570e+00   \n",
       "min     1.000000e+00 -9.222957e+18                  NaN  1.256700e+01   \n",
       "25%     8.132382e+05 -4.540611e+18                  NaN  7.583543e+01   \n",
       "50%     1.626476e+06  1.726820e+17                  NaN  7.726814e+01   \n",
       "75%     2.439713e+06  4.861813e+18                  NaN  8.031916e+01   \n",
       "max     3.252950e+06  9.222849e+18                  NaN  9.545946e+01   \n",
       "\n",
       "            latitude     city    state  \n",
       "count   3.252527e+06  3252950  3252573  \n",
       "unique           NaN      933       32  \n",
       "top              NaN    Delhi    Delhi  \n",
       "freq             NaN   744276   751733  \n",
       "mean    2.168851e+01      NaN      NaN  \n",
       "std     5.789111e+00      NaN      NaN  \n",
       "min     8.190110e+00      NaN      NaN  \n",
       "25%     1.780171e+01      NaN      NaN  \n",
       "50%     2.216454e+01      NaN      NaN  \n",
       "75%     2.868278e+01      NaN      NaN  \n",
       "max     4.187190e+01      NaN      NaN  "
      ]
     },
     "execution_count": 71,
     "metadata": {},
     "output_type": "execute_result"
    }
   ],
   "source": [
    "Events_data_df.describe(include = 'all')"
   ]
  },
  {
   "cell_type": "code",
   "execution_count": 72,
   "metadata": {},
   "outputs": [
    {
     "data": {
      "text/plain": [
       "event_id       0\n",
       "device_id    453\n",
       "timestamp      0\n",
       "longitude    423\n",
       "latitude     423\n",
       "city           0\n",
       "state        377\n",
       "dtype: int64"
      ]
     },
     "execution_count": 72,
     "metadata": {},
     "output_type": "execute_result"
    }
   ],
   "source": [
    "Events_data_df.isnull().sum()"
   ]
  },
  {
   "cell_type": "markdown",
   "metadata": {},
   "source": [
    "#### Replaceing NULL values for state "
   ]
  },
  {
   "cell_type": "code",
   "execution_count": 73,
   "metadata": {},
   "outputs": [
    {
     "data": {
      "text/plain": [
       "array(['Delhi', 'WestBengal', 'TamilNadu', 'Jharkhand', 'AndhraPradesh',\n",
       "       'Maharashtra', 'Gujarat', 'Kerala', 'MadhyaPradesh', 'Karnataka',\n",
       "       'Rajasthan', 'Orissa', 'Punjab', 'UttarPradesh', 'Nagaland',\n",
       "       'Haryana', 'Telangana', 'Chhattisgarh', 'Bihar', 'JammuandKashmir',\n",
       "       'Assam', 'Goa', 'Mizoram', 'Tripura', 'Uttaranchal', nan,\n",
       "       'Pondicherry', 'Manipur', 'Meghalaya', 'ArunachalPradesh',\n",
       "       'HimachalPradesh', 'Chandigarh', 'AndamanandNicobarIslands'],\n",
       "      dtype=object)"
      ]
     },
     "execution_count": 73,
     "metadata": {},
     "output_type": "execute_result"
    }
   ],
   "source": [
    "Events_data_df['state'].unique()"
   ]
  },
  {
   "cell_type": "code",
   "execution_count": 74,
   "metadata": {},
   "outputs": [
    {
     "data": {
      "text/plain": [
       "array(['Arambagh', 'Channapatna', 'Chennai', 'Delhi', 'Gangarampur',\n",
       "       'Indore', 'Jaipur', 'Pune', 'Visakhapatnam'], dtype=object)"
      ]
     },
     "execution_count": 74,
     "metadata": {},
     "output_type": "execute_result"
    }
   ],
   "source": [
    "Events_data_df[Events_data_df['state'].isnull()]['city'].sort_values(ascending = True).unique()"
   ]
  },
  {
   "cell_type": "markdown",
   "metadata": {},
   "source": [
    "The above cities are having states as NULL."
   ]
  },
  {
   "cell_type": "code",
   "execution_count": 75,
   "metadata": {},
   "outputs": [
    {
     "data": {
      "text/plain": [
       "event_id      0\n",
       "device_id    69\n",
       "timestamp     0\n",
       "longitude    63\n",
       "latitude     63\n",
       "city          0\n",
       "state        47\n",
       "dtype: int64"
      ]
     },
     "execution_count": 75,
     "metadata": {},
     "output_type": "execute_result"
    }
   ],
   "source": [
    "Events_data_df.loc[Events_data_df['city'] =='Visakhapatnam'].isnull().sum()"
   ]
  },
  {
   "cell_type": "code",
   "execution_count": 76,
   "metadata": {},
   "outputs": [],
   "source": [
    "Events_data_df.loc[(Events_data_df['city'] =='Arambagh') & (Events_data_df['state'].isnull()),'state'] = 'WestBengal'"
   ]
  },
  {
   "cell_type": "code",
   "execution_count": 77,
   "metadata": {},
   "outputs": [],
   "source": [
    "Events_data_df.loc[(Events_data_df['city'] =='Channapatna') & (Events_data_df['state'].isnull()),'state'] = 'Karnataka'"
   ]
  },
  {
   "cell_type": "code",
   "execution_count": 78,
   "metadata": {},
   "outputs": [],
   "source": [
    "Events_data_df.loc[(Events_data_df['city'] =='Chennai') & (Events_data_df['state'].isnull()),'state'] = 'TamilNadu'"
   ]
  },
  {
   "cell_type": "code",
   "execution_count": 79,
   "metadata": {},
   "outputs": [],
   "source": [
    "Events_data_df.loc[(Events_data_df['city'] =='Delhi') & (Events_data_df['state'].isnull()),'state'] = 'Delhi'"
   ]
  },
  {
   "cell_type": "code",
   "execution_count": 80,
   "metadata": {},
   "outputs": [],
   "source": [
    "Events_data_df.loc[(Events_data_df['city'] =='Gangarampur') & (Events_data_df['state'].isnull()),'state'] = 'WestBengal'"
   ]
  },
  {
   "cell_type": "code",
   "execution_count": 81,
   "metadata": {},
   "outputs": [],
   "source": [
    "Events_data_df.loc[(Events_data_df['city'] =='Indore') & (Events_data_df['state'].isnull()),'state'] = 'MadhyaPradesh'"
   ]
  },
  {
   "cell_type": "code",
   "execution_count": 82,
   "metadata": {},
   "outputs": [],
   "source": [
    "Events_data_df.loc[(Events_data_df['city'] =='Jaipur') & (Events_data_df['state'].isnull()),'state'] = 'Rajasthan'"
   ]
  },
  {
   "cell_type": "code",
   "execution_count": 83,
   "metadata": {},
   "outputs": [],
   "source": [
    "Events_data_df.loc[(Events_data_df['city'] =='Pune') & (Events_data_df['state'].isnull()),'state'] = 'Maharashtra'"
   ]
  },
  {
   "cell_type": "code",
   "execution_count": 84,
   "metadata": {},
   "outputs": [],
   "source": [
    "Events_data_df.loc[(Events_data_df['city'] =='Visakhapatnam') & (Events_data_df['state'].isnull()),'state'] = 'AndhraPradesh'"
   ]
  },
  {
   "cell_type": "code",
   "execution_count": 85,
   "metadata": {},
   "outputs": [
    {
     "data": {
      "text/plain": [
       "event_id      0\n",
       "device_id    69\n",
       "timestamp     0\n",
       "longitude    63\n",
       "latitude     63\n",
       "city          0\n",
       "state         0\n",
       "dtype: int64"
      ]
     },
     "execution_count": 85,
     "metadata": {},
     "output_type": "execute_result"
    }
   ],
   "source": [
    "Events_data_df[Events_data_df['city']=='Visakhapatnam'].isnull().sum()"
   ]
  },
  {
   "cell_type": "code",
   "execution_count": 86,
   "metadata": {},
   "outputs": [
    {
     "data": {
      "text/plain": [
       "event_id       0\n",
       "device_id    453\n",
       "timestamp      0\n",
       "longitude    423\n",
       "latitude     423\n",
       "city           0\n",
       "state          0\n",
       "dtype: int64"
      ]
     },
     "execution_count": 86,
     "metadata": {},
     "output_type": "execute_result"
    }
   ],
   "source": [
    "Events_data_df.isnull().sum()\n"
   ]
  },
  {
   "cell_type": "markdown",
   "metadata": {},
   "source": [
    "#### Checking NULL values for Longitude"
   ]
  },
  {
   "cell_type": "code",
   "execution_count": 87,
   "metadata": {},
   "outputs": [
    {
     "data": {
      "text/plain": [
       "array(['Delhi', 'Indore', 'Visakhapatnam', 'Chennai', 'Pune', 'Jaipur',\n",
       "       'Araria', 'Moga', 'Bagaha'], dtype=object)"
      ]
     },
     "execution_count": 87,
     "metadata": {},
     "output_type": "execute_result"
    }
   ],
   "source": [
    "Events_data_df[Events_data_df['longitude'].isnull()]['city'].unique()"
   ]
  },
  {
   "cell_type": "code",
   "execution_count": 88,
   "metadata": {},
   "outputs": [],
   "source": [
    "#Events_data_df.loc[(Events_data_df['city']=='Delhi')].head()"
   ]
  },
  {
   "cell_type": "markdown",
   "metadata": {},
   "source": [
    "We can observe in the above result that longitude and latitude almost same for all records for Delhi. So, We can fill NULL values with median or mean values."
   ]
  },
  {
   "cell_type": "markdown",
   "metadata": {},
   "source": [
    "### Replacing NULL values of Longitude and Latitude with Mode for \"Delhi\" city"
   ]
  },
  {
   "cell_type": "markdown",
   "metadata": {},
   "source": [
    "#### Longitude Mode value for Delhi"
   ]
  },
  {
   "cell_type": "code",
   "execution_count": 89,
   "metadata": {},
   "outputs": [
    {
     "data": {
      "text/plain": [
       "0    77.293991\n",
       "dtype: float64"
      ]
     },
     "execution_count": 89,
     "metadata": {},
     "output_type": "execute_result"
    }
   ],
   "source": [
    "Delhi_long_mode=Events_data_df.loc[Events_data_df['city']=='Delhi']['longitude'].mode()\n",
    "Delhi_long_mode"
   ]
  },
  {
   "cell_type": "markdown",
   "metadata": {},
   "source": [
    "#### Latitude Mode value for Delhi"
   ]
  },
  {
   "cell_type": "code",
   "execution_count": 90,
   "metadata": {},
   "outputs": [
    {
     "data": {
      "text/plain": [
       "0    28.74982\n",
       "dtype: float64"
      ]
     },
     "execution_count": 90,
     "metadata": {},
     "output_type": "execute_result"
    }
   ],
   "source": [
    "Delhi_lat_mode=Events_data_df.loc[Events_data_df['city']=='Delhi']['latitude'].mode()\n",
    "Delhi_lat_mode"
   ]
  },
  {
   "cell_type": "code",
   "execution_count": 91,
   "metadata": {},
   "outputs": [
    {
     "data": {
      "text/plain": [
       "event_id      0\n",
       "device_id     0\n",
       "timestamp     0\n",
       "longitude    63\n",
       "latitude     63\n",
       "city          0\n",
       "state         0\n",
       "dtype: int64"
      ]
     },
     "execution_count": 91,
     "metadata": {},
     "output_type": "execute_result"
    }
   ],
   "source": [
    "Events_data_df.loc[(Events_data_df['city']=='Delhi') & (Events_data_df['longitude'].isnull())].isnull().sum()"
   ]
  },
  {
   "cell_type": "markdown",
   "metadata": {},
   "source": [
    "We do have 63 NULL values for longitude as well latitude"
   ]
  },
  {
   "cell_type": "code",
   "execution_count": 92,
   "metadata": {},
   "outputs": [],
   "source": [
    "Events_data_df.loc[(Events_data_df['city']=='Delhi') & (Events_data_df['longitude'].isnull()),'longitude'] = '77.293991'\n",
    "Events_data_df.loc[(Events_data_df['city']=='Delhi') & (Events_data_df['latitude'].isnull()),'latitude'] = '28.74982'"
   ]
  },
  {
   "cell_type": "code",
   "execution_count": 93,
   "metadata": {},
   "outputs": [
    {
     "data": {
      "text/plain": [
       "event_id     0\n",
       "device_id    0\n",
       "timestamp    0\n",
       "longitude    0\n",
       "latitude     0\n",
       "city         0\n",
       "state        0\n",
       "dtype: int64"
      ]
     },
     "execution_count": 93,
     "metadata": {},
     "output_type": "execute_result"
    }
   ],
   "source": [
    "Events_data_df.loc[(Events_data_df['city']=='Delhi') & (Events_data_df['latitude'].isnull())].isnull().sum()"
   ]
  },
  {
   "cell_type": "markdown",
   "metadata": {},
   "source": [
    "### Replacing NULL values of Longitude and Latitude with Mode for \"Indore\" city"
   ]
  },
  {
   "cell_type": "markdown",
   "metadata": {},
   "source": [
    "#### Longitude Mode value for Indore"
   ]
  },
  {
   "cell_type": "code",
   "execution_count": 94,
   "metadata": {},
   "outputs": [
    {
     "data": {
      "text/plain": [
       "0    75.8955\n",
       "dtype: object"
      ]
     },
     "execution_count": 94,
     "metadata": {},
     "output_type": "execute_result"
    }
   ],
   "source": [
    "Indore_long_mode = Events_data_df.loc[Events_data_df['city']=='Indore']['longitude'].mode()\n",
    "Indore_long_mode"
   ]
  },
  {
   "cell_type": "markdown",
   "metadata": {},
   "source": [
    "#### Latitude Mode value for Indore"
   ]
  },
  {
   "cell_type": "code",
   "execution_count": 95,
   "metadata": {},
   "outputs": [
    {
     "data": {
      "text/plain": [
       "0    22.8098\n",
       "dtype: object"
      ]
     },
     "execution_count": 95,
     "metadata": {},
     "output_type": "execute_result"
    }
   ],
   "source": [
    "Indore_lat_mode = Events_data_df.loc[Events_data_df['city']=='Indore']['latitude'].mode()\n",
    "Indore_lat_mode"
   ]
  },
  {
   "cell_type": "code",
   "execution_count": 96,
   "metadata": {},
   "outputs": [
    {
     "data": {
      "text/plain": [
       "event_id      0\n",
       "device_id     0\n",
       "timestamp     0\n",
       "longitude    63\n",
       "latitude     63\n",
       "city          0\n",
       "state         0\n",
       "dtype: int64"
      ]
     },
     "execution_count": 96,
     "metadata": {},
     "output_type": "execute_result"
    }
   ],
   "source": [
    "Events_data_df.loc[(Events_data_df['city']=='Indore') & (Events_data_df['latitude'].isnull())].isnull().sum()"
   ]
  },
  {
   "cell_type": "code",
   "execution_count": 97,
   "metadata": {},
   "outputs": [],
   "source": [
    "Events_data_df.loc[(Events_data_df['city']=='Indore') & (Events_data_df['longitude'].isnull()),'longitude'] = '75.8955'\n",
    "Events_data_df.loc[(Events_data_df['city']=='Indore') & (Events_data_df['latitude'].isnull()),'latitude'] = '22.8098'"
   ]
  },
  {
   "cell_type": "code",
   "execution_count": 98,
   "metadata": {},
   "outputs": [
    {
     "data": {
      "text/plain": [
       "event_id     0\n",
       "device_id    0\n",
       "timestamp    0\n",
       "longitude    0\n",
       "latitude     0\n",
       "city         0\n",
       "state        0\n",
       "dtype: int64"
      ]
     },
     "execution_count": 98,
     "metadata": {},
     "output_type": "execute_result"
    }
   ],
   "source": [
    "Events_data_df.loc[(Events_data_df['city']=='Indore') & (Events_data_df['latitude'].isnull())].isnull().sum()"
   ]
  },
  {
   "cell_type": "markdown",
   "metadata": {},
   "source": [
    "### Replacing NULL values of Longitude and Latitude with Mode for \"Visakhapatnam\" city"
   ]
  },
  {
   "cell_type": "markdown",
   "metadata": {},
   "source": [
    "#### Longitude Mode value for Visakhapatnam"
   ]
  },
  {
   "cell_type": "code",
   "execution_count": 99,
   "metadata": {},
   "outputs": [
    {
     "data": {
      "text/plain": [
       "0    83.3267\n",
       "dtype: object"
      ]
     },
     "execution_count": 99,
     "metadata": {},
     "output_type": "execute_result"
    }
   ],
   "source": [
    "Visakha_long_mode=Events_data_df.loc[Events_data_df['city']=='Visakhapatnam']['longitude'].mode()\n",
    "Visakha_long_mode"
   ]
  },
  {
   "cell_type": "markdown",
   "metadata": {},
   "source": [
    "#### Latitude Mode value for Visakhapatnam"
   ]
  },
  {
   "cell_type": "code",
   "execution_count": 100,
   "metadata": {},
   "outputs": [
    {
     "data": {
      "text/plain": [
       "0    17.8297\n",
       "dtype: object"
      ]
     },
     "execution_count": 100,
     "metadata": {},
     "output_type": "execute_result"
    }
   ],
   "source": [
    "Visakha_lat_mode=Events_data_df.loc[Events_data_df['city']=='Visakhapatnam']['latitude'].mode()\n",
    "Visakha_lat_mode"
   ]
  },
  {
   "cell_type": "code",
   "execution_count": 101,
   "metadata": {},
   "outputs": [
    {
     "data": {
      "text/plain": [
       "event_id      0\n",
       "device_id     0\n",
       "timestamp     0\n",
       "longitude    63\n",
       "latitude     63\n",
       "city          0\n",
       "state         0\n",
       "dtype: int64"
      ]
     },
     "execution_count": 101,
     "metadata": {},
     "output_type": "execute_result"
    }
   ],
   "source": [
    "Events_data_df.loc[(Events_data_df['city']=='Visakhapatnam') & (Events_data_df['latitude'].isnull())].isnull().sum()"
   ]
  },
  {
   "cell_type": "code",
   "execution_count": 102,
   "metadata": {},
   "outputs": [],
   "source": [
    "Events_data_df.loc[(Events_data_df['city']=='Visakhapatnam') & (Events_data_df['longitude'].isnull()),'longitude'] = '83.3267'\n",
    "Events_data_df.loc[(Events_data_df['city']=='Visakhapatnam') & (Events_data_df['latitude'].isnull()),'latitude'] = '17.8297'"
   ]
  },
  {
   "cell_type": "code",
   "execution_count": 103,
   "metadata": {},
   "outputs": [
    {
     "data": {
      "text/plain": [
       "event_id     0\n",
       "device_id    0\n",
       "timestamp    0\n",
       "longitude    0\n",
       "latitude     0\n",
       "city         0\n",
       "state        0\n",
       "dtype: int64"
      ]
     },
     "execution_count": 103,
     "metadata": {},
     "output_type": "execute_result"
    }
   ],
   "source": [
    "Events_data_df.loc[(Events_data_df['city']=='Visakhapatnam') & (Events_data_df['latitude'].isnull())].isnull().sum()"
   ]
  },
  {
   "cell_type": "markdown",
   "metadata": {},
   "source": [
    "### Replacing NULL values of Longitude and Latitude with Mode for \"Chennai\" city"
   ]
  },
  {
   "cell_type": "markdown",
   "metadata": {},
   "source": [
    "#### Longitude Mode value for Chennai"
   ]
  },
  {
   "cell_type": "code",
   "execution_count": 104,
   "metadata": {},
   "outputs": [
    {
     "data": {
      "text/plain": [
       "0    80.3598\n",
       "dtype: object"
      ]
     },
     "execution_count": 104,
     "metadata": {},
     "output_type": "execute_result"
    }
   ],
   "source": [
    "Chennai_long_mode=Events_data_df.loc[Events_data_df['city']=='Chennai']['longitude'].mode()\n",
    "Chennai_long_mode"
   ]
  },
  {
   "cell_type": "markdown",
   "metadata": {},
   "source": [
    "#### Latitude Mode value for Chennai"
   ]
  },
  {
   "cell_type": "code",
   "execution_count": 105,
   "metadata": {},
   "outputs": [
    {
     "data": {
      "text/plain": [
       "0    13.1282\n",
       "dtype: object"
      ]
     },
     "execution_count": 105,
     "metadata": {},
     "output_type": "execute_result"
    }
   ],
   "source": [
    "Chennai_lat_mode=Events_data_df.loc[Events_data_df['city']=='Chennai']['latitude'].mode()\n",
    "Chennai_lat_mode"
   ]
  },
  {
   "cell_type": "code",
   "execution_count": 106,
   "metadata": {},
   "outputs": [
    {
     "data": {
      "text/plain": [
       "event_id      0\n",
       "device_id     0\n",
       "timestamp     0\n",
       "longitude    63\n",
       "latitude     63\n",
       "city          0\n",
       "state         0\n",
       "dtype: int64"
      ]
     },
     "execution_count": 106,
     "metadata": {},
     "output_type": "execute_result"
    }
   ],
   "source": [
    "Events_data_df.loc[(Events_data_df['city']=='Chennai') & (Events_data_df['longitude'].isnull())].isnull().sum()"
   ]
  },
  {
   "cell_type": "code",
   "execution_count": 107,
   "metadata": {},
   "outputs": [],
   "source": [
    "Events_data_df.loc[(Events_data_df['city']=='Chennai') & (Events_data_df['longitude'].isnull()),'longitude'] = '80.3598'\n",
    "Events_data_df.loc[(Events_data_df['city']=='Chennai') & (Events_data_df['latitude'].isnull()),'latitude'] = '13.1282'"
   ]
  },
  {
   "cell_type": "code",
   "execution_count": 108,
   "metadata": {},
   "outputs": [
    {
     "data": {
      "text/plain": [
       "event_id     0\n",
       "device_id    0\n",
       "timestamp    0\n",
       "longitude    0\n",
       "latitude     0\n",
       "city         0\n",
       "state        0\n",
       "dtype: int64"
      ]
     },
     "execution_count": 108,
     "metadata": {},
     "output_type": "execute_result"
    }
   ],
   "source": [
    "Events_data_df.loc[(Events_data_df['city']=='Chennai') & (Events_data_df['longitude'].isnull())].isnull().sum()"
   ]
  },
  {
   "cell_type": "markdown",
   "metadata": {},
   "source": [
    "### Replacing NULL values of Longitude and Latitude with Mode for \"Pune\" city"
   ]
  },
  {
   "cell_type": "markdown",
   "metadata": {},
   "source": [
    "#### Longitude Mode value for Pune"
   ]
  },
  {
   "cell_type": "code",
   "execution_count": 109,
   "metadata": {},
   "outputs": [
    {
     "data": {
      "text/plain": [
       "0    73.9263\n",
       "dtype: object"
      ]
     },
     "execution_count": 109,
     "metadata": {},
     "output_type": "execute_result"
    }
   ],
   "source": [
    "Pune_long_mode=Events_data_df.loc[Events_data_df['city']=='Pune']['longitude'].mode()\n",
    "Pune_long_mode"
   ]
  },
  {
   "cell_type": "markdown",
   "metadata": {},
   "source": [
    "#### Latitude Mode value for Pune"
   ]
  },
  {
   "cell_type": "code",
   "execution_count": 110,
   "metadata": {},
   "outputs": [
    {
     "data": {
      "text/plain": [
       "0    18.6161\n",
       "dtype: object"
      ]
     },
     "execution_count": 110,
     "metadata": {},
     "output_type": "execute_result"
    }
   ],
   "source": [
    "Pune_lat_mode=Events_data_df.loc[Events_data_df['city']=='Pune']['latitude'].mode()\n",
    "Pune_lat_mode"
   ]
  },
  {
   "cell_type": "code",
   "execution_count": 111,
   "metadata": {},
   "outputs": [
    {
     "data": {
      "text/plain": [
       "event_id      0\n",
       "device_id     0\n",
       "timestamp     0\n",
       "longitude    63\n",
       "latitude     63\n",
       "city          0\n",
       "state         0\n",
       "dtype: int64"
      ]
     },
     "execution_count": 111,
     "metadata": {},
     "output_type": "execute_result"
    }
   ],
   "source": [
    "Events_data_df.loc[(Events_data_df['city']=='Pune') & (Events_data_df['longitude'].isnull())].isnull().sum()"
   ]
  },
  {
   "cell_type": "code",
   "execution_count": 112,
   "metadata": {},
   "outputs": [],
   "source": [
    "Events_data_df.loc[(Events_data_df['city']=='Pune') & (Events_data_df['longitude'].isnull()),'longitude'] = '73.9263'\n",
    "Events_data_df.loc[(Events_data_df['city']=='Pune') & (Events_data_df['latitude'].isnull()),'latitude'] = '18.6161'"
   ]
  },
  {
   "cell_type": "code",
   "execution_count": 113,
   "metadata": {},
   "outputs": [
    {
     "data": {
      "text/plain": [
       "event_id     0\n",
       "device_id    0\n",
       "timestamp    0\n",
       "longitude    0\n",
       "latitude     0\n",
       "city         0\n",
       "state        0\n",
       "dtype: int64"
      ]
     },
     "execution_count": 113,
     "metadata": {},
     "output_type": "execute_result"
    }
   ],
   "source": [
    "Events_data_df.loc[(Events_data_df['city']=='Pune') & (Events_data_df['longitude'].isnull())].isnull().sum()"
   ]
  },
  {
   "cell_type": "code",
   "execution_count": 114,
   "metadata": {},
   "outputs": [
    {
     "data": {
      "text/plain": [
       "event_id       0\n",
       "device_id    453\n",
       "timestamp      0\n",
       "longitude    108\n",
       "latitude     108\n",
       "city           0\n",
       "state          0\n",
       "dtype: int64"
      ]
     },
     "execution_count": 114,
     "metadata": {},
     "output_type": "execute_result"
    }
   ],
   "source": [
    "Events_data_df.isnull().sum()"
   ]
  },
  {
   "cell_type": "markdown",
   "metadata": {},
   "source": [
    "### Replacing NULL values of Longitude and Latitude with Mode for \"Jaipur\" city"
   ]
  },
  {
   "cell_type": "markdown",
   "metadata": {},
   "source": [
    "#### Longitude Mode value for Jaipur"
   ]
  },
  {
   "cell_type": "code",
   "execution_count": 115,
   "metadata": {},
   "outputs": [
    {
     "data": {
      "text/plain": [
       "0    75.8941\n",
       "dtype: object"
      ]
     },
     "execution_count": 115,
     "metadata": {},
     "output_type": "execute_result"
    }
   ],
   "source": [
    "Jaipur_long_mode=Events_data_df.loc[Events_data_df['city']=='Jaipur']['longitude'].mode()\n",
    "Jaipur_long_mode"
   ]
  },
  {
   "cell_type": "markdown",
   "metadata": {},
   "source": [
    "#### Latitude Mode value for Jaipur"
   ]
  },
  {
   "cell_type": "code",
   "execution_count": 116,
   "metadata": {},
   "outputs": [
    {
     "data": {
      "text/plain": [
       "0    26.9497\n",
       "dtype: object"
      ]
     },
     "execution_count": 116,
     "metadata": {},
     "output_type": "execute_result"
    }
   ],
   "source": [
    "Jaipur_lat_mode=Events_data_df.loc[Events_data_df['city']=='Jaipur']['latitude'].mode()\n",
    "Jaipur_lat_mode"
   ]
  },
  {
   "cell_type": "code",
   "execution_count": 117,
   "metadata": {},
   "outputs": [
    {
     "data": {
      "text/plain": [
       "event_id      0\n",
       "device_id     0\n",
       "timestamp     0\n",
       "longitude    66\n",
       "latitude     66\n",
       "city          0\n",
       "state         0\n",
       "dtype: int64"
      ]
     },
     "execution_count": 117,
     "metadata": {},
     "output_type": "execute_result"
    }
   ],
   "source": [
    "Events_data_df.loc[(Events_data_df['city']=='Jaipur') & (Events_data_df['longitude'].isnull())].isnull().sum()"
   ]
  },
  {
   "cell_type": "code",
   "execution_count": 118,
   "metadata": {},
   "outputs": [],
   "source": [
    "Events_data_df.loc[(Events_data_df['city']=='Jaipur') & (Events_data_df['longitude'].isnull()),'longitude'] = '75.8941'\n",
    "Events_data_df.loc[(Events_data_df['city']=='Jaipur') & (Events_data_df['latitude'].isnull()),'latitude'] = '26.9497'"
   ]
  },
  {
   "cell_type": "code",
   "execution_count": 119,
   "metadata": {},
   "outputs": [
    {
     "data": {
      "text/plain": [
       "event_id     0\n",
       "device_id    0\n",
       "timestamp    0\n",
       "longitude    0\n",
       "latitude     0\n",
       "city         0\n",
       "state        0\n",
       "dtype: int64"
      ]
     },
     "execution_count": 119,
     "metadata": {},
     "output_type": "execute_result"
    }
   ],
   "source": [
    "Events_data_df.loc[(Events_data_df['city']=='Jaipur') & (Events_data_df['longitude'].isnull())].isnull().sum()"
   ]
  },
  {
   "cell_type": "markdown",
   "metadata": {},
   "source": [
    "### Replacing NULL values of Longitude and Latitude with Mode for \"Araria\" city"
   ]
  },
  {
   "cell_type": "markdown",
   "metadata": {},
   "source": [
    "#### Longitude Mode value for Araria "
   ]
  },
  {
   "cell_type": "code",
   "execution_count": 120,
   "metadata": {},
   "outputs": [
    {
     "data": {
      "text/plain": [
       "0    87.5707\n",
       "dtype: object"
      ]
     },
     "execution_count": 120,
     "metadata": {},
     "output_type": "execute_result"
    }
   ],
   "source": [
    "Araria_long_mode=Events_data_df.loc[Events_data_df['city']=='Araria']['longitude'].mode()\n",
    "Araria_long_mode"
   ]
  },
  {
   "cell_type": "markdown",
   "metadata": {},
   "source": [
    "#### Latitude Mode value for Araria"
   ]
  },
  {
   "cell_type": "code",
   "execution_count": 121,
   "metadata": {},
   "outputs": [
    {
     "data": {
      "text/plain": [
       "0    26.2119\n",
       "dtype: object"
      ]
     },
     "execution_count": 121,
     "metadata": {},
     "output_type": "execute_result"
    }
   ],
   "source": [
    "Araria_lat_mode=Events_data_df.loc[Events_data_df['city']=='Araria']['latitude'].mode()\n",
    "Araria_lat_mode"
   ]
  },
  {
   "cell_type": "code",
   "execution_count": 122,
   "metadata": {},
   "outputs": [
    {
     "data": {
      "text/plain": [
       "event_id      0\n",
       "device_id     0\n",
       "timestamp     0\n",
       "longitude    14\n",
       "latitude     14\n",
       "city          0\n",
       "state         0\n",
       "dtype: int64"
      ]
     },
     "execution_count": 122,
     "metadata": {},
     "output_type": "execute_result"
    }
   ],
   "source": [
    "Events_data_df.loc[(Events_data_df['city']=='Araria') & (Events_data_df['longitude'].isnull())].isnull().sum()"
   ]
  },
  {
   "cell_type": "code",
   "execution_count": 123,
   "metadata": {},
   "outputs": [],
   "source": [
    "Events_data_df.loc[(Events_data_df['city']=='Araria') & (Events_data_df['longitude'].isnull()),'longitude'] = '87.5707'\n",
    "Events_data_df.loc[(Events_data_df['city']=='Araria') & (Events_data_df['latitude'].isnull()),'latitude'] = '26.2119'"
   ]
  },
  {
   "cell_type": "code",
   "execution_count": 124,
   "metadata": {},
   "outputs": [
    {
     "data": {
      "text/plain": [
       "event_id     0\n",
       "device_id    0\n",
       "timestamp    0\n",
       "longitude    0\n",
       "latitude     0\n",
       "city         0\n",
       "state        0\n",
       "dtype: int64"
      ]
     },
     "execution_count": 124,
     "metadata": {},
     "output_type": "execute_result"
    }
   ],
   "source": [
    "Events_data_df.loc[(Events_data_df['city']=='Araria') & (Events_data_df['longitude'].isnull())].isnull().sum()"
   ]
  },
  {
   "cell_type": "markdown",
   "metadata": {},
   "source": [
    "### Replacing NULL values of Longitude and Latitude with Mode for \"Moga\" city"
   ]
  },
  {
   "cell_type": "markdown",
   "metadata": {},
   "source": [
    "#### Longitude Mode value for Moga "
   ]
  },
  {
   "cell_type": "code",
   "execution_count": 125,
   "metadata": {},
   "outputs": [
    {
     "data": {
      "text/plain": [
       "0    75.2687\n",
       "dtype: object"
      ]
     },
     "execution_count": 125,
     "metadata": {},
     "output_type": "execute_result"
    }
   ],
   "source": [
    "Moga_long_mode=Events_data_df.loc[Events_data_df['city']=='Moga']['longitude'].mode()\n",
    "Moga_long_mode"
   ]
  },
  {
   "cell_type": "markdown",
   "metadata": {},
   "source": [
    "#### Latitude Mode value for Moga "
   ]
  },
  {
   "cell_type": "code",
   "execution_count": 126,
   "metadata": {},
   "outputs": [
    {
     "data": {
      "text/plain": [
       "0    30.9042\n",
       "dtype: object"
      ]
     },
     "execution_count": 126,
     "metadata": {},
     "output_type": "execute_result"
    }
   ],
   "source": [
    "Moga_lat_mode=Events_data_df.loc[Events_data_df['city']=='Moga']['latitude'].mode()\n",
    "Moga_lat_mode"
   ]
  },
  {
   "cell_type": "code",
   "execution_count": 127,
   "metadata": {},
   "outputs": [
    {
     "data": {
      "text/plain": [
       "event_id      0\n",
       "device_id     0\n",
       "timestamp     0\n",
       "longitude    14\n",
       "latitude     14\n",
       "city          0\n",
       "state         0\n",
       "dtype: int64"
      ]
     },
     "execution_count": 127,
     "metadata": {},
     "output_type": "execute_result"
    }
   ],
   "source": [
    "Events_data_df.loc[(Events_data_df['city']=='Moga') & (Events_data_df['longitude'].isnull())].isnull().sum()"
   ]
  },
  {
   "cell_type": "code",
   "execution_count": 128,
   "metadata": {},
   "outputs": [],
   "source": [
    "Events_data_df.loc[(Events_data_df['city']=='Moga') & (Events_data_df['longitude'].isnull()),'longitude'] = '75.2687'\n",
    "Events_data_df.loc[(Events_data_df['city']=='Moga') & (Events_data_df['latitude'].isnull()),'latitude'] = '30.9042'"
   ]
  },
  {
   "cell_type": "code",
   "execution_count": 129,
   "metadata": {},
   "outputs": [
    {
     "data": {
      "text/plain": [
       "event_id     0\n",
       "device_id    0\n",
       "timestamp    0\n",
       "longitude    0\n",
       "latitude     0\n",
       "city         0\n",
       "state        0\n",
       "dtype: int64"
      ]
     },
     "execution_count": 129,
     "metadata": {},
     "output_type": "execute_result"
    }
   ],
   "source": [
    "Events_data_df.loc[(Events_data_df['city']=='Moga') & (Events_data_df['longitude'].isnull())].isnull().sum()"
   ]
  },
  {
   "cell_type": "markdown",
   "metadata": {},
   "source": [
    "### Replacing NULL values of Longitude and Latitude with Mode for \"Bagaha\" city"
   ]
  },
  {
   "cell_type": "markdown",
   "metadata": {},
   "source": [
    "#### Longitude Mode value for Bagaha "
   ]
  },
  {
   "cell_type": "code",
   "execution_count": 130,
   "metadata": {},
   "outputs": [
    {
     "data": {
      "text/plain": [
       "0    84.1409\n",
       "dtype: object"
      ]
     },
     "execution_count": 130,
     "metadata": {},
     "output_type": "execute_result"
    }
   ],
   "source": [
    "Bagaha_long_mode=Events_data_df.loc[Events_data_df['city']=='Bagaha']['longitude'].mode()\n",
    "Bagaha_long_mode"
   ]
  },
  {
   "cell_type": "markdown",
   "metadata": {},
   "source": [
    "#### Latitude Mode value for Bagaha "
   ]
  },
  {
   "cell_type": "code",
   "execution_count": 131,
   "metadata": {},
   "outputs": [
    {
     "data": {
      "text/plain": [
       "0    27.1774\n",
       "dtype: object"
      ]
     },
     "execution_count": 131,
     "metadata": {},
     "output_type": "execute_result"
    }
   ],
   "source": [
    "Bagaha_lat_mode=Events_data_df.loc[Events_data_df['city']=='Bagaha']['latitude'].mode()\n",
    "Bagaha_lat_mode"
   ]
  },
  {
   "cell_type": "code",
   "execution_count": 132,
   "metadata": {},
   "outputs": [
    {
     "data": {
      "text/plain": [
       "event_id      0\n",
       "device_id     0\n",
       "timestamp     0\n",
       "longitude    14\n",
       "latitude     14\n",
       "city          0\n",
       "state         0\n",
       "dtype: int64"
      ]
     },
     "execution_count": 132,
     "metadata": {},
     "output_type": "execute_result"
    }
   ],
   "source": [
    "Events_data_df.loc[(Events_data_df['city']=='Bagaha') & (Events_data_df['longitude'].isnull())].isnull().sum()"
   ]
  },
  {
   "cell_type": "code",
   "execution_count": 133,
   "metadata": {},
   "outputs": [],
   "source": [
    "Events_data_df.loc[(Events_data_df['city']=='Bagaha') & (Events_data_df['longitude'].isnull()),'longitude'] = '84.1409'\n",
    "Events_data_df.loc[(Events_data_df['city']=='Bagaha') & (Events_data_df['latitude'].isnull()),'latitude'] = '27.1774'"
   ]
  },
  {
   "cell_type": "code",
   "execution_count": 134,
   "metadata": {},
   "outputs": [
    {
     "data": {
      "text/plain": [
       "event_id     0\n",
       "device_id    0\n",
       "timestamp    0\n",
       "longitude    0\n",
       "latitude     0\n",
       "city         0\n",
       "state        0\n",
       "dtype: int64"
      ]
     },
     "execution_count": 134,
     "metadata": {},
     "output_type": "execute_result"
    }
   ],
   "source": [
    "Events_data_df.loc[(Events_data_df['city']=='Bagaha') & (Events_data_df['longitude'].isnull())].isnull().sum()"
   ]
  },
  {
   "cell_type": "code",
   "execution_count": 135,
   "metadata": {},
   "outputs": [
    {
     "data": {
      "text/html": [
       "<div>\n",
       "<style scoped>\n",
       "    .dataframe tbody tr th:only-of-type {\n",
       "        vertical-align: middle;\n",
       "    }\n",
       "\n",
       "    .dataframe tbody tr th {\n",
       "        vertical-align: top;\n",
       "    }\n",
       "\n",
       "    .dataframe thead th {\n",
       "        text-align: right;\n",
       "    }\n",
       "</style>\n",
       "<table border=\"1\" class=\"dataframe\">\n",
       "  <thead>\n",
       "    <tr style=\"text-align: right;\">\n",
       "      <th></th>\n",
       "      <th>Total</th>\n",
       "      <th>Percent</th>\n",
       "    </tr>\n",
       "  </thead>\n",
       "  <tbody>\n",
       "    <tr>\n",
       "      <th>device_id</th>\n",
       "      <td>453</td>\n",
       "      <td>0.013926</td>\n",
       "    </tr>\n",
       "    <tr>\n",
       "      <th>state</th>\n",
       "      <td>0</td>\n",
       "      <td>0.000000</td>\n",
       "    </tr>\n",
       "    <tr>\n",
       "      <th>city</th>\n",
       "      <td>0</td>\n",
       "      <td>0.000000</td>\n",
       "    </tr>\n",
       "    <tr>\n",
       "      <th>latitude</th>\n",
       "      <td>0</td>\n",
       "      <td>0.000000</td>\n",
       "    </tr>\n",
       "    <tr>\n",
       "      <th>longitude</th>\n",
       "      <td>0</td>\n",
       "      <td>0.000000</td>\n",
       "    </tr>\n",
       "    <tr>\n",
       "      <th>timestamp</th>\n",
       "      <td>0</td>\n",
       "      <td>0.000000</td>\n",
       "    </tr>\n",
       "    <tr>\n",
       "      <th>event_id</th>\n",
       "      <td>0</td>\n",
       "      <td>0.000000</td>\n",
       "    </tr>\n",
       "  </tbody>\n",
       "</table>\n",
       "</div>"
      ],
      "text/plain": [
       "           Total   Percent\n",
       "device_id    453  0.013926\n",
       "state          0  0.000000\n",
       "city           0  0.000000\n",
       "latitude       0  0.000000\n",
       "longitude      0  0.000000\n",
       "timestamp      0  0.000000\n",
       "event_id       0  0.000000"
      ]
     },
     "execution_count": 135,
     "metadata": {},
     "output_type": "execute_result"
    }
   ],
   "source": [
    "missing_data(Events_data_df)"
   ]
  },
  {
   "cell_type": "markdown",
   "metadata": {},
   "source": [
    "### Replace NULL values for \"Device_id\""
   ]
  },
  {
   "cell_type": "code",
   "execution_count": 136,
   "metadata": {},
   "outputs": [
    {
     "data": {
      "text/html": [
       "<div>\n",
       "<style scoped>\n",
       "    .dataframe tbody tr th:only-of-type {\n",
       "        vertical-align: middle;\n",
       "    }\n",
       "\n",
       "    .dataframe tbody tr th {\n",
       "        vertical-align: top;\n",
       "    }\n",
       "\n",
       "    .dataframe thead th {\n",
       "        text-align: right;\n",
       "    }\n",
       "</style>\n",
       "<table border=\"1\" class=\"dataframe\">\n",
       "  <thead>\n",
       "    <tr style=\"text-align: right;\">\n",
       "      <th></th>\n",
       "      <th>event_id</th>\n",
       "      <th>device_id</th>\n",
       "      <th>timestamp</th>\n",
       "      <th>longitude</th>\n",
       "      <th>latitude</th>\n",
       "      <th>city</th>\n",
       "      <th>state</th>\n",
       "    </tr>\n",
       "    <tr>\n",
       "      <th>city</th>\n",
       "      <th></th>\n",
       "      <th></th>\n",
       "      <th></th>\n",
       "      <th></th>\n",
       "      <th></th>\n",
       "      <th></th>\n",
       "      <th></th>\n",
       "    </tr>\n",
       "  </thead>\n",
       "  <tbody>\n",
       "    <tr>\n",
       "      <th>Bardoli</th>\n",
       "      <td>16</td>\n",
       "      <td>0</td>\n",
       "      <td>16</td>\n",
       "      <td>16</td>\n",
       "      <td>16</td>\n",
       "      <td>16</td>\n",
       "      <td>16</td>\n",
       "    </tr>\n",
       "    <tr>\n",
       "      <th>Chennai</th>\n",
       "      <td>63</td>\n",
       "      <td>0</td>\n",
       "      <td>63</td>\n",
       "      <td>63</td>\n",
       "      <td>63</td>\n",
       "      <td>63</td>\n",
       "      <td>63</td>\n",
       "    </tr>\n",
       "    <tr>\n",
       "      <th>Delhi</th>\n",
       "      <td>69</td>\n",
       "      <td>0</td>\n",
       "      <td>69</td>\n",
       "      <td>69</td>\n",
       "      <td>69</td>\n",
       "      <td>69</td>\n",
       "      <td>69</td>\n",
       "    </tr>\n",
       "    <tr>\n",
       "      <th>Hoshiarpur</th>\n",
       "      <td>16</td>\n",
       "      <td>0</td>\n",
       "      <td>16</td>\n",
       "      <td>16</td>\n",
       "      <td>16</td>\n",
       "      <td>16</td>\n",
       "      <td>16</td>\n",
       "    </tr>\n",
       "    <tr>\n",
       "      <th>Indore</th>\n",
       "      <td>51</td>\n",
       "      <td>0</td>\n",
       "      <td>51</td>\n",
       "      <td>51</td>\n",
       "      <td>51</td>\n",
       "      <td>51</td>\n",
       "      <td>51</td>\n",
       "    </tr>\n",
       "    <tr>\n",
       "      <th>Jaipur</th>\n",
       "      <td>81</td>\n",
       "      <td>0</td>\n",
       "      <td>81</td>\n",
       "      <td>81</td>\n",
       "      <td>81</td>\n",
       "      <td>81</td>\n",
       "      <td>81</td>\n",
       "    </tr>\n",
       "    <tr>\n",
       "      <th>Jetpur</th>\n",
       "      <td>16</td>\n",
       "      <td>0</td>\n",
       "      <td>16</td>\n",
       "      <td>16</td>\n",
       "      <td>16</td>\n",
       "      <td>16</td>\n",
       "      <td>16</td>\n",
       "    </tr>\n",
       "    <tr>\n",
       "      <th>Pune</th>\n",
       "      <td>72</td>\n",
       "      <td>0</td>\n",
       "      <td>72</td>\n",
       "      <td>72</td>\n",
       "      <td>72</td>\n",
       "      <td>72</td>\n",
       "      <td>72</td>\n",
       "    </tr>\n",
       "    <tr>\n",
       "      <th>Visakhapatnam</th>\n",
       "      <td>69</td>\n",
       "      <td>0</td>\n",
       "      <td>69</td>\n",
       "      <td>69</td>\n",
       "      <td>69</td>\n",
       "      <td>69</td>\n",
       "      <td>69</td>\n",
       "    </tr>\n",
       "  </tbody>\n",
       "</table>\n",
       "</div>"
      ],
      "text/plain": [
       "               event_id  device_id  timestamp  longitude  latitude  city  \\\n",
       "city                                                                       \n",
       "Bardoli              16          0         16         16        16    16   \n",
       "Chennai              63          0         63         63        63    63   \n",
       "Delhi                69          0         69         69        69    69   \n",
       "Hoshiarpur           16          0         16         16        16    16   \n",
       "Indore               51          0         51         51        51    51   \n",
       "Jaipur               81          0         81         81        81    81   \n",
       "Jetpur               16          0         16         16        16    16   \n",
       "Pune                 72          0         72         72        72    72   \n",
       "Visakhapatnam        69          0         69         69        69    69   \n",
       "\n",
       "               state  \n",
       "city                  \n",
       "Bardoli           16  \n",
       "Chennai           63  \n",
       "Delhi             69  \n",
       "Hoshiarpur        16  \n",
       "Indore            51  \n",
       "Jaipur            81  \n",
       "Jetpur            16  \n",
       "Pune              72  \n",
       "Visakhapatnam     69  "
      ]
     },
     "execution_count": 136,
     "metadata": {},
     "output_type": "execute_result"
    }
   ],
   "source": [
    "Events_data_df[Events_data_df['device_id'].isnull()].groupby(Events_data_df['city']).count()"
   ]
  },
  {
   "cell_type": "code",
   "execution_count": 137,
   "metadata": {},
   "outputs": [],
   "source": [
    "#Events_data_df.loc[(Events_data_df['city'] == 'Bardoli') & (Events_data_df['device_id'].isnull())]"
   ]
  },
  {
   "cell_type": "code",
   "execution_count": 138,
   "metadata": {},
   "outputs": [],
   "source": [
    "#Events_data_df.loc[Events_data_df['city'] == 'Bardoli'].groupby(Events_data_df['device_id']).count()"
   ]
  },
  {
   "cell_type": "code",
   "execution_count": 139,
   "metadata": {},
   "outputs": [
    {
     "data": {
      "text/plain": [
       "0   -8.215771e+18\n",
       "dtype: float64"
      ]
     },
     "execution_count": 139,
     "metadata": {},
     "output_type": "execute_result"
    }
   ],
   "source": [
    "Events_data_df.loc[Events_data_df['city'] == 'Bardoli']['device_id'].mode()"
   ]
  },
  {
   "cell_type": "code",
   "execution_count": 140,
   "metadata": {},
   "outputs": [
    {
     "data": {
      "text/plain": [
       "0    5.536513e+18\n",
       "dtype: float64"
      ]
     },
     "execution_count": 140,
     "metadata": {},
     "output_type": "execute_result"
    }
   ],
   "source": [
    "Events_data_df.loc[Events_data_df['city'] == 'Chennai']['device_id'].mode()"
   ]
  },
  {
   "cell_type": "code",
   "execution_count": 141,
   "metadata": {},
   "outputs": [
    {
     "data": {
      "text/plain": [
       "0   -6.242501e+18\n",
       "dtype: float64"
      ]
     },
     "execution_count": 141,
     "metadata": {},
     "output_type": "execute_result"
    }
   ],
   "source": [
    "Events_data_df.loc[Events_data_df['city'] == 'Delhi']['device_id'].mode()"
   ]
  },
  {
   "cell_type": "code",
   "execution_count": 142,
   "metadata": {},
   "outputs": [
    {
     "data": {
      "text/plain": [
       "0    1.750779e+18\n",
       "dtype: float64"
      ]
     },
     "execution_count": 142,
     "metadata": {},
     "output_type": "execute_result"
    }
   ],
   "source": [
    "Events_data_df.loc[Events_data_df['city'] == 'Hoshiarpur']['device_id'].mode()"
   ]
  },
  {
   "cell_type": "code",
   "execution_count": 143,
   "metadata": {},
   "outputs": [
    {
     "data": {
      "text/plain": [
       "0    3.751556e+18\n",
       "dtype: float64"
      ]
     },
     "execution_count": 143,
     "metadata": {},
     "output_type": "execute_result"
    }
   ],
   "source": [
    "Events_data_df.loc[Events_data_df['city'] == 'Indore']['device_id'].mode()"
   ]
  },
  {
   "cell_type": "code",
   "execution_count": 144,
   "metadata": {},
   "outputs": [
    {
     "data": {
      "text/plain": [
       "0   -5.330179e+18\n",
       "dtype: float64"
      ]
     },
     "execution_count": 144,
     "metadata": {},
     "output_type": "execute_result"
    }
   ],
   "source": [
    "Events_data_df.loc[Events_data_df['city'] == 'Jaipur']['device_id'].mode()"
   ]
  },
  {
   "cell_type": "code",
   "execution_count": 145,
   "metadata": {},
   "outputs": [
    {
     "data": {
      "text/plain": [
       "0   -1.688015e+18\n",
       "dtype: float64"
      ]
     },
     "execution_count": 145,
     "metadata": {},
     "output_type": "execute_result"
    }
   ],
   "source": [
    "Events_data_df.loc[Events_data_df['city'] == 'Jetpur']['device_id'].mode()"
   ]
  },
  {
   "cell_type": "code",
   "execution_count": 146,
   "metadata": {},
   "outputs": [
    {
     "data": {
      "text/plain": [
       "0    4.428421e+17\n",
       "dtype: float64"
      ]
     },
     "execution_count": 146,
     "metadata": {},
     "output_type": "execute_result"
    }
   ],
   "source": [
    "Events_data_df.loc[Events_data_df['city'] == 'Pune']['device_id'].mode()"
   ]
  },
  {
   "cell_type": "code",
   "execution_count": 147,
   "metadata": {},
   "outputs": [
    {
     "data": {
      "text/plain": [
       "0    3.137054e+18\n",
       "dtype: float64"
      ]
     },
     "execution_count": 147,
     "metadata": {},
     "output_type": "execute_result"
    }
   ],
   "source": [
    "Events_data_df.loc[Events_data_df['city'] == 'Visakhapatnam']['device_id'].mode()"
   ]
  },
  {
   "cell_type": "code",
   "execution_count": 148,
   "metadata": {},
   "outputs": [
    {
     "data": {
      "text/plain": [
       "event_id      0\n",
       "device_id    16\n",
       "timestamp     0\n",
       "longitude     0\n",
       "latitude      0\n",
       "city          0\n",
       "state         0\n",
       "dtype: int64"
      ]
     },
     "execution_count": 148,
     "metadata": {},
     "output_type": "execute_result"
    }
   ],
   "source": [
    "Events_data_df.loc[(Events_data_df['city'] == 'Bardoli') & (Events_data_df['device_id'].isnull())].isnull().sum()"
   ]
  },
  {
   "cell_type": "code",
   "execution_count": 149,
   "metadata": {},
   "outputs": [],
   "source": [
    "Events_data_df.loc[(Events_data_df['city'] == 'Bardoli') & (Events_data_df['device_id'].isnull()),'device_id'] = '-8.215771e+18'"
   ]
  },
  {
   "cell_type": "code",
   "execution_count": 150,
   "metadata": {},
   "outputs": [
    {
     "data": {
      "text/plain": [
       "event_id     0\n",
       "device_id    0\n",
       "timestamp    0\n",
       "longitude    0\n",
       "latitude     0\n",
       "city         0\n",
       "state        0\n",
       "dtype: int64"
      ]
     },
     "execution_count": 150,
     "metadata": {},
     "output_type": "execute_result"
    }
   ],
   "source": [
    "Events_data_df.loc[(Events_data_df['city'] == 'Bardoli') & (Events_data_df['device_id'].isnull())].isnull().sum()"
   ]
  },
  {
   "cell_type": "code",
   "execution_count": 151,
   "metadata": {},
   "outputs": [],
   "source": [
    "Events_data_df.loc[(Events_data_df['city'] == 'Chennai') & (Events_data_df['device_id'].isnull()),'device_id'] = '5.536513e+18'"
   ]
  },
  {
   "cell_type": "code",
   "execution_count": 152,
   "metadata": {},
   "outputs": [
    {
     "data": {
      "text/plain": [
       "event_id     0\n",
       "device_id    0\n",
       "timestamp    0\n",
       "longitude    0\n",
       "latitude     0\n",
       "city         0\n",
       "state        0\n",
       "dtype: int64"
      ]
     },
     "execution_count": 152,
     "metadata": {},
     "output_type": "execute_result"
    }
   ],
   "source": [
    "Events_data_df.loc[(Events_data_df['city'] == 'Chennai') & (Events_data_df['device_id'].isnull())].isnull().sum()"
   ]
  },
  {
   "cell_type": "code",
   "execution_count": 153,
   "metadata": {},
   "outputs": [],
   "source": [
    "Events_data_df.loc[(Events_data_df['city'] == 'Delhi') & (Events_data_df['device_id'].isnull()),'device_id'] = '-6.242501e+18'"
   ]
  },
  {
   "cell_type": "code",
   "execution_count": 192,
   "metadata": {},
   "outputs": [
    {
     "data": {
      "text/html": [
       "<div>\n",
       "<style scoped>\n",
       "    .dataframe tbody tr th:only-of-type {\n",
       "        vertical-align: middle;\n",
       "    }\n",
       "\n",
       "    .dataframe tbody tr th {\n",
       "        vertical-align: top;\n",
       "    }\n",
       "\n",
       "    .dataframe thead th {\n",
       "        text-align: right;\n",
       "    }\n",
       "</style>\n",
       "<table border=\"1\" class=\"dataframe\">\n",
       "  <thead>\n",
       "    <tr style=\"text-align: right;\">\n",
       "      <th></th>\n",
       "      <th>event_id</th>\n",
       "      <th>device_id</th>\n",
       "      <th>timestamp</th>\n",
       "      <th>longitude</th>\n",
       "      <th>latitude</th>\n",
       "      <th>city</th>\n",
       "      <th>state</th>\n",
       "    </tr>\n",
       "  </thead>\n",
       "  <tbody>\n",
       "  </tbody>\n",
       "</table>\n",
       "</div>"
      ],
      "text/plain": [
       "Empty DataFrame\n",
       "Columns: [event_id, device_id, timestamp, longitude, latitude, city, state]\n",
       "Index: []"
      ]
     },
     "execution_count": 192,
     "metadata": {},
     "output_type": "execute_result"
    }
   ],
   "source": [
    "Events_data_df.loc[(Events_data_df['city'] == 'Delhi') & (Events_data_df['device_id'].isnull())].isnull().sum()"
   ]
  },
  {
   "cell_type": "code",
   "execution_count": 155,
   "metadata": {},
   "outputs": [],
   "source": [
    "Events_data_df.loc[(Events_data_df['city'] == 'Hoshiarpur') & (Events_data_df['device_id'].isnull()),'device_id'] = '1.750779e+18'"
   ]
  },
  {
   "cell_type": "code",
   "execution_count": 156,
   "metadata": {},
   "outputs": [],
   "source": [
    "Events_data_df.loc[(Events_data_df['city'] == 'Indore') & (Events_data_df['device_id'].isnull()),'device_id'] = '3.751556e+18'"
   ]
  },
  {
   "cell_type": "code",
   "execution_count": 157,
   "metadata": {},
   "outputs": [],
   "source": [
    "Events_data_df.loc[(Events_data_df['city'] == 'Jaipur') & (Events_data_df['device_id'].isnull()),'device_id'] = '-5.330179e+18'"
   ]
  },
  {
   "cell_type": "code",
   "execution_count": 158,
   "metadata": {},
   "outputs": [],
   "source": [
    "Events_data_df.loc[(Events_data_df['city'] == 'Jetpur') & (Events_data_df['device_id'].isnull()),'device_id'] = '-1.688015e+18'"
   ]
  },
  {
   "cell_type": "code",
   "execution_count": 159,
   "metadata": {},
   "outputs": [],
   "source": [
    "Events_data_df.loc[(Events_data_df['city'] == 'Pune') & (Events_data_df['device_id'].isnull()),'device_id'] = '4.428421e+17'"
   ]
  },
  {
   "cell_type": "code",
   "execution_count": 160,
   "metadata": {},
   "outputs": [],
   "source": [
    "Events_data_df.loc[(Events_data_df['city'] == 'Visakhapatnam') & (Events_data_df['device_id'].isnull()),'device_id'] = '3.137054e+18'"
   ]
  },
  {
   "cell_type": "code",
   "execution_count": 161,
   "metadata": {},
   "outputs": [
    {
     "data": {
      "text/plain": [
       "event_id     0\n",
       "device_id    0\n",
       "timestamp    0\n",
       "longitude    0\n",
       "latitude     0\n",
       "city         0\n",
       "state        0\n",
       "dtype: int64"
      ]
     },
     "execution_count": 161,
     "metadata": {},
     "output_type": "execute_result"
    }
   ],
   "source": [
    "Events_data_df.isnull().sum()"
   ]
  },
  {
   "cell_type": "code",
   "execution_count": 162,
   "metadata": {},
   "outputs": [
    {
     "name": "stdout",
     "output_type": "stream",
     "text": [
      "<class 'pandas.core.frame.DataFrame'>\n",
      "RangeIndex: 3252950 entries, 0 to 3252949\n",
      "Data columns (total 7 columns):\n",
      "event_id     int64\n",
      "device_id    object\n",
      "timestamp    object\n",
      "longitude    object\n",
      "latitude     object\n",
      "city         object\n",
      "state        object\n",
      "dtypes: int64(1), object(6)\n",
      "memory usage: 173.7+ MB\n"
     ]
    }
   ],
   "source": [
    "Events_data_df.info()"
   ]
  },
  {
   "cell_type": "code",
   "execution_count": 163,
   "metadata": {},
   "outputs": [],
   "source": [
    "Events_data_df['longitude'] = Events_data_df['longitude'].astype(float)"
   ]
  },
  {
   "cell_type": "code",
   "execution_count": 164,
   "metadata": {},
   "outputs": [],
   "source": [
    "Events_data_df['latitude'] = Events_data_df['latitude'].astype(float)"
   ]
  },
  {
   "cell_type": "code",
   "execution_count": 165,
   "metadata": {},
   "outputs": [
    {
     "name": "stdout",
     "output_type": "stream",
     "text": [
      "<class 'pandas.core.frame.DataFrame'>\n",
      "RangeIndex: 3252950 entries, 0 to 3252949\n",
      "Data columns (total 7 columns):\n",
      "event_id     int64\n",
      "device_id    object\n",
      "timestamp    object\n",
      "longitude    float64\n",
      "latitude     float64\n",
      "city         object\n",
      "state        object\n",
      "dtypes: float64(2), int64(1), object(4)\n",
      "memory usage: 173.7+ MB\n"
     ]
    }
   ],
   "source": [
    "Events_data_df.info()"
   ]
  },
  {
   "cell_type": "code",
   "execution_count": 166,
   "metadata": {},
   "outputs": [],
   "source": [
    "#Events_data_df.loc[Events_data_df['city'] == 'Delhi'].groupby(Events_data_df['device_id']).count()\\\n",
    "#.sort_values('event_id', axis = 0, ascending = False)"
   ]
  },
  {
   "cell_type": "code",
   "execution_count": 167,
   "metadata": {},
   "outputs": [
    {
     "data": {
      "text/plain": [
       "event_id     0\n",
       "device_id    0\n",
       "timestamp    0\n",
       "longitude    0\n",
       "latitude     0\n",
       "city         0\n",
       "state        0\n",
       "dtype: int64"
      ]
     },
     "execution_count": 167,
     "metadata": {},
     "output_type": "execute_result"
    }
   ],
   "source": [
    "Events_data_df.isnull().sum()"
   ]
  },
  {
   "cell_type": "code",
   "execution_count": 168,
   "metadata": {},
   "outputs": [],
   "source": [
    "df_sixstates = Events_data_df.loc[Events_data_df['state'].isin(['TamilNadu','Manipur','Chandigarh','Tripura','UttarPradesh','ArunachalPradesh'])]"
   ]
  },
  {
   "cell_type": "code",
   "execution_count": 169,
   "metadata": {},
   "outputs": [
    {
     "data": {
      "text/plain": [
       "(534462, 7)"
      ]
     },
     "execution_count": 169,
     "metadata": {},
     "output_type": "execute_result"
    }
   ],
   "source": [
    "df_sixstates.shape"
   ]
  },
  {
   "cell_type": "code",
   "execution_count": 182,
   "metadata": {},
   "outputs": [
    {
     "name": "stdout",
     "output_type": "stream",
     "text": [
      "<class 'pandas.core.frame.DataFrame'>\n",
      "Int64Index: 534462 entries, 3 to 3252949\n",
      "Data columns (total 7 columns):\n",
      "event_id     534462 non-null int64\n",
      "device_id    534462 non-null float64\n",
      "timestamp    534462 non-null object\n",
      "longitude    534462 non-null float64\n",
      "latitude     534462 non-null float64\n",
      "city         534462 non-null object\n",
      "state        534462 non-null object\n",
      "dtypes: float64(3), int64(1), object(3)\n",
      "memory usage: 32.6+ MB\n"
     ]
    }
   ],
   "source": [
    "df_sixstates.info()"
   ]
  },
  {
   "cell_type": "code",
   "execution_count": 183,
   "metadata": {},
   "outputs": [
    {
     "name": "stdout",
     "output_type": "stream",
     "text": [
      "<class 'pandas.core.frame.DataFrame'>\n",
      "RangeIndex: 74645 entries, 0 to 74644\n",
      "Data columns (total 4 columns):\n",
      "device_id    74645 non-null float64\n",
      "gender       74645 non-null object\n",
      "age          74645 non-null int64\n",
      "group        74645 non-null object\n",
      "dtypes: float64(1), int64(1), object(2)\n",
      "memory usage: 2.3+ MB\n"
     ]
    }
   ],
   "source": [
    "gender_age_train_df.info()"
   ]
  },
  {
   "cell_type": "code",
   "execution_count": 184,
   "metadata": {},
   "outputs": [
    {
     "name": "stdout",
     "output_type": "stream",
     "text": [
      "<class 'pandas.core.frame.DataFrame'>\n",
      "RangeIndex: 87726 entries, 0 to 87725\n",
      "Data columns (total 3 columns):\n",
      "device_id       87726 non-null float64\n",
      "phone_brand     87726 non-null object\n",
      "device_model    87726 non-null object\n",
      "dtypes: float64(1), object(2)\n",
      "memory usage: 2.0+ MB\n"
     ]
    }
   ],
   "source": [
    "phone_brand_device_model_df.info()"
   ]
  },
  {
   "cell_type": "code",
   "execution_count": 179,
   "metadata": {},
   "outputs": [
    {
     "name": "stderr",
     "output_type": "stream",
     "text": [
      "C:\\Users\\krishna\\Anaconda3\\lib\\site-packages\\ipykernel_launcher.py:1: SettingWithCopyWarning: \n",
      "A value is trying to be set on a copy of a slice from a DataFrame.\n",
      "Try using .loc[row_indexer,col_indexer] = value instead\n",
      "\n",
      "See the caveats in the documentation: http://pandas.pydata.org/pandas-docs/stable/indexing.html#indexing-view-versus-copy\n",
      "  \"\"\"Entry point for launching an IPython kernel.\n"
     ]
    }
   ],
   "source": [
    "df_sixstates['device_id'] = df_sixstates['device_id'].astype(float)"
   ]
  },
  {
   "cell_type": "code",
   "execution_count": 180,
   "metadata": {},
   "outputs": [],
   "source": [
    "gender_age_train_df['device_id'] = gender_age_train_df['device_id'].astype(float)"
   ]
  },
  {
   "cell_type": "code",
   "execution_count": 181,
   "metadata": {},
   "outputs": [],
   "source": [
    "phone_brand_device_model_df['device_id'] = phone_brand_device_model_df['device_id'].astype(float)"
   ]
  },
  {
   "cell_type": "code",
   "execution_count": 185,
   "metadata": {},
   "outputs": [],
   "source": [
    "Merged_data = df_sixstates.merge(phone_brand_device_model_df,on='device_id').merge(gender_age_train_df,on='device_id')"
   ]
  },
  {
   "cell_type": "code",
   "execution_count": 187,
   "metadata": {},
   "outputs": [
    {
     "data": {
      "text/plain": [
       "(534399, 12)"
      ]
     },
     "execution_count": 187,
     "metadata": {},
     "output_type": "execute_result"
    }
   ],
   "source": [
    "Merged_data.shape"
   ]
  },
  {
   "cell_type": "code",
   "execution_count": 188,
   "metadata": {},
   "outputs": [
    {
     "data": {
      "text/html": [
       "<div>\n",
       "<style scoped>\n",
       "    .dataframe tbody tr th:only-of-type {\n",
       "        vertical-align: middle;\n",
       "    }\n",
       "\n",
       "    .dataframe tbody tr th {\n",
       "        vertical-align: top;\n",
       "    }\n",
       "\n",
       "    .dataframe thead th {\n",
       "        text-align: right;\n",
       "    }\n",
       "</style>\n",
       "<table border=\"1\" class=\"dataframe\">\n",
       "  <thead>\n",
       "    <tr style=\"text-align: right;\">\n",
       "      <th></th>\n",
       "      <th>event_id</th>\n",
       "      <th>device_id</th>\n",
       "      <th>timestamp</th>\n",
       "      <th>longitude</th>\n",
       "      <th>latitude</th>\n",
       "      <th>city</th>\n",
       "      <th>state</th>\n",
       "      <th>phone_brand</th>\n",
       "      <th>device_model</th>\n",
       "      <th>gender</th>\n",
       "      <th>age</th>\n",
       "      <th>group</th>\n",
       "    </tr>\n",
       "  </thead>\n",
       "  <tbody>\n",
       "    <tr>\n",
       "      <th>0</th>\n",
       "      <td>448114</td>\n",
       "      <td>5.731369e+18</td>\n",
       "      <td>2016-05-03 13:21:16</td>\n",
       "      <td>80.343613</td>\n",
       "      <td>13.153332</td>\n",
       "      <td>Chennai</td>\n",
       "      <td>TamilNadu</td>\n",
       "      <td>HTC</td>\n",
       "      <td>One max</td>\n",
       "      <td>M</td>\n",
       "      <td>26</td>\n",
       "      <td>M23-26</td>\n",
       "    </tr>\n",
       "    <tr>\n",
       "      <th>1</th>\n",
       "      <td>2330011</td>\n",
       "      <td>5.731369e+18</td>\n",
       "      <td>2016-05-05 12:44:32</td>\n",
       "      <td>80.343613</td>\n",
       "      <td>13.153332</td>\n",
       "      <td>Chennai</td>\n",
       "      <td>TamilNadu</td>\n",
       "      <td>HTC</td>\n",
       "      <td>One max</td>\n",
       "      <td>M</td>\n",
       "      <td>26</td>\n",
       "      <td>M23-26</td>\n",
       "    </tr>\n",
       "    <tr>\n",
       "      <th>2</th>\n",
       "      <td>1895687</td>\n",
       "      <td>5.731369e+18</td>\n",
       "      <td>2016-05-02 12:45:05</td>\n",
       "      <td>80.343613</td>\n",
       "      <td>13.153332</td>\n",
       "      <td>Chennai</td>\n",
       "      <td>TamilNadu</td>\n",
       "      <td>HTC</td>\n",
       "      <td>One max</td>\n",
       "      <td>M</td>\n",
       "      <td>26</td>\n",
       "      <td>M23-26</td>\n",
       "    </tr>\n",
       "    <tr>\n",
       "      <th>3</th>\n",
       "      <td>619715</td>\n",
       "      <td>5.731369e+18</td>\n",
       "      <td>2016-05-02 03:37:12</td>\n",
       "      <td>80.343613</td>\n",
       "      <td>13.153332</td>\n",
       "      <td>Chennai</td>\n",
       "      <td>TamilNadu</td>\n",
       "      <td>HTC</td>\n",
       "      <td>One max</td>\n",
       "      <td>M</td>\n",
       "      <td>26</td>\n",
       "      <td>M23-26</td>\n",
       "    </tr>\n",
       "    <tr>\n",
       "      <th>4</th>\n",
       "      <td>936200</td>\n",
       "      <td>5.731369e+18</td>\n",
       "      <td>2016-05-04 19:18:59</td>\n",
       "      <td>80.343613</td>\n",
       "      <td>13.153332</td>\n",
       "      <td>Chennai</td>\n",
       "      <td>TamilNadu</td>\n",
       "      <td>HTC</td>\n",
       "      <td>One max</td>\n",
       "      <td>M</td>\n",
       "      <td>26</td>\n",
       "      <td>M23-26</td>\n",
       "    </tr>\n",
       "  </tbody>\n",
       "</table>\n",
       "</div>"
      ],
      "text/plain": [
       "   event_id     device_id            timestamp  longitude   latitude     city  \\\n",
       "0    448114  5.731369e+18  2016-05-03 13:21:16  80.343613  13.153332  Chennai   \n",
       "1   2330011  5.731369e+18  2016-05-05 12:44:32  80.343613  13.153332  Chennai   \n",
       "2   1895687  5.731369e+18  2016-05-02 12:45:05  80.343613  13.153332  Chennai   \n",
       "3    619715  5.731369e+18  2016-05-02 03:37:12  80.343613  13.153332  Chennai   \n",
       "4    936200  5.731369e+18  2016-05-04 19:18:59  80.343613  13.153332  Chennai   \n",
       "\n",
       "       state phone_brand device_model gender  age   group  \n",
       "0  TamilNadu         HTC      One max      M   26  M23-26  \n",
       "1  TamilNadu         HTC      One max      M   26  M23-26  \n",
       "2  TamilNadu         HTC      One max      M   26  M23-26  \n",
       "3  TamilNadu         HTC      One max      M   26  M23-26  \n",
       "4  TamilNadu         HTC      One max      M   26  M23-26  "
      ]
     },
     "execution_count": 188,
     "metadata": {},
     "output_type": "execute_result"
    }
   ],
   "source": [
    "Merged_data.head()"
   ]
  },
  {
   "cell_type": "code",
   "execution_count": 205,
   "metadata": {},
   "outputs": [
    {
     "data": {
      "text/plain": [
       "Text(0.5, 0, 'Age')"
      ]
     },
     "execution_count": 205,
     "metadata": {},
     "output_type": "execute_result"
    },
    {
     "data": {
      "image/png": "[encoded data removed]",
      "text/plain": [
       "<Figure size 1080x360 with 1 Axes>"
      ]
     },
     "metadata": {
      "needs_background": "light"
     },
     "output_type": "display_data"
    }
   ],
   "source": [
    "plt.figure(figsize=(15,5))\n",
    "range = (10,90)\n",
    "plt.hist(Merged_data['age'], 10, range, color = 'orange', rwidth = 0.8)\n",
    "plt.ylabel(\"# Count\")\n",
    "plt.xlabel(\"Age\")"
   ]
  },
  {
   "cell_type": "code",
   "execution_count": 279,
   "metadata": {},
   "outputs": [
    {
     "data": {
      "text/html": [
       "<div>\n",
       "<style scoped>\n",
       "    .dataframe tbody tr th:only-of-type {\n",
       "        vertical-align: middle;\n",
       "    }\n",
       "\n",
       "    .dataframe tbody tr th {\n",
       "        vertical-align: top;\n",
       "    }\n",
       "\n",
       "    .dataframe thead th {\n",
       "        text-align: right;\n",
       "    }\n",
       "</style>\n",
       "<table border=\"1\" class=\"dataframe\">\n",
       "  <thead>\n",
       "    <tr style=\"text-align: right;\">\n",
       "      <th></th>\n",
       "      <th>state</th>\n",
       "      <th>count</th>\n",
       "    </tr>\n",
       "  </thead>\n",
       "  <tbody>\n",
       "    <tr>\n",
       "      <th>0</th>\n",
       "      <td>ArunachalPradesh</td>\n",
       "      <td>608</td>\n",
       "    </tr>\n",
       "    <tr>\n",
       "      <th>1</th>\n",
       "      <td>Chandigarh</td>\n",
       "      <td>894</td>\n",
       "    </tr>\n",
       "    <tr>\n",
       "      <th>2</th>\n",
       "      <td>Manipur</td>\n",
       "      <td>989</td>\n",
       "    </tr>\n",
       "    <tr>\n",
       "      <th>3</th>\n",
       "      <td>TamilNadu</td>\n",
       "      <td>436266</td>\n",
       "    </tr>\n",
       "    <tr>\n",
       "      <th>4</th>\n",
       "      <td>Tripura</td>\n",
       "      <td>892</td>\n",
       "    </tr>\n",
       "    <tr>\n",
       "      <th>5</th>\n",
       "      <td>UttarPradesh</td>\n",
       "      <td>94750</td>\n",
       "    </tr>\n",
       "  </tbody>\n",
       "</table>\n",
       "</div>"
      ],
      "text/plain": [
       "              state   count\n",
       "0  ArunachalPradesh     608\n",
       "1        Chandigarh     894\n",
       "2           Manipur     989\n",
       "3         TamilNadu  436266\n",
       "4           Tripura     892\n",
       "5      UttarPradesh   94750"
      ]
     },
     "execution_count": 279,
     "metadata": {},
     "output_type": "execute_result"
    }
   ],
   "source": [
    "Merged_data.head()\n",
    "dfg = Merged_data.groupby(['state']).agg({'device_id': [ 'count']})\n",
    "pd.set_option('display.max_rows', 1000)\n",
    "Stateusers = dfg['device_id','count'].groupby(level=0, group_keys=False).apply(\n",
    "    lambda x: x.sort_values(ascending=False).head(10)).reset_index(name='count')\n",
    "Stateusers"
   ]
  },
  {
   "cell_type": "code",
   "execution_count": 306,
   "metadata": {},
   "outputs": [
    {
     "data": {
      "text/plain": [
       "(9563, 2)"
      ]
     },
     "execution_count": 306,
     "metadata": {},
     "output_type": "execute_result"
    }
   ],
   "source": [
    "Stateusers = set(zip(Merged_data['state'],Merged_data['device_id']))\n",
    "Stateusers = pd.DataFrame(Stateusers,columns = ['state','device_id'])\n",
    "Stateusers.shape"
   ]
  },
  {
   "cell_type": "code",
   "execution_count": 308,
   "metadata": {},
   "outputs": [
    {
     "data": {
      "text/plain": [
       "<matplotlib.axes._subplots.AxesSubplot at 0x21096228fd0>"
      ]
     },
     "execution_count": 308,
     "metadata": {},
     "output_type": "execute_result"
    },
    {
     "data": {
      "image/png": "[encoded data removed]",
      "text/plain": [
       "<Figure size 432x432 with 1 Axes>"
      ]
     },
     "metadata": {},
     "output_type": "display_data"
    }
   ],
   "source": [
    "\n",
    "explode = (0, 0.1,0.2,0.3,0.4,0.5)\n",
    "colors = ['#66b3ff','#ff9999','#99ff99','#ffcc99']\n",
    "Stateusers['state'].value_counts().plot(kind='pie', fontsize=14, autopct='%3.1f%%', explode=explode,pctdistance=0.85,\n",
    "                                               figsize=(6,6), shadow=True, startangle=90, colors = colors)\n",
    "\n",
    "#plt.ylabel('State')\n",
    "#plt.title('Pie chart showing the percentage of State')\n",
    "#plt.tight_layout()\n"
   ]
  },
  {
   "cell_type": "code",
   "execution_count": 245,
   "metadata": {},
   "outputs": [
    {
     "data": {
      "text/plain": [
       "Text(0, 0.5, 'Count of events')"
      ]
     },
     "execution_count": 245,
     "metadata": {},
     "output_type": "execute_result"
    },
    {
     "data": {
      "image/png": "[encoded data removed]",
      "text/plain": [
       "<Figure size 1440x360 with 1 Axes>"
      ]
     },
     "metadata": {
      "needs_background": "light"
     },
     "output_type": "display_data"
    }
   ],
   "source": [
    "plt.figure(figsize=(20,5))\n",
    "Merged_data['phone_brand'].value_counts()[:10].sort_values(ascending = False).plot.bar(colormap = 'Wistia_r')\n",
    "plt.xlabel('Brand')\n",
    "plt.ylabel('Count of events')\n"
   ]
  },
  {
   "cell_type": "code",
   "execution_count": null,
   "metadata": {},
   "outputs": [],
   "source": []
  }
 ],
 "metadata": {
  "kernelspec": {
   "display_name": "Python 3",
   "language": "python",
   "name": "python3"
  },
  "language_info": {
   "codemirror_mode": {
    "name": "ipython",
    "version": 3
   },
   "file_extension": ".py",
   "mimetype": "text/x-python",
   "name": "python",
   "nbconvert_exporter": "python",
   "pygments_lexer": "ipython3",
   "version": "3.7.3"
  }
 },
 "nbformat": 4,
 "nbformat_minor": 4
}
