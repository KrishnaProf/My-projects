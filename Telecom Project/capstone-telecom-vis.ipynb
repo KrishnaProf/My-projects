{
 "cells": [
  {
   "cell_type": "code",
   "execution_count": 7,
   "metadata": {},
   "outputs": [],
   "source": [
    "#pip install mysql-connector-python\n",
    "import pandas as pd\n",
    "import numpy as np\n",
    "#import mysql.connector\n",
    "#from mysql.connector import Error"
   ]
  },
  {
   "cell_type": "code",
   "execution_count": 8,
   "metadata": {},
   "outputs": [
    {
     "data": {
      "text/plain": [
       "count    534462.000000\n",
       "mean         31.331554\n",
       "std           9.375614\n",
       "min           6.000000\n",
       "25%          25.000000\n",
       "50%          30.000000\n",
       "75%          35.000000\n",
       "max          89.000000\n",
       "Name: age, dtype: float64"
      ]
     },
     "execution_count": 8,
     "metadata": {},
     "output_type": "execute_result"
    },
    {
     "data": {
      "image/png": "[encoded data removed]",
      "text/plain": [
       "<Figure size 432x288 with 1 Axes>"
      ]
     },
     "metadata": {
      "needs_background": "light"
     },
     "output_type": "display_data"
    }
   ],
   "source": [
    "raw_df = pd.read_csv('cap_df_states.csv')\n",
    "\n",
    "df2 = raw_df.drop_duplicates(subset=None, keep='first', inplace=False)\n",
    "df2['age'].plot(kind='hist')\n",
    "dfuniqdata =df2\n",
    "\n",
    "dfuniqdata['age'].describe()"
   ]
  },
  {
   "cell_type": "code",
   "execution_count": 9,
   "metadata": {},
   "outputs": [
    {
     "name": "stdout",
     "output_type": "stream",
     "text": [
      "age_bins\n",
      "(5, 10]         38\n",
      "(10, 16]      2605\n",
      "(16, 20]     35581\n",
      "(20, 25]    108296\n",
      "(25, 30]    136330\n",
      "(30, 35]    123662\n",
      "(35, 40]     43100\n",
      "(40, 45]     44781\n",
      "(45, 50]     18927\n",
      "(50, 60]     12589\n",
      "(60, 80]      8158\n",
      "(80, 90]       395\n",
      "Name: age_bins, dtype: int64\n"
     ]
    },
    {
     "data": {
      "image/png": "[encoded data removed]",
      "text/plain": [
       "<Figure size 432x288 with 1 Axes>"
      ]
     },
     "metadata": {
      "needs_background": "light"
     },
     "output_type": "display_data"
    }
   ],
   "source": [
    "bins = [5,10,16, 20, 25, 30, 35,40,45, 50,60, 80,90]\n",
    "dfuniqdata['age_bins'] = pd.cut(dfuniqdata['age'], bins)\n",
    "dfuniqdata['age'].plot(kind='hist')\n",
    "#dfuniqdata.info()\n",
    "#df1.info()\n",
    "df3 = dfuniqdata.groupby(['age_bins'])['age_bins'].count()\n",
    "print (df3)"
   ]
  },
  {
   "cell_type": "code",
   "execution_count": 11,
   "metadata": {},
   "outputs": [
    {
     "data": {
      "text/html": [
       "<div>\n",
       "<style scoped>\n",
       "    .dataframe tbody tr th:only-of-type {\n",
       "        vertical-align: middle;\n",
       "    }\n",
       "\n",
       "    .dataframe tbody tr th {\n",
       "        vertical-align: top;\n",
       "    }\n",
       "\n",
       "    .dataframe thead th {\n",
       "        text-align: right;\n",
       "    }\n",
       "</style>\n",
       "<table border=\"1\" class=\"dataframe\">\n",
       "  <thead>\n",
       "    <tr style=\"text-align: right;\">\n",
       "      <th></th>\n",
       "      <th>Unnamed: 0</th>\n",
       "      <th>event_id</th>\n",
       "      <th>device_id</th>\n",
       "      <th>timestamp</th>\n",
       "      <th>longitude</th>\n",
       "      <th>latitude</th>\n",
       "      <th>city</th>\n",
       "      <th>state</th>\n",
       "      <th>latlong</th>\n",
       "      <th>gender</th>\n",
       "      <th>age</th>\n",
       "      <th>group</th>\n",
       "      <th>phone_brand</th>\n",
       "      <th>device_model</th>\n",
       "      <th>brand</th>\n",
       "      <th>age_bins</th>\n",
       "    </tr>\n",
       "  </thead>\n",
       "  <tbody>\n",
       "    <tr>\n",
       "      <th>0</th>\n",
       "      <td>97304</td>\n",
       "      <td>3186309</td>\n",
       "      <td>7662139143719919126</td>\n",
       "      <td>2016-05-05 21:00:34</td>\n",
       "      <td>80.309272</td>\n",
       "      <td>13.149176</td>\n",
       "      <td>Chennai</td>\n",
       "      <td>TamilNadu</td>\n",
       "      <td>nannan</td>\n",
       "      <td>M</td>\n",
       "      <td>20</td>\n",
       "      <td>M22-</td>\n",
       "      <td>酷派</td>\n",
       "      <td>大神F1</td>\n",
       "      <td>Coolpad</td>\n",
       "      <td>(16, 20]</td>\n",
       "    </tr>\n",
       "    <tr>\n",
       "      <th>1</th>\n",
       "      <td>278424</td>\n",
       "      <td>2036368</td>\n",
       "      <td>7662139143719919126</td>\n",
       "      <td>2016-05-06 22:17:54</td>\n",
       "      <td>80.309272</td>\n",
       "      <td>13.149176</td>\n",
       "      <td>Chennai</td>\n",
       "      <td>TamilNadu</td>\n",
       "      <td>nannan</td>\n",
       "      <td>M</td>\n",
       "      <td>20</td>\n",
       "      <td>M22-</td>\n",
       "      <td>酷派</td>\n",
       "      <td>大神F1</td>\n",
       "      <td>Coolpad</td>\n",
       "      <td>(16, 20]</td>\n",
       "    </tr>\n",
       "    <tr>\n",
       "      <th>2</th>\n",
       "      <td>526041</td>\n",
       "      <td>236974</td>\n",
       "      <td>7662139143719919126</td>\n",
       "      <td>2016-05-07 21:20:51</td>\n",
       "      <td>80.309272</td>\n",
       "      <td>13.149176</td>\n",
       "      <td>Chennai</td>\n",
       "      <td>TamilNadu</td>\n",
       "      <td>nannan</td>\n",
       "      <td>M</td>\n",
       "      <td>20</td>\n",
       "      <td>M22-</td>\n",
       "      <td>酷派</td>\n",
       "      <td>大神F1</td>\n",
       "      <td>Coolpad</td>\n",
       "      <td>(16, 20]</td>\n",
       "    </tr>\n",
       "    <tr>\n",
       "      <th>3</th>\n",
       "      <td>526624</td>\n",
       "      <td>981220</td>\n",
       "      <td>7662139143719919126</td>\n",
       "      <td>2016-05-04 08:39:45</td>\n",
       "      <td>80.309272</td>\n",
       "      <td>13.149176</td>\n",
       "      <td>Chennai</td>\n",
       "      <td>TamilNadu</td>\n",
       "      <td>nannan</td>\n",
       "      <td>M</td>\n",
       "      <td>20</td>\n",
       "      <td>M22-</td>\n",
       "      <td>酷派</td>\n",
       "      <td>大神F1</td>\n",
       "      <td>Coolpad</td>\n",
       "      <td>(16, 20]</td>\n",
       "    </tr>\n",
       "    <tr>\n",
       "      <th>4</th>\n",
       "      <td>546361</td>\n",
       "      <td>2365158</td>\n",
       "      <td>7662139143719919126</td>\n",
       "      <td>2016-05-06 12:22:48</td>\n",
       "      <td>80.309272</td>\n",
       "      <td>13.149176</td>\n",
       "      <td>Chennai</td>\n",
       "      <td>TamilNadu</td>\n",
       "      <td>nannan</td>\n",
       "      <td>M</td>\n",
       "      <td>20</td>\n",
       "      <td>M22-</td>\n",
       "      <td>酷派</td>\n",
       "      <td>大神F1</td>\n",
       "      <td>Coolpad</td>\n",
       "      <td>(16, 20]</td>\n",
       "    </tr>\n",
       "    <tr>\n",
       "      <th>21</th>\n",
       "      <td>126652</td>\n",
       "      <td>918193</td>\n",
       "      <td>5731369272434022440</td>\n",
       "      <td>2016-05-04 04:35:06</td>\n",
       "      <td>80.343613</td>\n",
       "      <td>13.153332</td>\n",
       "      <td>Chennai</td>\n",
       "      <td>TamilNadu</td>\n",
       "      <td>nannan</td>\n",
       "      <td>M</td>\n",
       "      <td>26</td>\n",
       "      <td>M23-26</td>\n",
       "      <td>HTC</td>\n",
       "      <td>One max</td>\n",
       "      <td>HTC</td>\n",
       "      <td>(25, 30]</td>\n",
       "    </tr>\n",
       "    <tr>\n",
       "      <th>22</th>\n",
       "      <td>269377</td>\n",
       "      <td>3173472</td>\n",
       "      <td>5731369272434022440</td>\n",
       "      <td>2016-05-07 16:45:56</td>\n",
       "      <td>80.343613</td>\n",
       "      <td>13.153332</td>\n",
       "      <td>Chennai</td>\n",
       "      <td>TamilNadu</td>\n",
       "      <td>nannan</td>\n",
       "      <td>M</td>\n",
       "      <td>26</td>\n",
       "      <td>M23-26</td>\n",
       "      <td>HTC</td>\n",
       "      <td>One max</td>\n",
       "      <td>HTC</td>\n",
       "      <td>(25, 30]</td>\n",
       "    </tr>\n",
       "    <tr>\n",
       "      <th>23</th>\n",
       "      <td>742037</td>\n",
       "      <td>1817900</td>\n",
       "      <td>5731369272434022440</td>\n",
       "      <td>2016-05-02 04:49:52</td>\n",
       "      <td>80.343613</td>\n",
       "      <td>13.153332</td>\n",
       "      <td>Chennai</td>\n",
       "      <td>TamilNadu</td>\n",
       "      <td>nannan</td>\n",
       "      <td>M</td>\n",
       "      <td>26</td>\n",
       "      <td>M23-26</td>\n",
       "      <td>HTC</td>\n",
       "      <td>One max</td>\n",
       "      <td>HTC</td>\n",
       "      <td>(25, 30]</td>\n",
       "    </tr>\n",
       "    <tr>\n",
       "      <th>24</th>\n",
       "      <td>919879</td>\n",
       "      <td>2278585</td>\n",
       "      <td>5731369272434022440</td>\n",
       "      <td>2016-05-07 01:42:57</td>\n",
       "      <td>80.343613</td>\n",
       "      <td>13.153332</td>\n",
       "      <td>Chennai</td>\n",
       "      <td>TamilNadu</td>\n",
       "      <td>nannan</td>\n",
       "      <td>M</td>\n",
       "      <td>26</td>\n",
       "      <td>M23-26</td>\n",
       "      <td>HTC</td>\n",
       "      <td>One max</td>\n",
       "      <td>HTC</td>\n",
       "      <td>(25, 30]</td>\n",
       "    </tr>\n",
       "    <tr>\n",
       "      <th>25</th>\n",
       "      <td>1001324</td>\n",
       "      <td>1822609</td>\n",
       "      <td>5731369272434022440</td>\n",
       "      <td>2016-05-04 09:38:01</td>\n",
       "      <td>80.343613</td>\n",
       "      <td>13.153332</td>\n",
       "      <td>Chennai</td>\n",
       "      <td>TamilNadu</td>\n",
       "      <td>nannan</td>\n",
       "      <td>M</td>\n",
       "      <td>26</td>\n",
       "      <td>M23-26</td>\n",
       "      <td>HTC</td>\n",
       "      <td>One max</td>\n",
       "      <td>HTC</td>\n",
       "      <td>(25, 30]</td>\n",
       "    </tr>\n",
       "    <tr>\n",
       "      <th>42</th>\n",
       "      <td>16866</td>\n",
       "      <td>926804</td>\n",
       "      <td>7983871429718484702</td>\n",
       "      <td>2016-05-03 12:29:47</td>\n",
       "      <td>80.335435</td>\n",
       "      <td>13.189053</td>\n",
       "      <td>Chennai</td>\n",
       "      <td>TamilNadu</td>\n",
       "      <td>nannan</td>\n",
       "      <td>M</td>\n",
       "      <td>32</td>\n",
       "      <td>M32-38</td>\n",
       "      <td>酷派</td>\n",
       "      <td>大神F2全高清版</td>\n",
       "      <td>Coolpad</td>\n",
       "      <td>(30, 35]</td>\n",
       "    </tr>\n",
       "    <tr>\n",
       "      <th>43</th>\n",
       "      <td>45850</td>\n",
       "      <td>512493</td>\n",
       "      <td>7983871429718484702</td>\n",
       "      <td>2016-05-03 11:59:39</td>\n",
       "      <td>80.335435</td>\n",
       "      <td>13.189053</td>\n",
       "      <td>Chennai</td>\n",
       "      <td>TamilNadu</td>\n",
       "      <td>nannan</td>\n",
       "      <td>M</td>\n",
       "      <td>32</td>\n",
       "      <td>M32-38</td>\n",
       "      <td>酷派</td>\n",
       "      <td>大神F2全高清版</td>\n",
       "      <td>Coolpad</td>\n",
       "      <td>(30, 35]</td>\n",
       "    </tr>\n",
       "    <tr>\n",
       "      <th>44</th>\n",
       "      <td>119430</td>\n",
       "      <td>53798</td>\n",
       "      <td>7983871429718484702</td>\n",
       "      <td>2016-05-04 18:34:29</td>\n",
       "      <td>80.335435</td>\n",
       "      <td>13.189053</td>\n",
       "      <td>Chennai</td>\n",
       "      <td>TamilNadu</td>\n",
       "      <td>nannan</td>\n",
       "      <td>M</td>\n",
       "      <td>32</td>\n",
       "      <td>M32-38</td>\n",
       "      <td>酷派</td>\n",
       "      <td>大神F2全高清版</td>\n",
       "      <td>Coolpad</td>\n",
       "      <td>(30, 35]</td>\n",
       "    </tr>\n",
       "    <tr>\n",
       "      <th>45</th>\n",
       "      <td>461635</td>\n",
       "      <td>259156</td>\n",
       "      <td>7983871429718484702</td>\n",
       "      <td>2016-05-05 18:46:44</td>\n",
       "      <td>80.335435</td>\n",
       "      <td>13.189053</td>\n",
       "      <td>Chennai</td>\n",
       "      <td>TamilNadu</td>\n",
       "      <td>nannan</td>\n",
       "      <td>M</td>\n",
       "      <td>32</td>\n",
       "      <td>M32-38</td>\n",
       "      <td>酷派</td>\n",
       "      <td>大神F2全高清版</td>\n",
       "      <td>Coolpad</td>\n",
       "      <td>(30, 35]</td>\n",
       "    </tr>\n",
       "    <tr>\n",
       "      <th>46</th>\n",
       "      <td>601088</td>\n",
       "      <td>2419252</td>\n",
       "      <td>7983871429718484702</td>\n",
       "      <td>2016-05-02 22:04:57</td>\n",
       "      <td>80.335435</td>\n",
       "      <td>13.189053</td>\n",
       "      <td>Chennai</td>\n",
       "      <td>TamilNadu</td>\n",
       "      <td>nannan</td>\n",
       "      <td>M</td>\n",
       "      <td>32</td>\n",
       "      <td>M32-38</td>\n",
       "      <td>酷派</td>\n",
       "      <td>大神F2全高清版</td>\n",
       "      <td>Coolpad</td>\n",
       "      <td>(30, 35]</td>\n",
       "    </tr>\n",
       "    <tr>\n",
       "      <th>127</th>\n",
       "      <td>737</td>\n",
       "      <td>2921356</td>\n",
       "      <td>-4792366453774469421</td>\n",
       "      <td>2016-05-04 20:56:56</td>\n",
       "      <td>80.309010</td>\n",
       "      <td>13.114228</td>\n",
       "      <td>Chennai</td>\n",
       "      <td>TamilNadu</td>\n",
       "      <td>80.3090113.114228</td>\n",
       "      <td>M</td>\n",
       "      <td>43</td>\n",
       "      <td>M39+</td>\n",
       "      <td>小米</td>\n",
       "      <td>红米</td>\n",
       "      <td>Xiaomi</td>\n",
       "      <td>(40, 45]</td>\n",
       "    </tr>\n",
       "    <tr>\n",
       "      <th>129</th>\n",
       "      <td>739</td>\n",
       "      <td>2025265</td>\n",
       "      <td>-4792366453774469421</td>\n",
       "      <td>2016-05-03 14:19:39</td>\n",
       "      <td>80.309010</td>\n",
       "      <td>13.114228</td>\n",
       "      <td>Chennai</td>\n",
       "      <td>TamilNadu</td>\n",
       "      <td>80.3090113.114228</td>\n",
       "      <td>M</td>\n",
       "      <td>43</td>\n",
       "      <td>M39+</td>\n",
       "      <td>小米</td>\n",
       "      <td>红米</td>\n",
       "      <td>Xiaomi</td>\n",
       "      <td>(40, 45]</td>\n",
       "    </tr>\n",
       "    <tr>\n",
       "      <th>131</th>\n",
       "      <td>741</td>\n",
       "      <td>1004771</td>\n",
       "      <td>8331888722038251159</td>\n",
       "      <td>2016-05-03 05:58:18</td>\n",
       "      <td>80.291743</td>\n",
       "      <td>13.145584</td>\n",
       "      <td>Chennai</td>\n",
       "      <td>TamilNadu</td>\n",
       "      <td>80.2917430000000313.145584</td>\n",
       "      <td>F</td>\n",
       "      <td>21</td>\n",
       "      <td>F23-</td>\n",
       "      <td>华为</td>\n",
       "      <td>荣耀畅玩4</td>\n",
       "      <td>Huawei</td>\n",
       "      <td>(20, 25]</td>\n",
       "    </tr>\n",
       "    <tr>\n",
       "      <th>132</th>\n",
       "      <td>742</td>\n",
       "      <td>3002615</td>\n",
       "      <td>-4792366453774469421</td>\n",
       "      <td>2016-05-07 15:11:07</td>\n",
       "      <td>80.309010</td>\n",
       "      <td>13.114228</td>\n",
       "      <td>Chennai</td>\n",
       "      <td>TamilNadu</td>\n",
       "      <td>80.3090113.114228</td>\n",
       "      <td>M</td>\n",
       "      <td>43</td>\n",
       "      <td>M39+</td>\n",
       "      <td>小米</td>\n",
       "      <td>红米</td>\n",
       "      <td>Xiaomi</td>\n",
       "      <td>(40, 45]</td>\n",
       "    </tr>\n",
       "    <tr>\n",
       "      <th>133</th>\n",
       "      <td>743</td>\n",
       "      <td>682317</td>\n",
       "      <td>-4792366453774469421</td>\n",
       "      <td>2016-05-01 16:34:11</td>\n",
       "      <td>80.309010</td>\n",
       "      <td>13.114228</td>\n",
       "      <td>Chennai</td>\n",
       "      <td>TamilNadu</td>\n",
       "      <td>80.3090113.114228</td>\n",
       "      <td>M</td>\n",
       "      <td>43</td>\n",
       "      <td>M39+</td>\n",
       "      <td>小米</td>\n",
       "      <td>红米</td>\n",
       "      <td>Xiaomi</td>\n",
       "      <td>(40, 45]</td>\n",
       "    </tr>\n",
       "    <tr>\n",
       "      <th>134</th>\n",
       "      <td>744</td>\n",
       "      <td>123429</td>\n",
       "      <td>8331888722038251159</td>\n",
       "      <td>2016-05-02 06:07:48</td>\n",
       "      <td>80.291743</td>\n",
       "      <td>13.145584</td>\n",
       "      <td>Chennai</td>\n",
       "      <td>TamilNadu</td>\n",
       "      <td>80.2917430000000313.145584</td>\n",
       "      <td>F</td>\n",
       "      <td>21</td>\n",
       "      <td>F23-</td>\n",
       "      <td>华为</td>\n",
       "      <td>荣耀畅玩4</td>\n",
       "      <td>Huawei</td>\n",
       "      <td>(20, 25]</td>\n",
       "    </tr>\n",
       "    <tr>\n",
       "      <th>139</th>\n",
       "      <td>749</td>\n",
       "      <td>860640</td>\n",
       "      <td>-4792366453774469421</td>\n",
       "      <td>2016-05-04 07:13:07</td>\n",
       "      <td>80.309010</td>\n",
       "      <td>13.114228</td>\n",
       "      <td>Chennai</td>\n",
       "      <td>TamilNadu</td>\n",
       "      <td>80.3090113.114228</td>\n",
       "      <td>M</td>\n",
       "      <td>43</td>\n",
       "      <td>M39+</td>\n",
       "      <td>小米</td>\n",
       "      <td>红米</td>\n",
       "      <td>Xiaomi</td>\n",
       "      <td>(40, 45]</td>\n",
       "    </tr>\n",
       "    <tr>\n",
       "      <th>141</th>\n",
       "      <td>751</td>\n",
       "      <td>1705687</td>\n",
       "      <td>8331888722038251159</td>\n",
       "      <td>2016-05-02 06:36:36</td>\n",
       "      <td>80.291743</td>\n",
       "      <td>13.145584</td>\n",
       "      <td>Chennai</td>\n",
       "      <td>TamilNadu</td>\n",
       "      <td>80.2917430000000313.145584</td>\n",
       "      <td>F</td>\n",
       "      <td>21</td>\n",
       "      <td>F23-</td>\n",
       "      <td>华为</td>\n",
       "      <td>荣耀畅玩4</td>\n",
       "      <td>Huawei</td>\n",
       "      <td>(20, 25]</td>\n",
       "    </tr>\n",
       "    <tr>\n",
       "      <th>146</th>\n",
       "      <td>756</td>\n",
       "      <td>2819977</td>\n",
       "      <td>8331888722038251159</td>\n",
       "      <td>2016-05-03 03:34:28</td>\n",
       "      <td>80.291743</td>\n",
       "      <td>13.145584</td>\n",
       "      <td>Chennai</td>\n",
       "      <td>TamilNadu</td>\n",
       "      <td>80.2917430000000313.145584</td>\n",
       "      <td>F</td>\n",
       "      <td>21</td>\n",
       "      <td>F23-</td>\n",
       "      <td>华为</td>\n",
       "      <td>荣耀畅玩4</td>\n",
       "      <td>Huawei</td>\n",
       "      <td>(20, 25]</td>\n",
       "    </tr>\n",
       "    <tr>\n",
       "      <th>147</th>\n",
       "      <td>757</td>\n",
       "      <td>3062942</td>\n",
       "      <td>8331888722038251159</td>\n",
       "      <td>2016-05-01 10:05:36</td>\n",
       "      <td>80.291743</td>\n",
       "      <td>13.145584</td>\n",
       "      <td>Chennai</td>\n",
       "      <td>TamilNadu</td>\n",
       "      <td>80.2917430000000313.145584</td>\n",
       "      <td>F</td>\n",
       "      <td>21</td>\n",
       "      <td>F23-</td>\n",
       "      <td>华为</td>\n",
       "      <td>荣耀畅玩4</td>\n",
       "      <td>Huawei</td>\n",
       "      <td>(20, 25]</td>\n",
       "    </tr>\n",
       "    <tr>\n",
       "      <th>175</th>\n",
       "      <td>840</td>\n",
       "      <td>3219828</td>\n",
       "      <td>-3433061233631405742</td>\n",
       "      <td>2016-05-03 00:27:21</td>\n",
       "      <td>80.290779</td>\n",
       "      <td>13.115427</td>\n",
       "      <td>Chennai</td>\n",
       "      <td>TamilNadu</td>\n",
       "      <td>80.29077913.115426999999999</td>\n",
       "      <td>M</td>\n",
       "      <td>66</td>\n",
       "      <td>M39+</td>\n",
       "      <td>小米</td>\n",
       "      <td>红米note</td>\n",
       "      <td>Xiaomi</td>\n",
       "      <td>(60, 80]</td>\n",
       "    </tr>\n",
       "    <tr>\n",
       "      <th>190</th>\n",
       "      <td>917</td>\n",
       "      <td>2927466</td>\n",
       "      <td>7504679594395103702</td>\n",
       "      <td>2016-05-06 22:59:19</td>\n",
       "      <td>76.981045</td>\n",
       "      <td>11.028516</td>\n",
       "      <td>Kuniyamuthur</td>\n",
       "      <td>TamilNadu</td>\n",
       "      <td>76.9810450000000211.028516</td>\n",
       "      <td>M</td>\n",
       "      <td>36</td>\n",
       "      <td>M32-38</td>\n",
       "      <td>酷派</td>\n",
       "      <td>大神F1</td>\n",
       "      <td>Coolpad</td>\n",
       "      <td>(35, 40]</td>\n",
       "    </tr>\n",
       "    <tr>\n",
       "      <th>191</th>\n",
       "      <td>918</td>\n",
       "      <td>3173738</td>\n",
       "      <td>9114825954360889056</td>\n",
       "      <td>2016-05-01 17:48:59</td>\n",
       "      <td>79.416839</td>\n",
       "      <td>11.558458</td>\n",
       "      <td>Virudhachalam</td>\n",
       "      <td>TamilNadu</td>\n",
       "      <td>79.41683911.558458</td>\n",
       "      <td>F</td>\n",
       "      <td>46</td>\n",
       "      <td>F43+</td>\n",
       "      <td>魅族</td>\n",
       "      <td>MX4</td>\n",
       "      <td>Meizu</td>\n",
       "      <td>(45, 50]</td>\n",
       "    </tr>\n",
       "    <tr>\n",
       "      <th>201</th>\n",
       "      <td>993</td>\n",
       "      <td>2905719</td>\n",
       "      <td>-5386357308574232459</td>\n",
       "      <td>2016-05-05 10:23:43</td>\n",
       "      <td>78.198337</td>\n",
       "      <td>11.763996</td>\n",
       "      <td>Salem</td>\n",
       "      <td>TamilNadu</td>\n",
       "      <td>78.19833711.763996</td>\n",
       "      <td>M</td>\n",
       "      <td>69</td>\n",
       "      <td>M39+</td>\n",
       "      <td>三星</td>\n",
       "      <td>Galaxy S4</td>\n",
       "      <td>Samsung</td>\n",
       "      <td>(60, 80]</td>\n",
       "    </tr>\n",
       "    <tr>\n",
       "      <th>207</th>\n",
       "      <td>1012</td>\n",
       "      <td>1237701</td>\n",
       "      <td>-3264991548842285607</td>\n",
       "      <td>2016-05-01 20:20:01</td>\n",
       "      <td>81.865167</td>\n",
       "      <td>25.491231</td>\n",
       "      <td>Allahabad</td>\n",
       "      <td>UttarPradesh</td>\n",
       "      <td>81.86516725.491231</td>\n",
       "      <td>M</td>\n",
       "      <td>37</td>\n",
       "      <td>M32-38</td>\n",
       "      <td>三星</td>\n",
       "      <td>Galaxy S3</td>\n",
       "      <td>Samsung</td>\n",
       "      <td>(35, 40]</td>\n",
       "    </tr>\n",
       "    <tr>\n",
       "      <th>209</th>\n",
       "      <td>1033</td>\n",
       "      <td>356391</td>\n",
       "      <td>-778091204089444489</td>\n",
       "      <td>2016-05-06 17:32:51</td>\n",
       "      <td>79.393288</td>\n",
       "      <td>26.228627</td>\n",
       "      <td>Jalaun</td>\n",
       "      <td>UttarPradesh</td>\n",
       "      <td>79.39328826.228627000000003</td>\n",
       "      <td>M</td>\n",
       "      <td>50</td>\n",
       "      <td>M39+</td>\n",
       "      <td>魅族</td>\n",
       "      <td>MX3</td>\n",
       "      <td>Meizu</td>\n",
       "      <td>(45, 50]</td>\n",
       "    </tr>\n",
       "    <tr>\n",
       "      <th>217</th>\n",
       "      <td>1085</td>\n",
       "      <td>1646585</td>\n",
       "      <td>8258052497226749498</td>\n",
       "      <td>2016-05-04 13:07:23</td>\n",
       "      <td>80.296169</td>\n",
       "      <td>13.132755</td>\n",
       "      <td>Chennai</td>\n",
       "      <td>TamilNadu</td>\n",
       "      <td>80.2961689999999813.132755</td>\n",
       "      <td>M</td>\n",
       "      <td>53</td>\n",
       "      <td>M39+</td>\n",
       "      <td>酷派</td>\n",
       "      <td>7295C</td>\n",
       "      <td>Coolpad</td>\n",
       "      <td>(50, 60]</td>\n",
       "    </tr>\n",
       "    <tr>\n",
       "      <th>223</th>\n",
       "      <td>1112</td>\n",
       "      <td>1205397</td>\n",
       "      <td>8004797383233346799</td>\n",
       "      <td>2016-05-02 15:05:42</td>\n",
       "      <td>79.403513</td>\n",
       "      <td>26.222867</td>\n",
       "      <td>Jalaun</td>\n",
       "      <td>UttarPradesh</td>\n",
       "      <td>79.4035129999999826.222867</td>\n",
       "      <td>M</td>\n",
       "      <td>37</td>\n",
       "      <td>M32-38</td>\n",
       "      <td>酷派</td>\n",
       "      <td>Y80D</td>\n",
       "      <td>Coolpad</td>\n",
       "      <td>(35, 40]</td>\n",
       "    </tr>\n",
       "    <tr>\n",
       "      <th>228</th>\n",
       "      <td>1135</td>\n",
       "      <td>2367484</td>\n",
       "      <td>8006739344249583991</td>\n",
       "      <td>2016-05-01 14:00:22</td>\n",
       "      <td>80.326858</td>\n",
       "      <td>13.178251</td>\n",
       "      <td>Chennai</td>\n",
       "      <td>TamilNadu</td>\n",
       "      <td>80.32685813.178251000000001</td>\n",
       "      <td>M</td>\n",
       "      <td>63</td>\n",
       "      <td>M39+</td>\n",
       "      <td>三星</td>\n",
       "      <td>Galaxy S2</td>\n",
       "      <td>Samsung</td>\n",
       "      <td>(60, 80]</td>\n",
       "    </tr>\n",
       "    <tr>\n",
       "      <th>233</th>\n",
       "      <td>1169</td>\n",
       "      <td>3051425</td>\n",
       "      <td>1998827839104670585</td>\n",
       "      <td>2016-05-05 02:25:12</td>\n",
       "      <td>80.282139</td>\n",
       "      <td>13.182266</td>\n",
       "      <td>Chennai</td>\n",
       "      <td>TamilNadu</td>\n",
       "      <td>80.28213913.182266</td>\n",
       "      <td>M</td>\n",
       "      <td>63</td>\n",
       "      <td>M39+</td>\n",
       "      <td>三星</td>\n",
       "      <td>Galaxy S4</td>\n",
       "      <td>Samsung</td>\n",
       "      <td>(60, 80]</td>\n",
       "    </tr>\n",
       "    <tr>\n",
       "      <th>237</th>\n",
       "      <td>1177</td>\n",
       "      <td>1743394</td>\n",
       "      <td>-1767403103618157736</td>\n",
       "      <td>2016-05-02 10:48:25</td>\n",
       "      <td>80.306131</td>\n",
       "      <td>13.172728</td>\n",
       "      <td>Chennai</td>\n",
       "      <td>TamilNadu</td>\n",
       "      <td>80.3061310000000213.172728</td>\n",
       "      <td>F</td>\n",
       "      <td>37</td>\n",
       "      <td>F33-42</td>\n",
       "      <td>小米</td>\n",
       "      <td>红米note</td>\n",
       "      <td>Xiaomi</td>\n",
       "      <td>(35, 40]</td>\n",
       "    </tr>\n",
       "    <tr>\n",
       "      <th>270</th>\n",
       "      <td>1357</td>\n",
       "      <td>2559460</td>\n",
       "      <td>5293170331929430065</td>\n",
       "      <td>2016-05-07 16:46:20</td>\n",
       "      <td>80.323859</td>\n",
       "      <td>13.173375</td>\n",
       "      <td>Chennai</td>\n",
       "      <td>TamilNadu</td>\n",
       "      <td>80.32385913.173375</td>\n",
       "      <td>M</td>\n",
       "      <td>36</td>\n",
       "      <td>M32-38</td>\n",
       "      <td>德赛</td>\n",
       "      <td>TS1018</td>\n",
       "      <td>德赛</td>\n",
       "      <td>(35, 40]</td>\n",
       "    </tr>\n",
       "    <tr>\n",
       "      <th>279</th>\n",
       "      <td>1395</td>\n",
       "      <td>1751567</td>\n",
       "      <td>-3433061233631405742</td>\n",
       "      <td>2016-05-03 16:51:16</td>\n",
       "      <td>80.290779</td>\n",
       "      <td>13.115427</td>\n",
       "      <td>Chennai</td>\n",
       "      <td>TamilNadu</td>\n",
       "      <td>80.29077913.115426999999999</td>\n",
       "      <td>M</td>\n",
       "      <td>66</td>\n",
       "      <td>M39+</td>\n",
       "      <td>小米</td>\n",
       "      <td>红米note</td>\n",
       "      <td>Xiaomi</td>\n",
       "      <td>(60, 80]</td>\n",
       "    </tr>\n",
       "    <tr>\n",
       "      <th>282</th>\n",
       "      <td>1429</td>\n",
       "      <td>1933477</td>\n",
       "      <td>5426528618668523174</td>\n",
       "      <td>2016-05-07 12:28:17</td>\n",
       "      <td>80.367753</td>\n",
       "      <td>13.118858</td>\n",
       "      <td>Chennai</td>\n",
       "      <td>TamilNadu</td>\n",
       "      <td>80.3677530000000213.118858</td>\n",
       "      <td>M</td>\n",
       "      <td>57</td>\n",
       "      <td>M39+</td>\n",
       "      <td>小米</td>\n",
       "      <td>MI 4</td>\n",
       "      <td>Xiaomi</td>\n",
       "      <td>(50, 60]</td>\n",
       "    </tr>\n",
       "    <tr>\n",
       "      <th>294</th>\n",
       "      <td>1541</td>\n",
       "      <td>1050924</td>\n",
       "      <td>6821597660718586221</td>\n",
       "      <td>2016-05-06 03:57:28</td>\n",
       "      <td>80.356381</td>\n",
       "      <td>13.131019</td>\n",
       "      <td>Chennai</td>\n",
       "      <td>TamilNadu</td>\n",
       "      <td>80.35638113.131019</td>\n",
       "      <td>M</td>\n",
       "      <td>47</td>\n",
       "      <td>M39+</td>\n",
       "      <td>小米</td>\n",
       "      <td>V182</td>\n",
       "      <td>Xiaomi</td>\n",
       "      <td>(45, 50]</td>\n",
       "    </tr>\n",
       "    <tr>\n",
       "      <th>320</th>\n",
       "      <td>1689</td>\n",
       "      <td>547770</td>\n",
       "      <td>6727624950617118462</td>\n",
       "      <td>2016-05-02 10:52:35</td>\n",
       "      <td>80.332646</td>\n",
       "      <td>13.159141</td>\n",
       "      <td>Chennai</td>\n",
       "      <td>TamilNadu</td>\n",
       "      <td>80.33264613.159141</td>\n",
       "      <td>F</td>\n",
       "      <td>49</td>\n",
       "      <td>F43+</td>\n",
       "      <td>小米</td>\n",
       "      <td>红米Note3</td>\n",
       "      <td>Xiaomi</td>\n",
       "      <td>(45, 50]</td>\n",
       "    </tr>\n",
       "    <tr>\n",
       "      <th>322</th>\n",
       "      <td>1700</td>\n",
       "      <td>2604429</td>\n",
       "      <td>-2945791673291374299</td>\n",
       "      <td>2016-05-05 02:05:43</td>\n",
       "      <td>77.421194</td>\n",
       "      <td>28.674835</td>\n",
       "      <td>Ghaziabad</td>\n",
       "      <td>UttarPradesh</td>\n",
       "      <td>77.42119428.674834999999998</td>\n",
       "      <td>M</td>\n",
       "      <td>52</td>\n",
       "      <td>M39+</td>\n",
       "      <td>小米</td>\n",
       "      <td>红米note</td>\n",
       "      <td>Xiaomi</td>\n",
       "      <td>(50, 60]</td>\n",
       "    </tr>\n",
       "    <tr>\n",
       "      <th>330</th>\n",
       "      <td>1772</td>\n",
       "      <td>2124338</td>\n",
       "      <td>-2631108035853544731</td>\n",
       "      <td>2016-05-01 23:13:10</td>\n",
       "      <td>78.614043</td>\n",
       "      <td>12.760976</td>\n",
       "      <td>Vaniyambadi</td>\n",
       "      <td>TamilNadu</td>\n",
       "      <td>78.6140430000000212.760976</td>\n",
       "      <td>F</td>\n",
       "      <td>46</td>\n",
       "      <td>F43+</td>\n",
       "      <td>三星</td>\n",
       "      <td>Galaxy Grand 2</td>\n",
       "      <td>Samsung</td>\n",
       "      <td>(45, 50]</td>\n",
       "    </tr>\n",
       "    <tr>\n",
       "      <th>354</th>\n",
       "      <td>1898</td>\n",
       "      <td>588585</td>\n",
       "      <td>1162969812802801157</td>\n",
       "      <td>2016-05-04 20:58:46</td>\n",
       "      <td>77.038589</td>\n",
       "      <td>11.067489</td>\n",
       "      <td>Koyampattur</td>\n",
       "      <td>TamilNadu</td>\n",
       "      <td>77.0385889999999911.067489</td>\n",
       "      <td>M</td>\n",
       "      <td>53</td>\n",
       "      <td>M39+</td>\n",
       "      <td>小米</td>\n",
       "      <td>红米Note2</td>\n",
       "      <td>Xiaomi</td>\n",
       "      <td>(50, 60]</td>\n",
       "    </tr>\n",
       "    <tr>\n",
       "      <th>374</th>\n",
       "      <td>2082</td>\n",
       "      <td>690311</td>\n",
       "      <td>1529418243092778721</td>\n",
       "      <td>2016-05-06 20:23:30</td>\n",
       "      <td>78.941519</td>\n",
       "      <td>13.030600</td>\n",
       "      <td>Gudiyattam</td>\n",
       "      <td>TamilNadu</td>\n",
       "      <td>78.94151913.0306</td>\n",
       "      <td>M</td>\n",
       "      <td>59</td>\n",
       "      <td>M39+</td>\n",
       "      <td>小米</td>\n",
       "      <td>红米note</td>\n",
       "      <td>Xiaomi</td>\n",
       "      <td>(50, 60]</td>\n",
       "    </tr>\n",
       "    <tr>\n",
       "      <th>393</th>\n",
       "      <td>2182</td>\n",
       "      <td>3181237</td>\n",
       "      <td>3438160819816311710</td>\n",
       "      <td>2016-05-05 19:06:59</td>\n",
       "      <td>80.306676</td>\n",
       "      <td>13.160246</td>\n",
       "      <td>Chennai</td>\n",
       "      <td>TamilNadu</td>\n",
       "      <td>80.30667613.160246</td>\n",
       "      <td>M</td>\n",
       "      <td>83</td>\n",
       "      <td>M39+</td>\n",
       "      <td>小米</td>\n",
       "      <td>GN9002</td>\n",
       "      <td>Xiaomi</td>\n",
       "      <td>(80, 90]</td>\n",
       "    </tr>\n",
       "    <tr>\n",
       "      <th>434</th>\n",
       "      <td>2428</td>\n",
       "      <td>1665346</td>\n",
       "      <td>1562337957601713514</td>\n",
       "      <td>2016-05-04 11:44:35</td>\n",
       "      <td>80.332996</td>\n",
       "      <td>13.149596</td>\n",
       "      <td>Chennai</td>\n",
       "      <td>TamilNadu</td>\n",
       "      <td>80.33299613.149595999999999</td>\n",
       "      <td>F</td>\n",
       "      <td>15</td>\n",
       "      <td>F23-</td>\n",
       "      <td>三星</td>\n",
       "      <td>Galaxy S3</td>\n",
       "      <td>Samsung</td>\n",
       "      <td>(10, 16]</td>\n",
       "    </tr>\n",
       "    <tr>\n",
       "      <th>584</th>\n",
       "      <td>3399</td>\n",
       "      <td>807260</td>\n",
       "      <td>-2241143511952231265</td>\n",
       "      <td>2016-05-05 03:08:50</td>\n",
       "      <td>80.364290</td>\n",
       "      <td>13.176464</td>\n",
       "      <td>Chennai</td>\n",
       "      <td>TamilNadu</td>\n",
       "      <td>80.3642913.176464000000001</td>\n",
       "      <td>M</td>\n",
       "      <td>15</td>\n",
       "      <td>M22-</td>\n",
       "      <td>小米</td>\n",
       "      <td>红米2</td>\n",
       "      <td>Xiaomi</td>\n",
       "      <td>(10, 16]</td>\n",
       "    </tr>\n",
       "    <tr>\n",
       "      <th>588</th>\n",
       "      <td>3424</td>\n",
       "      <td>659221</td>\n",
       "      <td>-2938851385337407296</td>\n",
       "      <td>2016-05-04 10:39:21</td>\n",
       "      <td>79.165857</td>\n",
       "      <td>25.335114</td>\n",
       "      <td>Mauranipur</td>\n",
       "      <td>UttarPradesh</td>\n",
       "      <td>79.1658569999999725.335114</td>\n",
       "      <td>F</td>\n",
       "      <td>16</td>\n",
       "      <td>F23-</td>\n",
       "      <td>小米</td>\n",
       "      <td>红米1S</td>\n",
       "      <td>Xiaomi</td>\n",
       "      <td>(10, 16]</td>\n",
       "    </tr>\n",
       "    <tr>\n",
       "      <th>1028</th>\n",
       "      <td>6001</td>\n",
       "      <td>1054921</td>\n",
       "      <td>-5856477565035912506</td>\n",
       "      <td>2016-05-03 22:43:06</td>\n",
       "      <td>80.311632</td>\n",
       "      <td>13.157969</td>\n",
       "      <td>Chennai</td>\n",
       "      <td>TamilNadu</td>\n",
       "      <td>80.3116319999999713.157969</td>\n",
       "      <td>M</td>\n",
       "      <td>16</td>\n",
       "      <td>M22-</td>\n",
       "      <td>OPPO</td>\n",
       "      <td>R7s</td>\n",
       "      <td>OPPO</td>\n",
       "      <td>(10, 16]</td>\n",
       "    </tr>\n",
       "    <tr>\n",
       "      <th>1047</th>\n",
       "      <td>6081</td>\n",
       "      <td>2689923</td>\n",
       "      <td>-5856477565035912506</td>\n",
       "      <td>2016-05-04 00:57:54</td>\n",
       "      <td>80.311632</td>\n",
       "      <td>13.157969</td>\n",
       "      <td>Chennai</td>\n",
       "      <td>TamilNadu</td>\n",
       "      <td>80.3116319999999713.157969</td>\n",
       "      <td>M</td>\n",
       "      <td>16</td>\n",
       "      <td>M22-</td>\n",
       "      <td>OPPO</td>\n",
       "      <td>R7s</td>\n",
       "      <td>OPPO</td>\n",
       "      <td>(10, 16]</td>\n",
       "    </tr>\n",
       "    <tr>\n",
       "      <th>2425</th>\n",
       "      <td>14371</td>\n",
       "      <td>2468247</td>\n",
       "      <td>3438160819816311710</td>\n",
       "      <td>2016-05-05 01:26:06</td>\n",
       "      <td>80.306676</td>\n",
       "      <td>13.160246</td>\n",
       "      <td>Chennai</td>\n",
       "      <td>TamilNadu</td>\n",
       "      <td>80.30667613.160246</td>\n",
       "      <td>M</td>\n",
       "      <td>83</td>\n",
       "      <td>M39+</td>\n",
       "      <td>小米</td>\n",
       "      <td>GN9002</td>\n",
       "      <td>Xiaomi</td>\n",
       "      <td>(80, 90]</td>\n",
       "    </tr>\n",
       "    <tr>\n",
       "      <th>3129</th>\n",
       "      <td>18588</td>\n",
       "      <td>3230965</td>\n",
       "      <td>7973265006628525491</td>\n",
       "      <td>2016-05-05 10:11:53</td>\n",
       "      <td>78.055423</td>\n",
       "      <td>27.230900</td>\n",
       "      <td>Agra</td>\n",
       "      <td>UttarPradesh</td>\n",
       "      <td>78.05542327.2309</td>\n",
       "      <td>F</td>\n",
       "      <td>89</td>\n",
       "      <td>F43+</td>\n",
       "      <td>酷比魔方</td>\n",
       "      <td>U51GT-W</td>\n",
       "      <td>酷比魔方</td>\n",
       "      <td>(80, 90]</td>\n",
       "    </tr>\n",
       "    <tr>\n",
       "      <th>5138</th>\n",
       "      <td>30662</td>\n",
       "      <td>1672367</td>\n",
       "      <td>3438160819816311710</td>\n",
       "      <td>2016-05-02 14:46:34</td>\n",
       "      <td>80.306676</td>\n",
       "      <td>13.160246</td>\n",
       "      <td>Chennai</td>\n",
       "      <td>TamilNadu</td>\n",
       "      <td>80.30667613.160246</td>\n",
       "      <td>M</td>\n",
       "      <td>83</td>\n",
       "      <td>M39+</td>\n",
       "      <td>小米</td>\n",
       "      <td>GN9002</td>\n",
       "      <td>Xiaomi</td>\n",
       "      <td>(80, 90]</td>\n",
       "    </tr>\n",
       "    <tr>\n",
       "      <th>5726</th>\n",
       "      <td>34113</td>\n",
       "      <td>2849324</td>\n",
       "      <td>7973265006628525491</td>\n",
       "      <td>2016-05-03 09:22:01</td>\n",
       "      <td>78.055423</td>\n",
       "      <td>27.230900</td>\n",
       "      <td>Agra</td>\n",
       "      <td>UttarPradesh</td>\n",
       "      <td>78.05542327.2309</td>\n",
       "      <td>F</td>\n",
       "      <td>89</td>\n",
       "      <td>F43+</td>\n",
       "      <td>酷比魔方</td>\n",
       "      <td>U51GT-W</td>\n",
       "      <td>酷比魔方</td>\n",
       "      <td>(80, 90]</td>\n",
       "    </tr>\n",
       "    <tr>\n",
       "      <th>24573</th>\n",
       "      <td>148998</td>\n",
       "      <td>2028015</td>\n",
       "      <td>5222152119137955379</td>\n",
       "      <td>2016-05-03 16:18:08</td>\n",
       "      <td>77.754315</td>\n",
       "      <td>11.452942</td>\n",
       "      <td>Kumarapalaiyam</td>\n",
       "      <td>TamilNadu</td>\n",
       "      <td>77.75431511.452942</td>\n",
       "      <td>M</td>\n",
       "      <td>6</td>\n",
       "      <td>M22-</td>\n",
       "      <td>魅族</td>\n",
       "      <td>魅蓝NOTE</td>\n",
       "      <td>Meizu</td>\n",
       "      <td>(5, 10]</td>\n",
       "    </tr>\n",
       "    <tr>\n",
       "      <th>33484</th>\n",
       "      <td>203236</td>\n",
       "      <td>1863956</td>\n",
       "      <td>5222152119137955379</td>\n",
       "      <td>2016-05-01 22:31:54</td>\n",
       "      <td>77.754315</td>\n",
       "      <td>11.452942</td>\n",
       "      <td>Kumarapalaiyam</td>\n",
       "      <td>TamilNadu</td>\n",
       "      <td>77.75431511.452942</td>\n",
       "      <td>M</td>\n",
       "      <td>6</td>\n",
       "      <td>M22-</td>\n",
       "      <td>魅族</td>\n",
       "      <td>魅蓝NOTE</td>\n",
       "      <td>Meizu</td>\n",
       "      <td>(5, 10]</td>\n",
       "    </tr>\n",
       "    <tr>\n",
       "      <th>35633</th>\n",
       "      <td>216716</td>\n",
       "      <td>2021154</td>\n",
       "      <td>5222152119137955379</td>\n",
       "      <td>2016-05-02 11:43:06</td>\n",
       "      <td>77.754315</td>\n",
       "      <td>11.452942</td>\n",
       "      <td>Kumarapalaiyam</td>\n",
       "      <td>TamilNadu</td>\n",
       "      <td>77.75431511.452942</td>\n",
       "      <td>M</td>\n",
       "      <td>6</td>\n",
       "      <td>M22-</td>\n",
       "      <td>魅族</td>\n",
       "      <td>魅蓝NOTE</td>\n",
       "      <td>Meizu</td>\n",
       "      <td>(5, 10]</td>\n",
       "    </tr>\n",
       "    <tr>\n",
       "      <th>105292</th>\n",
       "      <td>641052</td>\n",
       "      <td>2812993</td>\n",
       "      <td>5222152119137955379</td>\n",
       "      <td>2016-05-02 20:03:49</td>\n",
       "      <td>77.754315</td>\n",
       "      <td>11.452942</td>\n",
       "      <td>Kumarapalaiyam</td>\n",
       "      <td>TamilNadu</td>\n",
       "      <td>77.75431511.452942</td>\n",
       "      <td>M</td>\n",
       "      <td>6</td>\n",
       "      <td>M22-</td>\n",
       "      <td>魅族</td>\n",
       "      <td>魅蓝NOTE</td>\n",
       "      <td>Meizu</td>\n",
       "      <td>(5, 10]</td>\n",
       "    </tr>\n",
       "    <tr>\n",
       "      <th>105497</th>\n",
       "      <td>642398</td>\n",
       "      <td>1481814</td>\n",
       "      <td>5222152119137955379</td>\n",
       "      <td>2016-05-03 16:18:07</td>\n",
       "      <td>77.754315</td>\n",
       "      <td>11.452942</td>\n",
       "      <td>Kumarapalaiyam</td>\n",
       "      <td>TamilNadu</td>\n",
       "      <td>77.75431511.452942</td>\n",
       "      <td>M</td>\n",
       "      <td>6</td>\n",
       "      <td>M22-</td>\n",
       "      <td>魅族</td>\n",
       "      <td>魅蓝NOTE</td>\n",
       "      <td>Meizu</td>\n",
       "      <td>(5, 10]</td>\n",
       "    </tr>\n",
       "  </tbody>\n",
       "</table>\n",
       "</div>"
      ],
      "text/plain": [
       "        Unnamed: 0  event_id            device_id            timestamp  \\\n",
       "0            97304   3186309  7662139143719919126  2016-05-05 21:00:34   \n",
       "1           278424   2036368  7662139143719919126  2016-05-06 22:17:54   \n",
       "2           526041    236974  7662139143719919126  2016-05-07 21:20:51   \n",
       "3           526624    981220  7662139143719919126  2016-05-04 08:39:45   \n",
       "4           546361   2365158  7662139143719919126  2016-05-06 12:22:48   \n",
       "21          126652    918193  5731369272434022440  2016-05-04 04:35:06   \n",
       "22          269377   3173472  5731369272434022440  2016-05-07 16:45:56   \n",
       "23          742037   1817900  5731369272434022440  2016-05-02 04:49:52   \n",
       "24          919879   2278585  5731369272434022440  2016-05-07 01:42:57   \n",
       "25         1001324   1822609  5731369272434022440  2016-05-04 09:38:01   \n",
       "42           16866    926804  7983871429718484702  2016-05-03 12:29:47   \n",
       "43           45850    512493  7983871429718484702  2016-05-03 11:59:39   \n",
       "44          119430     53798  7983871429718484702  2016-05-04 18:34:29   \n",
       "45          461635    259156  7983871429718484702  2016-05-05 18:46:44   \n",
       "46          601088   2419252  7983871429718484702  2016-05-02 22:04:57   \n",
       "127            737   2921356 -4792366453774469421  2016-05-04 20:56:56   \n",
       "129            739   2025265 -4792366453774469421  2016-05-03 14:19:39   \n",
       "131            741   1004771  8331888722038251159  2016-05-03 05:58:18   \n",
       "132            742   3002615 -4792366453774469421  2016-05-07 15:11:07   \n",
       "133            743    682317 -4792366453774469421  2016-05-01 16:34:11   \n",
       "134            744    123429  8331888722038251159  2016-05-02 06:07:48   \n",
       "139            749    860640 -4792366453774469421  2016-05-04 07:13:07   \n",
       "141            751   1705687  8331888722038251159  2016-05-02 06:36:36   \n",
       "146            756   2819977  8331888722038251159  2016-05-03 03:34:28   \n",
       "147            757   3062942  8331888722038251159  2016-05-01 10:05:36   \n",
       "175            840   3219828 -3433061233631405742  2016-05-03 00:27:21   \n",
       "190            917   2927466  7504679594395103702  2016-05-06 22:59:19   \n",
       "191            918   3173738  9114825954360889056  2016-05-01 17:48:59   \n",
       "201            993   2905719 -5386357308574232459  2016-05-05 10:23:43   \n",
       "207           1012   1237701 -3264991548842285607  2016-05-01 20:20:01   \n",
       "209           1033    356391  -778091204089444489  2016-05-06 17:32:51   \n",
       "217           1085   1646585  8258052497226749498  2016-05-04 13:07:23   \n",
       "223           1112   1205397  8004797383233346799  2016-05-02 15:05:42   \n",
       "228           1135   2367484  8006739344249583991  2016-05-01 14:00:22   \n",
       "233           1169   3051425  1998827839104670585  2016-05-05 02:25:12   \n",
       "237           1177   1743394 -1767403103618157736  2016-05-02 10:48:25   \n",
       "270           1357   2559460  5293170331929430065  2016-05-07 16:46:20   \n",
       "279           1395   1751567 -3433061233631405742  2016-05-03 16:51:16   \n",
       "282           1429   1933477  5426528618668523174  2016-05-07 12:28:17   \n",
       "294           1541   1050924  6821597660718586221  2016-05-06 03:57:28   \n",
       "320           1689    547770  6727624950617118462  2016-05-02 10:52:35   \n",
       "322           1700   2604429 -2945791673291374299  2016-05-05 02:05:43   \n",
       "330           1772   2124338 -2631108035853544731  2016-05-01 23:13:10   \n",
       "354           1898    588585  1162969812802801157  2016-05-04 20:58:46   \n",
       "374           2082    690311  1529418243092778721  2016-05-06 20:23:30   \n",
       "393           2182   3181237  3438160819816311710  2016-05-05 19:06:59   \n",
       "434           2428   1665346  1562337957601713514  2016-05-04 11:44:35   \n",
       "584           3399    807260 -2241143511952231265  2016-05-05 03:08:50   \n",
       "588           3424    659221 -2938851385337407296  2016-05-04 10:39:21   \n",
       "1028          6001   1054921 -5856477565035912506  2016-05-03 22:43:06   \n",
       "1047          6081   2689923 -5856477565035912506  2016-05-04 00:57:54   \n",
       "2425         14371   2468247  3438160819816311710  2016-05-05 01:26:06   \n",
       "3129         18588   3230965  7973265006628525491  2016-05-05 10:11:53   \n",
       "5138         30662   1672367  3438160819816311710  2016-05-02 14:46:34   \n",
       "5726         34113   2849324  7973265006628525491  2016-05-03 09:22:01   \n",
       "24573       148998   2028015  5222152119137955379  2016-05-03 16:18:08   \n",
       "33484       203236   1863956  5222152119137955379  2016-05-01 22:31:54   \n",
       "35633       216716   2021154  5222152119137955379  2016-05-02 11:43:06   \n",
       "105292      641052   2812993  5222152119137955379  2016-05-02 20:03:49   \n",
       "105497      642398   1481814  5222152119137955379  2016-05-03 16:18:07   \n",
       "\n",
       "        longitude   latitude            city         state  \\\n",
       "0       80.309272  13.149176         Chennai     TamilNadu   \n",
       "1       80.309272  13.149176         Chennai     TamilNadu   \n",
       "2       80.309272  13.149176         Chennai     TamilNadu   \n",
       "3       80.309272  13.149176         Chennai     TamilNadu   \n",
       "4       80.309272  13.149176         Chennai     TamilNadu   \n",
       "21      80.343613  13.153332         Chennai     TamilNadu   \n",
       "22      80.343613  13.153332         Chennai     TamilNadu   \n",
       "23      80.343613  13.153332         Chennai     TamilNadu   \n",
       "24      80.343613  13.153332         Chennai     TamilNadu   \n",
       "25      80.343613  13.153332         Chennai     TamilNadu   \n",
       "42      80.335435  13.189053         Chennai     TamilNadu   \n",
       "43      80.335435  13.189053         Chennai     TamilNadu   \n",
       "44      80.335435  13.189053         Chennai     TamilNadu   \n",
       "45      80.335435  13.189053         Chennai     TamilNadu   \n",
       "46      80.335435  13.189053         Chennai     TamilNadu   \n",
       "127     80.309010  13.114228         Chennai     TamilNadu   \n",
       "129     80.309010  13.114228         Chennai     TamilNadu   \n",
       "131     80.291743  13.145584         Chennai     TamilNadu   \n",
       "132     80.309010  13.114228         Chennai     TamilNadu   \n",
       "133     80.309010  13.114228         Chennai     TamilNadu   \n",
       "134     80.291743  13.145584         Chennai     TamilNadu   \n",
       "139     80.309010  13.114228         Chennai     TamilNadu   \n",
       "141     80.291743  13.145584         Chennai     TamilNadu   \n",
       "146     80.291743  13.145584         Chennai     TamilNadu   \n",
       "147     80.291743  13.145584         Chennai     TamilNadu   \n",
       "175     80.290779  13.115427         Chennai     TamilNadu   \n",
       "190     76.981045  11.028516    Kuniyamuthur     TamilNadu   \n",
       "191     79.416839  11.558458   Virudhachalam     TamilNadu   \n",
       "201     78.198337  11.763996           Salem     TamilNadu   \n",
       "207     81.865167  25.491231       Allahabad  UttarPradesh   \n",
       "209     79.393288  26.228627          Jalaun  UttarPradesh   \n",
       "217     80.296169  13.132755         Chennai     TamilNadu   \n",
       "223     79.403513  26.222867          Jalaun  UttarPradesh   \n",
       "228     80.326858  13.178251         Chennai     TamilNadu   \n",
       "233     80.282139  13.182266         Chennai     TamilNadu   \n",
       "237     80.306131  13.172728         Chennai     TamilNadu   \n",
       "270     80.323859  13.173375         Chennai     TamilNadu   \n",
       "279     80.290779  13.115427         Chennai     TamilNadu   \n",
       "282     80.367753  13.118858         Chennai     TamilNadu   \n",
       "294     80.356381  13.131019         Chennai     TamilNadu   \n",
       "320     80.332646  13.159141         Chennai     TamilNadu   \n",
       "322     77.421194  28.674835       Ghaziabad  UttarPradesh   \n",
       "330     78.614043  12.760976     Vaniyambadi     TamilNadu   \n",
       "354     77.038589  11.067489     Koyampattur     TamilNadu   \n",
       "374     78.941519  13.030600      Gudiyattam     TamilNadu   \n",
       "393     80.306676  13.160246         Chennai     TamilNadu   \n",
       "434     80.332996  13.149596         Chennai     TamilNadu   \n",
       "584     80.364290  13.176464         Chennai     TamilNadu   \n",
       "588     79.165857  25.335114      Mauranipur  UttarPradesh   \n",
       "1028    80.311632  13.157969         Chennai     TamilNadu   \n",
       "1047    80.311632  13.157969         Chennai     TamilNadu   \n",
       "2425    80.306676  13.160246         Chennai     TamilNadu   \n",
       "3129    78.055423  27.230900            Agra  UttarPradesh   \n",
       "5138    80.306676  13.160246         Chennai     TamilNadu   \n",
       "5726    78.055423  27.230900            Agra  UttarPradesh   \n",
       "24573   77.754315  11.452942  Kumarapalaiyam     TamilNadu   \n",
       "33484   77.754315  11.452942  Kumarapalaiyam     TamilNadu   \n",
       "35633   77.754315  11.452942  Kumarapalaiyam     TamilNadu   \n",
       "105292  77.754315  11.452942  Kumarapalaiyam     TamilNadu   \n",
       "105497  77.754315  11.452942  Kumarapalaiyam     TamilNadu   \n",
       "\n",
       "                            latlong gender  age   group phone_brand  \\\n",
       "0                            nannan      M   20    M22-          酷派   \n",
       "1                            nannan      M   20    M22-          酷派   \n",
       "2                            nannan      M   20    M22-          酷派   \n",
       "3                            nannan      M   20    M22-          酷派   \n",
       "4                            nannan      M   20    M22-          酷派   \n",
       "21                           nannan      M   26  M23-26         HTC   \n",
       "22                           nannan      M   26  M23-26         HTC   \n",
       "23                           nannan      M   26  M23-26         HTC   \n",
       "24                           nannan      M   26  M23-26         HTC   \n",
       "25                           nannan      M   26  M23-26         HTC   \n",
       "42                           nannan      M   32  M32-38          酷派   \n",
       "43                           nannan      M   32  M32-38          酷派   \n",
       "44                           nannan      M   32  M32-38          酷派   \n",
       "45                           nannan      M   32  M32-38          酷派   \n",
       "46                           nannan      M   32  M32-38          酷派   \n",
       "127               80.3090113.114228      M   43    M39+          小米   \n",
       "129               80.3090113.114228      M   43    M39+          小米   \n",
       "131      80.2917430000000313.145584      F   21    F23-          华为   \n",
       "132               80.3090113.114228      M   43    M39+          小米   \n",
       "133               80.3090113.114228      M   43    M39+          小米   \n",
       "134      80.2917430000000313.145584      F   21    F23-          华为   \n",
       "139               80.3090113.114228      M   43    M39+          小米   \n",
       "141      80.2917430000000313.145584      F   21    F23-          华为   \n",
       "146      80.2917430000000313.145584      F   21    F23-          华为   \n",
       "147      80.2917430000000313.145584      F   21    F23-          华为   \n",
       "175     80.29077913.115426999999999      M   66    M39+          小米   \n",
       "190      76.9810450000000211.028516      M   36  M32-38          酷派   \n",
       "191              79.41683911.558458      F   46    F43+          魅族   \n",
       "201              78.19833711.763996      M   69    M39+          三星   \n",
       "207              81.86516725.491231      M   37  M32-38          三星   \n",
       "209     79.39328826.228627000000003      M   50    M39+          魅族   \n",
       "217      80.2961689999999813.132755      M   53    M39+          酷派   \n",
       "223      79.4035129999999826.222867      M   37  M32-38          酷派   \n",
       "228     80.32685813.178251000000001      M   63    M39+          三星   \n",
       "233              80.28213913.182266      M   63    M39+          三星   \n",
       "237      80.3061310000000213.172728      F   37  F33-42          小米   \n",
       "270              80.32385913.173375      M   36  M32-38          德赛   \n",
       "279     80.29077913.115426999999999      M   66    M39+          小米   \n",
       "282      80.3677530000000213.118858      M   57    M39+          小米   \n",
       "294              80.35638113.131019      M   47    M39+          小米   \n",
       "320              80.33264613.159141      F   49    F43+          小米   \n",
       "322     77.42119428.674834999999998      M   52    M39+          小米   \n",
       "330      78.6140430000000212.760976      F   46    F43+          三星   \n",
       "354      77.0385889999999911.067489      M   53    M39+          小米   \n",
       "374                78.94151913.0306      M   59    M39+          小米   \n",
       "393              80.30667613.160246      M   83    M39+          小米   \n",
       "434     80.33299613.149595999999999      F   15    F23-          三星   \n",
       "584      80.3642913.176464000000001      M   15    M22-          小米   \n",
       "588      79.1658569999999725.335114      F   16    F23-          小米   \n",
       "1028     80.3116319999999713.157969      M   16    M22-        OPPO   \n",
       "1047     80.3116319999999713.157969      M   16    M22-        OPPO   \n",
       "2425             80.30667613.160246      M   83    M39+          小米   \n",
       "3129               78.05542327.2309      F   89    F43+        酷比魔方   \n",
       "5138             80.30667613.160246      M   83    M39+          小米   \n",
       "5726               78.05542327.2309      F   89    F43+        酷比魔方   \n",
       "24573            77.75431511.452942      M    6    M22-          魅族   \n",
       "33484            77.75431511.452942      M    6    M22-          魅族   \n",
       "35633            77.75431511.452942      M    6    M22-          魅族   \n",
       "105292           77.75431511.452942      M    6    M22-          魅族   \n",
       "105497           77.75431511.452942      M    6    M22-          魅族   \n",
       "\n",
       "          device_model    brand  age_bins  \n",
       "0                 大神F1  Coolpad  (16, 20]  \n",
       "1                 大神F1  Coolpad  (16, 20]  \n",
       "2                 大神F1  Coolpad  (16, 20]  \n",
       "3                 大神F1  Coolpad  (16, 20]  \n",
       "4                 大神F1  Coolpad  (16, 20]  \n",
       "21             One max      HTC  (25, 30]  \n",
       "22             One max      HTC  (25, 30]  \n",
       "23             One max      HTC  (25, 30]  \n",
       "24             One max      HTC  (25, 30]  \n",
       "25             One max      HTC  (25, 30]  \n",
       "42            大神F2全高清版  Coolpad  (30, 35]  \n",
       "43            大神F2全高清版  Coolpad  (30, 35]  \n",
       "44            大神F2全高清版  Coolpad  (30, 35]  \n",
       "45            大神F2全高清版  Coolpad  (30, 35]  \n",
       "46            大神F2全高清版  Coolpad  (30, 35]  \n",
       "127                 红米   Xiaomi  (40, 45]  \n",
       "129                 红米   Xiaomi  (40, 45]  \n",
       "131              荣耀畅玩4   Huawei  (20, 25]  \n",
       "132                 红米   Xiaomi  (40, 45]  \n",
       "133                 红米   Xiaomi  (40, 45]  \n",
       "134              荣耀畅玩4   Huawei  (20, 25]  \n",
       "139                 红米   Xiaomi  (40, 45]  \n",
       "141              荣耀畅玩4   Huawei  (20, 25]  \n",
       "146              荣耀畅玩4   Huawei  (20, 25]  \n",
       "147              荣耀畅玩4   Huawei  (20, 25]  \n",
       "175             红米note   Xiaomi  (60, 80]  \n",
       "190               大神F1  Coolpad  (35, 40]  \n",
       "191                MX4    Meizu  (45, 50]  \n",
       "201          Galaxy S4  Samsung  (60, 80]  \n",
       "207          Galaxy S3  Samsung  (35, 40]  \n",
       "209                MX3    Meizu  (45, 50]  \n",
       "217              7295C  Coolpad  (50, 60]  \n",
       "223               Y80D  Coolpad  (35, 40]  \n",
       "228          Galaxy S2  Samsung  (60, 80]  \n",
       "233          Galaxy S4  Samsung  (60, 80]  \n",
       "237             红米note   Xiaomi  (35, 40]  \n",
       "270             TS1018       德赛  (35, 40]  \n",
       "279             红米note   Xiaomi  (60, 80]  \n",
       "282               MI 4   Xiaomi  (50, 60]  \n",
       "294               V182   Xiaomi  (45, 50]  \n",
       "320            红米Note3   Xiaomi  (45, 50]  \n",
       "322             红米note   Xiaomi  (50, 60]  \n",
       "330     Galaxy Grand 2  Samsung  (45, 50]  \n",
       "354            红米Note2   Xiaomi  (50, 60]  \n",
       "374             红米note   Xiaomi  (50, 60]  \n",
       "393             GN9002   Xiaomi  (80, 90]  \n",
       "434          Galaxy S3  Samsung  (10, 16]  \n",
       "584                红米2   Xiaomi  (10, 16]  \n",
       "588               红米1S   Xiaomi  (10, 16]  \n",
       "1028               R7s     OPPO  (10, 16]  \n",
       "1047               R7s     OPPO  (10, 16]  \n",
       "2425            GN9002   Xiaomi  (80, 90]  \n",
       "3129           U51GT-W     酷比魔方  (80, 90]  \n",
       "5138            GN9002   Xiaomi  (80, 90]  \n",
       "5726           U51GT-W     酷比魔方  (80, 90]  \n",
       "24573           魅蓝NOTE    Meizu   (5, 10]  \n",
       "33484           魅蓝NOTE    Meizu   (5, 10]  \n",
       "35633           魅蓝NOTE    Meizu   (5, 10]  \n",
       "105292          魅蓝NOTE    Meizu   (5, 10]  \n",
       "105497          魅蓝NOTE    Meizu   (5, 10]  "
      ]
     },
     "execution_count": 11,
     "metadata": {},
     "output_type": "execute_result"
    }
   ],
   "source": [
    "#5. Distribution of Phone Brands(Consider only 10 Most used Phone Brands) for each Age Segment, State, Gender.\n",
    "\n",
    "#dfx5 = dfuniqdata.groupby(['age_bins','brand'])['brand'].count()\n",
    "#dfx5.head(1000)\n",
    "#dat = dfuniqdata['']\n",
    "g = dfuniqdata.groupby([\"age_bins\"])\n",
    "g.head()\n",
    "\n",
    "#df_agg = dfuniqdata.groupby(['age_bins','brand'])['brand'].count().reset_index(name='count')\n",
    "# get dataframe sorted by life Expectancy in each continent \n",
    "#g = dfuniqdata.groupby([\"age_bins\"]).apply(lambda x: x.sort_values([\"brand\"], ascending = False)).reset_index(drop=True)\n",
    "# select top N rows within each continent\n",
    "#a=g.groupby('age_bins').head(5)\n",
    "\n",
    "#g.head(100)\n",
    "                                         \n",
    "#g.nlargest(3)\n",
    "#df_agg.head(100)\n",
    "#res = g.apply(lambda x: x.order(ascending=False).head(3))\n",
    "#res.head()\n",
    "#g = dfuniqdata.sort_values(['age_bins','brand'],ascending=False).groupby(['age_bins','brand']).head(3)\n",
    "#g.head() "
   ]
  },
  {
   "cell_type": "code",
   "execution_count": 12,
   "metadata": {},
   "outputs": [
    {
     "data": {
      "text/html": [
       "<div>\n",
       "<style scoped>\n",
       "    .dataframe tbody tr th:only-of-type {\n",
       "        vertical-align: middle;\n",
       "    }\n",
       "\n",
       "    .dataframe tbody tr th {\n",
       "        vertical-align: top;\n",
       "    }\n",
       "\n",
       "    .dataframe thead th {\n",
       "        text-align: right;\n",
       "    }\n",
       "</style>\n",
       "<table border=\"1\" class=\"dataframe\">\n",
       "  <thead>\n",
       "    <tr style=\"text-align: right;\">\n",
       "      <th></th>\n",
       "      <th>age_bins</th>\n",
       "      <th>brand</th>\n",
       "      <th>count</th>\n",
       "    </tr>\n",
       "  </thead>\n",
       "  <tbody>\n",
       "    <tr>\n",
       "      <th>0</th>\n",
       "      <td>(5, 10]</td>\n",
       "      <td>Meizu</td>\n",
       "      <td>38</td>\n",
       "    </tr>\n",
       "    <tr>\n",
       "      <th>1</th>\n",
       "      <td>(5, 10]</td>\n",
       "      <td>黑米</td>\n",
       "      <td>0</td>\n",
       "    </tr>\n",
       "    <tr>\n",
       "      <th>2</th>\n",
       "      <td>(5, 10]</td>\n",
       "      <td>天语</td>\n",
       "      <td>0</td>\n",
       "    </tr>\n",
       "    <tr>\n",
       "      <th>3</th>\n",
       "      <td>(5, 10]</td>\n",
       "      <td>台电</td>\n",
       "      <td>0</td>\n",
       "    </tr>\n",
       "    <tr>\n",
       "      <th>4</th>\n",
       "      <td>(5, 10]</td>\n",
       "      <td>唯比</td>\n",
       "      <td>0</td>\n",
       "    </tr>\n",
       "    <tr>\n",
       "      <th>5</th>\n",
       "      <td>(5, 10]</td>\n",
       "      <td>唯米</td>\n",
       "      <td>0</td>\n",
       "    </tr>\n",
       "    <tr>\n",
       "      <th>6</th>\n",
       "      <td>(5, 10]</td>\n",
       "      <td>基伍</td>\n",
       "      <td>0</td>\n",
       "    </tr>\n",
       "    <tr>\n",
       "      <th>7</th>\n",
       "      <td>(5, 10]</td>\n",
       "      <td>夏新</td>\n",
       "      <td>0</td>\n",
       "    </tr>\n",
       "    <tr>\n",
       "      <th>8</th>\n",
       "      <td>(5, 10]</td>\n",
       "      <td>大Q</td>\n",
       "      <td>0</td>\n",
       "    </tr>\n",
       "    <tr>\n",
       "      <th>9</th>\n",
       "      <td>(5, 10]</td>\n",
       "      <td>大可乐</td>\n",
       "      <td>0</td>\n",
       "    </tr>\n",
       "    <tr>\n",
       "      <th>10</th>\n",
       "      <td>(10, 16]</td>\n",
       "      <td>Samsung</td>\n",
       "      <td>1391</td>\n",
       "    </tr>\n",
       "    <tr>\n",
       "      <th>11</th>\n",
       "      <td>(10, 16]</td>\n",
       "      <td>Xiaomi</td>\n",
       "      <td>563</td>\n",
       "    </tr>\n",
       "    <tr>\n",
       "      <th>12</th>\n",
       "      <td>(10, 16]</td>\n",
       "      <td>OPPO</td>\n",
       "      <td>477</td>\n",
       "    </tr>\n",
       "    <tr>\n",
       "      <th>13</th>\n",
       "      <td>(10, 16]</td>\n",
       "      <td>Huawei</td>\n",
       "      <td>74</td>\n",
       "    </tr>\n",
       "    <tr>\n",
       "      <th>14</th>\n",
       "      <td>(10, 16]</td>\n",
       "      <td>小杨树</td>\n",
       "      <td>73</td>\n",
       "    </tr>\n",
       "    <tr>\n",
       "      <th>15</th>\n",
       "      <td>(10, 16]</td>\n",
       "      <td>奇酷</td>\n",
       "      <td>8</td>\n",
       "    </tr>\n",
       "    <tr>\n",
       "      <th>16</th>\n",
       "      <td>(10, 16]</td>\n",
       "      <td>Coolpad</td>\n",
       "      <td>6</td>\n",
       "    </tr>\n",
       "    <tr>\n",
       "      <th>17</th>\n",
       "      <td>(10, 16]</td>\n",
       "      <td>LeEco</td>\n",
       "      <td>6</td>\n",
       "    </tr>\n",
       "    <tr>\n",
       "      <th>18</th>\n",
       "      <td>(10, 16]</td>\n",
       "      <td>至尊宝</td>\n",
       "      <td>3</td>\n",
       "    </tr>\n",
       "    <tr>\n",
       "      <th>19</th>\n",
       "      <td>(10, 16]</td>\n",
       "      <td>努比亚</td>\n",
       "      <td>3</td>\n",
       "    </tr>\n",
       "    <tr>\n",
       "      <th>20</th>\n",
       "      <td>(16, 20]</td>\n",
       "      <td>Xiaomi</td>\n",
       "      <td>8766</td>\n",
       "    </tr>\n",
       "    <tr>\n",
       "      <th>21</th>\n",
       "      <td>(16, 20]</td>\n",
       "      <td>Huawei</td>\n",
       "      <td>8064</td>\n",
       "    </tr>\n",
       "    <tr>\n",
       "      <th>22</th>\n",
       "      <td>(16, 20]</td>\n",
       "      <td>Samsung</td>\n",
       "      <td>5809</td>\n",
       "    </tr>\n",
       "    <tr>\n",
       "      <th>23</th>\n",
       "      <td>(16, 20]</td>\n",
       "      <td>Coolpad</td>\n",
       "      <td>3659</td>\n",
       "    </tr>\n",
       "    <tr>\n",
       "      <th>24</th>\n",
       "      <td>(16, 20]</td>\n",
       "      <td>vivo</td>\n",
       "      <td>2838</td>\n",
       "    </tr>\n",
       "    <tr>\n",
       "      <th>25</th>\n",
       "      <td>(16, 20]</td>\n",
       "      <td>OPPO</td>\n",
       "      <td>2209</td>\n",
       "    </tr>\n",
       "    <tr>\n",
       "      <th>26</th>\n",
       "      <td>(16, 20]</td>\n",
       "      <td>朵唯</td>\n",
       "      <td>1360</td>\n",
       "    </tr>\n",
       "    <tr>\n",
       "      <th>27</th>\n",
       "      <td>(16, 20]</td>\n",
       "      <td>Meizu</td>\n",
       "      <td>900</td>\n",
       "    </tr>\n",
       "    <tr>\n",
       "      <th>28</th>\n",
       "      <td>(16, 20]</td>\n",
       "      <td>中国移动</td>\n",
       "      <td>690</td>\n",
       "    </tr>\n",
       "    <tr>\n",
       "      <th>29</th>\n",
       "      <td>(16, 20]</td>\n",
       "      <td>联想</td>\n",
       "      <td>373</td>\n",
       "    </tr>\n",
       "    <tr>\n",
       "      <th>30</th>\n",
       "      <td>(20, 25]</td>\n",
       "      <td>Xiaomi</td>\n",
       "      <td>28187</td>\n",
       "    </tr>\n",
       "    <tr>\n",
       "      <th>31</th>\n",
       "      <td>(20, 25]</td>\n",
       "      <td>Huawei</td>\n",
       "      <td>21593</td>\n",
       "    </tr>\n",
       "    <tr>\n",
       "      <th>32</th>\n",
       "      <td>(20, 25]</td>\n",
       "      <td>Samsung</td>\n",
       "      <td>18815</td>\n",
       "    </tr>\n",
       "    <tr>\n",
       "      <th>33</th>\n",
       "      <td>(20, 25]</td>\n",
       "      <td>vivo</td>\n",
       "      <td>14143</td>\n",
       "    </tr>\n",
       "    <tr>\n",
       "      <th>34</th>\n",
       "      <td>(20, 25]</td>\n",
       "      <td>Meizu</td>\n",
       "      <td>6065</td>\n",
       "    </tr>\n",
       "    <tr>\n",
       "      <th>35</th>\n",
       "      <td>(20, 25]</td>\n",
       "      <td>OPPO</td>\n",
       "      <td>5905</td>\n",
       "    </tr>\n",
       "    <tr>\n",
       "      <th>36</th>\n",
       "      <td>(20, 25]</td>\n",
       "      <td>Coolpad</td>\n",
       "      <td>4722</td>\n",
       "    </tr>\n",
       "    <tr>\n",
       "      <th>37</th>\n",
       "      <td>(20, 25]</td>\n",
       "      <td>HTC</td>\n",
       "      <td>2923</td>\n",
       "    </tr>\n",
       "    <tr>\n",
       "      <th>38</th>\n",
       "      <td>(20, 25]</td>\n",
       "      <td>酷比</td>\n",
       "      <td>1621</td>\n",
       "    </tr>\n",
       "    <tr>\n",
       "      <th>39</th>\n",
       "      <td>(20, 25]</td>\n",
       "      <td>联想</td>\n",
       "      <td>1193</td>\n",
       "    </tr>\n",
       "    <tr>\n",
       "      <th>40</th>\n",
       "      <td>(25, 30]</td>\n",
       "      <td>Xiaomi</td>\n",
       "      <td>37222</td>\n",
       "    </tr>\n",
       "    <tr>\n",
       "      <th>41</th>\n",
       "      <td>(25, 30]</td>\n",
       "      <td>Samsung</td>\n",
       "      <td>31745</td>\n",
       "    </tr>\n",
       "    <tr>\n",
       "      <th>42</th>\n",
       "      <td>(25, 30]</td>\n",
       "      <td>Huawei</td>\n",
       "      <td>19489</td>\n",
       "    </tr>\n",
       "    <tr>\n",
       "      <th>43</th>\n",
       "      <td>(25, 30]</td>\n",
       "      <td>Meizu</td>\n",
       "      <td>11016</td>\n",
       "    </tr>\n",
       "    <tr>\n",
       "      <th>44</th>\n",
       "      <td>(25, 30]</td>\n",
       "      <td>vivo</td>\n",
       "      <td>9056</td>\n",
       "    </tr>\n",
       "    <tr>\n",
       "      <th>45</th>\n",
       "      <td>(25, 30]</td>\n",
       "      <td>Coolpad</td>\n",
       "      <td>6743</td>\n",
       "    </tr>\n",
       "    <tr>\n",
       "      <th>46</th>\n",
       "      <td>(25, 30]</td>\n",
       "      <td>HTC</td>\n",
       "      <td>5405</td>\n",
       "    </tr>\n",
       "    <tr>\n",
       "      <th>47</th>\n",
       "      <td>(25, 30]</td>\n",
       "      <td>OPPO</td>\n",
       "      <td>5282</td>\n",
       "    </tr>\n",
       "    <tr>\n",
       "      <th>48</th>\n",
       "      <td>(25, 30]</td>\n",
       "      <td>联想</td>\n",
       "      <td>1642</td>\n",
       "    </tr>\n",
       "    <tr>\n",
       "      <th>49</th>\n",
       "      <td>(25, 30]</td>\n",
       "      <td>海信</td>\n",
       "      <td>1418</td>\n",
       "    </tr>\n",
       "    <tr>\n",
       "      <th>50</th>\n",
       "      <td>(30, 35]</td>\n",
       "      <td>Xiaomi</td>\n",
       "      <td>58893</td>\n",
       "    </tr>\n",
       "    <tr>\n",
       "      <th>51</th>\n",
       "      <td>(30, 35]</td>\n",
       "      <td>Samsung</td>\n",
       "      <td>23711</td>\n",
       "    </tr>\n",
       "    <tr>\n",
       "      <th>52</th>\n",
       "      <td>(30, 35]</td>\n",
       "      <td>Huawei</td>\n",
       "      <td>11166</td>\n",
       "    </tr>\n",
       "    <tr>\n",
       "      <th>53</th>\n",
       "      <td>(30, 35]</td>\n",
       "      <td>vivo</td>\n",
       "      <td>6394</td>\n",
       "    </tr>\n",
       "    <tr>\n",
       "      <th>54</th>\n",
       "      <td>(30, 35]</td>\n",
       "      <td>Coolpad</td>\n",
       "      <td>5902</td>\n",
       "    </tr>\n",
       "    <tr>\n",
       "      <th>55</th>\n",
       "      <td>(30, 35]</td>\n",
       "      <td>OPPO</td>\n",
       "      <td>5271</td>\n",
       "    </tr>\n",
       "    <tr>\n",
       "      <th>56</th>\n",
       "      <td>(30, 35]</td>\n",
       "      <td>Meizu</td>\n",
       "      <td>2942</td>\n",
       "    </tr>\n",
       "    <tr>\n",
       "      <th>57</th>\n",
       "      <td>(30, 35]</td>\n",
       "      <td>HTC</td>\n",
       "      <td>2395</td>\n",
       "    </tr>\n",
       "    <tr>\n",
       "      <th>58</th>\n",
       "      <td>(30, 35]</td>\n",
       "      <td>LeEco</td>\n",
       "      <td>1784</td>\n",
       "    </tr>\n",
       "    <tr>\n",
       "      <th>59</th>\n",
       "      <td>(30, 35]</td>\n",
       "      <td>联想</td>\n",
       "      <td>1478</td>\n",
       "    </tr>\n",
       "    <tr>\n",
       "      <th>60</th>\n",
       "      <td>(35, 40]</td>\n",
       "      <td>Xiaomi</td>\n",
       "      <td>8770</td>\n",
       "    </tr>\n",
       "    <tr>\n",
       "      <th>61</th>\n",
       "      <td>(35, 40]</td>\n",
       "      <td>Huawei</td>\n",
       "      <td>7757</td>\n",
       "    </tr>\n",
       "    <tr>\n",
       "      <th>62</th>\n",
       "      <td>(35, 40]</td>\n",
       "      <td>Samsung</td>\n",
       "      <td>7285</td>\n",
       "    </tr>\n",
       "    <tr>\n",
       "      <th>63</th>\n",
       "      <td>(35, 40]</td>\n",
       "      <td>OPPO</td>\n",
       "      <td>6135</td>\n",
       "    </tr>\n",
       "    <tr>\n",
       "      <th>64</th>\n",
       "      <td>(35, 40]</td>\n",
       "      <td>vivo</td>\n",
       "      <td>4832</td>\n",
       "    </tr>\n",
       "    <tr>\n",
       "      <th>65</th>\n",
       "      <td>(35, 40]</td>\n",
       "      <td>Coolpad</td>\n",
       "      <td>1862</td>\n",
       "    </tr>\n",
       "    <tr>\n",
       "      <th>66</th>\n",
       "      <td>(35, 40]</td>\n",
       "      <td>果米</td>\n",
       "      <td>1370</td>\n",
       "    </tr>\n",
       "    <tr>\n",
       "      <th>67</th>\n",
       "      <td>(35, 40]</td>\n",
       "      <td>Meizu</td>\n",
       "      <td>1255</td>\n",
       "    </tr>\n",
       "    <tr>\n",
       "      <th>68</th>\n",
       "      <td>(35, 40]</td>\n",
       "      <td>努比亚</td>\n",
       "      <td>969</td>\n",
       "    </tr>\n",
       "    <tr>\n",
       "      <th>69</th>\n",
       "      <td>(35, 40]</td>\n",
       "      <td>HTC</td>\n",
       "      <td>859</td>\n",
       "    </tr>\n",
       "    <tr>\n",
       "      <th>70</th>\n",
       "      <td>(40, 45]</td>\n",
       "      <td>Xiaomi</td>\n",
       "      <td>18815</td>\n",
       "    </tr>\n",
       "    <tr>\n",
       "      <th>71</th>\n",
       "      <td>(40, 45]</td>\n",
       "      <td>Samsung</td>\n",
       "      <td>8748</td>\n",
       "    </tr>\n",
       "    <tr>\n",
       "      <th>72</th>\n",
       "      <td>(40, 45]</td>\n",
       "      <td>Huawei</td>\n",
       "      <td>5934</td>\n",
       "    </tr>\n",
       "    <tr>\n",
       "      <th>73</th>\n",
       "      <td>(40, 45]</td>\n",
       "      <td>Meizu</td>\n",
       "      <td>5280</td>\n",
       "    </tr>\n",
       "    <tr>\n",
       "      <th>74</th>\n",
       "      <td>(40, 45]</td>\n",
       "      <td>OPPO</td>\n",
       "      <td>1487</td>\n",
       "    </tr>\n",
       "    <tr>\n",
       "      <th>75</th>\n",
       "      <td>(40, 45]</td>\n",
       "      <td>Coolpad</td>\n",
       "      <td>1354</td>\n",
       "    </tr>\n",
       "    <tr>\n",
       "      <th>76</th>\n",
       "      <td>(40, 45]</td>\n",
       "      <td>vivo</td>\n",
       "      <td>817</td>\n",
       "    </tr>\n",
       "    <tr>\n",
       "      <th>77</th>\n",
       "      <td>(40, 45]</td>\n",
       "      <td>优米</td>\n",
       "      <td>596</td>\n",
       "    </tr>\n",
       "    <tr>\n",
       "      <th>78</th>\n",
       "      <td>(40, 45]</td>\n",
       "      <td>LeEco</td>\n",
       "      <td>423</td>\n",
       "    </tr>\n",
       "    <tr>\n",
       "      <th>79</th>\n",
       "      <td>(40, 45]</td>\n",
       "      <td>联想</td>\n",
       "      <td>287</td>\n",
       "    </tr>\n",
       "    <tr>\n",
       "      <th>80</th>\n",
       "      <td>(45, 50]</td>\n",
       "      <td>Xiaomi</td>\n",
       "      <td>7521</td>\n",
       "    </tr>\n",
       "    <tr>\n",
       "      <th>81</th>\n",
       "      <td>(45, 50]</td>\n",
       "      <td>Samsung</td>\n",
       "      <td>4813</td>\n",
       "    </tr>\n",
       "    <tr>\n",
       "      <th>82</th>\n",
       "      <td>(45, 50]</td>\n",
       "      <td>Huawei</td>\n",
       "      <td>1662</td>\n",
       "    </tr>\n",
       "    <tr>\n",
       "      <th>83</th>\n",
       "      <td>(45, 50]</td>\n",
       "      <td>vivo</td>\n",
       "      <td>1310</td>\n",
       "    </tr>\n",
       "    <tr>\n",
       "      <th>84</th>\n",
       "      <td>(45, 50]</td>\n",
       "      <td>Meizu</td>\n",
       "      <td>1082</td>\n",
       "    </tr>\n",
       "    <tr>\n",
       "      <th>85</th>\n",
       "      <td>(45, 50]</td>\n",
       "      <td>OPPO</td>\n",
       "      <td>680</td>\n",
       "    </tr>\n",
       "    <tr>\n",
       "      <th>86</th>\n",
       "      <td>(45, 50]</td>\n",
       "      <td>LeEco</td>\n",
       "      <td>633</td>\n",
       "    </tr>\n",
       "    <tr>\n",
       "      <th>87</th>\n",
       "      <td>(45, 50]</td>\n",
       "      <td>Coolpad</td>\n",
       "      <td>429</td>\n",
       "    </tr>\n",
       "    <tr>\n",
       "      <th>88</th>\n",
       "      <td>(45, 50]</td>\n",
       "      <td>HTC</td>\n",
       "      <td>371</td>\n",
       "    </tr>\n",
       "    <tr>\n",
       "      <th>89</th>\n",
       "      <td>(45, 50]</td>\n",
       "      <td>联想</td>\n",
       "      <td>104</td>\n",
       "    </tr>\n",
       "    <tr>\n",
       "      <th>90</th>\n",
       "      <td>(50, 60]</td>\n",
       "      <td>Samsung</td>\n",
       "      <td>3564</td>\n",
       "    </tr>\n",
       "    <tr>\n",
       "      <th>91</th>\n",
       "      <td>(50, 60]</td>\n",
       "      <td>Xiaomi</td>\n",
       "      <td>2431</td>\n",
       "    </tr>\n",
       "    <tr>\n",
       "      <th>92</th>\n",
       "      <td>(50, 60]</td>\n",
       "      <td>Huawei</td>\n",
       "      <td>2261</td>\n",
       "    </tr>\n",
       "    <tr>\n",
       "      <th>93</th>\n",
       "      <td>(50, 60]</td>\n",
       "      <td>OPPO</td>\n",
       "      <td>1220</td>\n",
       "    </tr>\n",
       "    <tr>\n",
       "      <th>94</th>\n",
       "      <td>(50, 60]</td>\n",
       "      <td>酷比魔方</td>\n",
       "      <td>838</td>\n",
       "    </tr>\n",
       "    <tr>\n",
       "      <th>95</th>\n",
       "      <td>(50, 60]</td>\n",
       "      <td>Coolpad</td>\n",
       "      <td>704</td>\n",
       "    </tr>\n",
       "    <tr>\n",
       "      <th>96</th>\n",
       "      <td>(50, 60]</td>\n",
       "      <td>Meizu</td>\n",
       "      <td>637</td>\n",
       "    </tr>\n",
       "    <tr>\n",
       "      <th>97</th>\n",
       "      <td>(50, 60]</td>\n",
       "      <td>vivo</td>\n",
       "      <td>346</td>\n",
       "    </tr>\n",
       "    <tr>\n",
       "      <th>98</th>\n",
       "      <td>(50, 60]</td>\n",
       "      <td>努比亚</td>\n",
       "      <td>216</td>\n",
       "    </tr>\n",
       "    <tr>\n",
       "      <th>99</th>\n",
       "      <td>(50, 60]</td>\n",
       "      <td>HTC</td>\n",
       "      <td>139</td>\n",
       "    </tr>\n",
       "    <tr>\n",
       "      <th>100</th>\n",
       "      <td>(60, 80]</td>\n",
       "      <td>Samsung</td>\n",
       "      <td>2856</td>\n",
       "    </tr>\n",
       "    <tr>\n",
       "      <th>101</th>\n",
       "      <td>(60, 80]</td>\n",
       "      <td>Xiaomi</td>\n",
       "      <td>2623</td>\n",
       "    </tr>\n",
       "    <tr>\n",
       "      <th>102</th>\n",
       "      <td>(60, 80]</td>\n",
       "      <td>Coolpad</td>\n",
       "      <td>514</td>\n",
       "    </tr>\n",
       "    <tr>\n",
       "      <th>103</th>\n",
       "      <td>(60, 80]</td>\n",
       "      <td>Huawei</td>\n",
       "      <td>504</td>\n",
       "    </tr>\n",
       "    <tr>\n",
       "      <th>104</th>\n",
       "      <td>(60, 80]</td>\n",
       "      <td>海尔</td>\n",
       "      <td>441</td>\n",
       "    </tr>\n",
       "    <tr>\n",
       "      <th>105</th>\n",
       "      <td>(60, 80]</td>\n",
       "      <td>Meizu</td>\n",
       "      <td>336</td>\n",
       "    </tr>\n",
       "    <tr>\n",
       "      <th>106</th>\n",
       "      <td>(60, 80]</td>\n",
       "      <td>HTC</td>\n",
       "      <td>286</td>\n",
       "    </tr>\n",
       "    <tr>\n",
       "      <th>107</th>\n",
       "      <td>(60, 80]</td>\n",
       "      <td>OPPO</td>\n",
       "      <td>149</td>\n",
       "    </tr>\n",
       "    <tr>\n",
       "      <th>108</th>\n",
       "      <td>(60, 80]</td>\n",
       "      <td>优米</td>\n",
       "      <td>95</td>\n",
       "    </tr>\n",
       "    <tr>\n",
       "      <th>109</th>\n",
       "      <td>(60, 80]</td>\n",
       "      <td>vivo</td>\n",
       "      <td>88</td>\n",
       "    </tr>\n",
       "    <tr>\n",
       "      <th>110</th>\n",
       "      <td>(80, 90]</td>\n",
       "      <td>Xiaomi</td>\n",
       "      <td>211</td>\n",
       "    </tr>\n",
       "    <tr>\n",
       "      <th>111</th>\n",
       "      <td>(80, 90]</td>\n",
       "      <td>酷比魔方</td>\n",
       "      <td>178</td>\n",
       "    </tr>\n",
       "    <tr>\n",
       "      <th>112</th>\n",
       "      <td>(80, 90]</td>\n",
       "      <td>vivo</td>\n",
       "      <td>6</td>\n",
       "    </tr>\n",
       "    <tr>\n",
       "      <th>113</th>\n",
       "      <td>(80, 90]</td>\n",
       "      <td>黑米</td>\n",
       "      <td>0</td>\n",
       "    </tr>\n",
       "    <tr>\n",
       "      <th>114</th>\n",
       "      <td>(80, 90]</td>\n",
       "      <td>大可乐</td>\n",
       "      <td>0</td>\n",
       "    </tr>\n",
       "    <tr>\n",
       "      <th>115</th>\n",
       "      <td>(80, 90]</td>\n",
       "      <td>台电</td>\n",
       "      <td>0</td>\n",
       "    </tr>\n",
       "    <tr>\n",
       "      <th>116</th>\n",
       "      <td>(80, 90]</td>\n",
       "      <td>唯比</td>\n",
       "      <td>0</td>\n",
       "    </tr>\n",
       "    <tr>\n",
       "      <th>117</th>\n",
       "      <td>(80, 90]</td>\n",
       "      <td>唯米</td>\n",
       "      <td>0</td>\n",
       "    </tr>\n",
       "    <tr>\n",
       "      <th>118</th>\n",
       "      <td>(80, 90]</td>\n",
       "      <td>基伍</td>\n",
       "      <td>0</td>\n",
       "    </tr>\n",
       "    <tr>\n",
       "      <th>119</th>\n",
       "      <td>(80, 90]</td>\n",
       "      <td>夏新</td>\n",
       "      <td>0</td>\n",
       "    </tr>\n",
       "  </tbody>\n",
       "</table>\n",
       "</div>"
      ],
      "text/plain": [
       "     age_bins    brand  count\n",
       "0     (5, 10]    Meizu     38\n",
       "1     (5, 10]       黑米      0\n",
       "2     (5, 10]       天语      0\n",
       "3     (5, 10]       台电      0\n",
       "4     (5, 10]       唯比      0\n",
       "5     (5, 10]       唯米      0\n",
       "6     (5, 10]       基伍      0\n",
       "7     (5, 10]       夏新      0\n",
       "8     (5, 10]       大Q      0\n",
       "9     (5, 10]      大可乐      0\n",
       "10   (10, 16]  Samsung   1391\n",
       "11   (10, 16]   Xiaomi    563\n",
       "12   (10, 16]     OPPO    477\n",
       "13   (10, 16]   Huawei     74\n",
       "14   (10, 16]      小杨树     73\n",
       "15   (10, 16]       奇酷      8\n",
       "16   (10, 16]  Coolpad      6\n",
       "17   (10, 16]    LeEco      6\n",
       "18   (10, 16]      至尊宝      3\n",
       "19   (10, 16]      努比亚      3\n",
       "20   (16, 20]   Xiaomi   8766\n",
       "21   (16, 20]   Huawei   8064\n",
       "22   (16, 20]  Samsung   5809\n",
       "23   (16, 20]  Coolpad   3659\n",
       "24   (16, 20]     vivo   2838\n",
       "25   (16, 20]     OPPO   2209\n",
       "26   (16, 20]       朵唯   1360\n",
       "27   (16, 20]    Meizu    900\n",
       "28   (16, 20]     中国移动    690\n",
       "29   (16, 20]      联想     373\n",
       "30   (20, 25]   Xiaomi  28187\n",
       "31   (20, 25]   Huawei  21593\n",
       "32   (20, 25]  Samsung  18815\n",
       "33   (20, 25]     vivo  14143\n",
       "34   (20, 25]    Meizu   6065\n",
       "35   (20, 25]     OPPO   5905\n",
       "36   (20, 25]  Coolpad   4722\n",
       "37   (20, 25]      HTC   2923\n",
       "38   (20, 25]       酷比   1621\n",
       "39   (20, 25]      联想    1193\n",
       "40   (25, 30]   Xiaomi  37222\n",
       "41   (25, 30]  Samsung  31745\n",
       "42   (25, 30]   Huawei  19489\n",
       "43   (25, 30]    Meizu  11016\n",
       "44   (25, 30]     vivo   9056\n",
       "45   (25, 30]  Coolpad   6743\n",
       "46   (25, 30]      HTC   5405\n",
       "47   (25, 30]     OPPO   5282\n",
       "48   (25, 30]      联想    1642\n",
       "49   (25, 30]       海信   1418\n",
       "50   (30, 35]   Xiaomi  58893\n",
       "51   (30, 35]  Samsung  23711\n",
       "52   (30, 35]   Huawei  11166\n",
       "53   (30, 35]     vivo   6394\n",
       "54   (30, 35]  Coolpad   5902\n",
       "55   (30, 35]     OPPO   5271\n",
       "56   (30, 35]    Meizu   2942\n",
       "57   (30, 35]      HTC   2395\n",
       "58   (30, 35]    LeEco   1784\n",
       "59   (30, 35]      联想    1478\n",
       "60   (35, 40]   Xiaomi   8770\n",
       "61   (35, 40]   Huawei   7757\n",
       "62   (35, 40]  Samsung   7285\n",
       "63   (35, 40]     OPPO   6135\n",
       "64   (35, 40]     vivo   4832\n",
       "65   (35, 40]  Coolpad   1862\n",
       "66   (35, 40]       果米   1370\n",
       "67   (35, 40]    Meizu   1255\n",
       "68   (35, 40]      努比亚    969\n",
       "69   (35, 40]      HTC    859\n",
       "70   (40, 45]   Xiaomi  18815\n",
       "71   (40, 45]  Samsung   8748\n",
       "72   (40, 45]   Huawei   5934\n",
       "73   (40, 45]    Meizu   5280\n",
       "74   (40, 45]     OPPO   1487\n",
       "75   (40, 45]  Coolpad   1354\n",
       "76   (40, 45]     vivo    817\n",
       "77   (40, 45]       优米    596\n",
       "78   (40, 45]    LeEco    423\n",
       "79   (40, 45]      联想     287\n",
       "80   (45, 50]   Xiaomi   7521\n",
       "81   (45, 50]  Samsung   4813\n",
       "82   (45, 50]   Huawei   1662\n",
       "83   (45, 50]     vivo   1310\n",
       "84   (45, 50]    Meizu   1082\n",
       "85   (45, 50]     OPPO    680\n",
       "86   (45, 50]    LeEco    633\n",
       "87   (45, 50]  Coolpad    429\n",
       "88   (45, 50]      HTC    371\n",
       "89   (45, 50]      联想     104\n",
       "90   (50, 60]  Samsung   3564\n",
       "91   (50, 60]   Xiaomi   2431\n",
       "92   (50, 60]   Huawei   2261\n",
       "93   (50, 60]     OPPO   1220\n",
       "94   (50, 60]     酷比魔方    838\n",
       "95   (50, 60]  Coolpad    704\n",
       "96   (50, 60]    Meizu    637\n",
       "97   (50, 60]     vivo    346\n",
       "98   (50, 60]      努比亚    216\n",
       "99   (50, 60]      HTC    139\n",
       "100  (60, 80]  Samsung   2856\n",
       "101  (60, 80]   Xiaomi   2623\n",
       "102  (60, 80]  Coolpad    514\n",
       "103  (60, 80]   Huawei    504\n",
       "104  (60, 80]       海尔    441\n",
       "105  (60, 80]    Meizu    336\n",
       "106  (60, 80]      HTC    286\n",
       "107  (60, 80]     OPPO    149\n",
       "108  (60, 80]       优米     95\n",
       "109  (60, 80]     vivo     88\n",
       "110  (80, 90]   Xiaomi    211\n",
       "111  (80, 90]     酷比魔方    178\n",
       "112  (80, 90]     vivo      6\n",
       "113  (80, 90]       黑米      0\n",
       "114  (80, 90]      大可乐      0\n",
       "115  (80, 90]       台电      0\n",
       "116  (80, 90]       唯比      0\n",
       "117  (80, 90]       唯米      0\n",
       "118  (80, 90]       基伍      0\n",
       "119  (80, 90]       夏新      0"
      ]
     },
     "execution_count": 12,
     "metadata": {},
     "output_type": "execute_result"
    }
   ],
   "source": [
    "#dfx5 = dfuniqdata.groupby(['age_bins','brand'])['brand'].count()\n",
    "#dfx5.head(1000)\n",
    "dfuniqdata.head()\n",
    "dfg = dfuniqdata.groupby(['age_bins', 'brand']).agg({'brand': [ 'count']})\n",
    "pd.set_option('display.max_rows', 1000)\n",
    "g = dfg['brand','count'].groupby(\n",
    "      level=0, group_keys=False).apply(\n",
    "        lambda x: x.sort_values(ascending=False).head(10)).reset_index(name='count')\n",
    "g"
   ]
  },
  {
   "cell_type": "code",
   "execution_count": 32,
   "metadata": {},
   "outputs": [],
   "source": [
    "\n",
    "#ageb = list(set(g.age_bins))\n",
    "            \n",
    "            \n",
    "#import plotly.express as px\n",
    "#fig = px.bar(g, x=\"brand\", y=\"count\", color=\"smoker\", barmode=\"group\",facet_col=\"day\",category_orders={\"day\": ageb})\n",
    "#fig.show()"
   ]
  },
  {
   "cell_type": "code",
   "execution_count": null,
   "metadata": {},
   "outputs": [],
   "source": []
  },
  {
   "cell_type": "markdown",
   "metadata": {},
   "source": [
    "academics @INSAID <academics@insaid.co>\n",
    "\t\n",
    "Fri, Jul 10, 6:30 PM (7 days ago)\n",
    "\t\n",
    "to bcc: me\n",
    "\n",
    "Hi INSAIDians,\n",
    "\n",
    "By now, you should have resolved the challenges present in the Data.\n",
    "\n",
    "Here are the challenges that are present in the Data:\n",
    "\n",
    "1. There are nulls in \"device_id\" of events_data which should not be the case.\n",
    "\n",
    "2. There are nulls in \"latitude\" and \"longitude\".\n",
    "\n",
    "3. Some of the \"latitudes\" and \"longitudes\" are wrong.\n",
    "\n",
    "4. \"state\" column of events_data has null values in the Database. Retrieve those rows and fill them appropriately.\n",
    "\n",
    "Once you have your Data preprocessed, it is ready to undergo Analysis.\n",
    "\n",
    "Here is the Task for Week 3:\n",
    "\n",
    "1. Do Analysis on the preprocessed Data.\n",
    "\n",
    "Here are the points about how Analysis should be done:\n",
    "\n",
    "1. Distribution of Users(device_id) across States.\n",
    "\n",
    "2. Distribution of Users across Phone Brands(Consider only 10 Most used Phone Brands).\n",
    "\n",
    "3. Distribution of Users across Gender.\n",
    "\n",
    "4. Distribution of Users across Age Segments.\n",
    "\n",
    "5. Distribution of Phone Brands(Consider only 10 Most used Phone Brands) for each Age Segment, State, Gender.\n",
    "\n",
    "6. Distribution of Gender for each State, Age Segment and Phone Brand(Consider only 10 Most used Phone Brands).\n",
    "\n",
    "7. Distribution of Age Segments for each State, Gender and Phone Brand(Consider only 10 Most used Phone Brands).\n",
    "\n",
    "\n",
    "Note: While doing analysis for the above points, consider only one instance of a particular User(device_id) as a User can do multiple phone calls and considering every instance of the same User can give misleading numbers.\n",
    "\n",
    "8. Hourly distribution of Phone Calls.\n",
    "\n",
    "9. Plot the Users on the Map using any suitable package."
   ]
  },
  {
   "cell_type": "code",
   "execution_count": 21,
   "metadata": {},
   "outputs": [
    {
     "data": {
      "text/html": [
       "<div>\n",
       "<style scoped>\n",
       "    .dataframe tbody tr th:only-of-type {\n",
       "        vertical-align: middle;\n",
       "    }\n",
       "\n",
       "    .dataframe tbody tr th {\n",
       "        vertical-align: top;\n",
       "    }\n",
       "\n",
       "    .dataframe thead th {\n",
       "        text-align: right;\n",
       "    }\n",
       "</style>\n",
       "<table border=\"1\" class=\"dataframe\">\n",
       "  <thead>\n",
       "    <tr style=\"text-align: right;\">\n",
       "      <th></th>\n",
       "      <th>gender</th>\n",
       "      <th>brand</th>\n",
       "      <th>count</th>\n",
       "    </tr>\n",
       "  </thead>\n",
       "  <tbody>\n",
       "    <tr>\n",
       "      <th>0</th>\n",
       "      <td>F</td>\n",
       "      <td>Samsung</td>\n",
       "      <td>41610</td>\n",
       "    </tr>\n",
       "    <tr>\n",
       "      <th>1</th>\n",
       "      <td>F</td>\n",
       "      <td>Xiaomi</td>\n",
       "      <td>39824</td>\n",
       "    </tr>\n",
       "    <tr>\n",
       "      <th>2</th>\n",
       "      <td>F</td>\n",
       "      <td>Huawei</td>\n",
       "      <td>30551</td>\n",
       "    </tr>\n",
       "    <tr>\n",
       "      <th>3</th>\n",
       "      <td>F</td>\n",
       "      <td>vivo</td>\n",
       "      <td>18146</td>\n",
       "    </tr>\n",
       "    <tr>\n",
       "      <th>4</th>\n",
       "      <td>F</td>\n",
       "      <td>OPPO</td>\n",
       "      <td>12557</td>\n",
       "    </tr>\n",
       "    <tr>\n",
       "      <th>5</th>\n",
       "      <td>F</td>\n",
       "      <td>Meizu</td>\n",
       "      <td>10292</td>\n",
       "    </tr>\n",
       "    <tr>\n",
       "      <th>6</th>\n",
       "      <td>F</td>\n",
       "      <td>Coolpad</td>\n",
       "      <td>6144</td>\n",
       "    </tr>\n",
       "    <tr>\n",
       "      <th>7</th>\n",
       "      <td>F</td>\n",
       "      <td>HTC</td>\n",
       "      <td>1883</td>\n",
       "    </tr>\n",
       "    <tr>\n",
       "      <th>8</th>\n",
       "      <td>F</td>\n",
       "      <td>朵唯</td>\n",
       "      <td>1585</td>\n",
       "    </tr>\n",
       "    <tr>\n",
       "      <th>9</th>\n",
       "      <td>F</td>\n",
       "      <td>LeEco</td>\n",
       "      <td>1333</td>\n",
       "    </tr>\n",
       "    <tr>\n",
       "      <th>10</th>\n",
       "      <td>M</td>\n",
       "      <td>Xiaomi</td>\n",
       "      <td>134178</td>\n",
       "    </tr>\n",
       "    <tr>\n",
       "      <th>11</th>\n",
       "      <td>M</td>\n",
       "      <td>Samsung</td>\n",
       "      <td>67127</td>\n",
       "    </tr>\n",
       "    <tr>\n",
       "      <th>12</th>\n",
       "      <td>M</td>\n",
       "      <td>Huawei</td>\n",
       "      <td>47953</td>\n",
       "    </tr>\n",
       "    <tr>\n",
       "      <th>13</th>\n",
       "      <td>M</td>\n",
       "      <td>vivo</td>\n",
       "      <td>21685</td>\n",
       "    </tr>\n",
       "    <tr>\n",
       "      <th>14</th>\n",
       "      <td>M</td>\n",
       "      <td>Coolpad</td>\n",
       "      <td>19751</td>\n",
       "    </tr>\n",
       "    <tr>\n",
       "      <th>15</th>\n",
       "      <td>M</td>\n",
       "      <td>Meizu</td>\n",
       "      <td>19259</td>\n",
       "    </tr>\n",
       "    <tr>\n",
       "      <th>16</th>\n",
       "      <td>M</td>\n",
       "      <td>OPPO</td>\n",
       "      <td>16258</td>\n",
       "    </tr>\n",
       "    <tr>\n",
       "      <th>17</th>\n",
       "      <td>M</td>\n",
       "      <td>HTC</td>\n",
       "      <td>10763</td>\n",
       "    </tr>\n",
       "    <tr>\n",
       "      <th>18</th>\n",
       "      <td>M</td>\n",
       "      <td>联想</td>\n",
       "      <td>4835</td>\n",
       "    </tr>\n",
       "    <tr>\n",
       "      <th>19</th>\n",
       "      <td>M</td>\n",
       "      <td>LeEco</td>\n",
       "      <td>3701</td>\n",
       "    </tr>\n",
       "  </tbody>\n",
       "</table>\n",
       "</div>"
      ],
      "text/plain": [
       "   gender    brand   count\n",
       "0       F  Samsung   41610\n",
       "1       F   Xiaomi   39824\n",
       "2       F   Huawei   30551\n",
       "3       F     vivo   18146\n",
       "4       F     OPPO   12557\n",
       "5       F    Meizu   10292\n",
       "6       F  Coolpad    6144\n",
       "7       F      HTC    1883\n",
       "8       F       朵唯    1585\n",
       "9       F    LeEco    1333\n",
       "10      M   Xiaomi  134178\n",
       "11      M  Samsung   67127\n",
       "12      M   Huawei   47953\n",
       "13      M     vivo   21685\n",
       "14      M  Coolpad   19751\n",
       "15      M    Meizu   19259\n",
       "16      M     OPPO   16258\n",
       "17      M      HTC   10763\n",
       "18      M      联想     4835\n",
       "19      M    LeEco    3701"
      ]
     },
     "execution_count": 21,
     "metadata": {},
     "output_type": "execute_result"
    }
   ],
   "source": [
    "#dfx5 = dfuniqdata.groupby(['age_bins','brand'])['brand'].count()\n",
    "#dfx5.head(1000)\n",
    "dfuniqdata.head()\n",
    "dfg = dfuniqdata.groupby(['gender', 'brand']).agg({'brand': [ 'count']})\n",
    "pd.set_option('display.max_rows', 1000)\n",
    "g = dfg['brand','count'].groupby(\n",
    "      level=0, group_keys=False).apply(\n",
    "        lambda x: x.sort_values(ascending=False).head(10)).reset_index(name='count')\n",
    "g"
   ]
  },
  {
   "cell_type": "code",
   "execution_count": 22,
   "metadata": {},
   "outputs": [
    {
     "data": {
      "application/vnd.plotly.v1+json": {
       "config": {
        "plotlyServerURL": "https://plot.ly"
       },
       "data": [
        {
         "alignmentgroup": "True",
         "hovertemplate": "gender=F<br>brand=%{x}<br>count=%{y}<extra></extra>",
         "legendgroup": "F",
         "marker": {
          "color": "#636efa"
         },
         "name": "F",
         "offsetgroup": "F",
         "orientation": "v",
         "showlegend": true,
         "textposition": "auto",
         "type": "bar",
         "x": [
          "Samsung",
          "Xiaomi",
          "Huawei",
          "vivo",
          "OPPO",
          "Meizu",
          "Coolpad",
          "HTC",
          "朵唯",
          "LeEco"
         ],
         "xaxis": "x",
         "y": [
          41610,
          39824,
          30551,
          18146,
          12557,
          10292,
          6144,
          1883,
          1585,
          1333
         ],
         "yaxis": "y"
        },
        {
         "alignmentgroup": "True",
         "hovertemplate": "gender=M<br>brand=%{x}<br>count=%{y}<extra></extra>",
         "legendgroup": "M",
         "marker": {
          "color": "#EF553B"
         },
         "name": "M",
         "offsetgroup": "M",
         "orientation": "v",
         "showlegend": true,
         "textposition": "auto",
         "type": "bar",
         "x": [
          "Xiaomi",
          "Samsung",
          "Huawei",
          "vivo",
          "Coolpad",
          "Meizu",
          "OPPO",
          "HTC",
          "联想 ",
          "LeEco"
         ],
         "xaxis": "x",
         "y": [
          134178,
          67127,
          47953,
          21685,
          19751,
          19259,
          16258,
          10763,
          4835,
          3701
         ],
         "yaxis": "y"
        }
       ],
       "layout": {
        "barmode": "relative",
        "legend": {
         "title": {
          "text": "gender"
         },
         "tracegroupgap": 0
        },
        "margin": {
         "t": 60
        },
        "template": {
         "data": {
          "bar": [
           {
            "error_x": {
             "color": "#2a3f5f"
            },
            "error_y": {
             "color": "#2a3f5f"
            },
            "marker": {
             "line": {
              "color": "#E5ECF6",
              "width": 0.5
             }
            },
            "type": "bar"
           }
          ],
          "barpolar": [
           {
            "marker": {
             "line": {
              "color": "#E5ECF6",
              "width": 0.5
             }
            },
            "type": "barpolar"
           }
          ],
          "carpet": [
           {
            "aaxis": {
             "endlinecolor": "#2a3f5f",
             "gridcolor": "white",
             "linecolor": "white",
             "minorgridcolor": "white",
             "startlinecolor": "#2a3f5f"
            },
            "baxis": {
             "endlinecolor": "#2a3f5f",
             "gridcolor": "white",
             "linecolor": "white",
             "minorgridcolor": "white",
             "startlinecolor": "#2a3f5f"
            },
            "type": "carpet"
           }
          ],
          "choropleth": [
           {
            "colorbar": {
             "outlinewidth": 0,
             "ticks": ""
            },
            "type": "choropleth"
           }
          ],
          "contour": [
           {
            "colorbar": {
             "outlinewidth": 0,
             "ticks": ""
            },
            "colorscale": [
             [
              0,
              "#0d0887"
             ],
             [
              0.1111111111111111,
              "#46039f"
             ],
             [
              0.2222222222222222,
              "#7201a8"
             ],
             [
              0.3333333333333333,
              "#9c179e"
             ],
             [
              0.4444444444444444,
              "#bd3786"
             ],
             [
              0.5555555555555556,
              "#d8576b"
             ],
             [
              0.6666666666666666,
              "#ed7953"
             ],
             [
              0.7777777777777778,
              "#fb9f3a"
             ],
             [
              0.8888888888888888,
              "#fdca26"
             ],
             [
              1,
              "#f0f921"
             ]
            ],
            "type": "contour"
           }
          ],
          "contourcarpet": [
           {
            "colorbar": {
             "outlinewidth": 0,
             "ticks": ""
            },
            "type": "contourcarpet"
           }
          ],
          "heatmap": [
           {
            "colorbar": {
             "outlinewidth": 0,
             "ticks": ""
            },
            "colorscale": [
             [
              0,
              "#0d0887"
             ],
             [
              0.1111111111111111,
              "#46039f"
             ],
             [
              0.2222222222222222,
              "#7201a8"
             ],
             [
              0.3333333333333333,
              "#9c179e"
             ],
             [
              0.4444444444444444,
              "#bd3786"
             ],
             [
              0.5555555555555556,
              "#d8576b"
             ],
             [
              0.6666666666666666,
              "#ed7953"
             ],
             [
              0.7777777777777778,
              "#fb9f3a"
             ],
             [
              0.8888888888888888,
              "#fdca26"
             ],
             [
              1,
              "#f0f921"
             ]
            ],
            "type": "heatmap"
           }
          ],
          "heatmapgl": [
           {
            "colorbar": {
             "outlinewidth": 0,
             "ticks": ""
            },
            "colorscale": [
             [
              0,
              "#0d0887"
             ],
             [
              0.1111111111111111,
              "#46039f"
             ],
             [
              0.2222222222222222,
              "#7201a8"
             ],
             [
              0.3333333333333333,
              "#9c179e"
             ],
             [
              0.4444444444444444,
              "#bd3786"
             ],
             [
              0.5555555555555556,
              "#d8576b"
             ],
             [
              0.6666666666666666,
              "#ed7953"
             ],
             [
              0.7777777777777778,
              "#fb9f3a"
             ],
             [
              0.8888888888888888,
              "#fdca26"
             ],
             [
              1,
              "#f0f921"
             ]
            ],
            "type": "heatmapgl"
           }
          ],
          "histogram": [
           {
            "marker": {
             "colorbar": {
              "outlinewidth": 0,
              "ticks": ""
             }
            },
            "type": "histogram"
           }
          ],
          "histogram2d": [
           {
            "colorbar": {
             "outlinewidth": 0,
             "ticks": ""
            },
            "colorscale": [
             [
              0,
              "#0d0887"
             ],
             [
              0.1111111111111111,
              "#46039f"
             ],
             [
              0.2222222222222222,
              "#7201a8"
             ],
             [
              0.3333333333333333,
              "#9c179e"
             ],
             [
              0.4444444444444444,
              "#bd3786"
             ],
             [
              0.5555555555555556,
              "#d8576b"
             ],
             [
              0.6666666666666666,
              "#ed7953"
             ],
             [
              0.7777777777777778,
              "#fb9f3a"
             ],
             [
              0.8888888888888888,
              "#fdca26"
             ],
             [
              1,
              "#f0f921"
             ]
            ],
            "type": "histogram2d"
           }
          ],
          "histogram2dcontour": [
           {
            "colorbar": {
             "outlinewidth": 0,
             "ticks": ""
            },
            "colorscale": [
             [
              0,
              "#0d0887"
             ],
             [
              0.1111111111111111,
              "#46039f"
             ],
             [
              0.2222222222222222,
              "#7201a8"
             ],
             [
              0.3333333333333333,
              "#9c179e"
             ],
             [
              0.4444444444444444,
              "#bd3786"
             ],
             [
              0.5555555555555556,
              "#d8576b"
             ],
             [
              0.6666666666666666,
              "#ed7953"
             ],
             [
              0.7777777777777778,
              "#fb9f3a"
             ],
             [
              0.8888888888888888,
              "#fdca26"
             ],
             [
              1,
              "#f0f921"
             ]
            ],
            "type": "histogram2dcontour"
           }
          ],
          "mesh3d": [
           {
            "colorbar": {
             "outlinewidth": 0,
             "ticks": ""
            },
            "type": "mesh3d"
           }
          ],
          "parcoords": [
           {
            "line": {
             "colorbar": {
              "outlinewidth": 0,
              "ticks": ""
             }
            },
            "type": "parcoords"
           }
          ],
          "pie": [
           {
            "automargin": true,
            "type": "pie"
           }
          ],
          "scatter": [
           {
            "marker": {
             "colorbar": {
              "outlinewidth": 0,
              "ticks": ""
             }
            },
            "type": "scatter"
           }
          ],
          "scatter3d": [
           {
            "line": {
             "colorbar": {
              "outlinewidth": 0,
              "ticks": ""
             }
            },
            "marker": {
             "colorbar": {
              "outlinewidth": 0,
              "ticks": ""
             }
            },
            "type": "scatter3d"
           }
          ],
          "scattercarpet": [
           {
            "marker": {
             "colorbar": {
              "outlinewidth": 0,
              "ticks": ""
             }
            },
            "type": "scattercarpet"
           }
          ],
          "scattergeo": [
           {
            "marker": {
             "colorbar": {
              "outlinewidth": 0,
              "ticks": ""
             }
            },
            "type": "scattergeo"
           }
          ],
          "scattergl": [
           {
            "marker": {
             "colorbar": {
              "outlinewidth": 0,
              "ticks": ""
             }
            },
            "type": "scattergl"
           }
          ],
          "scattermapbox": [
           {
            "marker": {
             "colorbar": {
              "outlinewidth": 0,
              "ticks": ""
             }
            },
            "type": "scattermapbox"
           }
          ],
          "scatterpolar": [
           {
            "marker": {
             "colorbar": {
              "outlinewidth": 0,
              "ticks": ""
             }
            },
            "type": "scatterpolar"
           }
          ],
          "scatterpolargl": [
           {
            "marker": {
             "colorbar": {
              "outlinewidth": 0,
              "ticks": ""
             }
            },
            "type": "scatterpolargl"
           }
          ],
          "scatterternary": [
           {
            "marker": {
             "colorbar": {
              "outlinewidth": 0,
              "ticks": ""
             }
            },
            "type": "scatterternary"
           }
          ],
          "surface": [
           {
            "colorbar": {
             "outlinewidth": 0,
             "ticks": ""
            },
            "colorscale": [
             [
              0,
              "#0d0887"
             ],
             [
              0.1111111111111111,
              "#46039f"
             ],
             [
              0.2222222222222222,
              "#7201a8"
             ],
             [
              0.3333333333333333,
              "#9c179e"
             ],
             [
              0.4444444444444444,
              "#bd3786"
             ],
             [
              0.5555555555555556,
              "#d8576b"
             ],
             [
              0.6666666666666666,
              "#ed7953"
             ],
             [
              0.7777777777777778,
              "#fb9f3a"
             ],
             [
              0.8888888888888888,
              "#fdca26"
             ],
             [
              1,
              "#f0f921"
             ]
            ],
            "type": "surface"
           }
          ],
          "table": [
           {
            "cells": {
             "fill": {
              "color": "#EBF0F8"
             },
             "line": {
              "color": "white"
             }
            },
            "header": {
             "fill": {
              "color": "#C8D4E3"
             },
             "line": {
              "color": "white"
             }
            },
            "type": "table"
           }
          ]
         },
         "layout": {
          "annotationdefaults": {
           "arrowcolor": "#2a3f5f",
           "arrowhead": 0,
           "arrowwidth": 1
          },
          "coloraxis": {
           "colorbar": {
            "outlinewidth": 0,
            "ticks": ""
           }
          },
          "colorscale": {
           "diverging": [
            [
             0,
             "#8e0152"
            ],
            [
             0.1,
             "#c51b7d"
            ],
            [
             0.2,
             "#de77ae"
            ],
            [
             0.3,
             "#f1b6da"
            ],
            [
             0.4,
             "#fde0ef"
            ],
            [
             0.5,
             "#f7f7f7"
            ],
            [
             0.6,
             "#e6f5d0"
            ],
            [
             0.7,
             "#b8e186"
            ],
            [
             0.8,
             "#7fbc41"
            ],
            [
             0.9,
             "#4d9221"
            ],
            [
             1,
             "#276419"
            ]
           ],
           "sequential": [
            [
             0,
             "#0d0887"
            ],
            [
             0.1111111111111111,
             "#46039f"
            ],
            [
             0.2222222222222222,
             "#7201a8"
            ],
            [
             0.3333333333333333,
             "#9c179e"
            ],
            [
             0.4444444444444444,
             "#bd3786"
            ],
            [
             0.5555555555555556,
             "#d8576b"
            ],
            [
             0.6666666666666666,
             "#ed7953"
            ],
            [
             0.7777777777777778,
             "#fb9f3a"
            ],
            [
             0.8888888888888888,
             "#fdca26"
            ],
            [
             1,
             "#f0f921"
            ]
           ],
           "sequentialminus": [
            [
             0,
             "#0d0887"
            ],
            [
             0.1111111111111111,
             "#46039f"
            ],
            [
             0.2222222222222222,
             "#7201a8"
            ],
            [
             0.3333333333333333,
             "#9c179e"
            ],
            [
             0.4444444444444444,
             "#bd3786"
            ],
            [
             0.5555555555555556,
             "#d8576b"
            ],
            [
             0.6666666666666666,
             "#ed7953"
            ],
            [
             0.7777777777777778,
             "#fb9f3a"
            ],
            [
             0.8888888888888888,
             "#fdca26"
            ],
            [
             1,
             "#f0f921"
            ]
           ]
          },
          "colorway": [
           "#636efa",
           "#EF553B",
           "#00cc96",
           "#ab63fa",
           "#FFA15A",
           "#19d3f3",
           "#FF6692",
           "#B6E880",
           "#FF97FF",
           "#FECB52"
          ],
          "font": {
           "color": "#2a3f5f"
          },
          "geo": {
           "bgcolor": "white",
           "lakecolor": "white",
           "landcolor": "#E5ECF6",
           "showlakes": true,
           "showland": true,
           "subunitcolor": "white"
          },
          "hoverlabel": {
           "align": "left"
          },
          "hovermode": "closest",
          "mapbox": {
           "style": "light"
          },
          "paper_bgcolor": "white",
          "plot_bgcolor": "#E5ECF6",
          "polar": {
           "angularaxis": {
            "gridcolor": "white",
            "linecolor": "white",
            "ticks": ""
           },
           "bgcolor": "#E5ECF6",
           "radialaxis": {
            "gridcolor": "white",
            "linecolor": "white",
            "ticks": ""
           }
          },
          "scene": {
           "xaxis": {
            "backgroundcolor": "#E5ECF6",
            "gridcolor": "white",
            "gridwidth": 2,
            "linecolor": "white",
            "showbackground": true,
            "ticks": "",
            "zerolinecolor": "white"
           },
           "yaxis": {
            "backgroundcolor": "#E5ECF6",
            "gridcolor": "white",
            "gridwidth": 2,
            "linecolor": "white",
            "showbackground": true,
            "ticks": "",
            "zerolinecolor": "white"
           },
           "zaxis": {
            "backgroundcolor": "#E5ECF6",
            "gridcolor": "white",
            "gridwidth": 2,
            "linecolor": "white",
            "showbackground": true,
            "ticks": "",
            "zerolinecolor": "white"
           }
          },
          "shapedefaults": {
           "line": {
            "color": "#2a3f5f"
           }
          },
          "ternary": {
           "aaxis": {
            "gridcolor": "white",
            "linecolor": "white",
            "ticks": ""
           },
           "baxis": {
            "gridcolor": "white",
            "linecolor": "white",
            "ticks": ""
           },
           "bgcolor": "#E5ECF6",
           "caxis": {
            "gridcolor": "white",
            "linecolor": "white",
            "ticks": ""
           }
          },
          "title": {
           "x": 0.05
          },
          "xaxis": {
           "automargin": true,
           "gridcolor": "white",
           "linecolor": "white",
           "ticks": "",
           "title": {
            "standoff": 15
           },
           "zerolinecolor": "white",
           "zerolinewidth": 2
          },
          "yaxis": {
           "automargin": true,
           "gridcolor": "white",
           "linecolor": "white",
           "ticks": "",
           "title": {
            "standoff": 15
           },
           "zerolinecolor": "white",
           "zerolinewidth": 2
          }
         }
        },
        "xaxis": {
         "anchor": "y",
         "domain": [
          0,
          1
         ],
         "title": {
          "text": "brand"
         }
        },
        "yaxis": {
         "anchor": "x",
         "domain": [
          0,
          1
         ],
         "title": {
          "text": "count"
         }
        }
       }
      },
      "text/html": [
       "<div>\n",
       "        \n",
       "        \n",
       "            <div id=\"d3915356-1fc5-4039-b588-3f42179f6396\" class=\"plotly-graph-div\" style=\"height:525px; width:100%;\"></div>\n",
       "            <script type=\"text/javascript\">\n",
       "                require([\"plotly\"], function(Plotly) {\n",
       "                    window.PLOTLYENV=window.PLOTLYENV || {};\n",
       "                    \n",
       "                if (document.getElementById(\"d3915356-1fc5-4039-b588-3f42179f6396\")) {\n",
       "                    Plotly.newPlot(\n",
       "                        'd3915356-1fc5-4039-b588-3f42179f6396',\n",
       "                        [{\"alignmentgroup\": \"True\", \"hovertemplate\": \"gender=F<br>brand=%{x}<br>count=%{y}<extra></extra>\", \"legendgroup\": \"F\", \"marker\": {\"color\": \"#636efa\"}, \"name\": \"F\", \"offsetgroup\": \"F\", \"orientation\": \"v\", \"showlegend\": true, \"textposition\": \"auto\", \"type\": \"bar\", \"x\": [\"Samsung\", \"Xiaomi\", \"Huawei\", \"vivo\", \"OPPO\", \"Meizu\", \"Coolpad\", \"HTC\", \"\\u6735\\u552f\", \"LeEco\"], \"xaxis\": \"x\", \"y\": [41610, 39824, 30551, 18146, 12557, 10292, 6144, 1883, 1585, 1333], \"yaxis\": \"y\"}, {\"alignmentgroup\": \"True\", \"hovertemplate\": \"gender=M<br>brand=%{x}<br>count=%{y}<extra></extra>\", \"legendgroup\": \"M\", \"marker\": {\"color\": \"#EF553B\"}, \"name\": \"M\", \"offsetgroup\": \"M\", \"orientation\": \"v\", \"showlegend\": true, \"textposition\": \"auto\", \"type\": \"bar\", \"x\": [\"Xiaomi\", \"Samsung\", \"Huawei\", \"vivo\", \"Coolpad\", \"Meizu\", \"OPPO\", \"HTC\", \"\\u8054\\u60f3 \", \"LeEco\"], \"xaxis\": \"x\", \"y\": [134178, 67127, 47953, 21685, 19751, 19259, 16258, 10763, 4835, 3701], \"yaxis\": \"y\"}],\n",
       "                        {\"barmode\": \"relative\", \"legend\": {\"title\": {\"text\": \"gender\"}, \"tracegroupgap\": 0}, \"margin\": {\"t\": 60}, \"template\": {\"data\": {\"bar\": [{\"error_x\": {\"color\": \"#2a3f5f\"}, \"error_y\": {\"color\": \"#2a3f5f\"}, \"marker\": {\"line\": {\"color\": \"#E5ECF6\", \"width\": 0.5}}, \"type\": \"bar\"}], \"barpolar\": [{\"marker\": {\"line\": {\"color\": \"#E5ECF6\", \"width\": 0.5}}, \"type\": \"barpolar\"}], \"carpet\": [{\"aaxis\": {\"endlinecolor\": \"#2a3f5f\", \"gridcolor\": \"white\", \"linecolor\": \"white\", \"minorgridcolor\": \"white\", \"startlinecolor\": \"#2a3f5f\"}, \"baxis\": {\"endlinecolor\": \"#2a3f5f\", \"gridcolor\": \"white\", \"linecolor\": \"white\", \"minorgridcolor\": \"white\", \"startlinecolor\": \"#2a3f5f\"}, \"type\": \"carpet\"}], \"choropleth\": [{\"colorbar\": {\"outlinewidth\": 0, \"ticks\": \"\"}, \"type\": \"choropleth\"}], \"contour\": [{\"colorbar\": {\"outlinewidth\": 0, \"ticks\": \"\"}, \"colorscale\": [[0.0, \"#0d0887\"], [0.1111111111111111, \"#46039f\"], [0.2222222222222222, \"#7201a8\"], [0.3333333333333333, \"#9c179e\"], [0.4444444444444444, \"#bd3786\"], [0.5555555555555556, \"#d8576b\"], [0.6666666666666666, \"#ed7953\"], [0.7777777777777778, \"#fb9f3a\"], [0.8888888888888888, \"#fdca26\"], [1.0, \"#f0f921\"]], \"type\": \"contour\"}], \"contourcarpet\": [{\"colorbar\": {\"outlinewidth\": 0, \"ticks\": \"\"}, \"type\": \"contourcarpet\"}], \"heatmap\": [{\"colorbar\": {\"outlinewidth\": 0, \"ticks\": \"\"}, \"colorscale\": [[0.0, \"#0d0887\"], [0.1111111111111111, \"#46039f\"], [0.2222222222222222, \"#7201a8\"], [0.3333333333333333, \"#9c179e\"], [0.4444444444444444, \"#bd3786\"], [0.5555555555555556, \"#d8576b\"], [0.6666666666666666, \"#ed7953\"], [0.7777777777777778, \"#fb9f3a\"], [0.8888888888888888, \"#fdca26\"], [1.0, \"#f0f921\"]], \"type\": \"heatmap\"}], \"heatmapgl\": [{\"colorbar\": {\"outlinewidth\": 0, \"ticks\": \"\"}, \"colorscale\": [[0.0, \"#0d0887\"], [0.1111111111111111, \"#46039f\"], [0.2222222222222222, \"#7201a8\"], [0.3333333333333333, \"#9c179e\"], [0.4444444444444444, \"#bd3786\"], [0.5555555555555556, \"#d8576b\"], [0.6666666666666666, \"#ed7953\"], [0.7777777777777778, \"#fb9f3a\"], [0.8888888888888888, \"#fdca26\"], [1.0, \"#f0f921\"]], \"type\": \"heatmapgl\"}], \"histogram\": [{\"marker\": {\"colorbar\": {\"outlinewidth\": 0, \"ticks\": \"\"}}, \"type\": \"histogram\"}], \"histogram2d\": [{\"colorbar\": {\"outlinewidth\": 0, \"ticks\": \"\"}, \"colorscale\": [[0.0, \"#0d0887\"], [0.1111111111111111, \"#46039f\"], [0.2222222222222222, \"#7201a8\"], [0.3333333333333333, \"#9c179e\"], [0.4444444444444444, \"#bd3786\"], [0.5555555555555556, \"#d8576b\"], [0.6666666666666666, \"#ed7953\"], [0.7777777777777778, \"#fb9f3a\"], [0.8888888888888888, \"#fdca26\"], [1.0, \"#f0f921\"]], \"type\": \"histogram2d\"}], \"histogram2dcontour\": [{\"colorbar\": {\"outlinewidth\": 0, \"ticks\": \"\"}, \"colorscale\": [[0.0, \"#0d0887\"], [0.1111111111111111, \"#46039f\"], [0.2222222222222222, \"#7201a8\"], [0.3333333333333333, \"#9c179e\"], [0.4444444444444444, \"#bd3786\"], [0.5555555555555556, \"#d8576b\"], [0.6666666666666666, \"#ed7953\"], [0.7777777777777778, \"#fb9f3a\"], [0.8888888888888888, \"#fdca26\"], [1.0, \"#f0f921\"]], \"type\": \"histogram2dcontour\"}], \"mesh3d\": [{\"colorbar\": {\"outlinewidth\": 0, \"ticks\": \"\"}, \"type\": \"mesh3d\"}], \"parcoords\": [{\"line\": {\"colorbar\": {\"outlinewidth\": 0, \"ticks\": \"\"}}, \"type\": \"parcoords\"}], \"pie\": [{\"automargin\": true, \"type\": \"pie\"}], \"scatter\": [{\"marker\": {\"colorbar\": {\"outlinewidth\": 0, \"ticks\": \"\"}}, \"type\": \"scatter\"}], \"scatter3d\": [{\"line\": {\"colorbar\": {\"outlinewidth\": 0, \"ticks\": \"\"}}, \"marker\": {\"colorbar\": {\"outlinewidth\": 0, \"ticks\": \"\"}}, \"type\": \"scatter3d\"}], \"scattercarpet\": [{\"marker\": {\"colorbar\": {\"outlinewidth\": 0, \"ticks\": \"\"}}, \"type\": \"scattercarpet\"}], \"scattergeo\": [{\"marker\": {\"colorbar\": {\"outlinewidth\": 0, \"ticks\": \"\"}}, \"type\": \"scattergeo\"}], \"scattergl\": [{\"marker\": {\"colorbar\": {\"outlinewidth\": 0, \"ticks\": \"\"}}, \"type\": \"scattergl\"}], \"scattermapbox\": [{\"marker\": {\"colorbar\": {\"outlinewidth\": 0, \"ticks\": \"\"}}, \"type\": \"scattermapbox\"}], \"scatterpolar\": [{\"marker\": {\"colorbar\": {\"outlinewidth\": 0, \"ticks\": \"\"}}, \"type\": \"scatterpolar\"}], \"scatterpolargl\": [{\"marker\": {\"colorbar\": {\"outlinewidth\": 0, \"ticks\": \"\"}}, \"type\": \"scatterpolargl\"}], \"scatterternary\": [{\"marker\": {\"colorbar\": {\"outlinewidth\": 0, \"ticks\": \"\"}}, \"type\": \"scatterternary\"}], \"surface\": [{\"colorbar\": {\"outlinewidth\": 0, \"ticks\": \"\"}, \"colorscale\": [[0.0, \"#0d0887\"], [0.1111111111111111, \"#46039f\"], [0.2222222222222222, \"#7201a8\"], [0.3333333333333333, \"#9c179e\"], [0.4444444444444444, \"#bd3786\"], [0.5555555555555556, \"#d8576b\"], [0.6666666666666666, \"#ed7953\"], [0.7777777777777778, \"#fb9f3a\"], [0.8888888888888888, \"#fdca26\"], [1.0, \"#f0f921\"]], \"type\": \"surface\"}], \"table\": [{\"cells\": {\"fill\": {\"color\": \"#EBF0F8\"}, \"line\": {\"color\": \"white\"}}, \"header\": {\"fill\": {\"color\": \"#C8D4E3\"}, \"line\": {\"color\": \"white\"}}, \"type\": \"table\"}]}, \"layout\": {\"annotationdefaults\": {\"arrowcolor\": \"#2a3f5f\", \"arrowhead\": 0, \"arrowwidth\": 1}, \"coloraxis\": {\"colorbar\": {\"outlinewidth\": 0, \"ticks\": \"\"}}, \"colorscale\": {\"diverging\": [[0, \"#8e0152\"], [0.1, \"#c51b7d\"], [0.2, \"#de77ae\"], [0.3, \"#f1b6da\"], [0.4, \"#fde0ef\"], [0.5, \"#f7f7f7\"], [0.6, \"#e6f5d0\"], [0.7, \"#b8e186\"], [0.8, \"#7fbc41\"], [0.9, \"#4d9221\"], [1, \"#276419\"]], \"sequential\": [[0.0, \"#0d0887\"], [0.1111111111111111, \"#46039f\"], [0.2222222222222222, \"#7201a8\"], [0.3333333333333333, \"#9c179e\"], [0.4444444444444444, \"#bd3786\"], [0.5555555555555556, \"#d8576b\"], [0.6666666666666666, \"#ed7953\"], [0.7777777777777778, \"#fb9f3a\"], [0.8888888888888888, \"#fdca26\"], [1.0, \"#f0f921\"]], \"sequentialminus\": [[0.0, \"#0d0887\"], [0.1111111111111111, \"#46039f\"], [0.2222222222222222, \"#7201a8\"], [0.3333333333333333, \"#9c179e\"], [0.4444444444444444, \"#bd3786\"], [0.5555555555555556, \"#d8576b\"], [0.6666666666666666, \"#ed7953\"], [0.7777777777777778, \"#fb9f3a\"], [0.8888888888888888, \"#fdca26\"], [1.0, \"#f0f921\"]]}, \"colorway\": [\"#636efa\", \"#EF553B\", \"#00cc96\", \"#ab63fa\", \"#FFA15A\", \"#19d3f3\", \"#FF6692\", \"#B6E880\", \"#FF97FF\", \"#FECB52\"], \"font\": {\"color\": \"#2a3f5f\"}, \"geo\": {\"bgcolor\": \"white\", \"lakecolor\": \"white\", \"landcolor\": \"#E5ECF6\", \"showlakes\": true, \"showland\": true, \"subunitcolor\": \"white\"}, \"hoverlabel\": {\"align\": \"left\"}, \"hovermode\": \"closest\", \"mapbox\": {\"style\": \"light\"}, \"paper_bgcolor\": \"white\", \"plot_bgcolor\": \"#E5ECF6\", \"polar\": {\"angularaxis\": {\"gridcolor\": \"white\", \"linecolor\": \"white\", \"ticks\": \"\"}, \"bgcolor\": \"#E5ECF6\", \"radialaxis\": {\"gridcolor\": \"white\", \"linecolor\": \"white\", \"ticks\": \"\"}}, \"scene\": {\"xaxis\": {\"backgroundcolor\": \"#E5ECF6\", \"gridcolor\": \"white\", \"gridwidth\": 2, \"linecolor\": \"white\", \"showbackground\": true, \"ticks\": \"\", \"zerolinecolor\": \"white\"}, \"yaxis\": {\"backgroundcolor\": \"#E5ECF6\", \"gridcolor\": \"white\", \"gridwidth\": 2, \"linecolor\": \"white\", \"showbackground\": true, \"ticks\": \"\", \"zerolinecolor\": \"white\"}, \"zaxis\": {\"backgroundcolor\": \"#E5ECF6\", \"gridcolor\": \"white\", \"gridwidth\": 2, \"linecolor\": \"white\", \"showbackground\": true, \"ticks\": \"\", \"zerolinecolor\": \"white\"}}, \"shapedefaults\": {\"line\": {\"color\": \"#2a3f5f\"}}, \"ternary\": {\"aaxis\": {\"gridcolor\": \"white\", \"linecolor\": \"white\", \"ticks\": \"\"}, \"baxis\": {\"gridcolor\": \"white\", \"linecolor\": \"white\", \"ticks\": \"\"}, \"bgcolor\": \"#E5ECF6\", \"caxis\": {\"gridcolor\": \"white\", \"linecolor\": \"white\", \"ticks\": \"\"}}, \"title\": {\"x\": 0.05}, \"xaxis\": {\"automargin\": true, \"gridcolor\": \"white\", \"linecolor\": \"white\", \"ticks\": \"\", \"title\": {\"standoff\": 15}, \"zerolinecolor\": \"white\", \"zerolinewidth\": 2}, \"yaxis\": {\"automargin\": true, \"gridcolor\": \"white\", \"linecolor\": \"white\", \"ticks\": \"\", \"title\": {\"standoff\": 15}, \"zerolinecolor\": \"white\", \"zerolinewidth\": 2}}}, \"xaxis\": {\"anchor\": \"y\", \"domain\": [0.0, 1.0], \"title\": {\"text\": \"brand\"}}, \"yaxis\": {\"anchor\": \"x\", \"domain\": [0.0, 1.0], \"title\": {\"text\": \"count\"}}},\n",
       "                        {\"responsive\": true}\n",
       "                    ).then(function(){\n",
       "                            \n",
       "var gd = document.getElementById('d3915356-1fc5-4039-b588-3f42179f6396');\n",
       "var x = new MutationObserver(function (mutations, observer) {{\n",
       "        var display = window.getComputedStyle(gd).display;\n",
       "        if (!display || display === 'none') {{\n",
       "            console.log([gd, 'removed!']);\n",
       "            Plotly.purge(gd);\n",
       "            observer.disconnect();\n",
       "        }}\n",
       "}});\n",
       "\n",
       "// Listen for the removal of the full notebook cells\n",
       "var notebookContainer = gd.closest('#notebook-container');\n",
       "if (notebookContainer) {{\n",
       "    x.observe(notebookContainer, {childList: true});\n",
       "}}\n",
       "\n",
       "// Listen for the clearing of the current output cell\n",
       "var outputEl = gd.closest('.output');\n",
       "if (outputEl) {{\n",
       "    x.observe(outputEl, {childList: true});\n",
       "}}\n",
       "\n",
       "                        })\n",
       "                };\n",
       "                });\n",
       "            </script>\n",
       "        </div>"
      ]
     },
     "metadata": {},
     "output_type": "display_data"
    }
   ],
   "source": [
    "\n",
    "import plotly.express as px\n",
    "df = px.data.tips()\n",
    "fig = px.bar(g, x=\"brand\", y=\"count\", color='gender')\n",
    "fig.show()"
   ]
  },
  {
   "cell_type": "code",
   "execution_count": 30,
   "metadata": {},
   "outputs": [
    {
     "data": {
      "text/html": [
       "<div>\n",
       "<style scoped>\n",
       "    .dataframe tbody tr th:only-of-type {\n",
       "        vertical-align: middle;\n",
       "    }\n",
       "\n",
       "    .dataframe tbody tr th {\n",
       "        vertical-align: top;\n",
       "    }\n",
       "\n",
       "    .dataframe thead th {\n",
       "        text-align: right;\n",
       "    }\n",
       "</style>\n",
       "<table border=\"1\" class=\"dataframe\">\n",
       "  <thead>\n",
       "    <tr style=\"text-align: right;\">\n",
       "      <th></th>\n",
       "      <th>state</th>\n",
       "      <th>brand</th>\n",
       "      <th>count</th>\n",
       "    </tr>\n",
       "  </thead>\n",
       "  <tbody>\n",
       "    <tr>\n",
       "      <th>0</th>\n",
       "      <td>TamilNadu</td>\n",
       "      <td>Xiaomi</td>\n",
       "      <td>147192</td>\n",
       "    </tr>\n",
       "    <tr>\n",
       "      <th>1</th>\n",
       "      <td>TamilNadu</td>\n",
       "      <td>Samsung</td>\n",
       "      <td>86466</td>\n",
       "    </tr>\n",
       "    <tr>\n",
       "      <th>2</th>\n",
       "      <td>TamilNadu</td>\n",
       "      <td>Huawei</td>\n",
       "      <td>63443</td>\n",
       "    </tr>\n",
       "    <tr>\n",
       "      <th>3</th>\n",
       "      <td>TamilNadu</td>\n",
       "      <td>vivo</td>\n",
       "      <td>30867</td>\n",
       "    </tr>\n",
       "    <tr>\n",
       "      <th>4</th>\n",
       "      <td>TamilNadu</td>\n",
       "      <td>Meizu</td>\n",
       "      <td>24173</td>\n",
       "    </tr>\n",
       "    <tr>\n",
       "      <th>5</th>\n",
       "      <td>TamilNadu</td>\n",
       "      <td>Coolpad</td>\n",
       "      <td>22026</td>\n",
       "    </tr>\n",
       "    <tr>\n",
       "      <th>6</th>\n",
       "      <td>TamilNadu</td>\n",
       "      <td>OPPO</td>\n",
       "      <td>21935</td>\n",
       "    </tr>\n",
       "    <tr>\n",
       "      <th>7</th>\n",
       "      <td>TamilNadu</td>\n",
       "      <td>HTC</td>\n",
       "      <td>11187</td>\n",
       "    </tr>\n",
       "    <tr>\n",
       "      <th>8</th>\n",
       "      <td>TamilNadu</td>\n",
       "      <td>联想</td>\n",
       "      <td>4680</td>\n",
       "    </tr>\n",
       "    <tr>\n",
       "      <th>9</th>\n",
       "      <td>TamilNadu</td>\n",
       "      <td>LeEco</td>\n",
       "      <td>4355</td>\n",
       "    </tr>\n",
       "    <tr>\n",
       "      <th>10</th>\n",
       "      <td>UttarPradesh</td>\n",
       "      <td>Xiaomi</td>\n",
       "      <td>26543</td>\n",
       "    </tr>\n",
       "    <tr>\n",
       "      <th>11</th>\n",
       "      <td>UttarPradesh</td>\n",
       "      <td>Samsung</td>\n",
       "      <td>21137</td>\n",
       "    </tr>\n",
       "    <tr>\n",
       "      <th>12</th>\n",
       "      <td>UttarPradesh</td>\n",
       "      <td>Huawei</td>\n",
       "      <td>14821</td>\n",
       "    </tr>\n",
       "    <tr>\n",
       "      <th>13</th>\n",
       "      <td>UttarPradesh</td>\n",
       "      <td>vivo</td>\n",
       "      <td>8279</td>\n",
       "    </tr>\n",
       "    <tr>\n",
       "      <th>14</th>\n",
       "      <td>UttarPradesh</td>\n",
       "      <td>OPPO</td>\n",
       "      <td>6495</td>\n",
       "    </tr>\n",
       "    <tr>\n",
       "      <th>15</th>\n",
       "      <td>UttarPradesh</td>\n",
       "      <td>Meizu</td>\n",
       "      <td>5141</td>\n",
       "    </tr>\n",
       "    <tr>\n",
       "      <th>16</th>\n",
       "      <td>UttarPradesh</td>\n",
       "      <td>Coolpad</td>\n",
       "      <td>3813</td>\n",
       "    </tr>\n",
       "    <tr>\n",
       "      <th>17</th>\n",
       "      <td>UttarPradesh</td>\n",
       "      <td>HTC</td>\n",
       "      <td>1430</td>\n",
       "    </tr>\n",
       "    <tr>\n",
       "      <th>18</th>\n",
       "      <td>UttarPradesh</td>\n",
       "      <td>联想</td>\n",
       "      <td>1007</td>\n",
       "    </tr>\n",
       "    <tr>\n",
       "      <th>19</th>\n",
       "      <td>UttarPradesh</td>\n",
       "      <td>努比亚</td>\n",
       "      <td>921</td>\n",
       "    </tr>\n",
       "  </tbody>\n",
       "</table>\n",
       "</div>"
      ],
      "text/plain": [
       "           state    brand   count\n",
       "0      TamilNadu   Xiaomi  147192\n",
       "1      TamilNadu  Samsung   86466\n",
       "2      TamilNadu   Huawei   63443\n",
       "3      TamilNadu     vivo   30867\n",
       "4      TamilNadu    Meizu   24173\n",
       "5      TamilNadu  Coolpad   22026\n",
       "6      TamilNadu     OPPO   21935\n",
       "7      TamilNadu      HTC   11187\n",
       "8      TamilNadu      联想     4680\n",
       "9      TamilNadu    LeEco    4355\n",
       "10  UttarPradesh   Xiaomi   26543\n",
       "11  UttarPradesh  Samsung   21137\n",
       "12  UttarPradesh   Huawei   14821\n",
       "13  UttarPradesh     vivo    8279\n",
       "14  UttarPradesh     OPPO    6495\n",
       "15  UttarPradesh    Meizu    5141\n",
       "16  UttarPradesh  Coolpad    3813\n",
       "17  UttarPradesh      HTC    1430\n",
       "18  UttarPradesh      联想     1007\n",
       "19  UttarPradesh      努比亚     921"
      ]
     },
     "execution_count": 30,
     "metadata": {},
     "output_type": "execute_result"
    }
   ],
   "source": [
    "dfg = dfuniqdata.groupby(['state', 'brand']).agg({'brand': [ 'count']})\n",
    "pd.set_option('display.max_rows', 1000)\n",
    "dfg1=dfg.query('state!=\"UttarPradesh\" and state!=\"TamilNadu\" ')\n",
    "g = dfg1['brand','count'].groupby(\n",
    "      level=0, group_keys=False).apply(\n",
    "        lambda x: x.sort_values(ascending=False).head(10)).reset_index(name='count')\n",
    "g.head(1000)\n",
    "dfg1 =dfg.query('state==\"UttarPradesh\" or state==\"TamilNadu\" ')\n",
    "g1 = dfg1['brand','count'].groupby(\n",
    "      level=0, group_keys=False).apply(\n",
    "        lambda x: x.sort_values(ascending=False).head(10)).reset_index(name='count')\n",
    "g1.head(1000)\n",
    "#print(g['brand'].unique())"
   ]
  },
  {
   "cell_type": "code",
   "execution_count": 31,
   "metadata": {},
   "outputs": [
    {
     "data": {
      "application/vnd.plotly.v1+json": {
       "config": {
        "plotlyServerURL": "https://plot.ly"
       },
       "data": [
        {
         "alignmentgroup": "True",
         "hovertemplate": "state=ArunachalPradesh<br>brand=%{x}<br>count=%{y}<extra></extra>",
         "legendgroup": "ArunachalPradesh",
         "marker": {
          "color": "#636efa"
         },
         "name": "ArunachalPradesh",
         "offsetgroup": "ArunachalPradesh",
         "orientation": "v",
         "showlegend": true,
         "textposition": "auto",
         "type": "bar",
         "x": [
          "Samsung",
          "Huawei",
          "Xiaomi",
          "Meizu",
          "OPPO",
          "HTC",
          "vivo",
          "朵唯",
          "梦米",
          "奇酷"
         ],
         "xaxis": "x",
         "y": [
          341,
          72,
          49,
          46,
          38,
          29,
          26,
          5,
          1,
          1
         ],
         "yaxis": "y"
        },
        {
         "alignmentgroup": "True",
         "hovertemplate": "state=Chandigarh<br>brand=%{x}<br>count=%{y}<extra></extra>",
         "legendgroup": "Chandigarh",
         "marker": {
          "color": "#EF553B"
         },
         "name": "Chandigarh",
         "offsetgroup": "Chandigarh",
         "orientation": "v",
         "showlegend": true,
         "textposition": "auto",
         "type": "bar",
         "x": [
          "vivo",
          "Samsung",
          "OPPO",
          "LeEco",
          "Meizu",
          "Xiaomi",
          "Huawei",
          "Coolpad",
          "LG"
         ],
         "xaxis": "x",
         "y": [
          182,
          179,
          162,
          124,
          71,
          58,
          51,
          50,
          17
         ],
         "yaxis": "y"
        },
        {
         "alignmentgroup": "True",
         "hovertemplate": "state=Manipur<br>brand=%{x}<br>count=%{y}<extra></extra>",
         "legendgroup": "Manipur",
         "marker": {
          "color": "#00cc96"
         },
         "name": "Manipur",
         "offsetgroup": "Manipur",
         "orientation": "v",
         "showlegend": true,
         "textposition": "auto",
         "type": "bar",
         "x": [
          "Samsung",
          "vivo",
          "Xiaomi",
          "OPPO",
          "Huawei",
          "朵唯",
          "Coolpad",
          "联想 "
         ],
         "xaxis": "x",
         "y": [
          391,
          258,
          141,
          124,
          48,
          16,
          6,
          5
         ],
         "yaxis": "y"
        },
        {
         "alignmentgroup": "True",
         "hovertemplate": "state=Tripura<br>brand=%{x}<br>count=%{y}<extra></extra>",
         "legendgroup": "Tripura",
         "marker": {
          "color": "#ab63fa"
         },
         "name": "Tripura",
         "offsetgroup": "Tripura",
         "orientation": "v",
         "showlegend": true,
         "textposition": "auto",
         "type": "bar",
         "x": [
          "Samsung",
          "vivo",
          "Meizu",
          "Huawei",
          "酷比",
          "LG",
          "OPPO",
          "优米",
          "Xiaomi",
          "天语"
         ],
         "xaxis": "x",
         "y": [
          223,
          219,
          120,
          69,
          64,
          63,
          61,
          39,
          19,
          11
         ],
         "yaxis": "y"
        }
       ],
       "layout": {
        "barmode": "relative",
        "legend": {
         "title": {
          "text": "state"
         },
         "tracegroupgap": 0
        },
        "margin": {
         "t": 60
        },
        "template": {
         "data": {
          "bar": [
           {
            "error_x": {
             "color": "#2a3f5f"
            },
            "error_y": {
             "color": "#2a3f5f"
            },
            "marker": {
             "line": {
              "color": "#E5ECF6",
              "width": 0.5
             }
            },
            "type": "bar"
           }
          ],
          "barpolar": [
           {
            "marker": {
             "line": {
              "color": "#E5ECF6",
              "width": 0.5
             }
            },
            "type": "barpolar"
           }
          ],
          "carpet": [
           {
            "aaxis": {
             "endlinecolor": "#2a3f5f",
             "gridcolor": "white",
             "linecolor": "white",
             "minorgridcolor": "white",
             "startlinecolor": "#2a3f5f"
            },
            "baxis": {
             "endlinecolor": "#2a3f5f",
             "gridcolor": "white",
             "linecolor": "white",
             "minorgridcolor": "white",
             "startlinecolor": "#2a3f5f"
            },
            "type": "carpet"
           }
          ],
          "choropleth": [
           {
            "colorbar": {
             "outlinewidth": 0,
             "ticks": ""
            },
            "type": "choropleth"
           }
          ],
          "contour": [
           {
            "colorbar": {
             "outlinewidth": 0,
             "ticks": ""
            },
            "colorscale": [
             [
              0,
              "#0d0887"
             ],
             [
              0.1111111111111111,
              "#46039f"
             ],
             [
              0.2222222222222222,
              "#7201a8"
             ],
             [
              0.3333333333333333,
              "#9c179e"
             ],
             [
              0.4444444444444444,
              "#bd3786"
             ],
             [
              0.5555555555555556,
              "#d8576b"
             ],
             [
              0.6666666666666666,
              "#ed7953"
             ],
             [
              0.7777777777777778,
              "#fb9f3a"
             ],
             [
              0.8888888888888888,
              "#fdca26"
             ],
             [
              1,
              "#f0f921"
             ]
            ],
            "type": "contour"
           }
          ],
          "contourcarpet": [
           {
            "colorbar": {
             "outlinewidth": 0,
             "ticks": ""
            },
            "type": "contourcarpet"
           }
          ],
          "heatmap": [
           {
            "colorbar": {
             "outlinewidth": 0,
             "ticks": ""
            },
            "colorscale": [
             [
              0,
              "#0d0887"
             ],
             [
              0.1111111111111111,
              "#46039f"
             ],
             [
              0.2222222222222222,
              "#7201a8"
             ],
             [
              0.3333333333333333,
              "#9c179e"
             ],
             [
              0.4444444444444444,
              "#bd3786"
             ],
             [
              0.5555555555555556,
              "#d8576b"
             ],
             [
              0.6666666666666666,
              "#ed7953"
             ],
             [
              0.7777777777777778,
              "#fb9f3a"
             ],
             [
              0.8888888888888888,
              "#fdca26"
             ],
             [
              1,
              "#f0f921"
             ]
            ],
            "type": "heatmap"
           }
          ],
          "heatmapgl": [
           {
            "colorbar": {
             "outlinewidth": 0,
             "ticks": ""
            },
            "colorscale": [
             [
              0,
              "#0d0887"
             ],
             [
              0.1111111111111111,
              "#46039f"
             ],
             [
              0.2222222222222222,
              "#7201a8"
             ],
             [
              0.3333333333333333,
              "#9c179e"
             ],
             [
              0.4444444444444444,
              "#bd3786"
             ],
             [
              0.5555555555555556,
              "#d8576b"
             ],
             [
              0.6666666666666666,
              "#ed7953"
             ],
             [
              0.7777777777777778,
              "#fb9f3a"
             ],
             [
              0.8888888888888888,
              "#fdca26"
             ],
             [
              1,
              "#f0f921"
             ]
            ],
            "type": "heatmapgl"
           }
          ],
          "histogram": [
           {
            "marker": {
             "colorbar": {
              "outlinewidth": 0,
              "ticks": ""
             }
            },
            "type": "histogram"
           }
          ],
          "histogram2d": [
           {
            "colorbar": {
             "outlinewidth": 0,
             "ticks": ""
            },
            "colorscale": [
             [
              0,
              "#0d0887"
             ],
             [
              0.1111111111111111,
              "#46039f"
             ],
             [
              0.2222222222222222,
              "#7201a8"
             ],
             [
              0.3333333333333333,
              "#9c179e"
             ],
             [
              0.4444444444444444,
              "#bd3786"
             ],
             [
              0.5555555555555556,
              "#d8576b"
             ],
             [
              0.6666666666666666,
              "#ed7953"
             ],
             [
              0.7777777777777778,
              "#fb9f3a"
             ],
             [
              0.8888888888888888,
              "#fdca26"
             ],
             [
              1,
              "#f0f921"
             ]
            ],
            "type": "histogram2d"
           }
          ],
          "histogram2dcontour": [
           {
            "colorbar": {
             "outlinewidth": 0,
             "ticks": ""
            },
            "colorscale": [
             [
              0,
              "#0d0887"
             ],
             [
              0.1111111111111111,
              "#46039f"
             ],
             [
              0.2222222222222222,
              "#7201a8"
             ],
             [
              0.3333333333333333,
              "#9c179e"
             ],
             [
              0.4444444444444444,
              "#bd3786"
             ],
             [
              0.5555555555555556,
              "#d8576b"
             ],
             [
              0.6666666666666666,
              "#ed7953"
             ],
             [
              0.7777777777777778,
              "#fb9f3a"
             ],
             [
              0.8888888888888888,
              "#fdca26"
             ],
             [
              1,
              "#f0f921"
             ]
            ],
            "type": "histogram2dcontour"
           }
          ],
          "mesh3d": [
           {
            "colorbar": {
             "outlinewidth": 0,
             "ticks": ""
            },
            "type": "mesh3d"
           }
          ],
          "parcoords": [
           {
            "line": {
             "colorbar": {
              "outlinewidth": 0,
              "ticks": ""
             }
            },
            "type": "parcoords"
           }
          ],
          "pie": [
           {
            "automargin": true,
            "type": "pie"
           }
          ],
          "scatter": [
           {
            "marker": {
             "colorbar": {
              "outlinewidth": 0,
              "ticks": ""
             }
            },
            "type": "scatter"
           }
          ],
          "scatter3d": [
           {
            "line": {
             "colorbar": {
              "outlinewidth": 0,
              "ticks": ""
             }
            },
            "marker": {
             "colorbar": {
              "outlinewidth": 0,
              "ticks": ""
             }
            },
            "type": "scatter3d"
           }
          ],
          "scattercarpet": [
           {
            "marker": {
             "colorbar": {
              "outlinewidth": 0,
              "ticks": ""
             }
            },
            "type": "scattercarpet"
           }
          ],
          "scattergeo": [
           {
            "marker": {
             "colorbar": {
              "outlinewidth": 0,
              "ticks": ""
             }
            },
            "type": "scattergeo"
           }
          ],
          "scattergl": [
           {
            "marker": {
             "colorbar": {
              "outlinewidth": 0,
              "ticks": ""
             }
            },
            "type": "scattergl"
           }
          ],
          "scattermapbox": [
           {
            "marker": {
             "colorbar": {
              "outlinewidth": 0,
              "ticks": ""
             }
            },
            "type": "scattermapbox"
           }
          ],
          "scatterpolar": [
           {
            "marker": {
             "colorbar": {
              "outlinewidth": 0,
              "ticks": ""
             }
            },
            "type": "scatterpolar"
           }
          ],
          "scatterpolargl": [
           {
            "marker": {
             "colorbar": {
              "outlinewidth": 0,
              "ticks": ""
             }
            },
            "type": "scatterpolargl"
           }
          ],
          "scatterternary": [
           {
            "marker": {
             "colorbar": {
              "outlinewidth": 0,
              "ticks": ""
             }
            },
            "type": "scatterternary"
           }
          ],
          "surface": [
           {
            "colorbar": {
             "outlinewidth": 0,
             "ticks": ""
            },
            "colorscale": [
             [
              0,
              "#0d0887"
             ],
             [
              0.1111111111111111,
              "#46039f"
             ],
             [
              0.2222222222222222,
              "#7201a8"
             ],
             [
              0.3333333333333333,
              "#9c179e"
             ],
             [
              0.4444444444444444,
              "#bd3786"
             ],
             [
              0.5555555555555556,
              "#d8576b"
             ],
             [
              0.6666666666666666,
              "#ed7953"
             ],
             [
              0.7777777777777778,
              "#fb9f3a"
             ],
             [
              0.8888888888888888,
              "#fdca26"
             ],
             [
              1,
              "#f0f921"
             ]
            ],
            "type": "surface"
           }
          ],
          "table": [
           {
            "cells": {
             "fill": {
              "color": "#EBF0F8"
             },
             "line": {
              "color": "white"
             }
            },
            "header": {
             "fill": {
              "color": "#C8D4E3"
             },
             "line": {
              "color": "white"
             }
            },
            "type": "table"
           }
          ]
         },
         "layout": {
          "annotationdefaults": {
           "arrowcolor": "#2a3f5f",
           "arrowhead": 0,
           "arrowwidth": 1
          },
          "coloraxis": {
           "colorbar": {
            "outlinewidth": 0,
            "ticks": ""
           }
          },
          "colorscale": {
           "diverging": [
            [
             0,
             "#8e0152"
            ],
            [
             0.1,
             "#c51b7d"
            ],
            [
             0.2,
             "#de77ae"
            ],
            [
             0.3,
             "#f1b6da"
            ],
            [
             0.4,
             "#fde0ef"
            ],
            [
             0.5,
             "#f7f7f7"
            ],
            [
             0.6,
             "#e6f5d0"
            ],
            [
             0.7,
             "#b8e186"
            ],
            [
             0.8,
             "#7fbc41"
            ],
            [
             0.9,
             "#4d9221"
            ],
            [
             1,
             "#276419"
            ]
           ],
           "sequential": [
            [
             0,
             "#0d0887"
            ],
            [
             0.1111111111111111,
             "#46039f"
            ],
            [
             0.2222222222222222,
             "#7201a8"
            ],
            [
             0.3333333333333333,
             "#9c179e"
            ],
            [
             0.4444444444444444,
             "#bd3786"
            ],
            [
             0.5555555555555556,
             "#d8576b"
            ],
            [
             0.6666666666666666,
             "#ed7953"
            ],
            [
             0.7777777777777778,
             "#fb9f3a"
            ],
            [
             0.8888888888888888,
             "#fdca26"
            ],
            [
             1,
             "#f0f921"
            ]
           ],
           "sequentialminus": [
            [
             0,
             "#0d0887"
            ],
            [
             0.1111111111111111,
             "#46039f"
            ],
            [
             0.2222222222222222,
             "#7201a8"
            ],
            [
             0.3333333333333333,
             "#9c179e"
            ],
            [
             0.4444444444444444,
             "#bd3786"
            ],
            [
             0.5555555555555556,
             "#d8576b"
            ],
            [
             0.6666666666666666,
             "#ed7953"
            ],
            [
             0.7777777777777778,
             "#fb9f3a"
            ],
            [
             0.8888888888888888,
             "#fdca26"
            ],
            [
             1,
             "#f0f921"
            ]
           ]
          },
          "colorway": [
           "#636efa",
           "#EF553B",
           "#00cc96",
           "#ab63fa",
           "#FFA15A",
           "#19d3f3",
           "#FF6692",
           "#B6E880",
           "#FF97FF",
           "#FECB52"
          ],
          "font": {
           "color": "#2a3f5f"
          },
          "geo": {
           "bgcolor": "white",
           "lakecolor": "white",
           "landcolor": "#E5ECF6",
           "showlakes": true,
           "showland": true,
           "subunitcolor": "white"
          },
          "hoverlabel": {
           "align": "left"
          },
          "hovermode": "closest",
          "mapbox": {
           "style": "light"
          },
          "paper_bgcolor": "white",
          "plot_bgcolor": "#E5ECF6",
          "polar": {
           "angularaxis": {
            "gridcolor": "white",
            "linecolor": "white",
            "ticks": ""
           },
           "bgcolor": "#E5ECF6",
           "radialaxis": {
            "gridcolor": "white",
            "linecolor": "white",
            "ticks": ""
           }
          },
          "scene": {
           "xaxis": {
            "backgroundcolor": "#E5ECF6",
            "gridcolor": "white",
            "gridwidth": 2,
            "linecolor": "white",
            "showbackground": true,
            "ticks": "",
            "zerolinecolor": "white"
           },
           "yaxis": {
            "backgroundcolor": "#E5ECF6",
            "gridcolor": "white",
            "gridwidth": 2,
            "linecolor": "white",
            "showbackground": true,
            "ticks": "",
            "zerolinecolor": "white"
           },
           "zaxis": {
            "backgroundcolor": "#E5ECF6",
            "gridcolor": "white",
            "gridwidth": 2,
            "linecolor": "white",
            "showbackground": true,
            "ticks": "",
            "zerolinecolor": "white"
           }
          },
          "shapedefaults": {
           "line": {
            "color": "#2a3f5f"
           }
          },
          "ternary": {
           "aaxis": {
            "gridcolor": "white",
            "linecolor": "white",
            "ticks": ""
           },
           "baxis": {
            "gridcolor": "white",
            "linecolor": "white",
            "ticks": ""
           },
           "bgcolor": "#E5ECF6",
           "caxis": {
            "gridcolor": "white",
            "linecolor": "white",
            "ticks": ""
           }
          },
          "title": {
           "x": 0.05
          },
          "xaxis": {
           "automargin": true,
           "gridcolor": "white",
           "linecolor": "white",
           "ticks": "",
           "title": {
            "standoff": 15
           },
           "zerolinecolor": "white",
           "zerolinewidth": 2
          },
          "yaxis": {
           "automargin": true,
           "gridcolor": "white",
           "linecolor": "white",
           "ticks": "",
           "title": {
            "standoff": 15
           },
           "zerolinecolor": "white",
           "zerolinewidth": 2
          }
         }
        },
        "xaxis": {
         "anchor": "y",
         "domain": [
          0,
          1
         ],
         "title": {
          "text": "brand"
         }
        },
        "yaxis": {
         "anchor": "x",
         "domain": [
          0,
          1
         ],
         "title": {
          "text": "count"
         }
        }
       }
      },
      "text/html": [
       "<div>\n",
       "        \n",
       "        \n",
       "            <div id=\"1b724b26-a75b-45d8-8445-3d5e048e4b24\" class=\"plotly-graph-div\" style=\"height:525px; width:100%;\"></div>\n",
       "            <script type=\"text/javascript\">\n",
       "                require([\"plotly\"], function(Plotly) {\n",
       "                    window.PLOTLYENV=window.PLOTLYENV || {};\n",
       "                    \n",
       "                if (document.getElementById(\"1b724b26-a75b-45d8-8445-3d5e048e4b24\")) {\n",
       "                    Plotly.newPlot(\n",
       "                        '1b724b26-a75b-45d8-8445-3d5e048e4b24',\n",
       "                        [{\"alignmentgroup\": \"True\", \"hovertemplate\": \"state=ArunachalPradesh<br>brand=%{x}<br>count=%{y}<extra></extra>\", \"legendgroup\": \"ArunachalPradesh\", \"marker\": {\"color\": \"#636efa\"}, \"name\": \"ArunachalPradesh\", \"offsetgroup\": \"ArunachalPradesh\", \"orientation\": \"v\", \"showlegend\": true, \"textposition\": \"auto\", \"type\": \"bar\", \"x\": [\"Samsung\", \"Huawei\", \"Xiaomi\", \"Meizu\", \"OPPO\", \"HTC\", \"vivo\", \"\\u6735\\u552f\", \"\\u68a6\\u7c73\", \"\\u5947\\u9177\"], \"xaxis\": \"x\", \"y\": [341, 72, 49, 46, 38, 29, 26, 5, 1, 1], \"yaxis\": \"y\"}, {\"alignmentgroup\": \"True\", \"hovertemplate\": \"state=Chandigarh<br>brand=%{x}<br>count=%{y}<extra></extra>\", \"legendgroup\": \"Chandigarh\", \"marker\": {\"color\": \"#EF553B\"}, \"name\": \"Chandigarh\", \"offsetgroup\": \"Chandigarh\", \"orientation\": \"v\", \"showlegend\": true, \"textposition\": \"auto\", \"type\": \"bar\", \"x\": [\"vivo\", \"Samsung\", \"OPPO\", \"LeEco\", \"Meizu\", \"Xiaomi\", \"Huawei\", \"Coolpad\", \"LG\"], \"xaxis\": \"x\", \"y\": [182, 179, 162, 124, 71, 58, 51, 50, 17], \"yaxis\": \"y\"}, {\"alignmentgroup\": \"True\", \"hovertemplate\": \"state=Manipur<br>brand=%{x}<br>count=%{y}<extra></extra>\", \"legendgroup\": \"Manipur\", \"marker\": {\"color\": \"#00cc96\"}, \"name\": \"Manipur\", \"offsetgroup\": \"Manipur\", \"orientation\": \"v\", \"showlegend\": true, \"textposition\": \"auto\", \"type\": \"bar\", \"x\": [\"Samsung\", \"vivo\", \"Xiaomi\", \"OPPO\", \"Huawei\", \"\\u6735\\u552f\", \"Coolpad\", \"\\u8054\\u60f3 \"], \"xaxis\": \"x\", \"y\": [391, 258, 141, 124, 48, 16, 6, 5], \"yaxis\": \"y\"}, {\"alignmentgroup\": \"True\", \"hovertemplate\": \"state=Tripura<br>brand=%{x}<br>count=%{y}<extra></extra>\", \"legendgroup\": \"Tripura\", \"marker\": {\"color\": \"#ab63fa\"}, \"name\": \"Tripura\", \"offsetgroup\": \"Tripura\", \"orientation\": \"v\", \"showlegend\": true, \"textposition\": \"auto\", \"type\": \"bar\", \"x\": [\"Samsung\", \"vivo\", \"Meizu\", \"Huawei\", \"\\u9177\\u6bd4\", \"LG\", \"OPPO\", \"\\u4f18\\u7c73\", \"Xiaomi\", \"\\u5929\\u8bed\"], \"xaxis\": \"x\", \"y\": [223, 219, 120, 69, 64, 63, 61, 39, 19, 11], \"yaxis\": \"y\"}],\n",
       "                        {\"barmode\": \"relative\", \"legend\": {\"title\": {\"text\": \"state\"}, \"tracegroupgap\": 0}, \"margin\": {\"t\": 60}, \"template\": {\"data\": {\"bar\": [{\"error_x\": {\"color\": \"#2a3f5f\"}, \"error_y\": {\"color\": \"#2a3f5f\"}, \"marker\": {\"line\": {\"color\": \"#E5ECF6\", \"width\": 0.5}}, \"type\": \"bar\"}], \"barpolar\": [{\"marker\": {\"line\": {\"color\": \"#E5ECF6\", \"width\": 0.5}}, \"type\": \"barpolar\"}], \"carpet\": [{\"aaxis\": {\"endlinecolor\": \"#2a3f5f\", \"gridcolor\": \"white\", \"linecolor\": \"white\", \"minorgridcolor\": \"white\", \"startlinecolor\": \"#2a3f5f\"}, \"baxis\": {\"endlinecolor\": \"#2a3f5f\", \"gridcolor\": \"white\", \"linecolor\": \"white\", \"minorgridcolor\": \"white\", \"startlinecolor\": \"#2a3f5f\"}, \"type\": \"carpet\"}], \"choropleth\": [{\"colorbar\": {\"outlinewidth\": 0, \"ticks\": \"\"}, \"type\": \"choropleth\"}], \"contour\": [{\"colorbar\": {\"outlinewidth\": 0, \"ticks\": \"\"}, \"colorscale\": [[0.0, \"#0d0887\"], [0.1111111111111111, \"#46039f\"], [0.2222222222222222, \"#7201a8\"], [0.3333333333333333, \"#9c179e\"], [0.4444444444444444, \"#bd3786\"], [0.5555555555555556, \"#d8576b\"], [0.6666666666666666, \"#ed7953\"], [0.7777777777777778, \"#fb9f3a\"], [0.8888888888888888, \"#fdca26\"], [1.0, \"#f0f921\"]], \"type\": \"contour\"}], \"contourcarpet\": [{\"colorbar\": {\"outlinewidth\": 0, \"ticks\": \"\"}, \"type\": \"contourcarpet\"}], \"heatmap\": [{\"colorbar\": {\"outlinewidth\": 0, \"ticks\": \"\"}, \"colorscale\": [[0.0, \"#0d0887\"], [0.1111111111111111, \"#46039f\"], [0.2222222222222222, \"#7201a8\"], [0.3333333333333333, \"#9c179e\"], [0.4444444444444444, \"#bd3786\"], [0.5555555555555556, \"#d8576b\"], [0.6666666666666666, \"#ed7953\"], [0.7777777777777778, \"#fb9f3a\"], [0.8888888888888888, \"#fdca26\"], [1.0, \"#f0f921\"]], \"type\": \"heatmap\"}], \"heatmapgl\": [{\"colorbar\": {\"outlinewidth\": 0, \"ticks\": \"\"}, \"colorscale\": [[0.0, \"#0d0887\"], [0.1111111111111111, \"#46039f\"], [0.2222222222222222, \"#7201a8\"], [0.3333333333333333, \"#9c179e\"], [0.4444444444444444, \"#bd3786\"], [0.5555555555555556, \"#d8576b\"], [0.6666666666666666, \"#ed7953\"], [0.7777777777777778, \"#fb9f3a\"], [0.8888888888888888, \"#fdca26\"], [1.0, \"#f0f921\"]], \"type\": \"heatmapgl\"}], \"histogram\": [{\"marker\": {\"colorbar\": {\"outlinewidth\": 0, \"ticks\": \"\"}}, \"type\": \"histogram\"}], \"histogram2d\": [{\"colorbar\": {\"outlinewidth\": 0, \"ticks\": \"\"}, \"colorscale\": [[0.0, \"#0d0887\"], [0.1111111111111111, \"#46039f\"], [0.2222222222222222, \"#7201a8\"], [0.3333333333333333, \"#9c179e\"], [0.4444444444444444, \"#bd3786\"], [0.5555555555555556, \"#d8576b\"], [0.6666666666666666, \"#ed7953\"], [0.7777777777777778, \"#fb9f3a\"], [0.8888888888888888, \"#fdca26\"], [1.0, \"#f0f921\"]], \"type\": \"histogram2d\"}], \"histogram2dcontour\": [{\"colorbar\": {\"outlinewidth\": 0, \"ticks\": \"\"}, \"colorscale\": [[0.0, \"#0d0887\"], [0.1111111111111111, \"#46039f\"], [0.2222222222222222, \"#7201a8\"], [0.3333333333333333, \"#9c179e\"], [0.4444444444444444, \"#bd3786\"], [0.5555555555555556, \"#d8576b\"], [0.6666666666666666, \"#ed7953\"], [0.7777777777777778, \"#fb9f3a\"], [0.8888888888888888, \"#fdca26\"], [1.0, \"#f0f921\"]], \"type\": \"histogram2dcontour\"}], \"mesh3d\": [{\"colorbar\": {\"outlinewidth\": 0, \"ticks\": \"\"}, \"type\": \"mesh3d\"}], \"parcoords\": [{\"line\": {\"colorbar\": {\"outlinewidth\": 0, \"ticks\": \"\"}}, \"type\": \"parcoords\"}], \"pie\": [{\"automargin\": true, \"type\": \"pie\"}], \"scatter\": [{\"marker\": {\"colorbar\": {\"outlinewidth\": 0, \"ticks\": \"\"}}, \"type\": \"scatter\"}], \"scatter3d\": [{\"line\": {\"colorbar\": {\"outlinewidth\": 0, \"ticks\": \"\"}}, \"marker\": {\"colorbar\": {\"outlinewidth\": 0, \"ticks\": \"\"}}, \"type\": \"scatter3d\"}], \"scattercarpet\": [{\"marker\": {\"colorbar\": {\"outlinewidth\": 0, \"ticks\": \"\"}}, \"type\": \"scattercarpet\"}], \"scattergeo\": [{\"marker\": {\"colorbar\": {\"outlinewidth\": 0, \"ticks\": \"\"}}, \"type\": \"scattergeo\"}], \"scattergl\": [{\"marker\": {\"colorbar\": {\"outlinewidth\": 0, \"ticks\": \"\"}}, \"type\": \"scattergl\"}], \"scattermapbox\": [{\"marker\": {\"colorbar\": {\"outlinewidth\": 0, \"ticks\": \"\"}}, \"type\": \"scattermapbox\"}], \"scatterpolar\": [{\"marker\": {\"colorbar\": {\"outlinewidth\": 0, \"ticks\": \"\"}}, \"type\": \"scatterpolar\"}], \"scatterpolargl\": [{\"marker\": {\"colorbar\": {\"outlinewidth\": 0, \"ticks\": \"\"}}, \"type\": \"scatterpolargl\"}], \"scatterternary\": [{\"marker\": {\"colorbar\": {\"outlinewidth\": 0, \"ticks\": \"\"}}, \"type\": \"scatterternary\"}], \"surface\": [{\"colorbar\": {\"outlinewidth\": 0, \"ticks\": \"\"}, \"colorscale\": [[0.0, \"#0d0887\"], [0.1111111111111111, \"#46039f\"], [0.2222222222222222, \"#7201a8\"], [0.3333333333333333, \"#9c179e\"], [0.4444444444444444, \"#bd3786\"], [0.5555555555555556, \"#d8576b\"], [0.6666666666666666, \"#ed7953\"], [0.7777777777777778, \"#fb9f3a\"], [0.8888888888888888, \"#fdca26\"], [1.0, \"#f0f921\"]], \"type\": \"surface\"}], \"table\": [{\"cells\": {\"fill\": {\"color\": \"#EBF0F8\"}, \"line\": {\"color\": \"white\"}}, \"header\": {\"fill\": {\"color\": \"#C8D4E3\"}, \"line\": {\"color\": \"white\"}}, \"type\": \"table\"}]}, \"layout\": {\"annotationdefaults\": {\"arrowcolor\": \"#2a3f5f\", \"arrowhead\": 0, \"arrowwidth\": 1}, \"coloraxis\": {\"colorbar\": {\"outlinewidth\": 0, \"ticks\": \"\"}}, \"colorscale\": {\"diverging\": [[0, \"#8e0152\"], [0.1, \"#c51b7d\"], [0.2, \"#de77ae\"], [0.3, \"#f1b6da\"], [0.4, \"#fde0ef\"], [0.5, \"#f7f7f7\"], [0.6, \"#e6f5d0\"], [0.7, \"#b8e186\"], [0.8, \"#7fbc41\"], [0.9, \"#4d9221\"], [1, \"#276419\"]], \"sequential\": [[0.0, \"#0d0887\"], [0.1111111111111111, \"#46039f\"], [0.2222222222222222, \"#7201a8\"], [0.3333333333333333, \"#9c179e\"], [0.4444444444444444, \"#bd3786\"], [0.5555555555555556, \"#d8576b\"], [0.6666666666666666, \"#ed7953\"], [0.7777777777777778, \"#fb9f3a\"], [0.8888888888888888, \"#fdca26\"], [1.0, \"#f0f921\"]], \"sequentialminus\": [[0.0, \"#0d0887\"], [0.1111111111111111, \"#46039f\"], [0.2222222222222222, \"#7201a8\"], [0.3333333333333333, \"#9c179e\"], [0.4444444444444444, \"#bd3786\"], [0.5555555555555556, \"#d8576b\"], [0.6666666666666666, \"#ed7953\"], [0.7777777777777778, \"#fb9f3a\"], [0.8888888888888888, \"#fdca26\"], [1.0, \"#f0f921\"]]}, \"colorway\": [\"#636efa\", \"#EF553B\", \"#00cc96\", \"#ab63fa\", \"#FFA15A\", \"#19d3f3\", \"#FF6692\", \"#B6E880\", \"#FF97FF\", \"#FECB52\"], \"font\": {\"color\": \"#2a3f5f\"}, \"geo\": {\"bgcolor\": \"white\", \"lakecolor\": \"white\", \"landcolor\": \"#E5ECF6\", \"showlakes\": true, \"showland\": true, \"subunitcolor\": \"white\"}, \"hoverlabel\": {\"align\": \"left\"}, \"hovermode\": \"closest\", \"mapbox\": {\"style\": \"light\"}, \"paper_bgcolor\": \"white\", \"plot_bgcolor\": \"#E5ECF6\", \"polar\": {\"angularaxis\": {\"gridcolor\": \"white\", \"linecolor\": \"white\", \"ticks\": \"\"}, \"bgcolor\": \"#E5ECF6\", \"radialaxis\": {\"gridcolor\": \"white\", \"linecolor\": \"white\", \"ticks\": \"\"}}, \"scene\": {\"xaxis\": {\"backgroundcolor\": \"#E5ECF6\", \"gridcolor\": \"white\", \"gridwidth\": 2, \"linecolor\": \"white\", \"showbackground\": true, \"ticks\": \"\", \"zerolinecolor\": \"white\"}, \"yaxis\": {\"backgroundcolor\": \"#E5ECF6\", \"gridcolor\": \"white\", \"gridwidth\": 2, \"linecolor\": \"white\", \"showbackground\": true, \"ticks\": \"\", \"zerolinecolor\": \"white\"}, \"zaxis\": {\"backgroundcolor\": \"#E5ECF6\", \"gridcolor\": \"white\", \"gridwidth\": 2, \"linecolor\": \"white\", \"showbackground\": true, \"ticks\": \"\", \"zerolinecolor\": \"white\"}}, \"shapedefaults\": {\"line\": {\"color\": \"#2a3f5f\"}}, \"ternary\": {\"aaxis\": {\"gridcolor\": \"white\", \"linecolor\": \"white\", \"ticks\": \"\"}, \"baxis\": {\"gridcolor\": \"white\", \"linecolor\": \"white\", \"ticks\": \"\"}, \"bgcolor\": \"#E5ECF6\", \"caxis\": {\"gridcolor\": \"white\", \"linecolor\": \"white\", \"ticks\": \"\"}}, \"title\": {\"x\": 0.05}, \"xaxis\": {\"automargin\": true, \"gridcolor\": \"white\", \"linecolor\": \"white\", \"ticks\": \"\", \"title\": {\"standoff\": 15}, \"zerolinecolor\": \"white\", \"zerolinewidth\": 2}, \"yaxis\": {\"automargin\": true, \"gridcolor\": \"white\", \"linecolor\": \"white\", \"ticks\": \"\", \"title\": {\"standoff\": 15}, \"zerolinecolor\": \"white\", \"zerolinewidth\": 2}}}, \"xaxis\": {\"anchor\": \"y\", \"domain\": [0.0, 1.0], \"title\": {\"text\": \"brand\"}}, \"yaxis\": {\"anchor\": \"x\", \"domain\": [0.0, 1.0], \"title\": {\"text\": \"count\"}}},\n",
       "                        {\"responsive\": true}\n",
       "                    ).then(function(){\n",
       "                            \n",
       "var gd = document.getElementById('1b724b26-a75b-45d8-8445-3d5e048e4b24');\n",
       "var x = new MutationObserver(function (mutations, observer) {{\n",
       "        var display = window.getComputedStyle(gd).display;\n",
       "        if (!display || display === 'none') {{\n",
       "            console.log([gd, 'removed!']);\n",
       "            Plotly.purge(gd);\n",
       "            observer.disconnect();\n",
       "        }}\n",
       "}});\n",
       "\n",
       "// Listen for the removal of the full notebook cells\n",
       "var notebookContainer = gd.closest('#notebook-container');\n",
       "if (notebookContainer) {{\n",
       "    x.observe(notebookContainer, {childList: true});\n",
       "}}\n",
       "\n",
       "// Listen for the clearing of the current output cell\n",
       "var outputEl = gd.closest('.output');\n",
       "if (outputEl) {{\n",
       "    x.observe(outputEl, {childList: true});\n",
       "}}\n",
       "\n",
       "                        })\n",
       "                };\n",
       "                });\n",
       "            </script>\n",
       "        </div>"
      ]
     },
     "metadata": {},
     "output_type": "display_data"
    },
    {
     "data": {
      "application/vnd.plotly.v1+json": {
       "config": {
        "plotlyServerURL": "https://plot.ly"
       },
       "data": [
        {
         "alignmentgroup": "True",
         "hovertemplate": "state=TamilNadu<br>brand=%{x}<br>count=%{y}<extra></extra>",
         "legendgroup": "TamilNadu",
         "marker": {
          "color": "#636efa"
         },
         "name": "TamilNadu",
         "offsetgroup": "TamilNadu",
         "orientation": "v",
         "showlegend": true,
         "textposition": "auto",
         "type": "bar",
         "x": [
          "Xiaomi",
          "Samsung",
          "Huawei",
          "vivo",
          "Meizu",
          "Coolpad",
          "OPPO",
          "HTC",
          "联想 ",
          "LeEco"
         ],
         "xaxis": "x",
         "y": [
          147192,
          86466,
          63443,
          30867,
          24173,
          22026,
          21935,
          11187,
          4680,
          4355
         ],
         "yaxis": "y"
        },
        {
         "alignmentgroup": "True",
         "hovertemplate": "state=UttarPradesh<br>brand=%{x}<br>count=%{y}<extra></extra>",
         "legendgroup": "UttarPradesh",
         "marker": {
          "color": "#EF553B"
         },
         "name": "UttarPradesh",
         "offsetgroup": "UttarPradesh",
         "orientation": "v",
         "showlegend": true,
         "textposition": "auto",
         "type": "bar",
         "x": [
          "Xiaomi",
          "Samsung",
          "Huawei",
          "vivo",
          "OPPO",
          "Meizu",
          "Coolpad",
          "HTC",
          "联想 ",
          "努比亚"
         ],
         "xaxis": "x",
         "y": [
          26543,
          21137,
          14821,
          8279,
          6495,
          5141,
          3813,
          1430,
          1007,
          921
         ],
         "yaxis": "y"
        }
       ],
       "layout": {
        "barmode": "relative",
        "legend": {
         "title": {
          "text": "state"
         },
         "tracegroupgap": 0
        },
        "margin": {
         "t": 60
        },
        "template": {
         "data": {
          "bar": [
           {
            "error_x": {
             "color": "#2a3f5f"
            },
            "error_y": {
             "color": "#2a3f5f"
            },
            "marker": {
             "line": {
              "color": "#E5ECF6",
              "width": 0.5
             }
            },
            "type": "bar"
           }
          ],
          "barpolar": [
           {
            "marker": {
             "line": {
              "color": "#E5ECF6",
              "width": 0.5
             }
            },
            "type": "barpolar"
           }
          ],
          "carpet": [
           {
            "aaxis": {
             "endlinecolor": "#2a3f5f",
             "gridcolor": "white",
             "linecolor": "white",
             "minorgridcolor": "white",
             "startlinecolor": "#2a3f5f"
            },
            "baxis": {
             "endlinecolor": "#2a3f5f",
             "gridcolor": "white",
             "linecolor": "white",
             "minorgridcolor": "white",
             "startlinecolor": "#2a3f5f"
            },
            "type": "carpet"
           }
          ],
          "choropleth": [
           {
            "colorbar": {
             "outlinewidth": 0,
             "ticks": ""
            },
            "type": "choropleth"
           }
          ],
          "contour": [
           {
            "colorbar": {
             "outlinewidth": 0,
             "ticks": ""
            },
            "colorscale": [
             [
              0,
              "#0d0887"
             ],
             [
              0.1111111111111111,
              "#46039f"
             ],
             [
              0.2222222222222222,
              "#7201a8"
             ],
             [
              0.3333333333333333,
              "#9c179e"
             ],
             [
              0.4444444444444444,
              "#bd3786"
             ],
             [
              0.5555555555555556,
              "#d8576b"
             ],
             [
              0.6666666666666666,
              "#ed7953"
             ],
             [
              0.7777777777777778,
              "#fb9f3a"
             ],
             [
              0.8888888888888888,
              "#fdca26"
             ],
             [
              1,
              "#f0f921"
             ]
            ],
            "type": "contour"
           }
          ],
          "contourcarpet": [
           {
            "colorbar": {
             "outlinewidth": 0,
             "ticks": ""
            },
            "type": "contourcarpet"
           }
          ],
          "heatmap": [
           {
            "colorbar": {
             "outlinewidth": 0,
             "ticks": ""
            },
            "colorscale": [
             [
              0,
              "#0d0887"
             ],
             [
              0.1111111111111111,
              "#46039f"
             ],
             [
              0.2222222222222222,
              "#7201a8"
             ],
             [
              0.3333333333333333,
              "#9c179e"
             ],
             [
              0.4444444444444444,
              "#bd3786"
             ],
             [
              0.5555555555555556,
              "#d8576b"
             ],
             [
              0.6666666666666666,
              "#ed7953"
             ],
             [
              0.7777777777777778,
              "#fb9f3a"
             ],
             [
              0.8888888888888888,
              "#fdca26"
             ],
             [
              1,
              "#f0f921"
             ]
            ],
            "type": "heatmap"
           }
          ],
          "heatmapgl": [
           {
            "colorbar": {
             "outlinewidth": 0,
             "ticks": ""
            },
            "colorscale": [
             [
              0,
              "#0d0887"
             ],
             [
              0.1111111111111111,
              "#46039f"
             ],
             [
              0.2222222222222222,
              "#7201a8"
             ],
             [
              0.3333333333333333,
              "#9c179e"
             ],
             [
              0.4444444444444444,
              "#bd3786"
             ],
             [
              0.5555555555555556,
              "#d8576b"
             ],
             [
              0.6666666666666666,
              "#ed7953"
             ],
             [
              0.7777777777777778,
              "#fb9f3a"
             ],
             [
              0.8888888888888888,
              "#fdca26"
             ],
             [
              1,
              "#f0f921"
             ]
            ],
            "type": "heatmapgl"
           }
          ],
          "histogram": [
           {
            "marker": {
             "colorbar": {
              "outlinewidth": 0,
              "ticks": ""
             }
            },
            "type": "histogram"
           }
          ],
          "histogram2d": [
           {
            "colorbar": {
             "outlinewidth": 0,
             "ticks": ""
            },
            "colorscale": [
             [
              0,
              "#0d0887"
             ],
             [
              0.1111111111111111,
              "#46039f"
             ],
             [
              0.2222222222222222,
              "#7201a8"
             ],
             [
              0.3333333333333333,
              "#9c179e"
             ],
             [
              0.4444444444444444,
              "#bd3786"
             ],
             [
              0.5555555555555556,
              "#d8576b"
             ],
             [
              0.6666666666666666,
              "#ed7953"
             ],
             [
              0.7777777777777778,
              "#fb9f3a"
             ],
             [
              0.8888888888888888,
              "#fdca26"
             ],
             [
              1,
              "#f0f921"
             ]
            ],
            "type": "histogram2d"
           }
          ],
          "histogram2dcontour": [
           {
            "colorbar": {
             "outlinewidth": 0,
             "ticks": ""
            },
            "colorscale": [
             [
              0,
              "#0d0887"
             ],
             [
              0.1111111111111111,
              "#46039f"
             ],
             [
              0.2222222222222222,
              "#7201a8"
             ],
             [
              0.3333333333333333,
              "#9c179e"
             ],
             [
              0.4444444444444444,
              "#bd3786"
             ],
             [
              0.5555555555555556,
              "#d8576b"
             ],
             [
              0.6666666666666666,
              "#ed7953"
             ],
             [
              0.7777777777777778,
              "#fb9f3a"
             ],
             [
              0.8888888888888888,
              "#fdca26"
             ],
             [
              1,
              "#f0f921"
             ]
            ],
            "type": "histogram2dcontour"
           }
          ],
          "mesh3d": [
           {
            "colorbar": {
             "outlinewidth": 0,
             "ticks": ""
            },
            "type": "mesh3d"
           }
          ],
          "parcoords": [
           {
            "line": {
             "colorbar": {
              "outlinewidth": 0,
              "ticks": ""
             }
            },
            "type": "parcoords"
           }
          ],
          "pie": [
           {
            "automargin": true,
            "type": "pie"
           }
          ],
          "scatter": [
           {
            "marker": {
             "colorbar": {
              "outlinewidth": 0,
              "ticks": ""
             }
            },
            "type": "scatter"
           }
          ],
          "scatter3d": [
           {
            "line": {
             "colorbar": {
              "outlinewidth": 0,
              "ticks": ""
             }
            },
            "marker": {
             "colorbar": {
              "outlinewidth": 0,
              "ticks": ""
             }
            },
            "type": "scatter3d"
           }
          ],
          "scattercarpet": [
           {
            "marker": {
             "colorbar": {
              "outlinewidth": 0,
              "ticks": ""
             }
            },
            "type": "scattercarpet"
           }
          ],
          "scattergeo": [
           {
            "marker": {
             "colorbar": {
              "outlinewidth": 0,
              "ticks": ""
             }
            },
            "type": "scattergeo"
           }
          ],
          "scattergl": [
           {
            "marker": {
             "colorbar": {
              "outlinewidth": 0,
              "ticks": ""
             }
            },
            "type": "scattergl"
           }
          ],
          "scattermapbox": [
           {
            "marker": {
             "colorbar": {
              "outlinewidth": 0,
              "ticks": ""
             }
            },
            "type": "scattermapbox"
           }
          ],
          "scatterpolar": [
           {
            "marker": {
             "colorbar": {
              "outlinewidth": 0,
              "ticks": ""
             }
            },
            "type": "scatterpolar"
           }
          ],
          "scatterpolargl": [
           {
            "marker": {
             "colorbar": {
              "outlinewidth": 0,
              "ticks": ""
             }
            },
            "type": "scatterpolargl"
           }
          ],
          "scatterternary": [
           {
            "marker": {
             "colorbar": {
              "outlinewidth": 0,
              "ticks": ""
             }
            },
            "type": "scatterternary"
           }
          ],
          "surface": [
           {
            "colorbar": {
             "outlinewidth": 0,
             "ticks": ""
            },
            "colorscale": [
             [
              0,
              "#0d0887"
             ],
             [
              0.1111111111111111,
              "#46039f"
             ],
             [
              0.2222222222222222,
              "#7201a8"
             ],
             [
              0.3333333333333333,
              "#9c179e"
             ],
             [
              0.4444444444444444,
              "#bd3786"
             ],
             [
              0.5555555555555556,
              "#d8576b"
             ],
             [
              0.6666666666666666,
              "#ed7953"
             ],
             [
              0.7777777777777778,
              "#fb9f3a"
             ],
             [
              0.8888888888888888,
              "#fdca26"
             ],
             [
              1,
              "#f0f921"
             ]
            ],
            "type": "surface"
           }
          ],
          "table": [
           {
            "cells": {
             "fill": {
              "color": "#EBF0F8"
             },
             "line": {
              "color": "white"
             }
            },
            "header": {
             "fill": {
              "color": "#C8D4E3"
             },
             "line": {
              "color": "white"
             }
            },
            "type": "table"
           }
          ]
         },
         "layout": {
          "annotationdefaults": {
           "arrowcolor": "#2a3f5f",
           "arrowhead": 0,
           "arrowwidth": 1
          },
          "coloraxis": {
           "colorbar": {
            "outlinewidth": 0,
            "ticks": ""
           }
          },
          "colorscale": {
           "diverging": [
            [
             0,
             "#8e0152"
            ],
            [
             0.1,
             "#c51b7d"
            ],
            [
             0.2,
             "#de77ae"
            ],
            [
             0.3,
             "#f1b6da"
            ],
            [
             0.4,
             "#fde0ef"
            ],
            [
             0.5,
             "#f7f7f7"
            ],
            [
             0.6,
             "#e6f5d0"
            ],
            [
             0.7,
             "#b8e186"
            ],
            [
             0.8,
             "#7fbc41"
            ],
            [
             0.9,
             "#4d9221"
            ],
            [
             1,
             "#276419"
            ]
           ],
           "sequential": [
            [
             0,
             "#0d0887"
            ],
            [
             0.1111111111111111,
             "#46039f"
            ],
            [
             0.2222222222222222,
             "#7201a8"
            ],
            [
             0.3333333333333333,
             "#9c179e"
            ],
            [
             0.4444444444444444,
             "#bd3786"
            ],
            [
             0.5555555555555556,
             "#d8576b"
            ],
            [
             0.6666666666666666,
             "#ed7953"
            ],
            [
             0.7777777777777778,
             "#fb9f3a"
            ],
            [
             0.8888888888888888,
             "#fdca26"
            ],
            [
             1,
             "#f0f921"
            ]
           ],
           "sequentialminus": [
            [
             0,
             "#0d0887"
            ],
            [
             0.1111111111111111,
             "#46039f"
            ],
            [
             0.2222222222222222,
             "#7201a8"
            ],
            [
             0.3333333333333333,
             "#9c179e"
            ],
            [
             0.4444444444444444,
             "#bd3786"
            ],
            [
             0.5555555555555556,
             "#d8576b"
            ],
            [
             0.6666666666666666,
             "#ed7953"
            ],
            [
             0.7777777777777778,
             "#fb9f3a"
            ],
            [
             0.8888888888888888,
             "#fdca26"
            ],
            [
             1,
             "#f0f921"
            ]
           ]
          },
          "colorway": [
           "#636efa",
           "#EF553B",
           "#00cc96",
           "#ab63fa",
           "#FFA15A",
           "#19d3f3",
           "#FF6692",
           "#B6E880",
           "#FF97FF",
           "#FECB52"
          ],
          "font": {
           "color": "#2a3f5f"
          },
          "geo": {
           "bgcolor": "white",
           "lakecolor": "white",
           "landcolor": "#E5ECF6",
           "showlakes": true,
           "showland": true,
           "subunitcolor": "white"
          },
          "hoverlabel": {
           "align": "left"
          },
          "hovermode": "closest",
          "mapbox": {
           "style": "light"
          },
          "paper_bgcolor": "white",
          "plot_bgcolor": "#E5ECF6",
          "polar": {
           "angularaxis": {
            "gridcolor": "white",
            "linecolor": "white",
            "ticks": ""
           },
           "bgcolor": "#E5ECF6",
           "radialaxis": {
            "gridcolor": "white",
            "linecolor": "white",
            "ticks": ""
           }
          },
          "scene": {
           "xaxis": {
            "backgroundcolor": "#E5ECF6",
            "gridcolor": "white",
            "gridwidth": 2,
            "linecolor": "white",
            "showbackground": true,
            "ticks": "",
            "zerolinecolor": "white"
           },
           "yaxis": {
            "backgroundcolor": "#E5ECF6",
            "gridcolor": "white",
            "gridwidth": 2,
            "linecolor": "white",
            "showbackground": true,
            "ticks": "",
            "zerolinecolor": "white"
           },
           "zaxis": {
            "backgroundcolor": "#E5ECF6",
            "gridcolor": "white",
            "gridwidth": 2,
            "linecolor": "white",
            "showbackground": true,
            "ticks": "",
            "zerolinecolor": "white"
           }
          },
          "shapedefaults": {
           "line": {
            "color": "#2a3f5f"
           }
          },
          "ternary": {
           "aaxis": {
            "gridcolor": "white",
            "linecolor": "white",
            "ticks": ""
           },
           "baxis": {
            "gridcolor": "white",
            "linecolor": "white",
            "ticks": ""
           },
           "bgcolor": "#E5ECF6",
           "caxis": {
            "gridcolor": "white",
            "linecolor": "white",
            "ticks": ""
           }
          },
          "title": {
           "x": 0.05
          },
          "xaxis": {
           "automargin": true,
           "gridcolor": "white",
           "linecolor": "white",
           "ticks": "",
           "title": {
            "standoff": 15
           },
           "zerolinecolor": "white",
           "zerolinewidth": 2
          },
          "yaxis": {
           "automargin": true,
           "gridcolor": "white",
           "linecolor": "white",
           "ticks": "",
           "title": {
            "standoff": 15
           },
           "zerolinecolor": "white",
           "zerolinewidth": 2
          }
         }
        },
        "xaxis": {
         "anchor": "y",
         "domain": [
          0,
          1
         ],
         "title": {
          "text": "brand"
         }
        },
        "yaxis": {
         "anchor": "x",
         "domain": [
          0,
          1
         ],
         "title": {
          "text": "count"
         }
        }
       }
      },
      "text/html": [
       "<div>\n",
       "        \n",
       "        \n",
       "            <div id=\"098dac0c-122a-4d3d-a2de-a2eb7316146f\" class=\"plotly-graph-div\" style=\"height:525px; width:100%;\"></div>\n",
       "            <script type=\"text/javascript\">\n",
       "                require([\"plotly\"], function(Plotly) {\n",
       "                    window.PLOTLYENV=window.PLOTLYENV || {};\n",
       "                    \n",
       "                if (document.getElementById(\"098dac0c-122a-4d3d-a2de-a2eb7316146f\")) {\n",
       "                    Plotly.newPlot(\n",
       "                        '098dac0c-122a-4d3d-a2de-a2eb7316146f',\n",
       "                        [{\"alignmentgroup\": \"True\", \"hovertemplate\": \"state=TamilNadu<br>brand=%{x}<br>count=%{y}<extra></extra>\", \"legendgroup\": \"TamilNadu\", \"marker\": {\"color\": \"#636efa\"}, \"name\": \"TamilNadu\", \"offsetgroup\": \"TamilNadu\", \"orientation\": \"v\", \"showlegend\": true, \"textposition\": \"auto\", \"type\": \"bar\", \"x\": [\"Xiaomi\", \"Samsung\", \"Huawei\", \"vivo\", \"Meizu\", \"Coolpad\", \"OPPO\", \"HTC\", \"\\u8054\\u60f3 \", \"LeEco\"], \"xaxis\": \"x\", \"y\": [147192, 86466, 63443, 30867, 24173, 22026, 21935, 11187, 4680, 4355], \"yaxis\": \"y\"}, {\"alignmentgroup\": \"True\", \"hovertemplate\": \"state=UttarPradesh<br>brand=%{x}<br>count=%{y}<extra></extra>\", \"legendgroup\": \"UttarPradesh\", \"marker\": {\"color\": \"#EF553B\"}, \"name\": \"UttarPradesh\", \"offsetgroup\": \"UttarPradesh\", \"orientation\": \"v\", \"showlegend\": true, \"textposition\": \"auto\", \"type\": \"bar\", \"x\": [\"Xiaomi\", \"Samsung\", \"Huawei\", \"vivo\", \"OPPO\", \"Meizu\", \"Coolpad\", \"HTC\", \"\\u8054\\u60f3 \", \"\\u52aa\\u6bd4\\u4e9a\"], \"xaxis\": \"x\", \"y\": [26543, 21137, 14821, 8279, 6495, 5141, 3813, 1430, 1007, 921], \"yaxis\": \"y\"}],\n",
       "                        {\"barmode\": \"relative\", \"legend\": {\"title\": {\"text\": \"state\"}, \"tracegroupgap\": 0}, \"margin\": {\"t\": 60}, \"template\": {\"data\": {\"bar\": [{\"error_x\": {\"color\": \"#2a3f5f\"}, \"error_y\": {\"color\": \"#2a3f5f\"}, \"marker\": {\"line\": {\"color\": \"#E5ECF6\", \"width\": 0.5}}, \"type\": \"bar\"}], \"barpolar\": [{\"marker\": {\"line\": {\"color\": \"#E5ECF6\", \"width\": 0.5}}, \"type\": \"barpolar\"}], \"carpet\": [{\"aaxis\": {\"endlinecolor\": \"#2a3f5f\", \"gridcolor\": \"white\", \"linecolor\": \"white\", \"minorgridcolor\": \"white\", \"startlinecolor\": \"#2a3f5f\"}, \"baxis\": {\"endlinecolor\": \"#2a3f5f\", \"gridcolor\": \"white\", \"linecolor\": \"white\", \"minorgridcolor\": \"white\", \"startlinecolor\": \"#2a3f5f\"}, \"type\": \"carpet\"}], \"choropleth\": [{\"colorbar\": {\"outlinewidth\": 0, \"ticks\": \"\"}, \"type\": \"choropleth\"}], \"contour\": [{\"colorbar\": {\"outlinewidth\": 0, \"ticks\": \"\"}, \"colorscale\": [[0.0, \"#0d0887\"], [0.1111111111111111, \"#46039f\"], [0.2222222222222222, \"#7201a8\"], [0.3333333333333333, \"#9c179e\"], [0.4444444444444444, \"#bd3786\"], [0.5555555555555556, \"#d8576b\"], [0.6666666666666666, \"#ed7953\"], [0.7777777777777778, \"#fb9f3a\"], [0.8888888888888888, \"#fdca26\"], [1.0, \"#f0f921\"]], \"type\": \"contour\"}], \"contourcarpet\": [{\"colorbar\": {\"outlinewidth\": 0, \"ticks\": \"\"}, \"type\": \"contourcarpet\"}], \"heatmap\": [{\"colorbar\": {\"outlinewidth\": 0, \"ticks\": \"\"}, \"colorscale\": [[0.0, \"#0d0887\"], [0.1111111111111111, \"#46039f\"], [0.2222222222222222, \"#7201a8\"], [0.3333333333333333, \"#9c179e\"], [0.4444444444444444, \"#bd3786\"], [0.5555555555555556, \"#d8576b\"], [0.6666666666666666, \"#ed7953\"], [0.7777777777777778, \"#fb9f3a\"], [0.8888888888888888, \"#fdca26\"], [1.0, \"#f0f921\"]], \"type\": \"heatmap\"}], \"heatmapgl\": [{\"colorbar\": {\"outlinewidth\": 0, \"ticks\": \"\"}, \"colorscale\": [[0.0, \"#0d0887\"], [0.1111111111111111, \"#46039f\"], [0.2222222222222222, \"#7201a8\"], [0.3333333333333333, \"#9c179e\"], [0.4444444444444444, \"#bd3786\"], [0.5555555555555556, \"#d8576b\"], [0.6666666666666666, \"#ed7953\"], [0.7777777777777778, \"#fb9f3a\"], [0.8888888888888888, \"#fdca26\"], [1.0, \"#f0f921\"]], \"type\": \"heatmapgl\"}], \"histogram\": [{\"marker\": {\"colorbar\": {\"outlinewidth\": 0, \"ticks\": \"\"}}, \"type\": \"histogram\"}], \"histogram2d\": [{\"colorbar\": {\"outlinewidth\": 0, \"ticks\": \"\"}, \"colorscale\": [[0.0, \"#0d0887\"], [0.1111111111111111, \"#46039f\"], [0.2222222222222222, \"#7201a8\"], [0.3333333333333333, \"#9c179e\"], [0.4444444444444444, \"#bd3786\"], [0.5555555555555556, \"#d8576b\"], [0.6666666666666666, \"#ed7953\"], [0.7777777777777778, \"#fb9f3a\"], [0.8888888888888888, \"#fdca26\"], [1.0, \"#f0f921\"]], \"type\": \"histogram2d\"}], \"histogram2dcontour\": [{\"colorbar\": {\"outlinewidth\": 0, \"ticks\": \"\"}, \"colorscale\": [[0.0, \"#0d0887\"], [0.1111111111111111, \"#46039f\"], [0.2222222222222222, \"#7201a8\"], [0.3333333333333333, \"#9c179e\"], [0.4444444444444444, \"#bd3786\"], [0.5555555555555556, \"#d8576b\"], [0.6666666666666666, \"#ed7953\"], [0.7777777777777778, \"#fb9f3a\"], [0.8888888888888888, \"#fdca26\"], [1.0, \"#f0f921\"]], \"type\": \"histogram2dcontour\"}], \"mesh3d\": [{\"colorbar\": {\"outlinewidth\": 0, \"ticks\": \"\"}, \"type\": \"mesh3d\"}], \"parcoords\": [{\"line\": {\"colorbar\": {\"outlinewidth\": 0, \"ticks\": \"\"}}, \"type\": \"parcoords\"}], \"pie\": [{\"automargin\": true, \"type\": \"pie\"}], \"scatter\": [{\"marker\": {\"colorbar\": {\"outlinewidth\": 0, \"ticks\": \"\"}}, \"type\": \"scatter\"}], \"scatter3d\": [{\"line\": {\"colorbar\": {\"outlinewidth\": 0, \"ticks\": \"\"}}, \"marker\": {\"colorbar\": {\"outlinewidth\": 0, \"ticks\": \"\"}}, \"type\": \"scatter3d\"}], \"scattercarpet\": [{\"marker\": {\"colorbar\": {\"outlinewidth\": 0, \"ticks\": \"\"}}, \"type\": \"scattercarpet\"}], \"scattergeo\": [{\"marker\": {\"colorbar\": {\"outlinewidth\": 0, \"ticks\": \"\"}}, \"type\": \"scattergeo\"}], \"scattergl\": [{\"marker\": {\"colorbar\": {\"outlinewidth\": 0, \"ticks\": \"\"}}, \"type\": \"scattergl\"}], \"scattermapbox\": [{\"marker\": {\"colorbar\": {\"outlinewidth\": 0, \"ticks\": \"\"}}, \"type\": \"scattermapbox\"}], \"scatterpolar\": [{\"marker\": {\"colorbar\": {\"outlinewidth\": 0, \"ticks\": \"\"}}, \"type\": \"scatterpolar\"}], \"scatterpolargl\": [{\"marker\": {\"colorbar\": {\"outlinewidth\": 0, \"ticks\": \"\"}}, \"type\": \"scatterpolargl\"}], \"scatterternary\": [{\"marker\": {\"colorbar\": {\"outlinewidth\": 0, \"ticks\": \"\"}}, \"type\": \"scatterternary\"}], \"surface\": [{\"colorbar\": {\"outlinewidth\": 0, \"ticks\": \"\"}, \"colorscale\": [[0.0, \"#0d0887\"], [0.1111111111111111, \"#46039f\"], [0.2222222222222222, \"#7201a8\"], [0.3333333333333333, \"#9c179e\"], [0.4444444444444444, \"#bd3786\"], [0.5555555555555556, \"#d8576b\"], [0.6666666666666666, \"#ed7953\"], [0.7777777777777778, \"#fb9f3a\"], [0.8888888888888888, \"#fdca26\"], [1.0, \"#f0f921\"]], \"type\": \"surface\"}], \"table\": [{\"cells\": {\"fill\": {\"color\": \"#EBF0F8\"}, \"line\": {\"color\": \"white\"}}, \"header\": {\"fill\": {\"color\": \"#C8D4E3\"}, \"line\": {\"color\": \"white\"}}, \"type\": \"table\"}]}, \"layout\": {\"annotationdefaults\": {\"arrowcolor\": \"#2a3f5f\", \"arrowhead\": 0, \"arrowwidth\": 1}, \"coloraxis\": {\"colorbar\": {\"outlinewidth\": 0, \"ticks\": \"\"}}, \"colorscale\": {\"diverging\": [[0, \"#8e0152\"], [0.1, \"#c51b7d\"], [0.2, \"#de77ae\"], [0.3, \"#f1b6da\"], [0.4, \"#fde0ef\"], [0.5, \"#f7f7f7\"], [0.6, \"#e6f5d0\"], [0.7, \"#b8e186\"], [0.8, \"#7fbc41\"], [0.9, \"#4d9221\"], [1, \"#276419\"]], \"sequential\": [[0.0, \"#0d0887\"], [0.1111111111111111, \"#46039f\"], [0.2222222222222222, \"#7201a8\"], [0.3333333333333333, \"#9c179e\"], [0.4444444444444444, \"#bd3786\"], [0.5555555555555556, \"#d8576b\"], [0.6666666666666666, \"#ed7953\"], [0.7777777777777778, \"#fb9f3a\"], [0.8888888888888888, \"#fdca26\"], [1.0, \"#f0f921\"]], \"sequentialminus\": [[0.0, \"#0d0887\"], [0.1111111111111111, \"#46039f\"], [0.2222222222222222, \"#7201a8\"], [0.3333333333333333, \"#9c179e\"], [0.4444444444444444, \"#bd3786\"], [0.5555555555555556, \"#d8576b\"], [0.6666666666666666, \"#ed7953\"], [0.7777777777777778, \"#fb9f3a\"], [0.8888888888888888, \"#fdca26\"], [1.0, \"#f0f921\"]]}, \"colorway\": [\"#636efa\", \"#EF553B\", \"#00cc96\", \"#ab63fa\", \"#FFA15A\", \"#19d3f3\", \"#FF6692\", \"#B6E880\", \"#FF97FF\", \"#FECB52\"], \"font\": {\"color\": \"#2a3f5f\"}, \"geo\": {\"bgcolor\": \"white\", \"lakecolor\": \"white\", \"landcolor\": \"#E5ECF6\", \"showlakes\": true, \"showland\": true, \"subunitcolor\": \"white\"}, \"hoverlabel\": {\"align\": \"left\"}, \"hovermode\": \"closest\", \"mapbox\": {\"style\": \"light\"}, \"paper_bgcolor\": \"white\", \"plot_bgcolor\": \"#E5ECF6\", \"polar\": {\"angularaxis\": {\"gridcolor\": \"white\", \"linecolor\": \"white\", \"ticks\": \"\"}, \"bgcolor\": \"#E5ECF6\", \"radialaxis\": {\"gridcolor\": \"white\", \"linecolor\": \"white\", \"ticks\": \"\"}}, \"scene\": {\"xaxis\": {\"backgroundcolor\": \"#E5ECF6\", \"gridcolor\": \"white\", \"gridwidth\": 2, \"linecolor\": \"white\", \"showbackground\": true, \"ticks\": \"\", \"zerolinecolor\": \"white\"}, \"yaxis\": {\"backgroundcolor\": \"#E5ECF6\", \"gridcolor\": \"white\", \"gridwidth\": 2, \"linecolor\": \"white\", \"showbackground\": true, \"ticks\": \"\", \"zerolinecolor\": \"white\"}, \"zaxis\": {\"backgroundcolor\": \"#E5ECF6\", \"gridcolor\": \"white\", \"gridwidth\": 2, \"linecolor\": \"white\", \"showbackground\": true, \"ticks\": \"\", \"zerolinecolor\": \"white\"}}, \"shapedefaults\": {\"line\": {\"color\": \"#2a3f5f\"}}, \"ternary\": {\"aaxis\": {\"gridcolor\": \"white\", \"linecolor\": \"white\", \"ticks\": \"\"}, \"baxis\": {\"gridcolor\": \"white\", \"linecolor\": \"white\", \"ticks\": \"\"}, \"bgcolor\": \"#E5ECF6\", \"caxis\": {\"gridcolor\": \"white\", \"linecolor\": \"white\", \"ticks\": \"\"}}, \"title\": {\"x\": 0.05}, \"xaxis\": {\"automargin\": true, \"gridcolor\": \"white\", \"linecolor\": \"white\", \"ticks\": \"\", \"title\": {\"standoff\": 15}, \"zerolinecolor\": \"white\", \"zerolinewidth\": 2}, \"yaxis\": {\"automargin\": true, \"gridcolor\": \"white\", \"linecolor\": \"white\", \"ticks\": \"\", \"title\": {\"standoff\": 15}, \"zerolinecolor\": \"white\", \"zerolinewidth\": 2}}}, \"xaxis\": {\"anchor\": \"y\", \"domain\": [0.0, 1.0], \"title\": {\"text\": \"brand\"}}, \"yaxis\": {\"anchor\": \"x\", \"domain\": [0.0, 1.0], \"title\": {\"text\": \"count\"}}},\n",
       "                        {\"responsive\": true}\n",
       "                    ).then(function(){\n",
       "                            \n",
       "var gd = document.getElementById('098dac0c-122a-4d3d-a2de-a2eb7316146f');\n",
       "var x = new MutationObserver(function (mutations, observer) {{\n",
       "        var display = window.getComputedStyle(gd).display;\n",
       "        if (!display || display === 'none') {{\n",
       "            console.log([gd, 'removed!']);\n",
       "            Plotly.purge(gd);\n",
       "            observer.disconnect();\n",
       "        }}\n",
       "}});\n",
       "\n",
       "// Listen for the removal of the full notebook cells\n",
       "var notebookContainer = gd.closest('#notebook-container');\n",
       "if (notebookContainer) {{\n",
       "    x.observe(notebookContainer, {childList: true});\n",
       "}}\n",
       "\n",
       "// Listen for the clearing of the current output cell\n",
       "var outputEl = gd.closest('.output');\n",
       "if (outputEl) {{\n",
       "    x.observe(outputEl, {childList: true});\n",
       "}}\n",
       "\n",
       "                        })\n",
       "                };\n",
       "                });\n",
       "            </script>\n",
       "        </div>"
      ]
     },
     "metadata": {},
     "output_type": "display_data"
    }
   ],
   "source": [
    "\n",
    "\n",
    "import plotly.express as px\n",
    "\n",
    "df = px.data.tips()\n",
    "fig = px.bar(g, x=\"brand\", y=\"count\", color='state')\n",
    "fig.show()\n",
    "\n",
    "df = px.data.tips()\n",
    "fig = px.bar(g1, x=\"brand\", y=\"count\", color='state')\n",
    "fig.show()"
   ]
  },
  {
   "cell_type": "code",
   "execution_count": null,
   "metadata": {},
   "outputs": [],
   "source": []
  },
  {
   "cell_type": "code",
   "execution_count": null,
   "metadata": {},
   "outputs": [],
   "source": []
  }
 ],
 "metadata": {
  "kernelspec": {
   "display_name": "Python 3",
   "language": "python",
   "name": "python3"
  },
  "language_info": {
   "codemirror_mode": {
    "name": "ipython",
    "version": 3
   },
   "file_extension": ".py",
   "mimetype": "text/x-python",
   "name": "python",
   "nbconvert_exporter": "python",
   "pygments_lexer": "ipython3",
   "version": "3.7.7"
  }
 },
 "nbformat": 4,
 "nbformat_minor": 4
}
