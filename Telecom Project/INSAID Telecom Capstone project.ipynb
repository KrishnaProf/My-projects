{
 "cells": [
  {
   "cell_type": "markdown",
   "metadata": {},
   "source": [
    "# INSAID Telecom Data Analysis"
   ]
  },
  {
   "cell_type": "markdown",
   "metadata": {},
   "source": [
    "<img src=\"Telecom_Image.jpg\" style=\"width:900px;height:250px\"/>"
   ]
  },
  {
   "cell_type": "markdown",
   "metadata": {},
   "source": [
    "## Table of Content\n",
    "\n",
    "1. [Import Libraries](#section1)<br>\n",
    "2. [Database Connection](#section2)<br>\n",
    "3. [Data Extraction and Exploration](#section3)<br>"
   ]
  },
  {
   "cell_type": "markdown",
   "metadata": {},
   "source": [
    "<a id=section1></a>\n",
    "### Import Libraries"
   ]
  },
  {
   "cell_type": "code",
   "execution_count": 16,
   "metadata": {},
   "outputs": [],
   "source": [
    "import pandas as pd\n",
    "import numpy as np\n",
    "import pandas_profiling\n",
    "import seaborn as sns\n",
    "import matplotlib.pyplot as plt\n",
    "import plotly\n",
    "import plotly.graph_objects as go\n",
    "import mysql.connector\n",
    "import statistics"
   ]
  },
  {
   "cell_type": "markdown",
   "metadata": {},
   "source": [
    "<a id=section2></a>\n",
    "#### Database connection"
   ]
  },
  {
   "cell_type": "code",
   "execution_count": 31,
   "metadata": {},
   "outputs": [],
   "source": [
    "connection = mysql.connector.connect(host='cpanel.insaid.co',\n",
    "                                         database='Capstone1',\n",
    "                                         user='student',\n",
    "                                         password='student')"
   ]
  },
  {
   "cell_type": "markdown",
   "metadata": {},
   "source": [
    "<a id=section3></a>\n",
    "#### Data Extraction and Exploration"
   ]
  },
  {
   "cell_type": "code",
   "execution_count": 22,
   "metadata": {},
   "outputs": [
    {
     "name": "stdout",
     "output_type": "stream",
     "text": [
      "Total number of Columns in gender_age_train is:  4\n",
      "\n",
      "Printing column Names of table gender_age_train \n",
      "Table_Name =  gender_age_train\n",
      "Column Name  =  device_id \n",
      "\n",
      "Table_Name =  gender_age_train\n",
      "Column Name  =  gender \n",
      "\n",
      "Table_Name =  gender_age_train\n",
      "Column Name  =  age \n",
      "\n",
      "Table_Name =  gender_age_train\n",
      "Column Name  =  group \n",
      "\n",
      "---------------------------------------------------------------------------------------------------------\n",
      "\n",
      " Storing records from gender_age_train to dataframe\n"
     ]
    }
   ],
   "source": [
    "sql_select_Query = \"select * from information_schema.columns where table_name = 'gender_age_train'\"\n",
    "cursor = connection.cursor()\n",
    "cursor.execute(sql_select_Query)\n",
    "records = cursor.fetchall()\n",
    "print(\"Total number of Columns in gender_age_train is: \", cursor.rowcount)\n",
    "print(\"\\nPrinting column Names of table gender_age_train \")\n",
    "for row in records:\n",
    "    print(\"Table_Name = \", row[2], )\n",
    "    print(\"Column Name  = \", row[3], \"\\n\")\n",
    "    \n",
    "print('---------------------------------------------------------------------------------------------------------')\n",
    "sql_select_Query = \"select * from gender_age_train\"\n",
    "cursor = connection.cursor()\n",
    "cursor.execute(sql_select_Query)\n",
    "records = cursor.fetchall()\n",
    "print(\"\\n Storing records from gender_age_train to dataframe\")\n",
    "\n",
    "gender_age_train_df = pd.DataFrame(records,columns = ['device_id','gender','age','group'])"
   ]
  },
  {
   "cell_type": "code",
   "execution_count": 23,
   "metadata": {},
   "outputs": [
    {
     "data": {
      "text/html": [
       "<div>\n",
       "<style scoped>\n",
       "    .dataframe tbody tr th:only-of-type {\n",
       "        vertical-align: middle;\n",
       "    }\n",
       "\n",
       "    .dataframe tbody tr th {\n",
       "        vertical-align: top;\n",
       "    }\n",
       "\n",
       "    .dataframe thead th {\n",
       "        text-align: right;\n",
       "    }\n",
       "</style>\n",
       "<table border=\"1\" class=\"dataframe\">\n",
       "  <thead>\n",
       "    <tr style=\"text-align: right;\">\n",
       "      <th></th>\n",
       "      <th>device_id</th>\n",
       "      <th>gender</th>\n",
       "      <th>age</th>\n",
       "      <th>group</th>\n",
       "    </tr>\n",
       "  </thead>\n",
       "  <tbody>\n",
       "    <tr>\n",
       "      <th>0</th>\n",
       "      <td>-8076087639492063270</td>\n",
       "      <td>M</td>\n",
       "      <td>35</td>\n",
       "      <td>M32-38</td>\n",
       "    </tr>\n",
       "    <tr>\n",
       "      <th>1</th>\n",
       "      <td>-2897161552818060146</td>\n",
       "      <td>M</td>\n",
       "      <td>35</td>\n",
       "      <td>M32-38</td>\n",
       "    </tr>\n",
       "    <tr>\n",
       "      <th>2</th>\n",
       "      <td>-8260683887967679142</td>\n",
       "      <td>M</td>\n",
       "      <td>35</td>\n",
       "      <td>M32-38</td>\n",
       "    </tr>\n",
       "    <tr>\n",
       "      <th>3</th>\n",
       "      <td>-4938849341048082022</td>\n",
       "      <td>M</td>\n",
       "      <td>30</td>\n",
       "      <td>M29-31</td>\n",
       "    </tr>\n",
       "    <tr>\n",
       "      <th>4</th>\n",
       "      <td>245133531816851882</td>\n",
       "      <td>M</td>\n",
       "      <td>30</td>\n",
       "      <td>M29-31</td>\n",
       "    </tr>\n",
       "  </tbody>\n",
       "</table>\n",
       "</div>"
      ],
      "text/plain": [
       "             device_id gender  age   group\n",
       "0 -8076087639492063270      M   35  M32-38\n",
       "1 -2897161552818060146      M   35  M32-38\n",
       "2 -8260683887967679142      M   35  M32-38\n",
       "3 -4938849341048082022      M   30  M29-31\n",
       "4   245133531816851882      M   30  M29-31"
      ]
     },
     "execution_count": 23,
     "metadata": {},
     "output_type": "execute_result"
    }
   ],
   "source": [
    "gender_age_train_df.head(5)"
   ]
  },
  {
   "cell_type": "code",
   "execution_count": 7,
   "metadata": {},
   "outputs": [],
   "source": [
    "#gender_age_train_df_new = gender_age_train_df.rename(columns={0:'device_id',1:'gender',2:'age',3:'group'})"
   ]
  },
  {
   "cell_type": "markdown",
   "metadata": {},
   "source": [
    "#### Checking the NULL values"
   ]
  },
  {
   "cell_type": "code",
   "execution_count": 26,
   "metadata": {},
   "outputs": [
    {
     "data": {
      "text/plain": [
       "device_id    0\n",
       "gender       0\n",
       "age          0\n",
       "group        0\n",
       "dtype: int64"
      ]
     },
     "execution_count": 26,
     "metadata": {},
     "output_type": "execute_result"
    }
   ],
   "source": [
    "gender_age_train_df.isnull().sum()"
   ]
  },
  {
   "cell_type": "code",
   "execution_count": 28,
   "metadata": {},
   "outputs": [
    {
     "data": {
      "text/plain": [
       "(74645, 4)"
      ]
     },
     "execution_count": 28,
     "metadata": {},
     "output_type": "execute_result"
    }
   ],
   "source": [
    "gender_age_train_df.shape"
   ]
  },
  {
   "cell_type": "code",
   "execution_count": 29,
   "metadata": {},
   "outputs": [
    {
     "name": "stdout",
     "output_type": "stream",
     "text": [
      "<class 'pandas.core.frame.DataFrame'>\n",
      "RangeIndex: 74645 entries, 0 to 74644\n",
      "Data columns (total 4 columns):\n",
      "device_id    74645 non-null int64\n",
      "gender       74645 non-null object\n",
      "age          74645 non-null int64\n",
      "group        74645 non-null object\n",
      "dtypes: int64(2), object(2)\n",
      "memory usage: 2.3+ MB\n"
     ]
    }
   ],
   "source": [
    "gender_age_train_df.info()"
   ]
  },
  {
   "cell_type": "code",
   "execution_count": null,
   "metadata": {},
   "outputs": [],
   "source": []
  },
  {
   "cell_type": "code",
   "execution_count": 32,
   "metadata": {},
   "outputs": [
    {
     "name": "stdout",
     "output_type": "stream",
     "text": [
      "Total number of Columns in phone_brand_device_model is:  3\n",
      "\n",
      "Printing column Names of table phone_brand_device_model \n",
      "Table_Name =  phone_brand_device_model\n",
      "Column Name  =  device_id \n",
      "\n",
      "Table_Name =  phone_brand_device_model\n",
      "Column Name  =  phone_brand \n",
      "\n",
      "Table_Name =  phone_brand_device_model\n",
      "Column Name  =  device_model \n",
      "\n",
      "---------------------------------------------------------------------------------------------------------\n",
      "\n",
      " Storing records from phone_brand_device_model to dataframe\n"
     ]
    }
   ],
   "source": [
    "sql_select_Query = \"select * from information_schema.columns where table_name = 'phone_brand_device_model'\"\n",
    "cursor = connection.cursor()\n",
    "cursor.execute(sql_select_Query)\n",
    "records = cursor.fetchall()\n",
    "print(\"Total number of Columns in phone_brand_device_model is: \", cursor.rowcount)\n",
    "print(\"\\nPrinting column Names of table phone_brand_device_model \")\n",
    "for row in records:\n",
    "    print(\"Table_Name = \", row[2], )\n",
    "    print(\"Column Name  = \", row[3], \"\\n\")\n",
    "    \n",
    "print('---------------------------------------------------------------------------------------------------------')\n",
    "sql_select_Query = \"select * from phone_brand_device_model\"\n",
    "cursor = connection.cursor()\n",
    "cursor.execute(sql_select_Query)\n",
    "records = cursor.fetchall()\n",
    "print(\"\\n Storing records from phone_brand_device_model to dataframe\")\n",
    "\n",
    "phone_brand_device_model_df = pd.DataFrame(records,columns = ['device_id','phone_brand','device_model'])\n"
   ]
  },
  {
   "cell_type": "code",
   "execution_count": 33,
   "metadata": {},
   "outputs": [
    {
     "data": {
      "text/html": [
       "<div>\n",
       "<style scoped>\n",
       "    .dataframe tbody tr th:only-of-type {\n",
       "        vertical-align: middle;\n",
       "    }\n",
       "\n",
       "    .dataframe tbody tr th {\n",
       "        vertical-align: top;\n",
       "    }\n",
       "\n",
       "    .dataframe thead th {\n",
       "        text-align: right;\n",
       "    }\n",
       "</style>\n",
       "<table border=\"1\" class=\"dataframe\">\n",
       "  <thead>\n",
       "    <tr style=\"text-align: right;\">\n",
       "      <th></th>\n",
       "      <th>device_id</th>\n",
       "      <th>phone_brand</th>\n",
       "      <th>device_model</th>\n",
       "    </tr>\n",
       "  </thead>\n",
       "  <tbody>\n",
       "    <tr>\n",
       "      <th>0</th>\n",
       "      <td>1877775838486905855</td>\n",
       "      <td>vivo</td>\n",
       "      <td>Y13</td>\n",
       "    </tr>\n",
       "    <tr>\n",
       "      <th>1</th>\n",
       "      <td>-3766087376657242966</td>\n",
       "      <td>小米</td>\n",
       "      <td>V183</td>\n",
       "    </tr>\n",
       "    <tr>\n",
       "      <th>2</th>\n",
       "      <td>-6238937574958215831</td>\n",
       "      <td>OPPO</td>\n",
       "      <td>R7s</td>\n",
       "    </tr>\n",
       "    <tr>\n",
       "      <th>3</th>\n",
       "      <td>8973197758510677470</td>\n",
       "      <td>三星</td>\n",
       "      <td>A368t</td>\n",
       "    </tr>\n",
       "    <tr>\n",
       "      <th>4</th>\n",
       "      <td>-2015528097870762664</td>\n",
       "      <td>小米</td>\n",
       "      <td>红米Note2</td>\n",
       "    </tr>\n",
       "  </tbody>\n",
       "</table>\n",
       "</div>"
      ],
      "text/plain": [
       "             device_id phone_brand device_model\n",
       "0  1877775838486905855        vivo          Y13\n",
       "1 -3766087376657242966          小米         V183\n",
       "2 -6238937574958215831        OPPO          R7s\n",
       "3  8973197758510677470          三星        A368t\n",
       "4 -2015528097870762664          小米      红米Note2"
      ]
     },
     "execution_count": 33,
     "metadata": {},
     "output_type": "execute_result"
    }
   ],
   "source": [
    "phone_brand_device_model_df.head()"
   ]
  },
  {
   "cell_type": "code",
   "execution_count": 34,
   "metadata": {},
   "outputs": [
    {
     "data": {
      "text/plain": [
       "array([ 1877775838486905855, -3766087376657242966, -6238937574958215831,\n",
       "       ..., -3358291377416935026,  3282788959750981633,\n",
       "        2491639413207286271], dtype=int64)"
      ]
     },
     "execution_count": 34,
     "metadata": {},
     "output_type": "execute_result"
    }
   ],
   "source": [
    "phone_brand_device_model_df['device_id'].unique()"
   ]
  },
  {
   "cell_type": "code",
   "execution_count": 35,
   "metadata": {},
   "outputs": [
    {
     "data": {
      "text/plain": [
       "(87726, 3)"
      ]
     },
     "execution_count": 35,
     "metadata": {},
     "output_type": "execute_result"
    }
   ],
   "source": [
    "phone_brand_device_model_df.shape"
   ]
  },
  {
   "cell_type": "code",
   "execution_count": 36,
   "metadata": {},
   "outputs": [
    {
     "name": "stdout",
     "output_type": "stream",
     "text": [
      "<class 'pandas.core.frame.DataFrame'>\n",
      "RangeIndex: 87726 entries, 0 to 87725\n",
      "Data columns (total 3 columns):\n",
      "device_id       87726 non-null int64\n",
      "phone_brand     87726 non-null object\n",
      "device_model    87726 non-null object\n",
      "dtypes: int64(1), object(2)\n",
      "memory usage: 2.0+ MB\n"
     ]
    }
   ],
   "source": [
    "phone_brand_device_model_df.info()"
   ]
  },
  {
   "cell_type": "code",
   "execution_count": 37,
   "metadata": {},
   "outputs": [
    {
     "data": {
      "text/plain": [
       "device_id       0\n",
       "phone_brand     0\n",
       "device_model    0\n",
       "dtype: int64"
      ]
     },
     "execution_count": 37,
     "metadata": {},
     "output_type": "execute_result"
    }
   ],
   "source": [
    "phone_brand_device_model_df.isnull().sum()"
   ]
  },
  {
   "cell_type": "code",
   "execution_count": 38,
   "metadata": {},
   "outputs": [],
   "source": [
    "Events_data_df = pd.read_csv('F:\\Data science Course\\Machine learning-2\\INSAID Telecom Capstone project\\events_data.csv')"
   ]
  },
  {
   "cell_type": "code",
   "execution_count": 39,
   "metadata": {},
   "outputs": [
    {
     "data": {
      "text/html": [
       "<div>\n",
       "<style scoped>\n",
       "    .dataframe tbody tr th:only-of-type {\n",
       "        vertical-align: middle;\n",
       "    }\n",
       "\n",
       "    .dataframe tbody tr th {\n",
       "        vertical-align: top;\n",
       "    }\n",
       "\n",
       "    .dataframe thead th {\n",
       "        text-align: right;\n",
       "    }\n",
       "</style>\n",
       "<table border=\"1\" class=\"dataframe\">\n",
       "  <thead>\n",
       "    <tr style=\"text-align: right;\">\n",
       "      <th></th>\n",
       "      <th>event_id</th>\n",
       "      <th>device_id</th>\n",
       "      <th>timestamp</th>\n",
       "      <th>longitude</th>\n",
       "      <th>latitude</th>\n",
       "      <th>city</th>\n",
       "      <th>state</th>\n",
       "    </tr>\n",
       "  </thead>\n",
       "  <tbody>\n",
       "    <tr>\n",
       "      <th>0</th>\n",
       "      <td>2765368</td>\n",
       "      <td>2.973348e+18</td>\n",
       "      <td>2016-05-07 22:52:05</td>\n",
       "      <td>77.225676</td>\n",
       "      <td>28.730140</td>\n",
       "      <td>Delhi</td>\n",
       "      <td>Delhi</td>\n",
       "    </tr>\n",
       "    <tr>\n",
       "      <th>1</th>\n",
       "      <td>2955066</td>\n",
       "      <td>4.734221e+18</td>\n",
       "      <td>2016-05-01 20:44:16</td>\n",
       "      <td>88.388361</td>\n",
       "      <td>22.660325</td>\n",
       "      <td>Calcutta</td>\n",
       "      <td>WestBengal</td>\n",
       "    </tr>\n",
       "    <tr>\n",
       "      <th>2</th>\n",
       "      <td>605968</td>\n",
       "      <td>-3.264500e+18</td>\n",
       "      <td>2016-05-02 14:23:04</td>\n",
       "      <td>77.256809</td>\n",
       "      <td>28.757906</td>\n",
       "      <td>Delhi</td>\n",
       "      <td>Delhi</td>\n",
       "    </tr>\n",
       "    <tr>\n",
       "      <th>3</th>\n",
       "      <td>448114</td>\n",
       "      <td>5.731369e+18</td>\n",
       "      <td>2016-05-03 13:21:16</td>\n",
       "      <td>80.343613</td>\n",
       "      <td>13.153332</td>\n",
       "      <td>Chennai</td>\n",
       "      <td>TamilNadu</td>\n",
       "    </tr>\n",
       "    <tr>\n",
       "      <th>4</th>\n",
       "      <td>665740</td>\n",
       "      <td>3.388880e+17</td>\n",
       "      <td>2016-05-06 03:51:05</td>\n",
       "      <td>85.997745</td>\n",
       "      <td>23.842609</td>\n",
       "      <td>Bokaro</td>\n",
       "      <td>Jharkhand</td>\n",
       "    </tr>\n",
       "  </tbody>\n",
       "</table>\n",
       "</div>"
      ],
      "text/plain": [
       "   event_id     device_id            timestamp  longitude   latitude  \\\n",
       "0   2765368  2.973348e+18  2016-05-07 22:52:05  77.225676  28.730140   \n",
       "1   2955066  4.734221e+18  2016-05-01 20:44:16  88.388361  22.660325   \n",
       "2    605968 -3.264500e+18  2016-05-02 14:23:04  77.256809  28.757906   \n",
       "3    448114  5.731369e+18  2016-05-03 13:21:16  80.343613  13.153332   \n",
       "4    665740  3.388880e+17  2016-05-06 03:51:05  85.997745  23.842609   \n",
       "\n",
       "       city       state  \n",
       "0     Delhi       Delhi  \n",
       "1  Calcutta  WestBengal  \n",
       "2     Delhi       Delhi  \n",
       "3   Chennai   TamilNadu  \n",
       "4    Bokaro   Jharkhand  "
      ]
     },
     "execution_count": 39,
     "metadata": {},
     "output_type": "execute_result"
    }
   ],
   "source": [
    "Events_data_df.head()"
   ]
  },
  {
   "cell_type": "code",
   "execution_count": 40,
   "metadata": {},
   "outputs": [
    {
     "data": {
      "text/plain": [
       "(3252950, 7)"
      ]
     },
     "execution_count": 40,
     "metadata": {},
     "output_type": "execute_result"
    }
   ],
   "source": [
    "Events_data_df.shape"
   ]
  },
  {
   "cell_type": "code",
   "execution_count": 41,
   "metadata": {},
   "outputs": [
    {
     "name": "stdout",
     "output_type": "stream",
     "text": [
      "<class 'pandas.core.frame.DataFrame'>\n",
      "RangeIndex: 3252950 entries, 0 to 3252949\n",
      "Data columns (total 7 columns):\n",
      "event_id     int64\n",
      "device_id    float64\n",
      "timestamp    object\n",
      "longitude    float64\n",
      "latitude     float64\n",
      "city         object\n",
      "state        object\n",
      "dtypes: float64(3), int64(1), object(3)\n",
      "memory usage: 173.7+ MB\n"
     ]
    }
   ],
   "source": [
    "Events_data_df.info()"
   ]
  },
  {
   "cell_type": "code",
   "execution_count": 42,
   "metadata": {},
   "outputs": [
    {
     "data": {
      "text/html": [
       "<div>\n",
       "<style scoped>\n",
       "    .dataframe tbody tr th:only-of-type {\n",
       "        vertical-align: middle;\n",
       "    }\n",
       "\n",
       "    .dataframe tbody tr th {\n",
       "        vertical-align: top;\n",
       "    }\n",
       "\n",
       "    .dataframe thead th {\n",
       "        text-align: right;\n",
       "    }\n",
       "</style>\n",
       "<table border=\"1\" class=\"dataframe\">\n",
       "  <thead>\n",
       "    <tr style=\"text-align: right;\">\n",
       "      <th></th>\n",
       "      <th>event_id</th>\n",
       "      <th>device_id</th>\n",
       "      <th>timestamp</th>\n",
       "      <th>longitude</th>\n",
       "      <th>latitude</th>\n",
       "      <th>city</th>\n",
       "      <th>state</th>\n",
       "    </tr>\n",
       "  </thead>\n",
       "  <tbody>\n",
       "    <tr>\n",
       "      <th>count</th>\n",
       "      <td>3.252950e+06</td>\n",
       "      <td>3.252497e+06</td>\n",
       "      <td>3252950</td>\n",
       "      <td>3.252527e+06</td>\n",
       "      <td>3.252527e+06</td>\n",
       "      <td>3252950</td>\n",
       "      <td>3252573</td>\n",
       "    </tr>\n",
       "    <tr>\n",
       "      <th>unique</th>\n",
       "      <td>NaN</td>\n",
       "      <td>NaN</td>\n",
       "      <td>588126</td>\n",
       "      <td>NaN</td>\n",
       "      <td>NaN</td>\n",
       "      <td>933</td>\n",
       "      <td>32</td>\n",
       "    </tr>\n",
       "    <tr>\n",
       "      <th>top</th>\n",
       "      <td>NaN</td>\n",
       "      <td>NaN</td>\n",
       "      <td>2016-05-03 10:00:03</td>\n",
       "      <td>NaN</td>\n",
       "      <td>NaN</td>\n",
       "      <td>Delhi</td>\n",
       "      <td>Delhi</td>\n",
       "    </tr>\n",
       "    <tr>\n",
       "      <th>freq</th>\n",
       "      <td>NaN</td>\n",
       "      <td>NaN</td>\n",
       "      <td>43</td>\n",
       "      <td>NaN</td>\n",
       "      <td>NaN</td>\n",
       "      <td>744276</td>\n",
       "      <td>751733</td>\n",
       "    </tr>\n",
       "    <tr>\n",
       "      <th>mean</th>\n",
       "      <td>1.626476e+06</td>\n",
       "      <td>1.012200e+17</td>\n",
       "      <td>NaN</td>\n",
       "      <td>7.815868e+01</td>\n",
       "      <td>2.168851e+01</td>\n",
       "      <td>NaN</td>\n",
       "      <td>NaN</td>\n",
       "    </tr>\n",
       "    <tr>\n",
       "      <th>std</th>\n",
       "      <td>9.390459e+05</td>\n",
       "      <td>5.316758e+18</td>\n",
       "      <td>NaN</td>\n",
       "      <td>4.235570e+00</td>\n",
       "      <td>5.789111e+00</td>\n",
       "      <td>NaN</td>\n",
       "      <td>NaN</td>\n",
       "    </tr>\n",
       "    <tr>\n",
       "      <th>min</th>\n",
       "      <td>1.000000e+00</td>\n",
       "      <td>-9.222957e+18</td>\n",
       "      <td>NaN</td>\n",
       "      <td>1.256700e+01</td>\n",
       "      <td>8.190110e+00</td>\n",
       "      <td>NaN</td>\n",
       "      <td>NaN</td>\n",
       "    </tr>\n",
       "    <tr>\n",
       "      <th>25%</th>\n",
       "      <td>8.132382e+05</td>\n",
       "      <td>-4.540611e+18</td>\n",
       "      <td>NaN</td>\n",
       "      <td>7.583543e+01</td>\n",
       "      <td>1.780171e+01</td>\n",
       "      <td>NaN</td>\n",
       "      <td>NaN</td>\n",
       "    </tr>\n",
       "    <tr>\n",
       "      <th>50%</th>\n",
       "      <td>1.626476e+06</td>\n",
       "      <td>1.726820e+17</td>\n",
       "      <td>NaN</td>\n",
       "      <td>7.726814e+01</td>\n",
       "      <td>2.216454e+01</td>\n",
       "      <td>NaN</td>\n",
       "      <td>NaN</td>\n",
       "    </tr>\n",
       "    <tr>\n",
       "      <th>75%</th>\n",
       "      <td>2.439713e+06</td>\n",
       "      <td>4.861813e+18</td>\n",
       "      <td>NaN</td>\n",
       "      <td>8.031916e+01</td>\n",
       "      <td>2.868278e+01</td>\n",
       "      <td>NaN</td>\n",
       "      <td>NaN</td>\n",
       "    </tr>\n",
       "    <tr>\n",
       "      <th>max</th>\n",
       "      <td>3.252950e+06</td>\n",
       "      <td>9.222849e+18</td>\n",
       "      <td>NaN</td>\n",
       "      <td>9.545946e+01</td>\n",
       "      <td>4.187190e+01</td>\n",
       "      <td>NaN</td>\n",
       "      <td>NaN</td>\n",
       "    </tr>\n",
       "  </tbody>\n",
       "</table>\n",
       "</div>"
      ],
      "text/plain": [
       "            event_id     device_id            timestamp     longitude  \\\n",
       "count   3.252950e+06  3.252497e+06              3252950  3.252527e+06   \n",
       "unique           NaN           NaN               588126           NaN   \n",
       "top              NaN           NaN  2016-05-03 10:00:03           NaN   \n",
       "freq             NaN           NaN                   43           NaN   \n",
       "mean    1.626476e+06  1.012200e+17                  NaN  7.815868e+01   \n",
       "std     9.390459e+05  5.316758e+18                  NaN  4.235570e+00   \n",
       "min     1.000000e+00 -9.222957e+18                  NaN  1.256700e+01   \n",
       "25%     8.132382e+05 -4.540611e+18                  NaN  7.583543e+01   \n",
       "50%     1.626476e+06  1.726820e+17                  NaN  7.726814e+01   \n",
       "75%     2.439713e+06  4.861813e+18                  NaN  8.031916e+01   \n",
       "max     3.252950e+06  9.222849e+18                  NaN  9.545946e+01   \n",
       "\n",
       "            latitude     city    state  \n",
       "count   3.252527e+06  3252950  3252573  \n",
       "unique           NaN      933       32  \n",
       "top              NaN    Delhi    Delhi  \n",
       "freq             NaN   744276   751733  \n",
       "mean    2.168851e+01      NaN      NaN  \n",
       "std     5.789111e+00      NaN      NaN  \n",
       "min     8.190110e+00      NaN      NaN  \n",
       "25%     1.780171e+01      NaN      NaN  \n",
       "50%     2.216454e+01      NaN      NaN  \n",
       "75%     2.868278e+01      NaN      NaN  \n",
       "max     4.187190e+01      NaN      NaN  "
      ]
     },
     "execution_count": 42,
     "metadata": {},
     "output_type": "execute_result"
    }
   ],
   "source": [
    "Events_data_df.describe(include = 'all')"
   ]
  },
  {
   "cell_type": "code",
   "execution_count": 43,
   "metadata": {},
   "outputs": [
    {
     "data": {
      "text/plain": [
       "event_id       0\n",
       "device_id    453\n",
       "timestamp      0\n",
       "longitude    423\n",
       "latitude     423\n",
       "city           0\n",
       "state        377\n",
       "dtype: int64"
      ]
     },
     "execution_count": 43,
     "metadata": {},
     "output_type": "execute_result"
    }
   ],
   "source": [
    "Events_data_df.isnull().sum()"
   ]
  },
  {
   "cell_type": "code",
   "execution_count": 44,
   "metadata": {},
   "outputs": [
    {
     "data": {
      "text/plain": [
       "5.536513450525271e+18"
      ]
     },
     "execution_count": 44,
     "metadata": {},
     "output_type": "execute_result"
    }
   ],
   "source": [
    "DeviceModevalue = statistics.mode(Events_data_df['device_id'])\n",
    "DeviceModevalue"
   ]
  },
  {
   "cell_type": "code",
   "execution_count": 45,
   "metadata": {},
   "outputs": [
    {
     "data": {
      "text/plain": [
       "event_id       0\n",
       "device_id      0\n",
       "timestamp      0\n",
       "longitude    423\n",
       "latitude     423\n",
       "city           0\n",
       "state        377\n",
       "dtype: int64"
      ]
     },
     "execution_count": 45,
     "metadata": {},
     "output_type": "execute_result"
    }
   ],
   "source": [
    "Events_data_df['device_id'].fillna(DeviceModevalue , inplace=True )\n",
    "Events_data_df.isnull().sum()"
   ]
  },
  {
   "cell_type": "code",
   "execution_count": 47,
   "metadata": {},
   "outputs": [
    {
     "data": {
      "text/html": [
       "<div>\n",
       "<style scoped>\n",
       "    .dataframe tbody tr th:only-of-type {\n",
       "        vertical-align: middle;\n",
       "    }\n",
       "\n",
       "    .dataframe tbody tr th {\n",
       "        vertical-align: top;\n",
       "    }\n",
       "\n",
       "    .dataframe thead th {\n",
       "        text-align: right;\n",
       "    }\n",
       "</style>\n",
       "<table border=\"1\" class=\"dataframe\">\n",
       "  <thead>\n",
       "    <tr style=\"text-align: right;\">\n",
       "      <th></th>\n",
       "      <th>event_id</th>\n",
       "      <th>device_id</th>\n",
       "      <th>timestamp</th>\n",
       "      <th>longitude</th>\n",
       "      <th>latitude</th>\n",
       "      <th>city</th>\n",
       "      <th>state</th>\n",
       "      <th>phone_brand</th>\n",
       "      <th>device_model</th>\n",
       "    </tr>\n",
       "  </thead>\n",
       "  <tbody>\n",
       "    <tr>\n",
       "      <th>0</th>\n",
       "      <td>2765368</td>\n",
       "      <td>2.973348e+18</td>\n",
       "      <td>2016-05-07 22:52:05</td>\n",
       "      <td>77.225676</td>\n",
       "      <td>28.73014</td>\n",
       "      <td>Delhi</td>\n",
       "      <td>Delhi</td>\n",
       "      <td>优米</td>\n",
       "      <td>UIMI3</td>\n",
       "    </tr>\n",
       "    <tr>\n",
       "      <th>1</th>\n",
       "      <td>1355198</td>\n",
       "      <td>2.973348e+18</td>\n",
       "      <td>2016-05-01 01:35:45</td>\n",
       "      <td>77.225676</td>\n",
       "      <td>28.73014</td>\n",
       "      <td>Delhi</td>\n",
       "      <td>Delhi</td>\n",
       "      <td>优米</td>\n",
       "      <td>UIMI3</td>\n",
       "    </tr>\n",
       "    <tr>\n",
       "      <th>2</th>\n",
       "      <td>1630972</td>\n",
       "      <td>2.973348e+18</td>\n",
       "      <td>2016-05-03 00:07:34</td>\n",
       "      <td>77.225676</td>\n",
       "      <td>28.73014</td>\n",
       "      <td>Delhi</td>\n",
       "      <td>Delhi</td>\n",
       "      <td>优米</td>\n",
       "      <td>UIMI3</td>\n",
       "    </tr>\n",
       "    <tr>\n",
       "      <th>3</th>\n",
       "      <td>2732453</td>\n",
       "      <td>2.973348e+18</td>\n",
       "      <td>2016-05-01 06:15:59</td>\n",
       "      <td>77.225676</td>\n",
       "      <td>28.73014</td>\n",
       "      <td>Delhi</td>\n",
       "      <td>Delhi</td>\n",
       "      <td>优米</td>\n",
       "      <td>UIMI3</td>\n",
       "    </tr>\n",
       "    <tr>\n",
       "      <th>4</th>\n",
       "      <td>1562542</td>\n",
       "      <td>2.973348e+18</td>\n",
       "      <td>2016-05-01 20:34:19</td>\n",
       "      <td>77.225676</td>\n",
       "      <td>28.73014</td>\n",
       "      <td>Delhi</td>\n",
       "      <td>Delhi</td>\n",
       "      <td>优米</td>\n",
       "      <td>UIMI3</td>\n",
       "    </tr>\n",
       "  </tbody>\n",
       "</table>\n",
       "</div>"
      ],
      "text/plain": [
       "   event_id     device_id            timestamp  longitude  latitude   city  \\\n",
       "0   2765368  2.973348e+18  2016-05-07 22:52:05  77.225676  28.73014  Delhi   \n",
       "1   1355198  2.973348e+18  2016-05-01 01:35:45  77.225676  28.73014  Delhi   \n",
       "2   1630972  2.973348e+18  2016-05-03 00:07:34  77.225676  28.73014  Delhi   \n",
       "3   2732453  2.973348e+18  2016-05-01 06:15:59  77.225676  28.73014  Delhi   \n",
       "4   1562542  2.973348e+18  2016-05-01 20:34:19  77.225676  28.73014  Delhi   \n",
       "\n",
       "   state phone_brand device_model  \n",
       "0  Delhi          优米        UIMI3  \n",
       "1  Delhi          优米        UIMI3  \n",
       "2  Delhi          优米        UIMI3  \n",
       "3  Delhi          优米        UIMI3  \n",
       "4  Delhi          优米        UIMI3  "
      ]
     },
     "execution_count": 47,
     "metadata": {},
     "output_type": "execute_result"
    }
   ],
   "source": [
    "Event_Device_df = pd.merge(Events_data_df,phone_brand_device_model_df, how='inner' , left_on='device_id',right_on='device_id')\n",
    "Event_Device_df.head()"
   ]
  },
  {
   "cell_type": "code",
   "execution_count": 48,
   "metadata": {},
   "outputs": [
    {
     "data": {
      "text/plain": [
       "event_id        0\n",
       "device_id       0\n",
       "timestamp       0\n",
       "longitude       0\n",
       "latitude        0\n",
       "city            0\n",
       "state           0\n",
       "phone_brand     0\n",
       "device_model    0\n",
       "dtype: int64"
      ]
     },
     "execution_count": 48,
     "metadata": {},
     "output_type": "execute_result"
    }
   ],
   "source": [
    "Event_Device_df.isnull().sum()"
   ]
  },
  {
   "cell_type": "code",
   "execution_count": 50,
   "metadata": {},
   "outputs": [
    {
     "data": {
      "text/html": [
       "<div>\n",
       "<style scoped>\n",
       "    .dataframe tbody tr th:only-of-type {\n",
       "        vertical-align: middle;\n",
       "    }\n",
       "\n",
       "    .dataframe tbody tr th {\n",
       "        vertical-align: top;\n",
       "    }\n",
       "\n",
       "    .dataframe thead th {\n",
       "        text-align: right;\n",
       "    }\n",
       "</style>\n",
       "<table border=\"1\" class=\"dataframe\">\n",
       "  <thead>\n",
       "    <tr style=\"text-align: right;\">\n",
       "      <th></th>\n",
       "      <th>event_id</th>\n",
       "      <th>device_id</th>\n",
       "      <th>timestamp</th>\n",
       "      <th>longitude</th>\n",
       "      <th>latitude</th>\n",
       "      <th>city</th>\n",
       "      <th>state</th>\n",
       "      <th>phone_brand</th>\n",
       "      <th>device_model</th>\n",
       "      <th>gender</th>\n",
       "      <th>age</th>\n",
       "      <th>group</th>\n",
       "    </tr>\n",
       "  </thead>\n",
       "  <tbody>\n",
       "    <tr>\n",
       "      <th>0</th>\n",
       "      <td>2765368</td>\n",
       "      <td>2.973348e+18</td>\n",
       "      <td>2016-05-07 22:52:05</td>\n",
       "      <td>77.225676</td>\n",
       "      <td>28.73014</td>\n",
       "      <td>Delhi</td>\n",
       "      <td>Delhi</td>\n",
       "      <td>优米</td>\n",
       "      <td>UIMI3</td>\n",
       "      <td>M</td>\n",
       "      <td>35</td>\n",
       "      <td>M32-38</td>\n",
       "    </tr>\n",
       "    <tr>\n",
       "      <th>1</th>\n",
       "      <td>1355198</td>\n",
       "      <td>2.973348e+18</td>\n",
       "      <td>2016-05-01 01:35:45</td>\n",
       "      <td>77.225676</td>\n",
       "      <td>28.73014</td>\n",
       "      <td>Delhi</td>\n",
       "      <td>Delhi</td>\n",
       "      <td>优米</td>\n",
       "      <td>UIMI3</td>\n",
       "      <td>M</td>\n",
       "      <td>35</td>\n",
       "      <td>M32-38</td>\n",
       "    </tr>\n",
       "    <tr>\n",
       "      <th>2</th>\n",
       "      <td>1630972</td>\n",
       "      <td>2.973348e+18</td>\n",
       "      <td>2016-05-03 00:07:34</td>\n",
       "      <td>77.225676</td>\n",
       "      <td>28.73014</td>\n",
       "      <td>Delhi</td>\n",
       "      <td>Delhi</td>\n",
       "      <td>优米</td>\n",
       "      <td>UIMI3</td>\n",
       "      <td>M</td>\n",
       "      <td>35</td>\n",
       "      <td>M32-38</td>\n",
       "    </tr>\n",
       "    <tr>\n",
       "      <th>3</th>\n",
       "      <td>2732453</td>\n",
       "      <td>2.973348e+18</td>\n",
       "      <td>2016-05-01 06:15:59</td>\n",
       "      <td>77.225676</td>\n",
       "      <td>28.73014</td>\n",
       "      <td>Delhi</td>\n",
       "      <td>Delhi</td>\n",
       "      <td>优米</td>\n",
       "      <td>UIMI3</td>\n",
       "      <td>M</td>\n",
       "      <td>35</td>\n",
       "      <td>M32-38</td>\n",
       "    </tr>\n",
       "    <tr>\n",
       "      <th>4</th>\n",
       "      <td>1562542</td>\n",
       "      <td>2.973348e+18</td>\n",
       "      <td>2016-05-01 20:34:19</td>\n",
       "      <td>77.225676</td>\n",
       "      <td>28.73014</td>\n",
       "      <td>Delhi</td>\n",
       "      <td>Delhi</td>\n",
       "      <td>优米</td>\n",
       "      <td>UIMI3</td>\n",
       "      <td>M</td>\n",
       "      <td>35</td>\n",
       "      <td>M32-38</td>\n",
       "    </tr>\n",
       "  </tbody>\n",
       "</table>\n",
       "</div>"
      ],
      "text/plain": [
       "   event_id     device_id            timestamp  longitude  latitude   city  \\\n",
       "0   2765368  2.973348e+18  2016-05-07 22:52:05  77.225676  28.73014  Delhi   \n",
       "1   1355198  2.973348e+18  2016-05-01 01:35:45  77.225676  28.73014  Delhi   \n",
       "2   1630972  2.973348e+18  2016-05-03 00:07:34  77.225676  28.73014  Delhi   \n",
       "3   2732453  2.973348e+18  2016-05-01 06:15:59  77.225676  28.73014  Delhi   \n",
       "4   1562542  2.973348e+18  2016-05-01 20:34:19  77.225676  28.73014  Delhi   \n",
       "\n",
       "   state phone_brand device_model gender  age   group  \n",
       "0  Delhi          优米        UIMI3      M   35  M32-38  \n",
       "1  Delhi          优米        UIMI3      M   35  M32-38  \n",
       "2  Delhi          优米        UIMI3      M   35  M32-38  \n",
       "3  Delhi          优米        UIMI3      M   35  M32-38  \n",
       "4  Delhi          优米        UIMI3      M   35  M32-38  "
      ]
     },
     "execution_count": 50,
     "metadata": {},
     "output_type": "execute_result"
    }
   ],
   "source": [
    "Telecom_df = pd.merge(Event_Device_df,gender_age_train_df, how='inner', left_on = 'device_id' , right_on='device_id')\n",
    "Telecom_df.head()"
   ]
  },
  {
   "cell_type": "code",
   "execution_count": 51,
   "metadata": {},
   "outputs": [
    {
     "data": {
      "text/plain": [
       "(16982, 12)"
      ]
     },
     "execution_count": 51,
     "metadata": {},
     "output_type": "execute_result"
    }
   ],
   "source": [
    "Telecom_df.shape"
   ]
  },
  {
   "cell_type": "code",
   "execution_count": 52,
   "metadata": {},
   "outputs": [
    {
     "data": {
      "text/plain": [
       "event_id        0\n",
       "device_id       0\n",
       "timestamp       0\n",
       "longitude       0\n",
       "latitude        0\n",
       "city            0\n",
       "state           0\n",
       "phone_brand     0\n",
       "device_model    0\n",
       "gender          0\n",
       "age             0\n",
       "group           0\n",
       "dtype: int64"
      ]
     },
     "execution_count": 52,
     "metadata": {},
     "output_type": "execute_result"
    }
   ],
   "source": [
    "Telecom_df.isnull().sum()"
   ]
  },
  {
   "cell_type": "code",
   "execution_count": 53,
   "metadata": {},
   "outputs": [
    {
     "data": {
      "text/plain": [
       " 2.728779e+16    1091\n",
       " 8.765877e+18     466\n",
       " 6.577099e+16     426\n",
       "-1.627458e+16     388\n",
       "-4.496985e+15     379\n",
       "-6.254527e+15     334\n",
       "-4.973076e+16     333\n",
       " 5.038733e+15     330\n",
       " 2.036140e+17     306\n",
       "-1.526872e+16     297\n",
       " 1.274328e+17     285\n",
       " 1.337418e+18     276\n",
       "-1.116277e+18     224\n",
       "-5.334703e+17     215\n",
       " 1.161113e+18     209\n",
       " 4.892704e+17     204\n",
       "-2.797790e+16     200\n",
       " 2.973348e+18     194\n",
       "-9.671515e+17     191\n",
       "-2.662495e+17     189\n",
       "-9.517737e+17     186\n",
       " 4.130379e+17     181\n",
       " 7.409328e+15     160\n",
       "-6.857195e+15     159\n",
       "-4.683665e+17     155\n",
       "-4.541880e+17     151\n",
       " 7.636862e+16     151\n",
       " 1.438236e+18     144\n",
       " 3.045624e+16     144\n",
       "-1.367860e+18     141\n",
       "                 ... \n",
       "-1.844596e+17       1\n",
       "-2.581588e+17       1\n",
       " 1.715452e+16       1\n",
       " 2.599872e+16       1\n",
       " 7.276345e+15       1\n",
       "-3.646855e+17       1\n",
       "-1.145956e+16       1\n",
       "-6.289140e+18       1\n",
       "-2.336603e+16       1\n",
       "-1.268112e+17       1\n",
       "-3.917548e+18       1\n",
       " 2.226134e+16       1\n",
       "-2.056028e+17       1\n",
       " 9.409945e+15       1\n",
       " 7.392017e+14       1\n",
       " 5.162240e+17       1\n",
       "-2.342377e+16       1\n",
       " 1.093848e+18       1\n",
       "-1.638313e+18       1\n",
       "-1.331472e+16       1\n",
       "-9.880976e+15       1\n",
       "-1.029625e+18       1\n",
       " 3.501847e+18       1\n",
       "-6.355276e+17       1\n",
       "-9.869566e+15       1\n",
       "-1.025285e+18       1\n",
       "-1.025467e+18       1\n",
       " 3.711362e+18       1\n",
       " 1.512378e+18       1\n",
       "-4.791325e+17       1\n",
       "Name: device_id, Length: 406, dtype: int64"
      ]
     },
     "execution_count": 53,
     "metadata": {},
     "output_type": "execute_result"
    }
   ],
   "source": [
    "Telecom_df['device_id'].value_counts()"
   ]
  },
  {
   "cell_type": "code",
   "execution_count": null,
   "metadata": {},
   "outputs": [],
   "source": []
  }
 ],
 "metadata": {
  "kernelspec": {
   "display_name": "Python 3",
   "language": "python",
   "name": "python3"
  },
  "language_info": {
   "codemirror_mode": {
    "name": "ipython",
    "version": 3
   },
   "file_extension": ".py",
   "mimetype": "text/x-python",
   "name": "python",
   "nbconvert_exporter": "python",
   "pygments_lexer": "ipython3",
   "version": "3.7.3"
  }
 },
 "nbformat": 4,
 "nbformat_minor": 4
}
